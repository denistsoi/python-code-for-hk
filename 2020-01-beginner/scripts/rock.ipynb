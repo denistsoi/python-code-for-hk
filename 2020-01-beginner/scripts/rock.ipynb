{
 "nbformat": 4,
 "nbformat_minor": 2,
 "metadata": {
  "language_info": {
   "name": "python",
   "codemirror_mode": {
    "name": "ipython",
    "version": 3
   },
   "version": "3.7.3-final"
  },
  "orig_nbformat": 2,
  "file_extension": ".py",
  "mimetype": "text/x-python",
  "name": "python",
  "npconvert_exporter": "python",
  "pygments_lexer": "ipython3",
  "version": 3,
  "kernelspec": {
   "name": "python37364bitc6f8272de35d4e508f36e0915614a098",
   "display_name": "Python 3.7.3 64-bit"
  }
 },
 "cells": [
  {
   "cell_type": "code",
   "execution_count": 12,
   "metadata": {},
   "outputs": [
    {
     "data": {
      "text/plain": "'1 wins with Paper'"
     },
     "execution_count": 12,
     "metadata": {},
     "output_type": "execute_result"
    }
   ],
   "source": [
    "import random\n",
    "\n",
    "class Player():\n",
    "    def __init__(self, player):\n",
    "        self.name = player.get(\"name\", \"Dywane\")\n",
    "        self.choice = player.get(\"choice\", \"Scissors\")\n",
    "\n",
    "choices = [\"Rock\", \"Paper\", \"Scissors\"]\n",
    "\n",
    "\n",
    "def validate_choice(option):\n",
    "    if option == \"0\" or option == \"1\" or option == \"2\":\n",
    "        return choices[int(option)]\n",
    "    else:\n",
    "        raise Exception(\"Invalid Option\", option)\n",
    "\n",
    "morris = {\"name\": \"Morris\", \"choice\": random.choice(choices) }\n",
    "me = {\"name\": input(\"what is your name?\"), \"choice\": validate_choice(input(\"what is your choice? \\ 0 = Rock \\ 1 = Paper \\ 2 = Scissors\"))}\n",
    "\n",
    "\n",
    "\n",
    "player1 = Player(morris)\n",
    "player2 = Player(me)\n",
    "\n",
    "def judge_game(player1, player2):\n",
    "    player1_wins = (player1.choice == choices[0] and player2.choice == choices[2] \n",
    "                    or player1.choice == choices[1] and player2.choice == choices[0] \n",
    "                    or player1.choice == choices[2] and player2.choice == choices[1])\n",
    "\n",
    "    if player1_wins:\n",
    "        return player1.name + \" wins with \" + player1.choice\n",
    "    return player2.name + \" wins with \" + player2.choice\n",
    "\n",
    "def bao_jin_dub(player1, player2):\n",
    "    if player1.choice == player2.choice:\n",
    "        return \"Draw\"\n",
    "    else:\n",
    "        return judge_game(player1, player2)\n",
    "\n",
    "bao_jin_dub(player1, player2)\n"
   ]
  }
 ]
}