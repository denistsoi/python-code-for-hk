{
 "cells": [
  {
   "cell_type": "markdown",
   "metadata": {
    "colab_type": "text",
    "id": "view-in-github"
   },
   "source": [
    "<a href=\"https://colab.research.google.com/github/codeforhk/python_course/blob/master/py_class_1.ipynb\" target=\"_parent\"><img src=\"https://colab.research.google.com/assets/colab-badge.svg\" alt=\"Open In Colab\"/></a>"
   ]
  },
  {
   "cell_type": "markdown",
   "metadata": {
    "colab_type": "text",
    "id": "ejMS_tRueq8A"
   },
   "source": [
    "\n",
    "    \n",
    "<img src=\"https://www.codefor.hk/wp-content/themes/DC_CUSTOM_THEME/img/logo-code-for-hk-logo.svg\" height=\"150\" width=\"150\"  align=\"center\"/>\n",
    "<h1><center>Code For Hong Kong - Python class 1</center></h1>\n",
    "<h6><center>Written by Patrick Leung</center></h6>\n"
   ]
  },
  {
   "cell_type": "markdown",
   "metadata": {
    "colab_type": "text",
    "id": "MfftnYO9m58V"
   },
   "source": [
    "# 0.0.0 Introduction\n"
   ]
  },
  {
   "cell_type": "markdown",
   "metadata": {
    "colab_type": "text",
    "id": "8d4z0ccUm-Dy"
   },
   "source": [
    "\n",
    "​\n",
    "## 0.1.0 Course structure\n",
    "\n",
    "​\n"
   ]
  },
  {
   "cell_type": "markdown",
   "metadata": {
    "colab_type": "text",
    "id": "UBgeQ8BcnVrh"
   },
   "source": [
    "### 0.1.1 Overview\n",
    "\n",
    "- You are expected to attend >75% of all classes in order to pass.\n",
    "- There will be a take home exercise after every class for you to complete during the week.\n",
    "- There will be an office hour on slack on Wednesday 7pm - 8pm, where our instructor will standby on slack to answer your question. (On other time during the week, you can also drop questions on the slack channel)\n",
    "- There will be an in-class test & challenges on every class, and there will be a final exam at the end of the course. \n",
    "- Your certificate will be graded as Distinction / Merit / Pass.\n"
   ]
  },
  {
   "cell_type": "markdown",
   "metadata": {
    "colab_type": "text",
    "id": "MraaPy0qeq8C"
   },
   "source": [
    "### 0.1.2  Course sylabus\n",
    "\n",
    "- Class 1: Basic Python Operations I (Variables, data structure, loops)\n",
    "- Class 2: Basic Python Operations II (Functions, libraries)\n",
    "- Class 3: Practical application of Python I (Document processing + Web scraping)\n",
    "- Class 4: Practical application of Python II ( More examples + Exam)"
   ]
  },
  {
   "cell_type": "markdown",
   "metadata": {
    "colab_type": "text",
    "id": "-jeMbu2znboL"
   },
   "source": [
    "​\n",
    "### 0.1.3 Install Anaconda\n",
    "​\n",
    "First of all, you would need to install anaconda for this course. You would need to download python 3.7.\n",
    "Anaconda\n",
    "​\n",
    "https://www.anaconda.com/distribution/#windows\n",
    "​\n",
    "​\n",
    "Anaconda is a python distribution. It aims to provide everything you need for python & data science \"out of the box\".\n",
    "​\n",
    "It includes:\n",
    "​\n",
    "- The core python language\n",
    "- 100+ python \"packages\" (libraries)\n",
    "- Spyder (IDE/editor - like pycharm) and Jupyter\n",
    "​\n",
    "For window user, please install from this guide:\n",
    "​\n",
    "https://www.datacamp.com/community/tutorials/installing-anaconda-windows\n",
    "​\n",
    "​\n",
    "For mac user, please install from this guide:\n",
    "​\n",
    "https://www.datacamp.com/community/tutorials/installing-anaconda-mac-os-x"
   ]
  },
  {
   "cell_type": "markdown",
   "metadata": {
    "colab_type": "text",
    "id": "-H1kWX2xeq8D"
   },
   "source": [
    "<img src=\"https://www.codefor.hk/wp-content/themes/DC_CUSTOM_THEME/img/logo-code-for-hk-logo.svg\" height=\"150\" width=\"150\"  align=\"center\"/>"
   ]
  },
  {
   "cell_type": "markdown",
   "metadata": {
    "colab_type": "text",
    "id": "8xDJBPC0eq8E"
   },
   "source": [
    "# 1.0.0 Background of python"
   ]
  },
  {
   "cell_type": "markdown",
   "metadata": {
    "colab_type": "text",
    "id": "WKjW-eNIeq8F"
   },
   "source": [
    "## 1.1.0 What is python?"
   ]
  },
  {
   "cell_type": "markdown",
   "metadata": {
    "colab_type": "text",
    "id": "ZbAJdt6ieq8G"
   },
   "source": [
    "* Widely used high-level, interpreted programming language for general-purpose programming\n",
    "* Created by Guido van Rossum and first released in 1991. \n",
    "* Python has a design philosophy that emphasizes code readability that allows programmers to express concepts in fewer lines of code than might be used in languages such as C++ or Java.\n",
    "* The language provides constructs intended to enable writing clear programs on both a small and large scale."
   ]
  },
  {
   "cell_type": "markdown",
   "metadata": {
    "colab_type": "text",
    "id": "CLFqvwdoeq8H"
   },
   "source": [
    "<img src=\"https://upload.wikimedia.org/wikipedia/commons/thumb/6/66/Guido_van_Rossum_OSCON_2006.jpg/440px-Guido_van_Rossum_OSCON_2006.jpg\" />\n",
    "\n"
   ]
  },
  {
   "cell_type": "markdown",
   "metadata": {
    "colab_type": "text",
    "id": "3OwNnALMeq8H"
   },
   "source": [
    "### 1.1.1 What is a programming language?"
   ]
  },
  {
   "cell_type": "markdown",
   "metadata": {
    "colab_type": "text",
    "id": "yeSo08l_eq8I"
   },
   "source": [
    "<img src=\"http://cdn.osxdaily.com/wp-content/uploads/2011/05/top-command-sorted-by-cpu-use-610x383.jpg\n",
    "\" />"
   ]
  },
  {
   "cell_type": "markdown",
   "metadata": {
    "colab_type": "text",
    "id": "mFpDWHXeeq8J"
   },
   "source": [
    "### 1.1.2 Why do we need a computer to help out?"
   ]
  },
  {
   "cell_type": "markdown",
   "metadata": {
    "colab_type": "text",
    "id": "DVuRQWnBeq8K"
   },
   "source": [
    "<img src=\"http://img.picturequotes.com/2/509/508709/one-good-thing-about-my-computer-it-never-asks-why-quote-1.jpg\" />\n",
    "\n"
   ]
  },
  {
   "cell_type": "markdown",
   "metadata": {
    "colab_type": "text",
    "id": "ZIYvFdAgeq8L"
   },
   "source": [
    "## 1.2.0 Why Python?\n",
    "\n",
    "- Python is very popular - meaning a lot of the functionality is already written as package, and you can copy/use other people's code for free!\n",
    "- Python is very beginner friendly\n",
    "- Python is powerful together with machine learning\n",
    "\n",
    "https://medium.freecodecamp.org/what-can-you-do-with-python-the-3-main-applications-518db9a68a78"
   ]
  },
  {
   "cell_type": "markdown",
   "metadata": {
    "colab_type": "text",
    "id": "4-NHK13req8M"
   },
   "source": [
    "<img src=\"https://cdn-images-1.medium.com/max/1600/1*_R4CyVH0DSXkJsoRk-Px_Q.png\" />\n",
    "\n"
   ]
  },
  {
   "cell_type": "markdown",
   "metadata": {
    "colab_type": "text",
    "id": "NPIY3Qqaeq8N"
   },
   "source": [
    "### 1.2.1 Python is a very popular language"
   ]
  },
  {
   "cell_type": "markdown",
   "metadata": {
    "colab_type": "text",
    "id": "KG9MZTa1eq8O"
   },
   "source": [
    "https://www.economist.com/graphic-detail/2018/07/26/python-is-becoming-the-worlds-most-popular-coding-language"
   ]
  },
  {
   "cell_type": "markdown",
   "metadata": {
    "colab_type": "text",
    "id": "lSxpXEBAeq8P"
   },
   "source": [
    "<img src=\"https://www.economist.com/sites/default/files/imagecache/1280-width/20180728_WOC883.png\" />\n"
   ]
  },
  {
   "cell_type": "markdown",
   "metadata": {
    "colab_type": "text",
    "id": "ecRM_LSEeq8P"
   },
   "source": [
    "<img src=\"https://www.dotnetlanguages.net/wp-content/uploads/2018/05/Most-popular-programming-languages.png\" />"
   ]
  },
  {
   "cell_type": "markdown",
   "metadata": {
    "colab_type": "text",
    "id": "MMjFucIDeq8Q"
   },
   "source": [
    "### 1.2.2 Python has a simple & elegant syntax\n",
    "\n",
    "python is a very clean & elegant language. Look how easy for it to write a program!"
   ]
  },
  {
   "cell_type": "markdown",
   "metadata": {
    "colab_type": "text",
    "id": "Xq47eLWTeq8R"
   },
   "source": [
    "<img src=\"https://img.devrant.io/devrant/rant/r_672680_SGP4G.jpg\"/>"
   ]
  },
  {
   "cell_type": "markdown",
   "metadata": {
    "colab_type": "text",
    "id": "FVPZGuWQeq8T"
   },
   "source": [
    "Python is meant to be a very elegant language. It even includes a poem built into it. Try to import your first library. \n",
    "\n",
    "Try to click \"shift enter\" after type \"import this\" in the box"
   ]
  },
  {
   "cell_type": "code",
   "execution_count": 1,
   "metadata": {
    "colab": {},
    "colab_type": "code",
    "id": "OivlLfxmeq8W"
   },
   "outputs": [
    {
     "name": "stdout",
     "output_type": "stream",
     "text": [
      "The Zen of Python, by Tim Peters\n",
      "\n",
      "Beautiful is better than ugly.\n",
      "Explicit is better than implicit.\n",
      "Simple is better than complex.\n",
      "Complex is better than complicated.\n",
      "Flat is better than nested.\n",
      "Sparse is better than dense.\n",
      "Readability counts.\n",
      "Special cases aren't special enough to break the rules.\n",
      "Although practicality beats purity.\n",
      "Errors should never pass silently.\n",
      "Unless explicitly silenced.\n",
      "In the face of ambiguity, refuse the temptation to guess.\n",
      "There should be one-- and preferably only one --obvious way to do it.\n",
      "Although that way may not be obvious at first unless you're Dutch.\n",
      "Now is better than never.\n",
      "Although never is often better than *right* now.\n",
      "If the implementation is hard to explain, it's a bad idea.\n",
      "If the implementation is easy to explain, it may be a good idea.\n",
      "Namespaces are one honking great idea -- let's do more of those!\n"
     ]
    }
   ],
   "source": [
    "import this"
   ]
  },
  {
   "cell_type": "markdown",
   "metadata": {
    "colab_type": "text",
    "id": "EBV8l3iEeq8Z"
   },
   "source": [
    "### 1.2.3 Python is good for machine learning\n",
    "a nice language to do data analytics/ data science/ machine learning!"
   ]
  },
  {
   "cell_type": "markdown",
   "metadata": {
    "colab_type": "text",
    "id": "zvay5SQOeq8Z"
   },
   "source": [
    "<img src=\"https://i.ytimg.com/vi/vISRn5qFrkM/maxresdefault.jpg\" />"
   ]
  },
  {
   "cell_type": "markdown",
   "metadata": {
    "colab_type": "text",
    "id": "t07z5faAeq8a"
   },
   "source": [
    "<img src=\"https://s3.amazonaws.com/assets.datacamp.com/blog_assets/Cheat+Sheets/content_pythonfordatascience.png\" />"
   ]
  },
  {
   "cell_type": "markdown",
   "metadata": {
    "colab_type": "text",
    "id": "UZysvTpDeq8c"
   },
   "source": [
    "### 1.2.4 Python 3 or Python 2?\n",
    "\n",
    "<img src=\"https://mk0learntocodew6bl5f.kinstacdn.com/wp-content/uploads/2014/06/python-2-vs-3-2018.png\" />\n",
    "\n",
    "\n",
    "https://learntocodewith.me/programming/python/python-2-vs-python-3/"
   ]
  },
  {
   "cell_type": "markdown",
   "metadata": {
    "colab_type": "text",
    "id": "YFqLhTWceq8d"
   },
   "source": [
    "## 1.3.0 Get familiar with the python tools"
   ]
  },
  {
   "cell_type": "markdown",
   "metadata": {
    "colab_type": "text",
    "id": "axYPsKaqeq8e"
   },
   "source": [
    "### 1.3.1 Jupyter notebook"
   ]
  },
  {
   "cell_type": "markdown",
   "metadata": {
    "colab_type": "text",
    "id": "TW8UqlDUeq8f"
   },
   "source": [
    "Jupyter notebook is previously called IPython Notebook ( http://ipython.org/notebook.html ). It is a web based extension of iPython.  It's very powerful and convenient and It allows you to mix code, annotation, text, figures into a single interactive document.\n",
    "IPython is included in all of the most popular python distributions, like Anaconda , or Canopy. If you have one of those distributions installed on your computer, you can already start using the notebook."
   ]
  },
  {
   "cell_type": "markdown",
   "metadata": {
    "colab_type": "text",
    "id": "vMi00aoreq8g"
   },
   "source": [
    "A simple youtube video to remind you how to open jupyter notebook\n",
    "\n",
    "https://www.youtube.com/watch?v=MJKVuzYZvo0"
   ]
  },
  {
   "cell_type": "markdown",
   "metadata": {
    "colab_type": "text",
    "id": "tOFBrGlceq8h"
   },
   "source": [
    "<img src=\"https://i.ytimg.com/vi/-MyjG00la2k/maxresdefault.jpg\" />\n",
    "\n"
   ]
  },
  {
   "cell_type": "markdown",
   "metadata": {
    "colab_type": "text",
    "id": "PDDgsjyveq8h"
   },
   "source": [
    "### 1.3.2 How to navigate within jupyter notebook? \n",
    "\n",
    "Jupyter notebook is just a user-friendly way of coding in python. Every code is written in a \"block\"/\"cell\",\n"
   ]
  },
  {
   "cell_type": "markdown",
   "metadata": {
    "colab_type": "text",
    "id": "a5y1uNqPeq8i"
   },
   "source": [
    "<img src=\"https://i.pinimg.com/originals/f5/7e/07/f57e074be4503a39f6d9d8d15f0e8aa5.png\" />"
   ]
  },
  {
   "cell_type": "markdown",
   "metadata": {
    "colab_type": "text",
    "id": "rR3Mw2K-eq8k"
   },
   "source": [
    "#### Example 1.3.2 - navigating the jupyter notebook"
   ]
  },
  {
   "cell_type": "markdown",
   "metadata": {
    "colab_type": "text",
    "id": "Abvr_KyLeq8m"
   },
   "source": [
    "1) Click on the \"white edge\" next to any box to select the box"
   ]
  },
  {
   "cell_type": "code",
   "execution_count": 2,
   "metadata": {
    "colab": {},
    "colab_type": "code",
    "id": "L3unI2r0eq8m"
   },
   "outputs": [],
   "source": [
    "#click me (the white edge)! Now you selected me"
   ]
  },
  {
   "cell_type": "markdown",
   "metadata": {
    "colab_type": "text",
    "id": "j3MgRU8deq8p"
   },
   "source": [
    "2) While selecting a box, click \"a\" to create a box above, and \"b\" to create a box below"
   ]
  },
  {
   "cell_type": "code",
   "execution_count": 3,
   "metadata": {
    "colab": {},
    "colab_type": "code",
    "id": "mEuoDOrDeq8q"
   },
   "outputs": [],
   "source": [
    "# click me (on the white edge, not the text!), and try type a to create a box above, and b to create a box below"
   ]
  },
  {
   "cell_type": "markdown",
   "metadata": {
    "colab_type": "text",
    "id": "eg-WVwBmeq8s"
   },
   "source": [
    "3) To delete a box , click \"dd\" (dobule d)"
   ]
  },
  {
   "cell_type": "code",
   "execution_count": 4,
   "metadata": {
    "colab": {},
    "colab_type": "code",
    "id": "-ddSUYsVeq8t"
   },
   "outputs": [],
   "source": [
    "# Try select me, and click \"dd\" to delete me!!"
   ]
  },
  {
   "cell_type": "markdown",
   "metadata": {
    "colab_type": "text",
    "id": "Blmb229qeq8v"
   },
   "source": [
    "4) Realize there are \"text\" based box & \"code\" based box? Jupyter notebook has two type of \"box\" - those you see with a grey box are actually python code, while those with the entire white edge are so called the \"text\" box. all new box will be a \"code\" box automatically. To transform the \"code box\" to \"text box\", select the box & type m."
   ]
  },
  {
   "cell_type": "code",
   "execution_count": 5,
   "metadata": {
    "colab": {},
    "colab_type": "code",
    "id": "i7Mc8LpAeq8w"
   },
   "outputs": [],
   "source": [
    "# Change me to a text box!"
   ]
  },
  {
   "cell_type": "markdown",
   "metadata": {
    "colab_type": "text",
    "id": "fi0j42vPeq8z"
   },
   "source": [
    "5) All good? Now that you know how to create a box, you should learn how to execute a code. There are 2 ways to execute the code - you can click \"shift enter\" to run a code & jump to a box below, or you can click \"ctrl enter\" to only execute the box"
   ]
  },
  {
   "cell_type": "code",
   "execution_count": 6,
   "metadata": {
    "colab": {},
    "colab_type": "code",
    "id": "-4A8wLwMeq80"
   },
   "outputs": [
    {
     "name": "stdout",
     "output_type": "stream",
     "text": [
      "one plus one is two! is two!\n"
     ]
    }
   ],
   "source": [
    "# I am a code box. Try execute me to run the code!\n",
    "1+1  # should be two!\n",
    "print(\"one plus one is two! is two!\")"
   ]
  },
  {
   "cell_type": "markdown",
   "metadata": {
    "colab_type": "text",
    "id": "OoAT528veq82"
   },
   "source": [
    "6) Do you notice the number next to the box? It indicates the sequence of the box running. If a box has no number, it means it had not been executed."
   ]
  },
  {
   "cell_type": "code",
   "execution_count": 7,
   "metadata": {
    "colab": {},
    "colab_type": "code",
    "id": "1iGwLpOdeq83"
   },
   "outputs": [],
   "source": [
    "## The box \"In []:\" on the right should be empty now. Once you ran it, a number will appear in it. \n",
    "##It means the box is executed! "
   ]
  },
  {
   "cell_type": "markdown",
   "metadata": {
    "colab_type": "text",
    "id": "yZ-OEQfWeq89"
   },
   "source": [
    "7) Sometimes python could crash - you would notice it when you see it is all frozen and you can't execute the code. The \"In []\" box will become \"In [*]\". If that happens, you could try to click \"stop\". If it's not working,  click \"kernel\"  & restart"
   ]
  },
  {
   "cell_type": "markdown",
   "metadata": {
    "colab_type": "text",
    "id": "c3fZQEq9eq89"
   },
   "source": [
    "<img src=\"https://storage.googleapis.com/bwdb/codeforhk/python_course/image/Screenshot%202019-02-15%20at%2012.59.47%20AM.png\" />"
   ]
  },
  {
   "cell_type": "code",
   "execution_count": null,
   "metadata": {
    "colab": {},
    "colab_type": "code",
    "id": "ts4s5-t4eq8-",
    "outputId": "50db3b44-a9ba-4a83-facb-01b7fb79be4b",
    "scrolled": true
   },
   "outputs": [],
   "source": [
    "#This will freeze your python \n",
    "# while True:\n",
    "#     #do nothing\n",
    "#     #This will force python to keep calculating without stopping\n",
    "#     1+1\n",
    "#     # If you click stop, an error message will appear below\n"
   ]
  },
  {
   "cell_type": "markdown",
   "metadata": {
    "colab_type": "text",
    "id": "rj7_iJRNeq9C"
   },
   "source": [
    "8) Text can be created with markdown, as below:"
   ]
  },
  {
   "cell_type": "markdown",
   "metadata": {
    "colab_type": "text",
    "id": "Ww4vuagUeq9F"
   },
   "source": [
    "Markdown are useful for lists, markup and formatting \n",
    "\n",
    "* *italics*\n",
    "* **bold**\n",
    "* `fixed_font`\n",
    "\n",
    "###### You can add titles of various size using \"#\" at the beginning of the line\n",
    "\n",
    "##### this has 5 \"#####\""
   ]
  },
  {
   "cell_type": "markdown",
   "metadata": {
    "colab_type": "text",
    "id": "cYm-fUXTeq9G"
   },
   "source": [
    "#### Exercise 1.3.2 - navigating the jupyter notebook"
   ]
  },
  {
   "cell_type": "markdown",
   "metadata": {
    "colab_type": "text",
    "id": "zMjyH2Nxeq9G"
   },
   "source": [
    "1) Try to create a box and execute 1 + 1\n",
    "\n",
    "2) Try to create a box and create a mark down (a text box) that shows your name\n",
    "\n"
   ]
  },
  {
   "cell_type": "code",
   "execution_count": null,
   "metadata": {},
   "outputs": [],
   "source": [
    "1+1"
   ]
  },
  {
   "cell_type": "markdown",
   "metadata": {},
   "source": [
    "Hello world"
   ]
  },
  {
   "cell_type": "markdown",
   "metadata": {
    "colab_type": "text",
    "id": "NQa1BQVeeq9H"
   },
   "source": [
    "3) Try to delete the box below:"
   ]
  },
  {
   "cell_type": "code",
   "execution_count": null,
   "metadata": {
    "colab": {},
    "colab_type": "code",
    "id": "Dait4clyeq9I"
   },
   "outputs": [],
   "source": [
    "# delete me!!"
   ]
  },
  {
   "cell_type": "markdown",
   "metadata": {
    "colab_type": "text",
    "id": "HCXwt-UXeq9J"
   },
   "source": [
    "4) Try to execute the box below without error boxing"
   ]
  },
  {
   "cell_type": "code",
   "execution_count": null,
   "metadata": {
    "colab": {},
    "colab_type": "code",
    "id": "4pWtO1abeq9K"
   },
   "outputs": [],
   "source": [
    "Try to execute me!"
   ]
  },
  {
   "cell_type": "markdown",
   "metadata": {
    "colab_type": "text",
    "id": "BaAFVzEAeq9M"
   },
   "source": [
    "5) Try to execute the box to output the maths"
   ]
  },
  {
   "cell_type": "markdown",
   "metadata": {
    "colab_type": "text",
    "id": "HeGeqw80eq9N"
   },
   "source": [
    "1+1"
   ]
  },
  {
   "cell_type": "markdown",
   "metadata": {
    "colab_type": "text",
    "id": "uEPaO83neq9O"
   },
   "source": [
    "### 1.3.3 How does native python works?"
   ]
  },
  {
   "cell_type": "markdown",
   "metadata": {
    "colab_type": "text",
    "id": "F5QWOCaIeq9P"
   },
   "source": [
    "<img src=\"https://storage.googleapis.com/bwdb/codeforhk/python_course/image/Screenshot%202019-02-15%20at%209.04.05%20AM.png\" />"
   ]
  },
  {
   "cell_type": "markdown",
   "metadata": {
    "colab_type": "text",
    "id": "tNHM94A0eq9Q"
   },
   "source": [
    "#### Exercise 1.3.3 How does native python works\n",
    "\n"
   ]
  },
  {
   "cell_type": "markdown",
   "metadata": {
    "colab_type": "text",
    "id": "pmFRHQ_Seq9R"
   },
   "source": [
    "1) For mac users, type \"command space\" & search for \"terminal\". Then type \"python3\" to get to your python terminal.\n",
    "\n",
    "2) For window uses, you would need to set your environmental variable to do so.\n",
    "\n",
    "3) Try to run \"helloworld.py\" by running \"python3 helloworld.py\""
   ]
  },
  {
   "cell_type": "markdown",
   "metadata": {
    "colab_type": "text",
    "id": "j3Xht8Y5eq9R"
   },
   "source": [
    "### 1.3.4 How does Colab works?"
   ]
  },
  {
   "cell_type": "markdown",
   "metadata": {
    "colab_type": "text",
    "id": "EsecnpAFnoSL"
   },
   "source": [
    "<img src=\"https://miro.medium.com/max/1086/1*g_x1-5iYRn-SmdVucceiWw.png\" />\n",
    "\n",
    "Colab is the \"Google doc\" equivalent of jupyter notebook, for while you can save your file on google drive, share it with your friends, and run it directly on the cloud.\n",
    "\n",
    "https://colab.research.google.com/drive/1Fx592qrAnfzJiHZ1XFuqDMc98FNQzF-x"
   ]
  },
  {
   "cell_type": "markdown",
   "metadata": {
    "colab_type": "text",
    "id": "MEDm0bF-eq9S"
   },
   "source": [
    "### 1.3.5 How does Github works?"
   ]
  },
  {
   "cell_type": "markdown",
   "metadata": {
    "colab_type": "text",
    "id": "JJGDVPN3xZb9"
   },
   "source": [
    "Github is a \"social network\" for developers (in a way). It is also a centre for vesion control - You can also think of it as the colaboration work for all developers"
   ]
  },
  {
   "cell_type": "markdown",
   "metadata": {
    "colab_type": "text",
    "id": "gY-xqwTyyCEd"
   },
   "source": [
    "\n",
    "<img src=\"https://leanpub.com/site_images/git-flow/git-flow-nvie.png\" />"
   ]
  },
  {
   "cell_type": "markdown",
   "metadata": {
    "colab_type": "text",
    "id": "QbCSljwYeq9V"
   },
   "source": [
    "## 1.4.0 How does a computer/programming work?"
   ]
  },
  {
   "cell_type": "markdown",
   "metadata": {
    "colab_type": "text",
    "id": "_VJVTVx6eq9V"
   },
   "source": [
    "### 1.4.1 Programming is all about problem solving"
   ]
  },
  {
   "cell_type": "markdown",
   "metadata": {
    "colab_type": "text",
    "id": "u7xJeopUeq9W"
   },
   "source": [
    "<img src=\"https://cs50.harvard.edu/college/2018/fall/weeks/0/notes/input_output.png\" />\n"
   ]
  },
  {
   "cell_type": "markdown",
   "metadata": {
    "colab_type": "text",
    "id": "jHZmko0Eeq9X"
   },
   "source": [
    "### 1.4.2 Programming is to think about the steps\n",
    "\n"
   ]
  },
  {
   "cell_type": "markdown",
   "metadata": {
    "colab_type": "text",
    "id": "xboB1hwUeq9X"
   },
   "source": [
    "![Image of Yaktocat](https://storage.googleapis.com/bwdb/acceleratehk_DSML/class_1/ds13.png)"
   ]
  },
  {
   "cell_type": "markdown",
   "metadata": {
    "colab_type": "text",
    "id": "hiQ73G2Zeq9Z"
   },
   "source": [
    "![Image of Yaktocat](https://storage.googleapis.com/bwdb/acceleratehk_DSML/class_1/ds14.png)"
   ]
  },
  {
   "cell_type": "markdown",
   "metadata": {
    "colab_type": "text",
    "id": "Y3TzmFS1eq9a"
   },
   "source": [
    "#### Example 1.4.2 Programming is to think about the steps \n",
    "How do give instruction to computer to make a toast?"
   ]
  },
  {
   "cell_type": "markdown",
   "metadata": {
    "colab_type": "text",
    "collapsed": true,
    "id": "p3byEwkseq9a"
   },
   "source": [
    "<img src=\"https://www.wikihow.com/images/thumb/4/45/Make-Buttered-Toast-Step-14-Version-2.jpg/aid599255-v4-728px-Make-Buttered-Toast-Step-14-Version-2.jpg\" />\n"
   ]
  },
  {
   "cell_type": "markdown",
   "metadata": {
    "colab_type": "text",
    "id": "t8kElCcXeq9b"
   },
   "source": [
    "define bread, peanut butter, jelly\n",
    "\n",
    "1) Get a piece of bread\n",
    "\n",
    "2) Spread peanut butter on it\n",
    "\n",
    "3) Get another piece of bread\n",
    "\n",
    "4) Spread jelly on it\n",
    "\n",
    "5) Put the two pieces of bread together\n",
    "\n",
    "6) Eat it!"
   ]
  },
  {
   "cell_type": "markdown",
   "metadata": {
    "colab_type": "text",
    "id": "GQVnbwPgeq9c"
   },
   "source": [
    "#### Exercise 1.4.2 Programming is to think about the steps \n",
    "\n",
    "How to give instruction to computer to make a tea?"
   ]
  },
  {
   "cell_type": "markdown",
   "metadata": {
    "colab_type": "text",
    "id": "8oQPcoVkeq9c"
   },
   "source": [
    "<img src=\"http://m1.wish.co.uk/blog/wp-content/uploads/2014/10/lovetea.jpg\" />\n"
   ]
  },
  {
   "cell_type": "markdown",
   "metadata": {
    "colab_type": "text",
    "id": "Qvm5ip48eq9e"
   },
   "source": [
    "#### Example 1.4.3 - solve problems in block-wise/step-wise approach\n",
    "\n",
    "To make this into a code format, try to solve this\n",
    "https://studio.code.org/hoc/1"
   ]
  },
  {
   "cell_type": "markdown",
   "metadata": {
    "colab_type": "text",
    "id": "t6Sn2Y_leq9e"
   },
   "source": [
    "#### Exercise 1.4.3\n",
    "\n",
    "Try to complete challenge 2-5"
   ]
  },
  {
   "cell_type": "code",
   "execution_count": null,
   "metadata": {
    "colab": {},
    "colab_type": "code",
    "id": "4E6WIGIueq9f",
    "outputId": "b03a16af-1137-47a2-b108-d09ac6b87e80"
   },
   "outputs": [],
   "source": [
    "for i in range(2,6):\n",
    "    print('https://studio.code.org/hoc/'+str(i))"
   ]
  },
  {
   "cell_type": "markdown",
   "metadata": {
    "colab_type": "text",
    "id": "IXb0tBvheq9s"
   },
   "source": [
    "## Test 1.0.0\n",
    "\n",
    "https://goo.gl/forms/MNvu81mO1SOx7AVu2"
   ]
  },
  {
   "cell_type": "markdown",
   "metadata": {
    "colab_type": "text",
    "id": "IeaudazMeq9t"
   },
   "source": [
    "<img src=\"https://www.codefor.hk/wp-content/themes/DC_CUSTOM_THEME/img/logo-code-for-hk-logo.svg\" height=\"150\" width=\"150\"  align=\"center\"/>"
   ]
  },
  {
   "cell_type": "markdown",
   "metadata": {
    "colab_type": "text",
    "id": "pRGo6doPeq9u"
   },
   "source": [
    "# 2.0.0 Python basics\n",
    "\n",
    "To start learning python, you would need to learn the syntax. You can think syntax as equivalent to grammar in natural language - it is the rule you write the language, so python understand you correctly!\n",
    "\n",
    "Python is an object oriented language - everything is stored as an object"
   ]
  },
  {
   "cell_type": "markdown",
   "metadata": {
    "colab_type": "text",
    "id": "-aIIFibXeq9v"
   },
   "source": [
    "<img src=\"http://www.lanl.gov/museum/events/calendar/2015/June/_images/dday.jpg\"/>\n"
   ]
  },
  {
   "cell_type": "markdown",
   "metadata": {
    "colab_type": "text",
    "id": "JScpQ0mGeq9x"
   },
   "source": [
    "## 2.1.0 Understanding Python as an Object Oriented Language"
   ]
  },
  {
   "cell_type": "markdown",
   "metadata": {
    "colab_type": "text",
    "id": "QutuEZ6Zeq9y"
   },
   "source": [
    "Everything in Python is an object. Still, this begs the question. What is an object? You can think of it like a variables in mathematics. You can assign any value to this variable. E.g, you can assign:\n",
    "\n",
    "* x = 1\n",
    "* cristano_ronaldo = 'a footballer'\n",
    "* Ultimate_answer_for_everything = 42\n",
    "\n",
    "Why do we want to do this? Because it is a clean and efficient way to manage a large amount of information, especially when the program starts to grow very large. It is sort of like the naming system for military operation or typhoon. For example, It is way cleaner to call it d-day than \"normandy landing in June 6 1944. \n",
    "\n",
    "* d_day = \"normandy landing in June 6 1944\"\n",
    "* hato = 'the #10 typhoon that hits macau in August 2017'\n",
    "\n",
    "In python, it means any value can be assigned to a variable/object, or passed as an argument to a function. (Don't worry about function for now)\n",
    "\n",
    "This is so important that I'm going to repeat it in case you missed it the first few times: everything in Python is an object. Strings are objects. Lists are objects. Functions are objects. Even modules are objects.\n"
   ]
  },
  {
   "cell_type": "markdown",
   "metadata": {
    "colab_type": "text",
    "id": "IfWfAUgneq9z"
   },
   "source": [
    "### 2.1.1 Assign value to an object. \n",
    "Use \"=\" to assign a value to an object. Let's say we want to assign the value 1 to x, then execute the cell by CTRL+ENTER"
   ]
  },
  {
   "cell_type": "code",
   "execution_count": null,
   "metadata": {
    "colab": {},
    "colab_type": "code",
    "id": "1yfewqcLeq90"
   },
   "outputs": [],
   "source": [
    "#Let's say assign the value 1 to x, then execute the cell by CTRL+ENTER\n",
    "x = 1\n",
    "#From now on, python recognise x is equal to 1"
   ]
  },
  {
   "cell_type": "markdown",
   "metadata": {
    "colab_type": "text",
    "id": "g7kBoTwzeq93"
   },
   "source": [
    " Don't put x on the right & do it the other way round! 1=x would give you an error, because python thinks you are assigning x to the integer 1"
   ]
  },
  {
   "cell_type": "code",
   "execution_count": null,
   "metadata": {
    "colab": {},
    "colab_type": "code",
    "id": "Dx_iejEteq93",
    "outputId": "f101cbb4-4094-46b5-cd89-7c3bdc0a527a"
   },
   "outputs": [],
   "source": [
    "# This will create an error, called \"SyntaxError\". It means python doesn't understand it! \n",
    "#(You should see this very often from now on)\n",
    "1 = x"
   ]
  },
  {
   "cell_type": "markdown",
   "metadata": {
    "colab_type": "text",
    "id": "YP3HgxS9eq96"
   },
   "source": [
    "The value executed will be stored in the memory.  From now on x = 1. You can try execute the cell below, it should return 1, telling you the value of x is 1"
   ]
  },
  {
   "cell_type": "code",
   "execution_count": null,
   "metadata": {
    "colab": {},
    "colab_type": "code",
    "id": "0mcQrbtaeq96"
   },
   "outputs": [],
   "source": [
    "x #try execute me!"
   ]
  },
  {
   "cell_type": "markdown",
   "metadata": {
    "colab_type": "text",
    "id": "LD4euE4Seq98"
   },
   "source": [
    "<img src=\"https://tse1.mm.bing.net/th?id=OIP.I7QCS0SfLtoGA-q81cFbygEsEf&w=199&h=190&c=7&qlt=90&o=4&dpr=2&pid=1.7\"/>\n"
   ]
  },
  {
   "cell_type": "markdown",
   "metadata": {
    "colab_type": "text",
    "id": "0_lrp6Uveq99"
   },
   "source": [
    "### 2.1.2 Python is case-sensitive!\n",
    "Try wih capital X? What would you expect? Will the value be the same?"
   ]
  },
  {
   "cell_type": "code",
   "execution_count": null,
   "metadata": {
    "colab": {},
    "colab_type": "code",
    "id": "SO9R_dPWeq9-"
   },
   "outputs": [],
   "source": [
    "X"
   ]
  },
  {
   "cell_type": "markdown",
   "metadata": {
    "colab_type": "text",
    "id": "CLs3C6qxeq-B"
   },
   "source": [
    "### 2.1.3 You can re-assign the value for an object. \n",
    "Let's try to assign another value for x"
   ]
  },
  {
   "cell_type": "code",
   "execution_count": null,
   "metadata": {
    "colab": {},
    "colab_type": "code",
    "id": "nRYvgumfeq-C"
   },
   "outputs": [],
   "source": [
    "# You can assign anything to the variable. \n",
    "x = 'an expensive iphone'"
   ]
  },
  {
   "cell_type": "markdown",
   "metadata": {
    "colab_type": "text",
    "id": "_jZEML1heq-G"
   },
   "source": [
    "### 2.1.4 The value of the object changes everytime you re-assign\n",
    "\n",
    "Now, try to execute x again on the cell below? You can also try to execute the cell 1.03 above. What would you expect?"
   ]
  },
  {
   "cell_type": "code",
   "execution_count": null,
   "metadata": {
    "colab": {},
    "colab_type": "code",
    "id": "jJQjjWDEeq-I"
   },
   "outputs": [],
   "source": [
    "x"
   ]
  },
  {
   "cell_type": "markdown",
   "metadata": {
    "colab_type": "text",
    "id": "8l9Ox5nEeq-N"
   },
   "source": [
    "#### Exercise 2.1.4  \n",
    "\n",
    "What is the value of x?"
   ]
  },
  {
   "cell_type": "code",
   "execution_count": null,
   "metadata": {
    "colab": {},
    "colab_type": "code",
    "id": "5VeqgQIJeq-O"
   },
   "outputs": [],
   "source": [
    "x = 1\n",
    "x = 1 + x\n",
    "print(x)\n",
    "#what is X now?"
   ]
  },
  {
   "cell_type": "markdown",
   "metadata": {
    "colab_type": "text",
    "id": "9gkdE9cjeq-S"
   },
   "source": [
    "A Python Code Sample"
   ]
  },
  {
   "cell_type": "code",
   "execution_count": null,
   "metadata": {
    "colab": {},
    "colab_type": "code",
    "id": "rph6Ku-Oeq-T",
    "outputId": "75f5ddff-4a7d-4a07-8e1e-1e835c62e67c",
    "scrolled": true
   },
   "outputs": [],
   "source": [
    "x = 34 - 23  # These are discrete integers, x is a variable assinged to the math equation 34 - 23, = is an assignement operator \n",
    "             #(Hash) here can be used to add comments, without affecting the code. Python won't read comments as part of the code\n",
    "\n",
    "y = \"Hello\"  # This is an example of a string. The alphabets between \" \" are strings. \" Denotes that we are working with strings\n",
    "\n",
    "z = 3.45     # z is a variable where 3.45, a continous number, is assigned to it. In Python we call this type as floats\n",
    "\n",
    "if z == 3.45 or y == \"Hello\": # == is a comparison operator i.e. is z equal to 3.45 true? and is y equal to \"Hello\" true? In this\n",
    "                              # case yes. So we move down the if statement assigning x = x + 1 and y = y + \"World\"  \n",
    "    x = x + 1                 # \"if\" statement is a loop where if the statement is true we move down the loop and execute the \n",
    "                              # code. Otherwise we stay out of the loop. Notice the indentation in the if loop. It clearly, shows\n",
    "y = y + \"World\"               # if z == 3.45 or y == \"Hello\": we move into the loop to execute x = x + 1, y = y + \"World\"\n",
    "                              # Don't forget to put the \":\" at the end of the if statement, otherwise, Python will give you an\n",
    "                              # error\n",
    "                              # Python will give x = x + 1 a discrete value. That's one of the amazing features of Python, unlike\n",
    "                              # other computer languages, where it can indentify what type of variable you are trying to add an\n",
    "                              # integer to. In this case it knows x a is discrete value so it will condiser 1 to be a discrete \n",
    "                              # addition to x. With y = y + \"World\", python knows y is a string so \"World\" gets added to the\n",
    "                              # y string type.\n",
    "x = 1 #this is a comment \n",
    "x"
   ]
  },
  {
   "cell_type": "markdown",
   "metadata": {
    "colab_type": "text",
    "id": "MYMTDFUyeq-V"
   },
   "source": [
    "### 2.1.5 How to seek help in python\n",
    "\n",
    "You can use dir() or ? to seek help in python"
   ]
  },
  {
   "cell_type": "code",
   "execution_count": null,
   "metadata": {
    "colab": {},
    "colab_type": "code",
    "id": "EjdvYRzveq-X"
   },
   "outputs": [],
   "source": [
    "## dir() gives information on the attributes of an object \n",
    "dir(wiki)\n",
    "## to learn more about something we can use help()\n",
    "help(wiki.replace)\n",
    "## or the fancy ipython version \"?\"\n",
    "wiki.replace?"
   ]
  },
  {
   "cell_type": "markdown",
   "metadata": {
    "colab_type": "text",
    "id": "xwESnp52eq-c"
   },
   "source": [
    "## 2.2.0 Data type in python (Integer, Float, String)"
   ]
  },
  {
   "cell_type": "markdown",
   "metadata": {
    "colab_type": "text",
    "id": "5DKaMx0Xeq-d"
   },
   "source": [
    "### 2.2.1 integer\n",
    "Integer is literally, the integer, e.g 1,2,3,4. You can use type() to check the data type of the variable"
   ]
  },
  {
   "cell_type": "code",
   "execution_count": null,
   "metadata": {
    "colab": {},
    "colab_type": "code",
    "id": "4fDgjqF7eq-f"
   },
   "outputs": [],
   "source": [
    "y = 2\n",
    "type(y)"
   ]
  },
  {
   "cell_type": "markdown",
   "metadata": {
    "colab_type": "text",
    "id": "1quwCZaceq-g"
   },
   "source": [
    "You can also check the data type directly"
   ]
  },
  {
   "cell_type": "code",
   "execution_count": null,
   "metadata": {
    "colab": {},
    "colab_type": "code",
    "id": "zvUsNNOSeq-h"
   },
   "outputs": [],
   "source": [
    "type(2)"
   ]
  },
  {
   "cell_type": "markdown",
   "metadata": {
    "colab_type": "text",
    "id": "heuyIVbWeq-j"
   },
   "source": [
    "### 2.2.2 Float\n",
    "Float is also a number. However float contains more information because it contains decimal place"
   ]
  },
  {
   "cell_type": "code",
   "execution_count": 9,
   "metadata": {
    "colab": {},
    "colab_type": "code",
    "id": "hza4JY2Ieq-k"
   },
   "outputs": [
    {
     "data": {
      "text/plain": [
       "float"
      ]
     },
     "execution_count": 9,
     "metadata": {},
     "output_type": "execute_result"
    }
   ],
   "source": [
    "z = 3.1416\n",
    "type(z)"
   ]
  },
  {
   "cell_type": "markdown",
   "metadata": {
    "colab_type": "text",
    "id": "d4vrusrUeq-l"
   },
   "source": [
    "You can use int() to transform float to integer, or float() to transform integer to float"
   ]
  },
  {
   "cell_type": "code",
   "execution_count": null,
   "metadata": {
    "colab": {},
    "colab_type": "code",
    "id": "EvGpVCqneq-m"
   },
   "outputs": [],
   "source": [
    "int(z)"
   ]
  },
  {
   "cell_type": "markdown",
   "metadata": {
    "colab_type": "text",
    "id": "bJ4QBNrCeq-n"
   },
   "source": [
    "### 2.2.3 String\n",
    "String can be any character you can find on the keyboard, as long as it can be bound within \" or '."
   ]
  },
  {
   "cell_type": "code",
   "execution_count": null,
   "metadata": {
    "colab": {},
    "colab_type": "code",
    "id": "hlBN4tREeq-o"
   },
   "outputs": [],
   "source": [
    "this_is_a_string = 'Patrick'\n",
    "this_is_also_a_string = \"$%%^&*()njfnksdjfsdyftuy32uygsjdhfbmnasd\"\n",
    "number_can_also_be_string = \"123456\""
   ]
  },
  {
   "cell_type": "code",
   "execution_count": null,
   "metadata": {
    "colab": {},
    "colab_type": "code",
    "id": "UVqpGsx7eq-p"
   },
   "outputs": [],
   "source": [
    "#Anything within a \" or ' will be a string\n",
    "myname = \"Patrick\"\n",
    "type(myname)"
   ]
  },
  {
   "cell_type": "markdown",
   "metadata": {
    "colab_type": "text",
    "id": "EoOZHVM_eq-q"
   },
   "source": [
    "String can be concatenated by using +"
   ]
  },
  {
   "cell_type": "code",
   "execution_count": null,
   "metadata": {
    "colab": {},
    "colab_type": "code",
    "id": "yn4mi2QFeq-r"
   },
   "outputs": [],
   "source": [
    "#example\n",
    "firstname  = 'Cristiano'\n",
    "lastname = 'Ronaldo'\n",
    "\n",
    "fullname = firstname + lastname\n",
    "fullname"
   ]
  },
  {
   "cell_type": "markdown",
   "metadata": {
    "colab_type": "text",
    "id": "MJGSBttweq-t"
   },
   "source": [
    "Remember, string tend to contain less information. It doesn't treat numbers inside a string as numbers. What would you expect to see below?"
   ]
  },
  {
   "cell_type": "code",
   "execution_count": null,
   "metadata": {
    "colab": {},
    "colab_type": "code",
    "id": "sUokonc8eq-t"
   },
   "outputs": [],
   "source": [
    "one = '1'\n",
    "two = '2'\n",
    "one+two"
   ]
  },
  {
   "cell_type": "markdown",
   "metadata": {
    "colab_type": "text",
    "id": "Qhnw0E20eq-x"
   },
   "source": [
    "You can use str() to transform float or int to string"
   ]
  },
  {
   "cell_type": "code",
   "execution_count": null,
   "metadata": {
    "colab": {},
    "colab_type": "code",
    "id": "XiLISSUEeq-y"
   },
   "outputs": [],
   "source": [
    "float(one) + int(two)"
   ]
  },
  {
   "cell_type": "markdown",
   "metadata": {
    "colab_type": "text",
    "id": "6PAMHayleq-0"
   },
   "source": [
    "<img src=\"http://ivl-net.eu/wp-content/uploads/2015/04/workshops-chalkboard.jpg\"/>\n"
   ]
  },
  {
   "cell_type": "markdown",
   "metadata": {
    "colab_type": "text",
    "id": "WqgNLVaceq-1"
   },
   "source": [
    "#### Example 2.2.3 - Work out your full name\n",
    "1. Try input your first name and last name in the variable, and work out your full name\n",
    "2. Now, realize there is no space between your name? Can you amend the code so there is a space?\n",
    "3. Type in your age, and assign it as integer to the age variable\n",
    "4. complete the code so it prints out \"[Yourname] is now [age] years old\".\n",
    "e.g Cristiano Ronadlo is now 32 years old"
   ]
  },
  {
   "cell_type": "code",
   "execution_count": null,
   "metadata": {
    "colab": {},
    "colab_type": "code",
    "id": "Y3gdAudpeq-2",
    "outputId": "b4f0aae0-e672-42cf-8c68-1e346f4b986b"
   },
   "outputs": [],
   "source": [
    "firstname  = 'cristiano'\n",
    "lastname = 'ronaldo'\n",
    "\n",
    "fullname = firstname + lastname\n",
    "print(fullname)\n",
    "\n",
    "age = 32\n",
    "print(fullname + 'is now ' + str(age))"
   ]
  },
  {
   "cell_type": "markdown",
   "metadata": {
    "colab_type": "text",
    "id": "6ro-6eVkeq-5"
   },
   "source": [
    "#### Exercise 2.2.3 - Work out your full name"
   ]
  },
  {
   "cell_type": "code",
   "execution_count": null,
   "metadata": {
    "colab": {},
    "colab_type": "code",
    "id": "CrUIxDMYeq-5"
   },
   "outputs": [],
   "source": [
    "#exercise: Try input your first name and last name in the variable\n",
    "\n",
    "firstname  = 'Denis'\n",
    "lastname = 'Tsoi'\n",
    "\n",
    "fullname = firstname + lastname\n",
    "print(fullname)\n",
    "\n",
    "#How do we add a space in between?\n",
    "fullname = firstname + \" \" + lastname\n",
    "\n",
    "age = 32\n",
    "print(fullname + ' is now ' + str(age) + ' years old.')"
   ]
  },
  {
   "cell_type": "markdown",
   "metadata": {
    "colab_type": "text",
    "id": "JX6NSV7Ieq-8"
   },
   "source": [
    "### 2.2.4 Object can be of any data type\n",
    "\n",
    "Try execute the cell below"
   ]
  },
  {
   "cell_type": "code",
   "execution_count": null,
   "metadata": {
    "colab": {},
    "colab_type": "code",
    "id": "Ir2n9C-6eq-8"
   },
   "outputs": [],
   "source": [
    "x = 1\n",
    "print(x)\n",
    "\n",
    "house_price = 100\n",
    "print(house_price)\n",
    "\n",
    "girlfriend = 'pretty'\n",
    "print(girlfriend)"
   ]
  },
  {
   "cell_type": "code",
   "execution_count": null,
   "metadata": {
    "colab": {},
    "colab_type": "code",
    "id": "G4PZXjP9eq--"
   },
   "outputs": [],
   "source": [
    "girlfriend"
   ]
  },
  {
   "cell_type": "markdown",
   "metadata": {
    "colab_type": "text",
    "id": "WlDvGqjIeq_B"
   },
   "source": [
    "### 2.2.5 Reserved words \n",
    "\n",
    "There are a bunch of words that you are not allowed to use\n",
    "This is because they have special meanings in python"
   ]
  },
  {
   "cell_type": "markdown",
   "metadata": {
    "colab_type": "text",
    "id": "KYKL4TCqeq_C"
   },
   "source": [
    "https://www.programiz.com/python-programming/keywords-identifier"
   ]
  },
  {
   "cell_type": "code",
   "execution_count": null,
   "metadata": {
    "colab": {},
    "colab_type": "code",
    "id": "KSKK32tHeq_C"
   },
   "outputs": [],
   "source": [
    "# Don't use these words!! They have special meanings\n",
    "False\n",
    "None\n",
    "and\n",
    "if\n",
    "for\n",
    "from\n",
    "import\n",
    "as\n",
    "is\n",
    "in"
   ]
  },
  {
   "cell_type": "markdown",
   "metadata": {
    "colab_type": "text",
    "id": "8SuFhWOUeq_G"
   },
   "source": [
    "## 2.3.0 Python mathematics operations"
   ]
  },
  {
   "cell_type": "markdown",
   "metadata": {
    "colab_type": "text",
    "id": "oIfoiGe0eq_H"
   },
   "source": [
    "### 2.3.1 Sum"
   ]
  },
  {
   "cell_type": "markdown",
   "metadata": {
    "colab_type": "text",
    "id": "5w53ntWteq_H"
   },
   "source": [
    "<img src=\"https://i-cdn.phonearena.com/images/article/98010-thumb/The-fall-2017-Apple-iPhone-lineup-we-now-have-8-iPhones-to-choose-from-more-than-ever-before.jpg\"/>"
   ]
  },
  {
   "cell_type": "markdown",
   "metadata": {
    "colab_type": "text",
    "id": "TTJOZJdneq_I"
   },
   "source": [
    "#### Example 2.2.1 "
   ]
  },
  {
   "cell_type": "code",
   "execution_count": null,
   "metadata": {
    "colab": {},
    "colab_type": "code",
    "id": "_auCVzzTeq_J"
   },
   "outputs": [],
   "source": [
    "#you can use it like a calculator. Try 6+7? you should be expecting 13?\n",
    "6+7"
   ]
  },
  {
   "cell_type": "code",
   "execution_count": 28,
   "metadata": {
    "colab": {},
    "colab_type": "code",
    "id": "WT9eB1O0eq_L"
   },
   "outputs": [
    {
     "data": {
      "text/plain": [
       "11286"
      ]
     },
     "execution_count": 28,
     "metadata": {},
     "output_type": "execute_result"
    }
   ],
   "source": [
    "#Let's say I want to know how much to does it cost to the buy whole set of iphone\n",
    "iphoneX = 9998\n",
    "airpods = 1288\n",
    "price_for_new_iphone = iphoneX + airpods\n",
    "price_for_new_iphone"
   ]
  },
  {
   "cell_type": "markdown",
   "metadata": {
    "colab_type": "text",
    "id": "StXbl1toeq_M"
   },
   "source": [
    "#### Exercise 2.2.1 - Cost of Samsung S8\n",
    "Using the previous example, now that samsung s8 cost $5200. \n",
    "1. Assign 5200 to samsung_s8\n",
    "2. Assign 0 to normal_headphone (becoz we already have one)\n",
    "3. findout how much in total to buy samsung s8 & normal_headphone? asign it to variable called price_for_new_samsung"
   ]
  },
  {
   "cell_type": "code",
   "execution_count": 29,
   "metadata": {
    "colab": {},
    "colab_type": "code",
    "id": "d18Nq4N3eq_N"
   },
   "outputs": [
    {
     "data": {
      "text/plain": [
       "5200"
      ]
     },
     "execution_count": 29,
     "metadata": {},
     "output_type": "execute_result"
    }
   ],
   "source": [
    "#Your code in here!\n",
    "\n",
    "samsung_s8 = 5200\n",
    "normal_headphone = 0\n",
    "\n",
    "price_for_new_samsung = samsung_s8 + normal_headphone\n",
    "price_for_new_samsung"
   ]
  },
  {
   "cell_type": "markdown",
   "metadata": {
    "colab_type": "text",
    "id": "3zJtuP2ieq_O"
   },
   "source": [
    "### 2.3.2 Subtraction"
   ]
  },
  {
   "cell_type": "markdown",
   "metadata": {
    "colab_type": "text",
    "id": "jBaiByqdeq_P"
   },
   "source": [
    "<img src=\"http://na.signwiki.org/images/public/d/db/Subtraction.gif\"/>"
   ]
  },
  {
   "cell_type": "markdown",
   "metadata": {
    "colab_type": "text",
    "id": "HdYdFcdTeq_P"
   },
   "source": [
    "#### Example 2.3.2"
   ]
  },
  {
   "cell_type": "code",
   "execution_count": null,
   "metadata": {
    "colab": {},
    "colab_type": "code",
    "id": "m-ZGLhfOeq_Q"
   },
   "outputs": [],
   "source": [
    "# You can also do calculation like excel\n",
    "6-7\n",
    "11-9"
   ]
  },
  {
   "cell_type": "code",
   "execution_count": null,
   "metadata": {
    "colab": {},
    "colab_type": "code",
    "id": "6mpX2Rgweq_R"
   },
   "outputs": [],
   "source": [
    "## read interactive input \n",
    "a = input(\"enter the first number: \" )\n",
    "b = input(\"enter the second number: \")\n"
   ]
  },
  {
   "cell_type": "code",
   "execution_count": null,
   "metadata": {
    "colab": {},
    "colab_type": "code",
    "id": "xE7AOvQdeq_S"
   },
   "outputs": [],
   "source": [
    "#example\n",
    "\n",
    "#Assign 2017 to a variable called THISYEAR, \n",
    "THISYEAR = 2019\n",
    "#Assign the year of your birthday to  a variable called BIRTHYEAR\n",
    "BIRTHYEAR = 1987\n",
    "\n",
    "#work out your age by substracting BIRTHYEAR by THISYEAR\n",
    "age = THISYEAR-BIRTHYEAR\n",
    "print(age)"
   ]
  },
  {
   "cell_type": "markdown",
   "metadata": {
    "colab_type": "text",
    "id": "cjh9cLVeeq_T"
   },
   "source": [
    "<img src=\"http://cdn1.knowyourmobile.com/sites/knowyourmobilecom/files/styles/gallery_wide/public/2016/02/screen_shot_2016-02-22_at_4.48.09_pm.jpg?itok=H2I28t7Q\"/>\n",
    "\n"
   ]
  },
  {
   "cell_type": "markdown",
   "metadata": {
    "colab_type": "text",
    "id": "cVa4D96peq_U"
   },
   "source": [
    "#### Exercise 2.3.2  - Iphone vs Samsung\n",
    "Using the previous example, you have the price to buy samsung s8. Find out how much more expensive are iphone, compare to samsung?\n",
    "1. Create a new object called price_for_new_samsung\n",
    "2. we already have an object called price_for_new_iphone\n",
    "3. execute price_for_new_iphone - price_for_new_samsung, and assign to a variable called \"money_saved\"\n"
   ]
  },
  {
   "cell_type": "code",
   "execution_count": null,
   "metadata": {
    "colab": {},
    "colab_type": "code",
    "id": "CAFydVuxeq_U"
   },
   "outputs": [],
   "source": [
    "#Your code in here!\n",
    "price_for_new_samsung = 2000\n",
    "price_for_new_iphone = 3000\n",
    "\n",
    "money_saved = price_for_new_iphone - price_for_new_samsung\n",
    "print(money_saved)"
   ]
  },
  {
   "cell_type": "markdown",
   "metadata": {
    "colab_type": "text",
    "id": "6EgP_u5oeq_V"
   },
   "source": [
    "### 2.3.3 multiplication"
   ]
  },
  {
   "cell_type": "markdown",
   "metadata": {
    "colab_type": "text",
    "id": "gUQbPbHOeq_W"
   },
   "source": [
    "#### Example 2.3.3 "
   ]
  },
  {
   "cell_type": "code",
   "execution_count": null,
   "metadata": {
    "colab": {},
    "colab_type": "code",
    "id": "E_o88a3ieq_X",
    "outputId": "6043926c-6158-4bde-85f3-40820d56cf33"
   },
   "outputs": [],
   "source": [
    "7*6"
   ]
  },
  {
   "cell_type": "code",
   "execution_count": null,
   "metadata": {
    "colab": {},
    "colab_type": "code",
    "id": "C854QC8Qeq_a",
    "outputId": "c8a1f3e4-9c4c-4d19-dcc1-3fb0a6c87eed"
   },
   "outputs": [],
   "source": [
    "#exercise\n",
    "\n",
    "#let's assign 7.8 to a variable called exchange_rate\n",
    "exchange_rate = 7.8\n",
    "#Assign 100 to a variable called usd\n",
    "usd = 100   \n",
    "\n",
    "#workout how much hkd is worth of 100 usd\n",
    "hkd = exchange_rate*usd\n",
    "print(hkd)"
   ]
  },
  {
   "cell_type": "markdown",
   "metadata": {
    "colab_type": "text",
    "id": "VdxxwBf3eq_b"
   },
   "source": [
    "#### Exercise 2.2.3 - HKD & USD\n",
    "Using the previous example, can you try to convert hkd back to usd?"
   ]
  },
  {
   "cell_type": "code",
   "execution_count": null,
   "metadata": {
    "colab": {},
    "colab_type": "code",
    "id": "SFyqRAGceq_c"
   },
   "outputs": [],
   "source": [
    "#your code here!\n",
    "def convert_hkd_to_usd(hkd):\n",
    "    exchange_rate = 7.8\n",
    "    return hkd / exchange_rate\n",
    "\n",
    "convert_hkd_to_usd(780)"
   ]
  },
  {
   "cell_type": "markdown",
   "metadata": {
    "colab_type": "text",
    "id": "Ekg_RLTueq_f"
   },
   "source": [
    "### 2.3.4 Divison"
   ]
  },
  {
   "cell_type": "code",
   "execution_count": null,
   "metadata": {
    "colab": {},
    "colab_type": "code",
    "id": "5wihypkjeq_f"
   },
   "outputs": [],
   "source": [
    "\n",
    "## note that we are doing calculation among integers\n",
    "6/7\n",
    "## let's make sure that the interpreter understands we want to use floating point\n",
    "6./7\n",
    "## You don't need to define the type of variable. The interpreter will guess.\n",
    "a=6\n",
    "b=7\n",
    "print(a*b , a+b, a-b, a/b) \n",
    "\n",
    "## As in the previous example, if one element is floating point, the interpreter will do an automatic cast\n",
    "print \n",
    "a=6.   ## this is now float\n",
    "b=7\n",
    "print(a*b , a+b, a-b, a/b) "
   ]
  },
  {
   "cell_type": "markdown",
   "metadata": {
    "colab_type": "text",
    "id": "6qSWfivneq_g"
   },
   "source": [
    "### 2.3.5 Logical operation in python\n",
    "Play around with logic!"
   ]
  },
  {
   "cell_type": "markdown",
   "metadata": {
    "colab_type": "text",
    "id": "as4w366Ieq_h"
   },
   "source": [
    " == means checking whether if they equal"
   ]
  },
  {
   "cell_type": "code",
   "execution_count": null,
   "metadata": {
    "colab": {},
    "colab_type": "code",
    "id": "AmTx38_xeq_h"
   },
   "outputs": [],
   "source": [
    "x = 1\n",
    "x ==1 # Check if x equals one"
   ]
  },
  {
   "cell_type": "markdown",
   "metadata": {
    "colab_type": "text",
    "id": "VTFctkyEeq_i"
   },
   "source": [
    " != means check if they don't equal"
   ]
  },
  {
   "cell_type": "code",
   "execution_count": null,
   "metadata": {
    "colab": {},
    "colab_type": "code",
    "id": "bud-sIW-eq_j",
    "outputId": "89b940f0-ad12-43be-d676-93055b6a0bc4"
   },
   "outputs": [],
   "source": [
    "!=1"
   ]
  },
  {
   "cell_type": "code",
   "execution_count": null,
   "metadata": {
    "colab": {},
    "colab_type": "code",
    "id": "MRABeOZ8eq_k"
   },
   "outputs": [],
   "source": [
    "## Some basic logic operators \n",
    "a = 2 \n",
    "b = 3 \n",
    "print \"a = \" ,a \n",
    "print \"b = \" ,b\n",
    "\n",
    "## == stands for \"is equal to\"  \n",
    "## be careful and do not confuse \n",
    "## ==  which is an operator that compares the two operand\n",
    "## with = , which is an assignment operator.\n",
    "print \"a == b is \" , a == b \n",
    "\n",
    "## != \"not equal to\" \n",
    "print \"a != b is \" , a != b \n",
    "\n",
    "## greater and smaller than\n",
    "print \"a < b is \" , a < b \n",
    "print \"a > b is \" , a > b\n",
    "\n",
    "## the basic boolean types.\n",
    "print \"True is ... well ... \" , True\n",
    "print  \"...and obviously False is \" , False "
   ]
  },
  {
   "cell_type": "markdown",
   "metadata": {
    "colab_type": "text",
    "id": "Cw6i4WiAeq_n"
   },
   "source": [
    " \">\" and \"<\" means bigger or smaller"
   ]
  },
  {
   "cell_type": "code",
   "execution_count": null,
   "metadata": {
    "colab": {},
    "colab_type": "code",
    "id": "tjIHT5BYeq_o"
   },
   "outputs": [],
   "source": [
    "iphone = 9000\n",
    "samsung = 5000\n",
    "iphone > samsung"
   ]
  },
  {
   "cell_type": "markdown",
   "metadata": {
    "colab_type": "text",
    "id": "sH_XwaZGeq_q"
   },
   "source": [
    "#### Exercise 2.3.5 - check if 1 equals 1.0"
   ]
  },
  {
   "cell_type": "code",
   "execution_count": null,
   "metadata": {
    "colab": {},
    "colab_type": "code",
    "id": "QqDh_Inzeq_q"
   },
   "outputs": [],
   "source": [
    "x = 1\n",
    "y = 1.0\n",
    "\n",
    "#Your code here!\n",
    "x == y\n"
   ]
  },
  {
   "cell_type": "markdown",
   "metadata": {
    "colab_type": "text",
    "id": "s02P4S-Weq_r"
   },
   "source": [
    "## 2.4.0 Python string / text operations"
   ]
  },
  {
   "cell_type": "code",
   "execution_count": null,
   "metadata": {
    "colab": {},
    "colab_type": "code",
    "id": "lS_uJ1x8eq_r",
    "outputId": "7077cd22-afdf-43d0-acce-c9a926fd6f5c"
   },
   "outputs": [],
   "source": [
    "## a string is just a sequence of characters within quotes \"\" or '' \n",
    "mystr1 = \"i am\"\n",
    "mystr2 = 'i am'\n",
    "mystr1==mystr2\n"
   ]
  },
  {
   "cell_type": "markdown",
   "metadata": {
    "colab_type": "text",
    "id": "v6sIQVYaeq_t"
   },
   "source": [
    "### 2.4.1 String is just text \n",
    "\n",
    "Python can handle long text, or even an entire novel, or even the entire wikipedia!"
   ]
  },
  {
   "cell_type": "code",
   "execution_count": 11,
   "metadata": {
    "colab": {},
    "colab_type": "code",
    "id": "jlnkdJvbeq_u",
    "outputId": "fb3cc7b8-cd8b-4435-fef8-5f825a5daf79"
   },
   "outputs": [
    {
     "name": "stdout",
     "output_type": "stream",
     "text": [
      "Python is a widely used high-level programming language for general-purpose programming, created by Guido van Rossum and first released in 1991\n"
     ]
    }
   ],
   "source": [
    "wiki = \"Python is a widely used high-level programming language for general-purpose programming, created by Guido van Rossum and first released in 1991\"\n",
    "print(wiki)"
   ]
  },
  {
   "cell_type": "markdown",
   "metadata": {
    "colab_type": "text",
    "id": "eod0452beq_w"
   },
   "source": [
    "### 2.4.2 Indexing in string\n",
    "\n",
    "You can navigate each letter in the string by using square brackets and index"
   ]
  },
  {
   "cell_type": "code",
   "execution_count": 12,
   "metadata": {
    "colab": {},
    "colab_type": "code",
    "id": "WMip739xeq_w",
    "outputId": "a76aafcc-192d-42dc-8989-c5ebd3e43991"
   },
   "outputs": [
    {
     "name": "stdout",
     "output_type": "stream",
     "text": [
      "h\n",
      "1\n",
      "Python is a widely u\n"
     ]
    }
   ],
   "source": [
    "print(wiki[3])\n",
    "print(wiki[-1])\n",
    "print(wiki[0:20])"
   ]
  },
  {
   "cell_type": "markdown",
   "metadata": {
    "colab_type": "text",
    "id": "Rl_KMJA8eq_y"
   },
   "source": [
    "### 2.4.3 String related functions\n",
    "\n",
    "Some very useful functions to find characters in strings"
   ]
  },
  {
   "cell_type": "code",
   "execution_count": 13,
   "metadata": {
    "colab": {},
    "colab_type": "code",
    "id": "yrTgB-zheq_y"
   },
   "outputs": [
    {
     "name": "stdout",
     "output_type": "stream",
     "text": [
      "0\n",
      "PYTHON IS A WIDELY USED HIGH-LEVEL PROGRAMMING LANGUAGE FOR GENERAL-PURPOSE PROGRAMMING, CREATED BY GUIDO VAN ROSSUM AND FIRST RELEASED IN 1991\n",
      "Python is a widely used low-level programming language for general-purpose programming, created by Guido van Rossum and first released in 1991\n",
      "Python is a widely used high-level programming language for general-purpose programming, created by Guido van Rossum and first released in 1991\n",
      "0\n",
      "False\n",
      "True\n",
      "['Python', 'is', 'a', 'widely', 'used', 'high-level', 'programming', 'language', 'for', 'general-purpose', 'programming,', 'created', 'by', 'Guido', 'van', 'Rossum', 'and', 'first', 'released', 'in', '1991']\n"
     ]
    }
   ],
   "source": [
    "## manipulating strings is very easy \n",
    "\n",
    "## finding the location of a substring\n",
    "print(wiki.find(\"Python\"))\n",
    "\n",
    "## changing to uppercase\n",
    "print(wiki.upper())\n",
    "\n",
    "## replacing substrings\n",
    "print(wiki.replace('high','low'))\n",
    "\n",
    "## these operations do not modify the original string\n",
    "print(wiki)\n",
    "\n",
    "## we can count the occurrences of a letter\n",
    "print(wiki.count('python') )\n",
    "\n",
    "#Lower change all the letters to lower case\n",
    "wiki.lower().count('python')\n",
    "\n",
    "## \"in\" returns a boolean\n",
    "print(\"python\" in wiki)\n",
    "print(\"language\" in wiki)\n",
    "\n",
    "## .split() separates fields \n",
    "print(wiki.split())"
   ]
  },
  {
   "cell_type": "markdown",
   "metadata": {
    "colab_type": "text",
    "id": "LLNXaxezeq_0"
   },
   "source": [
    "#### Challenge 2.4.3 - Change the shape of the song  \"Shape of you\"\n",
    "1. This is a popular song from Ed Sheeran called shape of you. You can listen to it from the youtube link (please wear your airpods, or plug in your earphone if you are not using iphone)\n",
    "2. Count the occurance of the word \"baby\"\n",
    "3. Count the number of words in the entire lyrics\n",
    "4. Replace \"Oh I oh I oh I oh I \" to something else\n",
    "\n",
    "https://www.azlyrics.com/lyrics/edsheeran/shapeofyou.html\n",
    "\n"
   ]
  },
  {
   "cell_type": "code",
   "execution_count": 14,
   "metadata": {
    "colab": {},
    "colab_type": "code",
    "id": "ocpGLnb_eq_1",
    "outputId": "32a478bb-b672-452c-bd63-d83bdc7ad9f8"
   },
   "outputs": [
    {
     "data": {
      "image/jpeg": "[encoded data removed]",
      "text/html": [
       "\n",
       "        <iframe\n",
       "            width=\"400\"\n",
       "            height=\"300\"\n",
       "            src=\"https://www.youtube.com/embed/JGwWNGJdvx8\"\n",
       "            frameborder=\"0\"\n",
       "            allowfullscreen\n",
       "        ></iframe>\n",
       "        "
      ],
      "text/plain": [
       "<IPython.lib.display.YouTubeVideo at 0x10349c0d0>"
      ]
     },
     "execution_count": 14,
     "metadata": {},
     "output_type": "execute_result"
    }
   ],
   "source": [
    "from IPython.display import YouTubeVideo\n",
    "\n",
    "shape_of_you = \"The club isn't the best place to find a lover.  So the bar is where I go (mmmm).  Me and my friends at the table doing shots.  Drinking fast and then we talk slow (mmmm).  And you come over and start up a conversation with just me.  And trust me I'll give it a chance now (mmmm).  Take my hand, stop, put Van The Man on the jukebox.  And then we start to dance.  And now I'm singing like.  .  Girl, you know I want your love.  Your love was handmade for somebody like me.  Come on now, follow my lead.  I may be crazy, don't mind me.  Say, boy, let's not talk too much.  Grab on my waist and put that body on me.  Come on now, follow my lead.  Come, come on now, follow my lead (mmmm).  .  I'm in love with the shape of you.  We push and pull like a magnet do.  Although my heart is falling too.  I'm in love with your body.  Last night you were in my room.  And now my bedsheets smell like you.  Every day discovering something brand new.  I'm in love with your body.  .  Oh I oh I oh I oh I.  I'm in love with your body.  Oh I oh I oh I oh I.  I'm in love with your body.  Oh I oh I oh I oh I.  I'm in love with your body.  Every day discovering something brand new.  I'm in love with the shape of you.  .  One week in we let the story begin.  We're going out on our first date (mmmm).  You and me are thrifty, so go all you can eat.  Fill up your bag and I fill up a plate (mmmm).  We talk for hours and hours about the sweet and the sour.  And how your family is doing okay (mmmm).  And leave and get in a taxi, then kiss in the backseat.  Tell the driver make the radio play.  And I'm singing like.  .  Girl, you know I want your love.  Your love was handmade for somebody like me.  Come on now, follow my lead.  I may be crazy, don't mind me.  Say, boy, let's not talk too much.  Grab on my waist and put that body on me.  Come on now, follow my lead.  Come, come on now, follow my lead (mmmm).  .  I'm in love with the shape of you.  We push and pull like a magnet do.  Although my heart is falling too.  I'm in love with your body.  Last night you were in my room.  And now my bedsheets smell like you.  Every day discovering something brand new.  I'm in love with your body.  .  Oh I oh I oh I oh I.  I'm in love with your body.  Oh I oh I oh I oh I.  I'm in love with your body.  Oh I oh I oh I oh I.  I'm in love with your body.  Every day discovering something brand new.  I'm in love with the shape of you.  .  Come on, be my baby, come on.  Come on, be my baby, come on.  Come on, be my baby, come on.  Come on, be my baby, come on.  Come on, be my baby, come on.  Come on, be my baby, come on.  Come on, be my baby, come on.  Come on, be my baby, come on.  .  I'm in love with the shape of you.  We push and pull like a magnet do.  Although my heart is falling too.  I'm in love with your body.  Last night you were in my room.  And now my bedsheets smell like you.  Every day discovering something brand new.  I'm in love with your body.  .  Come on, be my baby, come on.  Come on, be my baby, come on.  I'm in love with your body.  Come on, be my baby, come on.  Come on, be my baby, come on.  I'm in love with your body.  Come on, be my baby, come on.  Come on, be my baby, come on.  I'm in love with your body.  Every day discovering something brand new.  I'm in love with the shape of you\"\n",
    "#print(shape_of_you)\n",
    "(YouTubeVideo('JGwWNGJdvx8'))"
   ]
  },
  {
   "source": [
    "#Your code here!\n",
    "# print(\"baby occurances\", shape_of_you.count(\"baby\"))\n",
    "# print(\"word occurances\", len(shape_of_you.split()))\n",
    "# shape_of_you.replace(\"Oh I oh I oh I oh I\", \"meep\")\n",
    "\n",
    "def find_count_of_word_in_song(word, song):\n",
    "    if word is None:\n",
    "        raise Exception(\"Word is not provided\")\n",
    "    elif song is None:\n",
    "        raise Exception(\"Song is not provided\")\n",
    "    return song.count(word)\n",
    "\n",
    "\n",
    "shape_of_you = \"The club isn't the best place to find a lover.  So the bar is where I go (mmmm).  Me and my friends at the table doing shots.  Drinking fast and then we talk slow (mmmm).  And you come over and start up a conversation with just me.  And trust me I'll give it a chance now (mmmm).  Take my hand, stop, put Van The Man on the jukebox.  And then we start to dance.  And now I'm singing like.  .  Girl, you know I want your love.  Your love was handmade for somebody like me.  Come on now, follow my lead.  I may be crazy, don't mind me.  Say, boy, let's not talk too much.  Grab on my waist and put that body on me.  Come on now, follow my lead.  Come, come on now, follow my lead (mmmm).  .  I'm in love with the shape of you.  We push and pull like a magnet do.  Although my heart is falling too.  I'm in love with your body.  Last night you were in my room.  And now my bedsheets smell like you.  Every day discovering something brand new.  I'm in love with your body.  .  Oh I oh I oh I oh I.  I'm in love with your body.  Oh I oh I oh I oh I.  I'm in love with your body.  Oh I oh I oh I oh I.  I'm in love with your body.  Every day discovering something brand new.  I'm in love with the shape of you.  .  One week in we let the story begin.  We're going out on our first date (mmmm).  You and me are thrifty, so go all you can eat.  Fill up your bag and I fill up a plate (mmmm).  We talk for hours and hours about the sweet and the sour.  And how your family is doing okay (mmmm).  And leave and get in a taxi, then kiss in the backseat.  Tell the driver make the radio play.  And I'm singing like.  .  Girl, you know I want your love.  Your love was handmade for somebody like me.  Come on now, follow my lead.  I may be crazy, don't mind me.  Say, boy, let's not talk too much.  Grab on my waist and put that body on me.  Come on now, follow my lead.  Come, come on now, follow my lead (mmmm).  .  I'm in love with the shape of you.  We push and pull like a magnet do.  Although my heart is falling too.  I'm in love with your body.  Last night you were in my room.  And now my bedsheets smell like you.  Every day discovering something brand new.  I'm in love with your body.  .  Oh I oh I oh I oh I.  I'm in love with your body.  Oh I oh I oh I oh I.  I'm in love with your body.  Oh I oh I oh I oh I.  I'm in love with your body.  Every day discovering something brand new.  I'm in love with the shape of you.  .  Come on, be my baby, come on.  Come on, be my baby, come on.  Come on, be my baby, come on.  Come on, be my baby, come on.  Come on, be my baby, come on.  Come on, be my baby, come on.  Come on, be my baby, come on.  Come on, be my baby, come on.  .  I'm in love with the shape of you.  We push and pull like a magnet do.  Although my heart is falling too.  I'm in love with your body.  Last night you were in my room.  And now my bedsheets smell like you.  Every day discovering something brand new.  I'm in love with your body.  .  Come on, be my baby, come on.  Come on, be my baby, come on.  I'm in love with your body.  Come on, be my baby, come on.  Come on, be my baby, come on.  I'm in love with your body.  Come on, be my baby, come on.  Come on, be my baby, come on.  I'm in love with your body.  Every day discovering something brand new.  I'm in love with the shape of you\"\n",
    "find_count_of_word_in_song(\"baby\", shape_of_you)"
   ],
   "cell_type": "code",
   "outputs": [
    {
     "output_type": "execute_result",
     "data": {
      "text/plain": "14"
     },
     "metadata": {},
     "execution_count": 1
    }
   ],
   "metadata": {},
   "execution_count": 1
  },
  {
   "cell_type": "code",
   "execution_count": 27,
   "metadata": {},
   "outputs": [
    {
     "data": {
      "text/plain": [
       "'100100'"
      ]
     },
     "execution_count": 27,
     "metadata": {},
     "output_type": "execute_result"
    }
   ],
   "source": [
    "\"100\" + \"100\""
   ]
  },
  {
   "cell_type": "markdown",
   "metadata": {
    "colab_type": "text",
    "id": "WJrF0KwLeq_6"
   },
   "source": [
    "<img src=\"https://www.codefor.hk/wp-content/themes/DC_CUSTOM_THEME/img/logo-code-for-hk-logo.svg\" height=\"150\" width=\"150\"  align=\"center\"/>"
   ]
  }
 ],
 "metadata": {
  "colab": {
   "collapsed_sections": [
    "MMjFucIDeq8Q",
    "EBV8l3iEeq8Z",
    "UZysvTpDeq8c",
    "axYPsKaqeq8e",
    "rR3Mw2K-eq8k",
    "cYm-fUXTeq9G",
    "uEPaO83neq9O",
    "tNHM94A0eq9Q",
    "MEDm0bF-eq9S",
    "QbCSljwYeq9V",
    "_VJVTVx6eq9V",
    "jHZmko0Eeq9X",
    "Y3TzmFS1eq9a",
    "GQVnbwPgeq9c",
    "Qvm5ip48eq9e",
    "t6Sn2Y_leq9e",
    "IXb0tBvheq9s",
    "pRGo6doPeq9u",
    "IfWfAUgneq9z",
    "0_lrp6Uveq99",
    "CLs3C6qxeq-B",
    "_jZEML1heq-G",
    "8l9Ox5nEeq-N",
    "MYMTDFUyeq-V",
    "5DKaMx0Xeq-d",
    "heuyIVbWeq-j",
    "bJ4QBNrCeq-n",
    "WqgNLVaceq-1",
    "6ro-6eVkeq-5",
    "JX6NSV7Ieq-8",
    "WlDvGqjIeq_B",
    "8SuFhWOUeq_G",
    "oIfoiGe0eq_H",
    "TTJOZJdneq_I",
    "StXbl1toeq_M",
    "3zJtuP2ieq_O",
    "HdYdFcdTeq_P",
    "cVa4D96peq_U",
    "6EgP_u5oeq_V",
    "gUQbPbHOeq_W",
    "VdxxwBf3eq_b",
    "Ekg_RLTueq_f",
    "6qSWfivneq_g",
    "sH_XwaZGeq_q",
    "s02P4S-Weq_r",
    "v6sIQVYaeq_t",
    "eod0452beq_w",
    "Rl_KMJA8eq_y",
    "LLNXaxezeq_0",
    "AKE0X-ppeq_6",
    "JSv4iMtieq_8",
    "0q8x8tyxeq__",
    "cDUea5oAerAA",
    "oMbs1uKLerAC",
    "YJG-i3iGerAE",
    "-SXuNJi_erAK",
    "yfNa9tXGerAN",
    "pKR76FPverAP",
    "J-4Z9g5lerAU",
    "d4y1BBG4erAX",
    "stmCtMCferAb",
    "0HgQG8YjerAn",
    "icNg_6HgerAo",
    "_N4eIFgserAr",
    "FvJZ8saNerAu",
    "oh0Xv8FnerAw",
    "HR49ZnF4erAz",
    "tVhMYLWkerA0",
    "fLBZWqvMerA4",
    "j9kHjlSeerA6",
    "dRZKEuU_erA6",
    "nqkeqKzserA7",
    "xIwG_Uj3erBB",
    "YYtsCbJperBD",
    "oWl0Ha2RerBD"
   ],
   "include_colab_link": true,
   "name": "py_class_1.ipynb",
   "provenance": [],
   "toc_visible": true
  },
  "kernelspec": {
   "display_name": "Python 3",
   "language": "python",
   "name": "python3"
  },
  "language_info": {
   "codemirror_mode": {
    "name": "ipython",
    "version": 3
   },
   "file_extension": ".py",
   "mimetype": "text/x-python",
   "name": "python",
   "nbconvert_exporter": "python",
   "pygments_lexer": "ipython3",
   "version": "3.7.3"
  }
 },
 "nbformat": 4,
 "nbformat_minor": 1
}