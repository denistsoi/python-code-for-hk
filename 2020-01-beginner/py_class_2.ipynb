{
 "cells": [
  {
   "cell_type": "markdown",
   "metadata": {
    "colab_type": "text",
    "id": "view-in-github"
   },
   "source": [
    "<a href=\"https://colab.research.google.com/github/codeforhk/python_course/blob/master/py_class_2.ipynb\" target=\"_parent\"><img src=\"https://colab.research.google.com/assets/colab-badge.svg\" alt=\"Open In Colab\"/></a>"
   ]
  },
  {
   "cell_type": "markdown",
   "metadata": {
    "colab_type": "text",
    "id": "ejMS_tRueq8A"
   },
   "source": [
    "\n",
    "    \n",
    "<img src=\"https://www.codefor.hk/wp-content/themes/DC_CUSTOM_THEME/img/logo-code-for-hk-logo.svg\" height=\"150\" width=\"150\"  align=\"center\"/>\n",
    "<h1><center>Code For Hong Kong - Python class 2</center></h1>\n",
    "<h6><center>Written by Patrick Leung</center></h6>\n"
   ]
  },
  {
   "cell_type": "markdown",
   "metadata": {
    "colab_type": "text",
    "id": "J7IszlFOeq_7"
   },
   "source": [
    "# 3.0.0 Python Data Structure (List, Dictionary, Tuple, Dataframe)"
   ]
  },
  {
   "cell_type": "markdown",
   "metadata": {
    "colab_type": "text",
    "id": "J-lwYgjPeq_7"
   },
   "source": [
    "**What is a data structure?**\n",
    "\n",
    "In computer science, a data structure is a data organization, management and storage format that enables efficient access and modification.\n",
    "\n",
    "In laymen terms, it is the way how you organise your data.\n",
    "\n",
    "\n",
    "In python, the most common data structure includes **List, Dictionary, Tuple & DataFrame**\n",
    "\n",
    "You can check the official documents below\n",
    "https://docs.python.org/3/tutorial/datastructures.html"
   ]
  },
  {
   "cell_type": "markdown",
   "metadata": {
    "colab_type": "text",
    "id": "7N2yunLoeq_8"
   },
   "source": [
    "<img src=\"https://storage.googleapis.com/bwdb/acceleratehk/python_class/Screen%20Shot%202017-10-21%20at%2012.26.59%20AM.png\"/>\n"
   ]
  },
  {
   "cell_type": "markdown",
   "metadata": {
    "colab_type": "text",
    "id": "JSv4iMtieq_8"
   },
   "source": [
    "## 3.1.0 List\n",
    "\n",
    "**What is a list?**"
   ]
  },
  {
   "cell_type": "markdown",
   "metadata": {
    "colab_type": "text",
    "id": "zktdlVXDz7Dx"
   },
   "source": [
    "<img src=\"https://www.w3resource.com/w3r_images/python-lists-structure.png\"/>\n",
    "\n",
    "\n"
   ]
  },
  {
   "cell_type": "markdown",
   "metadata": {
    "colab_type": "text",
    "id": "6-zCQE0leq_9"
   },
   "source": [
    "A list is a data structure in Python that is a mutable, or changeable, ordered sequence of elements. Each element or value that is inside of a list is called an item. Just as strings are defined as characters between quotes, lists are defined by having values between square brackets [ ].\n",
    "\n",
    "Lists are great to use when you want to work with many related values. They enable you to keep data together that belongs together, condense your code, and perform the same methods and operations on multiple values at once.\n",
    "\n",
    "When thinking about Python lists and other data structures that are types of collections, it is useful to consider all the different collections you have on your computer: your assortment of files, your song playlists, your browser bookmarks, your emails, the collection of videos you can access on a streaming service, and more."
   ]
  },
  {
   "cell_type": "code",
   "execution_count": 0,
   "metadata": {
    "colab": {},
    "colab_type": "code",
    "id": "vE5bxvaIeq_9",
    "outputId": "bd79394b-0c64-4da6-ba5d-fa96f1bf68dc"
   },
   "outputs": [
    {
     "name": "stdout",
     "output_type": "stream",
     "text": [
      "['shark', 'cuttlefish', 'squid', 'mantis shrimp', 'anemone']\n"
     ]
    }
   ],
   "source": [
    "sea_creatures = ['shark', 'cuttlefish', 'squid', 'mantis shrimp', 'anemone']\n",
    "print(sea_creatures)"
   ]
  },
  {
   "cell_type": "markdown",
   "metadata": {
    "colab_type": "text",
    "id": "0q8x8tyxeq__"
   },
   "source": [
    "### 3.1.1 Python list syntax\n",
    "\n",
    "Python list is bounded by square brackets"
   ]
  },
  {
   "cell_type": "markdown",
   "metadata": {
    "colab_type": "text",
    "id": "B4WTYKi80I4j"
   },
   "source": [
    "<img src=\"https://cdn.techbeamers.com/wp-content/uploads/2018/03/Python-List-A-Beginners-Guide-to-Get-Started-Quickly.png\"/>\n",
    "\n",
    "<img src=\"https://cdn.filestackcontent.com/5aQg9m9zQYOjvta9UMUf\"/>\n"
   ]
  },
  {
   "cell_type": "code",
   "execution_count": 0,
   "metadata": {
    "colab": {},
    "colab_type": "code",
    "id": "Y2XQbY1Feq__"
   },
   "outputs": [],
   "source": [
    "num_list = [1,2,3,4,5]"
   ]
  },
  {
   "cell_type": "markdown",
   "metadata": {
    "colab_type": "text",
    "id": "cDUea5oAerAA"
   },
   "source": [
    "#### Example 3.1.1\n",
    "\n",
    "Let's say I want to name a list of students & add to the object called python class"
   ]
  },
  {
   "cell_type": "code",
   "execution_count": 0,
   "metadata": {
    "colab": {},
    "colab_type": "code",
    "id": "g-6sGPqMerAB",
    "outputId": "16a48cbb-9e7a-45b7-8515-e97bda6febc6"
   },
   "outputs": [
    {
     "name": "stdout",
     "output_type": "stream",
     "text": [
      "['Tommy', 'Sonia', 'Maria', 'Jeremie']\n"
     ]
    }
   ],
   "source": [
    "python_class = ['Tommy', \"Sonia\", \"Maria\", \"Jeremie\"]\n",
    "print(python_class)"
   ]
  },
  {
   "cell_type": "markdown",
   "metadata": {
    "colab_type": "text",
    "id": "oMbs1uKLerAC"
   },
   "source": [
    "#### Exercise 3.1.1\n",
    "1) Let's say I want to name a list of instructors & add to the object called python_class_instructors\n",
    "\n",
    "we have Patrick, Rein & Anushree"
   ]
  },
  {
   "cell_type": "code",
   "execution_count": 2,
   "metadata": {
    "colab": {},
    "colab_type": "code",
    "id": "zKwebnOzerAD"
   },
   "outputs": [
    {
     "name": "stdout",
     "output_type": "stream",
     "text": [
      "['Patrick', 'Rein', 'Jeremie']\n"
     ]
    }
   ],
   "source": [
    "#fill in the gap\n",
    "python_class_instructors = [\"Patrick\", \"Rein\", \"Jeremie\"]\n",
    "print(python_class_instructors)"
   ]
  },
  {
   "cell_type": "markdown",
   "metadata": {
    "colab_type": "text",
    "id": "YJG-i3iGerAE"
   },
   "source": [
    "### 3.1.2 Python list & index\n",
    "\n",
    "Python list can be selected by index (it begins in zero!)"
   ]
  },
  {
   "cell_type": "code",
   "execution_count": 4,
   "metadata": {
    "colab": {},
    "colab_type": "code",
    "id": "qlfyx_I_erAF",
    "outputId": "129799bb-d6d7-4692-de2a-d984db8dd959",
    "scrolled": true
   },
   "outputs": [
    {
     "name": "stdout",
     "output_type": "stream",
     "text": [
      "1\n",
      "2\n",
      "5\n"
     ]
    }
   ],
   "source": [
    "num_list = [1,2,3,4,5]\n",
    "print(num_list[0]) # use square bracket to indicate anything \"index\". index begins at 0 - \n",
    "# and this expression is trying to get the first item from the list!\n",
    "\n",
    "#This to select the second item\n",
    "print(num_list[1])\n",
    "\n",
    "#This to select the last item\n",
    "print(num_list[-1])"
   ]
  },
  {
   "cell_type": "markdown",
   "metadata": {
    "colab_type": "text",
    "id": "5IkyH35verAG"
   },
   "source": [
    "In python, you can select more than one index by making use \":\""
   ]
  },
  {
   "cell_type": "code",
   "execution_count": 5,
   "metadata": {
    "colab": {},
    "colab_type": "code",
    "id": "KZDxS_45erAH"
   },
   "outputs": [
    {
     "name": "stdout",
     "output_type": "stream",
     "text": [
      "[1, 2, 3, 4, 5]\n",
      "[4, 5]\n",
      "[1, 2, 3]\n"
     ]
    }
   ],
   "source": [
    "#And this is how to selet more than one list\n",
    "print(num_list[0:5])\n",
    "print(num_list[3:])\n",
    "print(num_list[:3])"
   ]
  },
  {
   "cell_type": "markdown",
   "metadata": {
    "colab_type": "text",
    "id": "-SXuNJi_erAK"
   },
   "source": [
    "#### Example 3.1.2\n",
    "\n",
    "1) Let's say I want to find the first student from my class\n",
    "\n",
    "2) Let's say I want to find the first 3 students from my class\n",
    "\n",
    "3) Let's say I want to find the last 2 students from my class\n"
   ]
  },
  {
   "cell_type": "code",
   "execution_count": 6,
   "metadata": {
    "colab": {},
    "colab_type": "code",
    "id": "w5OXsMq9erAK",
    "outputId": "1e31baf8-2ca0-4a00-84fe-87836e141e1e"
   },
   "outputs": [
    {
     "name": "stdout",
     "output_type": "stream",
     "text": [
      "Tommy\n",
      "['Tommy', 'Sonia', 'Maria']\n",
      "['Maria', 'Jeremie']\n"
     ]
    }
   ],
   "source": [
    "python_class = ['Tommy', \"Sonia\", \"Maria\", \"Jeremie\"]\n",
    "#First student\n",
    "print(python_class[0]) # It begins in 0!\n",
    "\n",
    "#First three student\n",
    "print(python_class[0:3])\n",
    "\n",
    "#Last 2 students\n",
    "print(python_class[-2:])"
   ]
  },
  {
   "cell_type": "markdown",
   "metadata": {
    "colab_type": "text",
    "id": "yfNa9tXGerAN"
   },
   "source": [
    "#### Exercise 3.1.2\n",
    "\n",
    "1) Let's say I want to find the 5th sea_creatures from my list\n",
    "\n",
    "2) Let's say I want to find the first 3 sea_creatures from my list\n",
    "\n",
    "3) Let's say I want to find the 2-4th seacreatures from my list"
   ]
  },
  {
   "cell_type": "code",
   "execution_count": 8,
   "metadata": {
    "colab": {},
    "colab_type": "code",
    "id": "r9h8wRG_erAN"
   },
   "outputs": [
    {
     "name": "stdout",
     "output_type": "stream",
     "text": [
      "anemone\n",
      "['shark', 'cuttlefish', 'squid']\n",
      "['cuttlefish', 'squid']\n"
     ]
    }
   ],
   "source": [
    "sea_creatures = ['shark', 'cuttlefish', 'squid', 'mantis shrimp', 'anemone']\n",
    "#your code here\n",
    "\n",
    "print(sea_creatures[4]) # 5th element\n",
    "print(sea_creatures[0:3]) # first 3 elements\n",
    "print(sea_creatures[1:3]) # 2 to 4th element\n"
   ]
  },
  {
   "cell_type": "markdown",
   "metadata": {
    "colab_type": "text",
    "id": "pKR76FPverAP"
   },
   "source": [
    "### 3.1.3 How to find the length of the list?\n",
    " Length of python list can be obtained by len()"
   ]
  },
  {
   "cell_type": "code",
   "execution_count": 0,
   "metadata": {
    "colab": {},
    "colab_type": "code",
    "id": "CE4IuFc4erAQ",
    "outputId": "552f1dc2-df72-4a57-e888-51911bd64c48"
   },
   "outputs": [
    {
     "data": {
      "text/plain": [
       "5"
      ]
     },
     "execution_count": 19,
     "metadata": {
      "tags": []
     },
     "output_type": "execute_result"
    }
   ],
   "source": [
    "num_list = [1,2,3,4,5]\n",
    "len(num_list)"
   ]
  },
  {
   "cell_type": "markdown",
   "metadata": {
    "colab_type": "text",
    "id": "J-4Z9g5lerAU"
   },
   "source": [
    "#### Exercise  3.1.3\n",
    "Try to find the number of sea_creatures in the list\n",
    "\n"
   ]
  },
  {
   "cell_type": "code",
   "execution_count": 0,
   "metadata": {
    "colab": {},
    "colab_type": "code",
    "id": "TU2uIu63erAV",
    "outputId": "caf57c03-fdb2-4893-ccaf-1944e5b78a50"
   },
   "outputs": [
    {
     "data": {
      "text/plain": [
       "5"
      ]
     },
     "execution_count": 21,
     "metadata": {
      "tags": []
     },
     "output_type": "execute_result"
    }
   ],
   "source": [
    "sea_creatures = ['shark', 'cuttlefish', 'squid', 'mantis shrimp', 'anemone']\n",
    "len(sea_creatures)"
   ]
  },
  {
   "cell_type": "markdown",
   "metadata": {
    "colab_type": "text",
    "id": "d4y1BBG4erAX"
   },
   "source": [
    "### 3.1.4 Manipulating the list\n",
    "\n"
   ]
  },
  {
   "cell_type": "markdown",
   "metadata": {
    "colab_type": "text",
    "id": "stmCtMCferAb"
   },
   "source": [
    "#### Example 3.1.4\n",
    "\n",
    "Item can be removed by remove()"
   ]
  },
  {
   "cell_type": "code",
   "execution_count": 0,
   "metadata": {
    "colab": {},
    "colab_type": "code",
    "id": "6h01c9-nerAc",
    "outputId": "f53c2c52-a0e7-433e-d99d-fd42c02ad4ad",
    "scrolled": true
   },
   "outputs": [
    {
     "name": "stdout",
     "output_type": "stream",
     "text": [
      "[2, 3, 4, 5]\n"
     ]
    }
   ],
   "source": [
    "num_list = [1,2,3,4,5]\n",
    "num_list.remove(1)\n",
    "print(num_list)"
   ]
  },
  {
   "cell_type": "markdown",
   "metadata": {
    "colab_type": "text",
    "id": "bSjxflN7erAf"
   },
   "source": [
    "item can be added by append()"
   ]
  },
  {
   "cell_type": "code",
   "execution_count": 0,
   "metadata": {
    "colab": {},
    "colab_type": "code",
    "id": "EqIN4xfTerAf",
    "outputId": "8c116a1f-9868-4260-e004-86383e52dc73"
   },
   "outputs": [
    {
     "name": "stdout",
     "output_type": "stream",
     "text": [
      "[2, 3, 4, 5, 1]\n"
     ]
    }
   ],
   "source": [
    "num_list.append(1)\n",
    "print(num_list)"
   ]
  },
  {
   "cell_type": "code",
   "execution_count": 0,
   "metadata": {
    "colab": {},
    "colab_type": "code",
    "id": "pUiDnU02erAh",
    "outputId": "7350204a-760b-4b9c-9623-93085f0e1057"
   },
   "outputs": [
    {
     "name": "stdout",
     "output_type": "stream",
     "text": [
      "[1, 2.0, 'three']\n"
     ]
    }
   ],
   "source": [
    "#use append\n",
    "\n",
    "empty_list = []\n",
    "empty_list.append(1)\n",
    "empty_list.append(2.0)\n",
    "empty_list.append('three')\n",
    "print(empty_list)"
   ]
  },
  {
   "cell_type": "code",
   "execution_count": 0,
   "metadata": {
    "colab": {
     "base_uri": "https://localhost:8080/",
     "height": 34
    },
    "colab_type": "code",
    "id": "1ikzrl97zU-T",
    "outputId": "4570ba9e-ffb9-4e91-ca42-16d9f22dec58"
   },
   "outputs": [
    {
     "name": "stdout",
     "output_type": "stream",
     "text": [
      "[-20, 1, 2, 3, 100]\n"
     ]
    }
   ],
   "source": [
    "# To sort the list, use .sort()\n",
    "\n",
    "num = [100,-20,1,2,3,1]\n",
    "num.sort()\n",
    "print(num)"
   ]
  },
  {
   "cell_type": "code",
   "execution_count": 0,
   "metadata": {
    "colab": {
     "base_uri": "https://localhost:8080/",
     "height": 34
    },
    "colab_type": "code",
    "id": "795M3dF_zVMo",
    "outputId": "a52e832a-37ef-4b0f-8bf6-0dcf39b330f7"
   },
   "outputs": [
    {
     "name": "stdout",
     "output_type": "stream",
     "text": [
      "100\n"
     ]
    }
   ],
   "source": [
    "# To find the max, use .max()\n",
    "\n",
    "num = [100,-20,1,2,3,1]\n",
    "print(max(num))"
   ]
  },
  {
   "cell_type": "code",
   "execution_count": 0,
   "metadata": {
    "colab": {
     "base_uri": "https://localhost:8080/",
     "height": 34
    },
    "colab_type": "code",
    "id": "95HAl6nJzVXA",
    "outputId": "1b5fd917-f09a-4a9f-c745-af5e0fa34b52"
   },
   "outputs": [
    {
     "data": {
      "text/plain": [
       "2"
      ]
     },
     "execution_count": 24,
     "metadata": {
      "tags": []
     },
     "output_type": "execute_result"
    }
   ],
   "source": [
    "# To count a certain item, use count\n",
    "num = [100,-20,1,2,3,1]\n",
    "num.count(1)"
   ]
  },
  {
   "cell_type": "markdown",
   "metadata": {
    "colab_type": "text",
    "id": "xziBqfoOerAi"
   },
   "source": [
    "To combine 2 lists, you can simple use \"+\""
   ]
  },
  {
   "cell_type": "code",
   "execution_count": 0,
   "metadata": {
    "colab": {},
    "colab_type": "code",
    "id": "-mqMTQszerAj",
    "outputId": "de6c7aa4-155f-4537-b4f4-b5253413522d"
   },
   "outputs": [
    {
     "data": {
      "text/plain": [
       "['china', 'japan', 'india', 'france', 'germany', 'italy']"
      ]
     },
     "execution_count": 30,
     "metadata": {
      "tags": []
     },
     "output_type": "execute_result"
    }
   ],
   "source": [
    "asia = [\"china\", \"japan\", \"india\"]\n",
    "europe = [\"france\", \"germany\", \"italy\"]\n",
    "asia + europe"
   ]
  },
  {
   "cell_type": "code",
   "execution_count": 0,
   "metadata": {
    "colab": {},
    "colab_type": "code",
    "id": "7E0RQxIOerAk",
    "outputId": "39dc5d96-b086-49fd-8612-21cf65f7d1c6"
   },
   "outputs": [
    {
     "data": {
      "text/plain": [
       "['Central', 'Wanchai', 'tst', 'mong kok']"
      ]
     },
     "execution_count": 31,
     "metadata": {
      "tags": []
     },
     "output_type": "execute_result"
    }
   ],
   "source": [
    "hkisland = ['Central','Wanchai']\n",
    "kowloon = ['tst','mong kok']\n",
    "hk = hkisland+kowloon\n",
    "hk"
   ]
  },
  {
   "cell_type": "markdown",
   "metadata": {
    "colab_type": "text",
    "id": "0HgQG8YjerAn"
   },
   "source": [
    "### 3.1.5 Creating complicated list\n",
    "\n",
    "You can create a complicated list, for example a list of list"
   ]
  },
  {
   "cell_type": "code",
   "execution_count": 0,
   "metadata": {
    "colab": {
     "base_uri": "https://localhost:8080/",
     "height": 34
    },
    "colab_type": "code",
    "id": "K9UQL3JkerAn",
    "outputId": "ad914b04-89e4-4ed2-a843-2da9549fa6ea"
   },
   "outputs": [
    {
     "data": {
      "text/plain": [
       "[1, 2, [3, 4, 5]]"
      ]
     },
     "execution_count": 25,
     "metadata": {
      "tags": []
     },
     "output_type": "execute_result"
    }
   ],
   "source": [
    "a = 1\n",
    "b = 2\n",
    "c = [3,4,5]\n",
    "[a,b,c]"
   ]
  },
  {
   "cell_type": "markdown",
   "metadata": {
    "colab_type": "text",
    "collapsed": true,
    "id": "icNg_6HgerAo"
   },
   "source": [
    "### 3.1.6 Working with strings & list"
   ]
  },
  {
   "cell_type": "markdown",
   "metadata": {
    "colab_type": "text",
    "id": "Vd9ppyLIerAo"
   },
   "source": [
    "You can also split string to create a list"
   ]
  },
  {
   "cell_type": "code",
   "execution_count": 10,
   "metadata": {
    "colab": {
     "base_uri": "https://localhost:8080/",
     "height": 68
    },
    "colab_type": "code",
    "id": "__Tc1iiDerAo",
    "outputId": "d6917e48-e042-4265-93d1-fb86ae57473a"
   },
   "outputs": [
    {
     "data": {
      "text/plain": [
       "[\"The club isn't the best place to find a lover\",\n",
       " '  So the bar is where I go (mmmm)',\n",
       " '  Me and my friends at the table doing shots']"
      ]
     },
     "execution_count": 10,
     "metadata": {},
     "output_type": "execute_result"
    }
   ],
   "source": [
    "shape_of_you = \"The club isn't the best place to find a lover.  So the bar is where I go (mmmm).  Me and my friends at the table doing shots.  Drinking fast and then we talk slow (mmmm).  And you come over and start up a conversation with just me.  And trust me I'll give it a chance now (mmmm).  Take my hand, stop, put Van The Man on the jukebox.  And then we start to dance.  And now I'm singing like.  .  Girl, you know I want your love.  Your love was handmade for somebody like me.  Come on now, follow my lead.  I may be crazy, don't mind me.  Say, boy, let's not talk too much.  Grab on my waist and put that body on me.  Come on now, follow my lead.  Come, come on now, follow my lead (mmmm).  .  I'm in love with the shape of you.  We push and pull like a magnet do.  Although my heart is falling too.  I'm in love with your body.  Last night you were in my room.  And now my bedsheets smell like you.  Every day discovering something brand new.  I'm in love with your body.  .  Oh I oh I oh I oh I.  I'm in love with your body.  Oh I oh I oh I oh I.  I'm in love with your body.  Oh I oh I oh I oh I.  I'm in love with your body.  Every day discovering something brand new.  I'm in love with the shape of you.  .  One week in we let the story begin.  We're going out on our first date (mmmm).  You and me are thrifty, so go all you can eat.  Fill up your bag and I fill up a plate (mmmm).  We talk for hours and hours about the sweet and the sour.  And how your family is doing okay (mmmm).  And leave and get in a taxi, then kiss in the backseat.  Tell the driver make the radio play.  And I'm singing like.  .  Girl, you know I want your love.  Your love was handmade for somebody like me.  Come on now, follow my lead.  I may be crazy, don't mind me.  Say, boy, let's not talk too much.  Grab on my waist and put that body on me.  Come on now, follow my lead.  Come, come on now, follow my lead (mmmm).  .  I'm in love with the shape of you.  We push and pull like a magnet do.  Although my heart is falling too.  I'm in love with your body.  Last night you were in my room.  And now my bedsheets smell like you.  Every day discovering something brand new.  I'm in love with your body.  .  Oh I oh I oh I oh I.  I'm in love with your body.  Oh I oh I oh I oh I.  I'm in love with your body.  Oh I oh I oh I oh I.  I'm in love with your body.  Every day discovering something brand new.  I'm in love with the shape of you.  .  Come on, be my baby, come on.  Come on, be my baby, come on.  Come on, be my baby, come on.  Come on, be my baby, come on.  Come on, be my baby, come on.  Come on, be my baby, come on.  Come on, be my baby, come on.  Come on, be my baby, come on.  .  I'm in love with the shape of you.  We push and pull like a magnet do.  Although my heart is falling too.  I'm in love with your body.  Last night you were in my room.  And now my bedsheets smell like you.  Every day discovering something brand new.  I'm in love with your body.  .  Come on, be my baby, come on.  Come on, be my baby, come on.  I'm in love with your body.  Come on, be my baby, come on.  Come on, be my baby, come on.  I'm in love with your body.  Come on, be my baby, come on.  Come on, be my baby, come on.  I'm in love with your body.  Every day discovering something brand new.  I'm in love with the shape of you\"\n",
    "shape_of_you_list = shape_of_you.split('.')\n",
    "shape_of_you_list[:3]"
   ]
  },
  {
   "cell_type": "markdown",
   "metadata": {
    "colab_type": "text",
    "id": "_N4eIFgserAr"
   },
   "source": [
    "#### Exercise 3.1.6  - find in the song shape of you\n",
    "1. Find out the indexes of all the \"baby\" in the song\n",
    "2. Make the lyrics as a list. Then, Add the title \"SHAPE OF YOU\" at the start of the song so it become the first item of the list"
   ]
  },
  {
   "cell_type": "code",
   "execution_count": 43,
   "metadata": {
    "colab": {},
    "colab_type": "code",
    "id": "qqc48XGrerAs"
   },
   "outputs": [
    {
     "name": "stdout",
     "output_type": "stream",
     "text": [
      "indices of baby [2439, 2470, 2501, 2532, 2563, 2594, 2625, 2656, 2973, 3004, 3064, 3095, 3155, 3186]\n"
     ]
    }
   ],
   "source": [
    "# Your code here\n",
    "shape_of_you = \"The club isn't the best place to find a lover.  So the bar is where I go (mmmm).  Me and my friends at the table doing shots.  Drinking fast and then we talk slow (mmmm).  And you come over and start up a conversation with just me.  And trust me I'll give it a chance now (mmmm).  Take my hand, stop, put Van The Man on the jukebox.  And then we start to dance.  And now I'm singing like.  .  Girl, you know I want your love.  Your love was handmade for somebody like me.  Come on now, follow my lead.  I may be crazy, don't mind me.  Say, boy, let's not talk too much.  Grab on my waist and put that body on me.  Come on now, follow my lead.  Come, come on now, follow my lead (mmmm).  .  I'm in love with the shape of you.  We push and pull like a magnet do.  Although my heart is falling too.  I'm in love with your body.  Last night you were in my room.  And now my bedsheets smell like you.  Every day discovering something brand new.  I'm in love with your body.  .  Oh I oh I oh I oh I.  I'm in love with your body.  Oh I oh I oh I oh I.  I'm in love with your body.  Oh I oh I oh I oh I.  I'm in love with your body.  Every day discovering something brand new.  I'm in love with the shape of you.  .  One week in we let the story begin.  We're going out on our first date (mmmm).  You and me are thrifty, so go all you can eat.  Fill up your bag and I fill up a plate (mmmm).  We talk for hours and hours about the sweet and the sour.  And how your family is doing okay (mmmm).  And leave and get in a taxi, then kiss in the backseat.  Tell the driver make the radio play.  And I'm singing like.  .  Girl, you know I want your love.  Your love was handmade for somebody like me.  Come on now, follow my lead.  I may be crazy, don't mind me.  Say, boy, let's not talk too much.  Grab on my waist and put that body on me.  Come on now, follow my lead.  Come, come on now, follow my lead (mmmm).  .  I'm in love with the shape of you.  We push and pull like a magnet do.  Although my heart is falling too.  I'm in love with your body.  Last night you were in my room.  And now my bedsheets smell like you.  Every day discovering something brand new.  I'm in love with your body.  .  Oh I oh I oh I oh I.  I'm in love with your body.  Oh I oh I oh I oh I.  I'm in love with your body.  Oh I oh I oh I oh I.  I'm in love with your body.  Every day discovering something brand new.  I'm in love with the shape of you.  .  Come on, be my baby, come on.  Come on, be my baby, come on.  Come on, be my baby, come on.  Come on, be my baby, come on.  Come on, be my baby, come on.  Come on, be my baby, come on.  Come on, be my baby, come on.  Come on, be my baby, come on.  .  I'm in love with the shape of you.  We push and pull like a magnet do.  Although my heart is falling too.  I'm in love with your body.  Last night you were in my room.  And now my bedsheets smell like you.  Every day discovering something brand new.  I'm in love with your body.  .  Come on, be my baby, come on.  Come on, be my baby, come on.  I'm in love with your body.  Come on, be my baby, come on.  Come on, be my baby, come on.  I'm in love with your body.  Come on, be my baby, come on.  Come on, be my baby, come on.  I'm in love with your body.  Every day discovering something brand new.  I'm in love with the shape of you\"\n",
    "\n",
    "# baby = shape_of_you.split()\n",
    "# indices = [i for i in range(len(baby)) if baby[i] == \"baby\"]\n",
    "# print(indices)\n",
    "# baby = shape_of_you.replace(',.', \"\")\n",
    "\n",
    "indices = [i for i in range(len(shape_of_you)) if shape_of_you.startswith(\"baby\", i)]\n",
    "\n",
    "print(\"indices of baby\", indices)"
   ]
  },
  {
   "cell_type": "code",
   "execution_count": 47,
   "metadata": {},
   "outputs": [
    {
     "name": "stdout",
     "output_type": "stream",
     "text": [
      "['SHAPE OF YOU', 'The', 'club', \"isn't\", 'the', 'best', 'place', 'to', 'find', 'a', 'lover.', 'So', 'the', 'bar', 'is', 'where', 'I', 'go', '(mmmm).', 'Me', 'and', 'my', 'friends', 'at', 'the', 'table', 'doing', 'shots.', 'Drinking', 'fast', 'and', 'then', 'we', 'talk', 'slow', '(mmmm).', 'And', 'you', 'come', 'over', 'and', 'start', 'up', 'a', 'conversation', 'with', 'just', 'me.', 'And', 'trust', 'me', \"I'll\", 'give', 'it', 'a', 'chance', 'now', '(mmmm).', 'Take', 'my', 'hand,', 'stop,', 'put', 'Van', 'The', 'Man', 'on', 'the', 'jukebox.', 'And', 'then', 'we', 'start', 'to', 'dance.', 'And', 'now', \"I'm\", 'singing', 'like.', '.', 'Girl,', 'you', 'know', 'I', 'want', 'your', 'love.', 'Your', 'love', 'was', 'handmade', 'for', 'somebody', 'like', 'me.', 'Come', 'on', 'now,', 'follow', 'my', 'lead.', 'I', 'may', 'be', 'crazy,', \"don't\", 'mind', 'me.', 'Say,', 'boy,', \"let's\", 'not', 'talk', 'too', 'much.', 'Grab', 'on', 'my', 'waist', 'and', 'put', 'that', 'body', 'on', 'me.', 'Come', 'on', 'now,', 'follow', 'my', 'lead.', 'Come,', 'come', 'on', 'now,', 'follow', 'my', 'lead', '(mmmm).', '.', \"I'm\", 'in', 'love', 'with', 'the', 'shape', 'of', 'you.', 'We', 'push', 'and', 'pull', 'like', 'a', 'magnet', 'do.', 'Although', 'my', 'heart', 'is', 'falling', 'too.', \"I'm\", 'in', 'love', 'with', 'your', 'body.', 'Last', 'night', 'you', 'were', 'in', 'my', 'room.', 'And', 'now', 'my', 'bedsheets', 'smell', 'like', 'you.', 'Every', 'day', 'discovering', 'something', 'brand', 'new.', \"I'm\", 'in', 'love', 'with', 'your', 'body.', '.', 'Oh', 'I', 'oh', 'I', 'oh', 'I', 'oh', 'I.', \"I'm\", 'in', 'love', 'with', 'your', 'body.', 'Oh', 'I', 'oh', 'I', 'oh', 'I', 'oh', 'I.', \"I'm\", 'in', 'love', 'with', 'your', 'body.', 'Oh', 'I', 'oh', 'I', 'oh', 'I', 'oh', 'I.', \"I'm\", 'in', 'love', 'with', 'your', 'body.', 'Every', 'day', 'discovering', 'something', 'brand', 'new.', \"I'm\", 'in', 'love', 'with', 'the', 'shape', 'of', 'you.', '.', 'One', 'week', 'in', 'we', 'let', 'the', 'story', 'begin.', \"We're\", 'going', 'out', 'on', 'our', 'first', 'date', '(mmmm).', 'You', 'and', 'me', 'are', 'thrifty,', 'so', 'go', 'all', 'you', 'can', 'eat.', 'Fill', 'up', 'your', 'bag', 'and', 'I', 'fill', 'up', 'a', 'plate', '(mmmm).', 'We', 'talk', 'for', 'hours', 'and', 'hours', 'about', 'the', 'sweet', 'and', 'the', 'sour.', 'And', 'how', 'your', 'family', 'is', 'doing', 'okay', '(mmmm).', 'And', 'leave', 'and', 'get', 'in', 'a', 'taxi,', 'then', 'kiss', 'in', 'the', 'backseat.', 'Tell', 'the', 'driver', 'make', 'the', 'radio', 'play.', 'And', \"I'm\", 'singing', 'like.', '.', 'Girl,', 'you', 'know', 'I', 'want', 'your', 'love.', 'Your', 'love', 'was', 'handmade', 'for', 'somebody', 'like', 'me.', 'Come', 'on', 'now,', 'follow', 'my', 'lead.', 'I', 'may', 'be', 'crazy,', \"don't\", 'mind', 'me.', 'Say,', 'boy,', \"let's\", 'not', 'talk', 'too', 'much.', 'Grab', 'on', 'my', 'waist', 'and', 'put', 'that', 'body', 'on', 'me.', 'Come', 'on', 'now,', 'follow', 'my', 'lead.', 'Come,', 'come', 'on', 'now,', 'follow', 'my', 'lead', '(mmmm).', '.', \"I'm\", 'in', 'love', 'with', 'the', 'shape', 'of', 'you.', 'We', 'push', 'and', 'pull', 'like', 'a', 'magnet', 'do.', 'Although', 'my', 'heart', 'is', 'falling', 'too.', \"I'm\", 'in', 'love', 'with', 'your', 'body.', 'Last', 'night', 'you', 'were', 'in', 'my', 'room.', 'And', 'now', 'my', 'bedsheets', 'smell', 'like', 'you.', 'Every', 'day', 'discovering', 'something', 'brand', 'new.', \"I'm\", 'in', 'love', 'with', 'your', 'body.', '.', 'Oh', 'I', 'oh', 'I', 'oh', 'I', 'oh', 'I.', \"I'm\", 'in', 'love', 'with', 'your', 'body.', 'Oh', 'I', 'oh', 'I', 'oh', 'I', 'oh', 'I.', \"I'm\", 'in', 'love', 'with', 'your', 'body.', 'Oh', 'I', 'oh', 'I', 'oh', 'I', 'oh', 'I.', \"I'm\", 'in', 'love', 'with', 'your', 'body.', 'Every', 'day', 'discovering', 'something', 'brand', 'new.', \"I'm\", 'in', 'love', 'with', 'the', 'shape', 'of', 'you.', '.', 'Come', 'on,', 'be', 'my', 'baby,', 'come', 'on.', 'Come', 'on,', 'be', 'my', 'baby,', 'come', 'on.', 'Come', 'on,', 'be', 'my', 'baby,', 'come', 'on.', 'Come', 'on,', 'be', 'my', 'baby,', 'come', 'on.', 'Come', 'on,', 'be', 'my', 'baby,', 'come', 'on.', 'Come', 'on,', 'be', 'my', 'baby,', 'come', 'on.', 'Come', 'on,', 'be', 'my', 'baby,', 'come', 'on.', 'Come', 'on,', 'be', 'my', 'baby,', 'come', 'on.', '.', \"I'm\", 'in', 'love', 'with', 'the', 'shape', 'of', 'you.', 'We', 'push', 'and', 'pull', 'like', 'a', 'magnet', 'do.', 'Although', 'my', 'heart', 'is', 'falling', 'too.', \"I'm\", 'in', 'love', 'with', 'your', 'body.', 'Last', 'night', 'you', 'were', 'in', 'my', 'room.', 'And', 'now', 'my', 'bedsheets', 'smell', 'like', 'you.', 'Every', 'day', 'discovering', 'something', 'brand', 'new.', \"I'm\", 'in', 'love', 'with', 'your', 'body.', '.', 'Come', 'on,', 'be', 'my', 'baby,', 'come', 'on.', 'Come', 'on,', 'be', 'my', 'baby,', 'come', 'on.', \"I'm\", 'in', 'love', 'with', 'your', 'body.', 'Come', 'on,', 'be', 'my', 'baby,', 'come', 'on.', 'Come', 'on,', 'be', 'my', 'baby,', 'come', 'on.', \"I'm\", 'in', 'love', 'with', 'your', 'body.', 'Come', 'on,', 'be', 'my', 'baby,', 'come', 'on.', 'Come', 'on,', 'be', 'my', 'baby,', 'come', 'on.', \"I'm\", 'in', 'love', 'with', 'your', 'body.', 'Every', 'day', 'discovering', 'something', 'brand', 'new.', \"I'm\", 'in', 'love', 'with', 'the', 'shape', 'of', 'you']\n"
     ]
    }
   ],
   "source": [
    "title = \"SHAPE OF YOU\"\n",
    "\n",
    "list_of_words = shape_of_you.split()\n",
    "list_of_words.insert(0, title)\n",
    "print(list_of_words)"
   ]
  },
  {
   "cell_type": "markdown",
   "metadata": {
    "colab_type": "text",
    "id": "FvJZ8saNerAu"
   },
   "source": [
    "## 3.2.0 Dictionary"
   ]
  },
  {
   "cell_type": "markdown",
   "metadata": {
    "colab_type": "text",
    "id": "xr2W7Oc7BA2L"
   },
   "source": [
    "<img src=\"https://developers.google.com/edu/python/images/dict.png\n",
    "\"/>\n",
    "\n",
    "Dictionary is another type of python data structure, which use a \"key\" to pair with the \"value\""
   ]
  },
  {
   "cell_type": "markdown",
   "metadata": {
    "colab_type": "text",
    "id": "GSLYJ8LHB0zV"
   },
   "source": [
    "### 3.2.1 Dictionary Syntax\n",
    "\n",
    "Dictionary is so called to \"key value pair\". You can directly extract the value based on the key"
   ]
  },
  {
   "cell_type": "markdown",
   "metadata": {
    "colab_type": "text",
    "id": "WoR86-_BxApW"
   },
   "source": [
    "#### Example 3.2.1"
   ]
  },
  {
   "cell_type": "code",
   "execution_count": 0,
   "metadata": {
    "colab": {},
    "colab_type": "code",
    "id": "Et6nH7D9erAu"
   },
   "outputs": [],
   "source": [
    "#Let's make a dictionary:\n",
    "mygeobook = {\"Country\":\"USA\",\"Capital\":\"Washington,Dc\",\"President\":\"Barack Obama\",\"Region\":\"China\"}"
   ]
  },
  {
   "cell_type": "markdown",
   "metadata": {
    "colab_type": "text",
    "id": "-tgmdROIwaGQ"
   },
   "source": [
    "You can query value by the key. It works by using square bracket with the key. "
   ]
  },
  {
   "cell_type": "code",
   "execution_count": 0,
   "metadata": {
    "colab": {
     "base_uri": "https://localhost:8080/",
     "height": 34
    },
    "colab_type": "code",
    "id": "FZxppdrTwWuJ",
    "outputId": "46686c80-827b-4e78-9644-7484bde760d1"
   },
   "outputs": [
    {
     "data": {
      "text/plain": [
       "'USA'"
      ]
     },
     "execution_count": 10,
     "metadata": {
      "tags": []
     },
     "output_type": "execute_result"
    }
   ],
   "source": [
    "mygeobook['Country']"
   ]
  },
  {
   "cell_type": "code",
   "execution_count": 0,
   "metadata": {
    "colab": {
     "base_uri": "https://localhost:8080/",
     "height": 34
    },
    "colab_type": "code",
    "id": "9VRZ9Q0iwiLy",
    "outputId": "37f3fa00-0f3d-431d-b87e-9bb4dd4df1c0"
   },
   "outputs": [
    {
     "data": {
      "text/plain": [
       "'Washington,Dc'"
      ]
     },
     "execution_count": 11,
     "metadata": {
      "tags": []
     },
     "output_type": "execute_result"
    }
   ],
   "source": [
    "mygeobook['Capital']"
   ]
  },
  {
   "cell_type": "markdown",
   "metadata": {
    "colab_type": "text",
    "id": "Rl1w1Bf9w1IB"
   },
   "source": [
    "You can change the value of a field by reassigning the value"
   ]
  },
  {
   "cell_type": "code",
   "execution_count": 0,
   "metadata": {
    "colab": {},
    "colab_type": "code",
    "id": "fO7DI76rwlTa"
   },
   "outputs": [],
   "source": [
    "mygeobook['Region'] = \"North America\""
   ]
  },
  {
   "cell_type": "code",
   "execution_count": 0,
   "metadata": {
    "colab": {
     "base_uri": "https://localhost:8080/",
     "height": 85
    },
    "colab_type": "code",
    "id": "K5Y_98IEw7NZ",
    "outputId": "bd724951-d8b7-4d86-cd89-d2678fc15f87"
   },
   "outputs": [
    {
     "data": {
      "text/plain": [
       "{'Capital': 'Washington,Dc',\n",
       " 'Country': 'USA',\n",
       " 'President': 'Barack Obama',\n",
       " 'Region': 'North America'}"
      ]
     },
     "execution_count": 13,
     "metadata": {
      "tags": []
     },
     "output_type": "execute_result"
    }
   ],
   "source": [
    "mygeobook # Region became North America"
   ]
  },
  {
   "cell_type": "markdown",
   "metadata": {
    "colab_type": "text",
    "id": "P-7oA-BZxRe2"
   },
   "source": [
    "Dictionary can also store a list of values. Let's say we want to store the cities in US, and there are more than one city."
   ]
  },
  {
   "cell_type": "code",
   "execution_count": 0,
   "metadata": {
    "colab": {
     "base_uri": "https://localhost:8080/",
     "height": 102
    },
    "colab_type": "code",
    "id": "Ij37fvF_xOCJ",
    "outputId": "d5af5bfc-82af-441a-b90b-ca1050dbc0d4"
   },
   "outputs": [
    {
     "data": {
      "text/plain": [
       "{'Capital': 'Washington,Dc',\n",
       " 'City': ['new york', 'san fransisco', 'chicago'],\n",
       " 'Country': 'USA',\n",
       " 'President': 'Barack Obama',\n",
       " 'Region': 'North America'}"
      ]
     },
     "execution_count": 14,
     "metadata": {
      "tags": []
     },
     "output_type": "execute_result"
    }
   ],
   "source": [
    "mygeobook['City'] = ['new york', 'san fransisco', 'chicago']\n",
    "mygeobook"
   ]
  },
  {
   "cell_type": "markdown",
   "metadata": {
    "colab_type": "text",
    "id": "UbvdbKNEwHRP"
   },
   "source": [
    "#### Exercise 3.2.1\n",
    "\n",
    "\n",
    "\n"
   ]
  },
  {
   "cell_type": "markdown",
   "metadata": {
    "colab_type": "text",
    "id": "I_7Zh6uaxGdg"
   },
   "source": [
    "1) Let's make a dictionary called \"school\", \n",
    "\n",
    "and stores these info:\n",
    "\n",
    "- class =  Python course\n",
    "- students = Jeremie , Tommy, \n",
    "- instructors = Patrick, Anushree, Rein\n",
    "\n",
    "2) Let's say Patrick got fired and he is no longer an instructor. How can I remove Patrick?"
   ]
  },
  {
   "cell_type": "code",
   "execution_count": 49,
   "metadata": {
    "colab": {},
    "colab_type": "code",
    "id": "3-RylKGpxDpK"
   },
   "outputs": [
    {
     "name": "stdout",
     "output_type": "stream",
     "text": [
      "{'class': 'Python course', 'students': ['Jeremie', 'Tommy'], 'instructors': ['Anushree', 'Rein']}\n"
     ]
    }
   ],
   "source": [
    "#Your code here\n",
    "school = { \"class\": \"Python course\", \"students\": [\"Jeremie\", \"Tommy\"], \"instructors\": [\"Patrick\", \"Anushree\", \"Rein\"]}\n",
    "\n",
    "school[\"instructors\"].remove(\"Patrick\")\n",
    "\n",
    "print(school)"
   ]
  },
  {
   "cell_type": "markdown",
   "metadata": {
    "colab_type": "text",
    "id": "UVdR4llaVVRK"
   },
   "source": [
    "## Challenge 3.3.0\n",
    "\n",
    "a) Try to write a program that generates an eight digit password, which consist of letters a - z\n",
    "\n",
    "b) To make it more challenging, try write a program that generates an 8 digit password with lower case, upper case, numer and special character\n",
    "\n",
    "hints: import random"
   ]
  },
  {
   "cell_type": "code",
   "execution_count": 81,
   "metadata": {},
   "outputs": [
    {
     "name": "stdout",
     "output_type": "stream",
     "text": [
      "eight digit password:  lfdnailp\n"
     ]
    }
   ],
   "source": [
    "import random\n",
    "import string\n",
    "\n",
    "# print(len(string.ascii_lowercase))\n",
    "# print(random.randint(0, 27))\n",
    "\n",
    "eight_digit_password = \"\"\n",
    "for i in range(0,8):\n",
    "    eight_digit_password += string.ascii_lowercase[random.randint(0,25)]\n",
    "    \n",
    "print(\"eight digit password:\", eight_digit_password)"
   ]
  },
  {
   "cell_type": "code",
   "execution_count": 87,
   "metadata": {},
   "outputs": [
    {
     "name": "stdout",
     "output_type": "stream",
     "text": [
      "T;}B.L$e\n"
     ]
    }
   ],
   "source": [
    "import random\n",
    "import string\n",
    "\n",
    "hard_password = \"\"\n",
    "\n",
    "all_characters = bastring.ascii_lowercase + string.ascii_uppercase + string.digits + string.punctuation\n",
    "\n",
    "# print(all_characters)\n",
    "\n",
    "for i in range(0,8):\n",
    "    hard_password += random.choice(all_characters)\n",
    "    \n",
    "print(hard_password)"
   ]
  },
  {
   "cell_type": "markdown",
   "metadata": {
    "colab_type": "text",
    "id": "oh0Xv8FnerAw"
   },
   "source": [
    "## Test 3.0.0\n",
    "\n",
    "https://goo.gl/forms/KkEyuIcNZTZifQGT2"
   ]
  },
  {
   "cell_type": "markdown",
   "metadata": {
    "colab_type": "text",
    "id": "7BhBZ3JTerAx"
   },
   "source": [
    "# 4.0.0 Python operations\n"
   ]
  },
  {
   "cell_type": "markdown",
   "metadata": {
    "colab_type": "text",
    "id": "Vv6p_bRVop-n"
   },
   "source": [
    "## 4.1.0 if statements  \n",
    "\n",
    "Where Indentation matters!!"
   ]
  },
  {
   "cell_type": "markdown",
   "metadata": {
    "colab_type": "text",
    "id": "B4g1sXlverAx"
   },
   "source": [
    "![Image of Yaktocat](https://storage.googleapis.com/bwdb/acceleratehk_DSML/class_1/ds19.PNG)"
   ]
  },
  {
   "cell_type": "markdown",
   "metadata": {
    "colab_type": "text",
    "id": "CXGWv9pMerAx"
   },
   "source": [
    "![Image of Yaktocat](https://storage.googleapis.com/bwdb/acceleratehk_DSML/class_1/ds18.PNG)"
   ]
  },
  {
   "cell_type": "markdown",
   "metadata": {
    "colab_type": "text",
    "id": "Sd14qPbLerAy"
   },
   "source": [
    "This works a bit like the function in excel"
   ]
  },
  {
   "cell_type": "markdown",
   "metadata": {
    "colab_type": "raw",
    "id": "HR49ZnF4erAz"
   },
   "source": [
    "the indentation is used to identfy code blocks.\n",
    "if condition_1 :\n",
    "    do something \n",
    "elif condition_2 :\n",
    "    do something else\n",
    "else :\n",
    "    do something else"
   ]
  },
  {
   "cell_type": "markdown",
   "metadata": {
    "colab_type": "text",
    "id": "tVhMYLWkerA0"
   },
   "source": [
    "#### Example 4.1.1 "
   ]
  },
  {
   "cell_type": "code",
   "execution_count": 0,
   "metadata": {
    "colab": {
     "base_uri": "https://localhost:8080/",
     "height": 34
    },
    "colab_type": "code",
    "id": "Eu5RkuKkerA0",
    "outputId": "039399e6-6e7b-4f59-9222-368bbe298586"
   },
   "outputs": [
    {
     "name": "stdout",
     "output_type": "stream",
     "text": [
      "buy Samsung!\n"
     ]
    }
   ],
   "source": [
    "iphone = 9000\n",
    "samsung = 5000\n",
    "if(iphone>samsung):\n",
    "    print('buy Samsung!')\n",
    "else:\n",
    "    print('buy iphone!')"
   ]
  },
  {
   "cell_type": "markdown",
   "metadata": {
    "colab_type": "text",
    "id": "tFfwrgus0t43"
   },
   "source": [
    "Write a code to check if you are taller than Cristiano Ronaldo"
   ]
  },
  {
   "cell_type": "code",
   "execution_count": 0,
   "metadata": {
    "colab": {
     "base_uri": "https://localhost:8080/",
     "height": 34
    },
    "colab_type": "code",
    "id": "tOOTdrmY0tYs",
    "outputId": "a9d4646e-6596-466b-d450-72a843570aee"
   },
   "outputs": [
    {
     "name": "stdout",
     "output_type": "stream",
     "text": [
      "ronaldo is taller\n"
     ]
    }
   ],
   "source": [
    "my_height = 170\n",
    "Ronaldo_height = 186\n",
    "if Ronaldo_height>my_height:\n",
    "  print('ronaldo is taller')\n",
    "else:\n",
    "  print('you are taller!')\n"
   ]
  },
  {
   "cell_type": "markdown",
   "metadata": {
    "colab_type": "text",
    "id": "IWWDbgIr1BFY"
   },
   "source": [
    "Write a code to check  if you are old enough to watch R movie"
   ]
  },
  {
   "cell_type": "code",
   "execution_count": 0,
   "metadata": {
    "colab": {
     "base_uri": "https://localhost:8080/",
     "height": 51
    },
    "colab_type": "code",
    "id": "chzR_W1zerA2",
    "outputId": "6eb9f106-c951-4ecf-d774-46c6e3a2fca6"
   },
   "outputs": [
    {
     "name": "stdout",
     "output_type": "stream",
     "text": [
      "Enter your age: 10\n",
      "can only see rated PG movies\n"
     ]
    }
   ],
   "source": [
    "age =input(\"Enter your age: \")\n",
    "\n",
    "age = int(age)\n",
    "\n",
    "if age > 17: \n",
    "  print(\"can see a rated R movie\")\n",
    "elif age < 17 and age > 12:\n",
    "  print(\"can see a rated PG-13 movie\")\n",
    "else: \n",
    "  print(\"can only see rated PG movies\")"
   ]
  },
  {
   "cell_type": "markdown",
   "metadata": {
    "colab_type": "text",
    "id": "tg__b8290WCg"
   },
   "source": [
    "#### Exercise 4.1.1\n",
    "\n",
    "1) Try to write a code that checks if you have longer name than \"Anusree\""
   ]
  },
  {
   "cell_type": "code",
   "execution_count": 0,
   "metadata": {
    "colab": {},
    "colab_type": "code",
    "id": "QdPqyScT0Ur5"
   },
   "outputs": [],
   "source": [
    "# name = \"Anusree\"\n",
    "# input"
   ]
  },
  {
   "cell_type": "markdown",
   "metadata": {
    "colab_type": "text",
    "id": "fLBZWqvMerA4"
   },
   "source": [
    "#### Challenge 4.1.1 \n",
    "\n",
    "Ask the user for a number. Depending on whether the number is even or odd, print out an appropriate message to the user. Hint: how does an even / odd number react differently when divided by 2?\n",
    "\n",
    "**hints: modulo operator**\n",
    "\n",
    "**Extras:**\n",
    "\n",
    "If the number is a multiple of 4, print out a different message.\n",
    "Ask the user for two numbers: one number to check (call it num) and one number to divide by (check). If check divides evenly into num, tell that to the user. If not, print a different appropriate message."
   ]
  },
  {
   "cell_type": "code",
   "execution_count": 0,
   "metadata": {
    "colab": {},
    "colab_type": "code",
    "id": "yxEn-DAyerA5"
   },
   "outputs": [],
   "source": [
    "#your code here\n",
    "\n",
    "num =input(\"Enter your number: \")"
   ]
  },
  {
   "cell_type": "markdown",
   "metadata": {
    "colab_type": "text",
    "id": "j9kHjlSeerA6"
   },
   "source": [
    "## 4.2.0 For loops"
   ]
  },
  {
   "cell_type": "markdown",
   "metadata": {
    "colab_type": "text",
    "id": "dRZKEuU_erA6"
   },
   "source": [
    "### 4.2.1 What is a for loops?"
   ]
  },
  {
   "cell_type": "markdown",
   "metadata": {
    "colab_type": "text",
    "id": "ke8V5wDz81rd"
   },
   "source": [
    "\n",
    "<img src=\"https://swcarpentry.github.io/python-novice-inflammation/fig/loops_image.png\n",
    "\"/>\n"
   ]
  },
  {
   "cell_type": "markdown",
   "metadata": {
    "colab_type": "text",
    "id": "HEI1iecjerA7"
   },
   "source": [
    "For loops is a way to ask your computer to repeatedly do a task - until it finished the no. of times to keep on doing the same thing ! (Kind of like a slave!)"
   ]
  },
  {
   "cell_type": "markdown",
   "metadata": {
    "colab_type": "text",
    "id": "U6fSjpnp8fY7"
   },
   "source": [
    "#### Exercise 4.2.1"
   ]
  },
  {
   "cell_type": "markdown",
   "metadata": {
    "colab_type": "text",
    "id": "s3drJFxPerA7"
   },
   "source": [
    "Try finish game 6 - 8\n",
    "\n",
    "https://studio.code.org/hoc/6"
   ]
  },
  {
   "cell_type": "markdown",
   "metadata": {
    "colab_type": "text",
    "id": "EhwLRWpZ-LHN"
   },
   "source": [
    "### 4.2.2 Syntax of for loop"
   ]
  },
  {
   "cell_type": "markdown",
   "metadata": {
    "colab_type": "text",
    "id": "fkW21CZP-RPe"
   },
   "source": [
    "\n",
    "<img src=\"https://www.oreilly.com/library/view/head-first-python/9781491919521/figs/web/027fig02.png.jpg\n",
    "\"/>\n"
   ]
  },
  {
   "cell_type": "markdown",
   "metadata": {
    "colab_type": "text",
    "id": "gl_-BHOTo2I1"
   },
   "source": [
    "for i in some_range:\n",
    "\n",
    "    do something with i"
   ]
  },
  {
   "cell_type": "code",
   "execution_count": 0,
   "metadata": {
    "colab": {},
    "colab_type": "code",
    "id": "RDayWil28Yql"
   },
   "outputs": [],
   "source": [
    "# An example of the for-loop. Iterate through the numbers 1-11. What do you think this function does?\n",
    "x = [1,2,3,4,5,6,7,8,9,10]\n",
    "\n",
    "for i in x:\n",
    "    if i % 2 == 0: \n",
    "        print (i)"
   ]
  },
  {
   "cell_type": "code",
   "execution_count": 0,
   "metadata": {
    "colab": {},
    "colab_type": "code",
    "id": "xSYtVeiberA9"
   },
   "outputs": [],
   "source": [
    "## range(i,j) retuns integers beween i and j-1 \n",
    "range(1,11)"
   ]
  },
  {
   "cell_type": "code",
   "execution_count": 0,
   "metadata": {
    "colab": {
     "base_uri": "https://localhost:8080/",
     "height": 187
    },
    "colab_type": "code",
    "id": "36gz79VberA-",
    "outputId": "0e8afe05-5f53-40e2-b62c-491ad55b1ad5"
   },
   "outputs": [
    {
     "name": "stdout",
     "output_type": "stream",
     "text": [
      "1\n",
      "3\n",
      "6\n",
      "10\n",
      "15\n",
      "21\n",
      "28\n",
      "36\n",
      "45\n",
      "55\n"
     ]
    }
   ],
   "source": [
    "## sum of first 10 integers\n",
    "\n",
    "result=0\n",
    "for i in range(1,11):\n",
    "    result = result+i\n",
    "    print(result)"
   ]
  },
  {
   "cell_type": "code",
   "execution_count": 0,
   "metadata": {
    "colab": {},
    "colab_type": "code",
    "id": "Jr1GgOb-erBA"
   },
   "outputs": [],
   "source": [
    "shopping_list=[\"bananas\", \"chocolate\", \"carrots\"]\n",
    "## lists are iterators. \n",
    "## We can automatically loop through list elements without using indexes\n",
    "for thing in shopping_list:\n",
    "    print(\"today I purchased some\" + thing)\n",
    "             "
   ]
  },
  {
   "cell_type": "markdown",
   "metadata": {
    "colab_type": "text",
    "id": "oJdISfjF11dC"
   },
   "source": []
  },
  {
   "cell_type": "code",
   "execution_count": 0,
   "metadata": {
    "colab": {},
    "colab_type": "code",
    "id": "VtwIpQOb10Zp"
   },
   "outputs": [],
   "source": []
  },
  {
   "cell_type": "markdown",
   "metadata": {
    "colab_type": "text",
    "id": "xIwG_Uj3erBB"
   },
   "source": [
    "#### Challenge 4.0.0:\n",
    "\n",
    "Using \"for loops \"  and  \"if statements \" answer the following questions :\n",
    "\n",
    "- who among us has the longest First name? and how long is it? ...... this is a very tricky exercise as it will imply that we can spell all our names correctly :) :) \n",
    "\n",
    "- and what about the shortest name?\n",
    "\n",
    "These are \"probably\" our names : \n",
    "\n",
    "Xiaoyan ,  Maitreya , Jason , Qihui , Chuck , Jeremy , Mihwa , Lina , Huijun , Raul , Warintra , Abhay \n",
    "\n",
    "\n"
   ]
  },
  {
   "cell_type": "code",
   "execution_count": 0,
   "metadata": {
    "colab": {},
    "colab_type": "code",
    "id": "1z5qaHP8erBC"
   },
   "outputs": [],
   "source": [
    "## some tips \n",
    "\n",
    "## maybe I want to define a list containing our names \n",
    "## and then go through each of the names and see how long they are , and note down the longest one(s).\n"
   ]
  },
  {
   "cell_type": "markdown",
   "metadata": {
    "colab_type": "text",
    "id": "kDH32cCRpD_m"
   },
   "source": [
    "## 4.3.0 While loop"
   ]
  },
  {
   "cell_type": "markdown",
   "metadata": {
    "colab_type": "text",
    "id": "niEsCpnUpJEr"
   },
   "source": [
    "\n",
    "#### Exercise 4.3.1\n",
    "\n",
    "Try finish game 9 - 12\n",
    "\n",
    "https://studio.code.org/hoc/9"
   ]
  },
  {
   "cell_type": "code",
   "execution_count": 0,
   "metadata": {
    "colab": {},
    "colab_type": "code",
    "id": "-9xsxf1j_AHo"
   },
   "outputs": [],
   "source": []
  },
  {
   "cell_type": "markdown",
   "metadata": {
    "colab_type": "text",
    "id": "t-pydw0g2JU3"
   },
   "source": [
    "### 4.4.0 Use of if & loops together\n",
    "\n",
    "Try finish game 14-20\n",
    "\n",
    "https://studio.code.org/hoc/14"
   ]
  },
  {
   "cell_type": "markdown",
   "metadata": {
    "colab_type": "text",
    "id": "YYtsCbJperBD"
   },
   "source": [
    "\n",
    "\n",
    "#### Challenge 4.4.1\n",
    "\n",
    "Using \"for loops \"  and  \"if statements \" answer the following questions :\n",
    "\n",
    "- who among us has the longest First name? and how long is it? ...... this is a very tricky exercise as it will imply that we can spell all our names correctly :) :) \n",
    "\n",
    "- and what about the shortest name?\n",
    "\n",
    "These are \"probably\" our names : \n",
    "\n",
    "Xiaoyan ,  Maitreya , Jason , Qihui , Chuck , Jeremy , Mihwa , Lina , Huijun , Raul , Warintra , Abhay \n",
    "\n"
   ]
  },
  {
   "cell_type": "code",
   "execution_count": 0,
   "metadata": {
    "colab": {},
    "colab_type": "code",
    "id": "fCJxZz8U2GGV"
   },
   "outputs": [],
   "source": []
  },
  {
   "cell_type": "markdown",
   "metadata": {
    "colab_type": "text",
    "id": "WQi7nMxO3xea"
   },
   "source": [
    "#### Challenge 4.4.2 \n",
    "\n",
    "Find the maximum, mean and minimum value of list of intergers without using any precoded mathematical function in Python"
   ]
  },
  {
   "cell_type": "code",
   "execution_count": 0,
   "metadata": {
    "colab": {},
    "colab_type": "code",
    "id": "ShE61O2m3wyK"
   },
   "outputs": [],
   "source": []
  },
  {
   "cell_type": "markdown",
   "metadata": {
    "colab_type": "text",
    "id": "2KmS9Gn55pXn"
   },
   "source": [
    "## Test 4.0.0\n",
    "\n",
    "https://goo.gl/forms/jAPGw50cb8zFTAYI3"
   ]
  },
  {
   "cell_type": "markdown",
   "metadata": {
    "colab_type": "text",
    "id": "oWl0Ha2RerBD"
   },
   "source": [
    "## Take home exercise\n",
    "\n",
    "1) You should try finish this at home :)\n",
    "http://www.practicepython.org/\n",
    "\n",
    "2) \n",
    "\n",
    "a) Try to write a program that generates an eight digit password, which consist of letters a - z\n",
    "b) To make it more challenging, try write a program that generates an 8 digit password with lower case, upper case, numer and special character"
   ]
  },
  {
   "cell_type": "code",
   "execution_count": 0,
   "metadata": {
    "colab": {
     "base_uri": "https://localhost:8080/",
     "height": 34
    },
    "colab_type": "code",
    "id": "6wws_s0ierBD",
    "outputId": "ede11866-59a6-4ada-92b3-8b121113c8b7"
   },
   "outputs": [
    {
     "data": {
      "text/plain": [
       "'b'"
      ]
     },
     "execution_count": 13,
     "metadata": {
      "tags": []
     },
     "output_type": "execute_result"
    }
   ],
   "source": [
    "#hints\n",
    "\n",
    "import random\n",
    "random.choice(['a','b','c','d','e'])"
   ]
  },
  {
   "cell_type": "code",
   "execution_count": 0,
   "metadata": {
    "colab": {},
    "colab_type": "code",
    "id": "N6R5ftqD6ezY"
   },
   "outputs": [],
   "source": []
  },
  {
   "cell_type": "markdown",
   "metadata": {
    "colab_type": "text",
    "id": "RaG1x3FArBL6"
   },
   "source": [
    "# 5.0.0 Python Operations Exercise\n"
   ]
  },
  {
   "cell_type": "markdown",
   "metadata": {
    "colab_type": "text",
    "id": "K3TKv8XkrBL8"
   },
   "source": [
    "## Challenge 5.1.0\n",
    "\n",
    "Find the Mean, Max, Min of a list of integer (E.g [10, -10, 100, 200, 3]), without using any built-in function"
   ]
  },
  {
   "cell_type": "code",
   "execution_count": 0,
   "metadata": {
    "colab": {},
    "colab_type": "code",
    "id": "Gx0OL_GhrBMK"
   },
   "outputs": [],
   "source": [
    "# Your code here\n",
    "\n",
    "# def min(list_of_integer):\n",
    "#     list_of_integer"
   ]
  },
  {
   "cell_type": "code",
   "execution_count": 94,
   "metadata": {},
   "outputs": [
    {
     "data": {
      "text/plain": [
       "1000"
      ]
     },
     "execution_count": 94,
     "metadata": {},
     "output_type": "execute_result"
    }
   ],
   "source": [
    "import functools\n",
    "\n",
    "def min(list_of_integer):\n",
    "    return functools.reduce(lambda a,b : a if a < b else b,list_of_integer)\n",
    "    \n",
    "def max(list_of_integer):\n",
    "    return functools.reduce(lambda a,b : a if a > b else b,list_of_integer)\n",
    "\n",
    "# max([0,100, 1000])"
   ]
  },
  {
   "cell_type": "markdown",
   "metadata": {
    "colab_type": "text",
    "id": "GOvgFxDArBMO"
   },
   "source": [
    "## Challenge 5.2.0\n",
    "\n",
    "Write a code for finding out the factorial of a number that the user inputs."
   ]
  },
  {
   "cell_type": "code",
   "execution_count": 102,
   "metadata": {
    "colab": {
     "base_uri": "https://localhost:8080/",
     "height": 34
    },
    "colab_type": "code",
    "id": "bUcAvj2TrBMc",
    "outputId": "bb272f90-317d-4223-dab0-a702ac412374"
   },
   "outputs": [
    {
     "name": "stdout",
     "output_type": "stream",
     "text": [
      "factorial: 5\n",
      "factorial of 5 = 120\n"
     ]
    }
   ],
   "source": [
    "num = input(\"factorial: \")\n",
    "\n",
    "def factorial(num):\n",
    "    if num is None:\n",
    "        raise Exception(\"num is not defined\")\n",
    "    elif type(num) != \"number\":\n",
    "        num = int(num)\n",
    "    \n",
    "    result = 1\n",
    "    while num > 1:\n",
    "        result = result * num\n",
    "        num = num - 1\n",
    "    return result\n",
    "    \n",
    "res = factorial(num)\n",
    "print(\"factorial of\", num, \"=\", res)"
   ]
  },
  {
   "cell_type": "markdown",
   "metadata": {
    "colab_type": "text",
    "id": "AsWejIFfrBMd"
   },
   "source": [
    "## Challenge 5.3.0\n",
    "\n",
    "Convert a phrase to its acronym.\n",
    "\n",
    "Techies love their TLA (Three Letter Acronyms)!\n",
    "Help generate some jargon (words) by writing a program that converts a long name like “Portable Network Graphics” to its acronym “PNG”.\n",
    "Example: “We love python” => “WLP”\n"
   ]
  },
  {
   "cell_type": "markdown",
   "metadata": {
    "colab_type": "text",
    "id": "fT7lH5xfVYSU"
   },
   "source": [
    "## Challenge 5.4.0\n",
    "\n",
    "Take two lists, say for example these two:\n",
    "\n",
    "  a = [1, 1, 2, 3, 5, 8, 13, 21, 34, 55, 89]\n",
    "  \n",
    "  b = [1, 2, 3, 4, 5, 6, 7, 8, 9, 10, 11, 12, 13]\n",
    "  \n",
    "and write a program that returns a list that contains only the elements that are common between the lists (without duplicates). Make sure your program works on two lists of different sizes."
   ]
  },
  {
   "cell_type": "code",
   "execution_count": 0,
   "metadata": {
    "colab": {},
    "colab_type": "code",
    "id": "msF7at3LnXDk"
   },
   "outputs": [],
   "source": []
  },
  {
   "cell_type": "markdown",
   "metadata": {
    "colab_type": "text",
    "id": "C3zuUZrJx_bj"
   },
   "source": [
    "## Challenge 5.4.0\n",
    "\n",
    "D.) Given a word, compute the scrabble score for that word.\n",
    "Letter Values\n",
    "You'll need these:\n",
    "\n",
    "\n",
    "\n",
    "\n",
    "- A, E, I, O, U, L, N, R, S, T = 1 points\n",
    "- D, G = 2 points\n",
    "- B, C, M, P  = 3 points\n",
    "- F, H, V, W, Y = 4 points\n",
    "- k = 5 points\n",
    "- J, X = 8 points\n",
    "- Q, Z = 10 points\n",
    "\n",
    "\n",
    "Examples\n",
    "\"cabbage\" should be scored as worth 14 points:\n",
    "\n",
    "3 points for C\n",
    "1 point for A, twice\n",
    "3 points for B, twice\n",
    "2 points for G\n",
    "1 point for E\n",
    "\n",
    "And to total:\n",
    "3 + 2*1 + 2*3 + 2 + 1\n",
    "= 3 + 2 + 6 + 3\n",
    "= 5 + 9\n",
    "= 14"
   ]
  },
  {
   "cell_type": "code",
   "execution_count": 0,
   "metadata": {
    "colab": {
     "base_uri": "https://localhost:8080/",
     "height": 51
    },
    "colab_type": "code",
    "id": "f-r0d3B9H2V1",
    "outputId": "3c06e0c8-d1f5-4ba3-cd76-d526731d6875"
   },
   "outputs": [
    {
     "name": "stdout",
     "output_type": "stream",
     "text": [
      "type your word: patrick\n",
      "15\n"
     ]
    }
   ],
   "source": [
    "letters = {'A':1,'E':1,'I':1,'O':1,'U':1,'L':1,'N':1,'R':1,'S':1,'T':1,\n",
    "          'D':2,'G':2,\n",
    "          'B':3,'C':3,'M':3,'P':3,\n",
    "          'F':4,'H':4,'V':4,'W':4,'Y':4,\n",
    "          'K':5,\n",
    "          'J':8,'X':8,\n",
    "          'Q':10,'Z':10}\n",
    "\n",
    "word_input = str(input(\"type your word: \")).upper()\n",
    "points = 0\n",
    "\n",
    "for i in word_input:\n",
    "    points = points + letters[i]\n",
    "print(points)"
   ]
  },
  {
   "cell_type": "code",
   "execution_count": 0,
   "metadata": {
    "colab": {},
    "colab_type": "code",
    "id": "NY-Trz7kF5Jd"
   },
   "outputs": [],
   "source": [
    "['a','e','i','o','u']\n",
    "['d','g']\n",
    "['b','c','m','p']\n",
    "['f','h','v','w','y']\n",
    "['k']\n",
    "['j','x']\n",
    "['q','z']"
   ]
  },
  {
   "cell_type": "markdown",
   "metadata": {
    "colab_type": "text",
    "id": "MbV7I_SGmtOf"
   },
   "source": [
    "## Challenge 5.5.0 - Goldman Sachs interview\n",
    "\n",
    "Go through a string and find the first non-duplicate letter.\n",
    "\n",
    "...and try to go through the list only once!"
   ]
  },
  {
   "cell_type": "code",
   "execution_count": 0,
   "metadata": {
    "colab": {
     "base_uri": "https://localhost:8080/",
     "height": 34
    },
    "colab_type": "code",
    "id": "DRb-LRyJEXk0",
    "outputId": "2e207797-3bef-44a5-a1bb-dc8d642f09d8"
   },
   "outputs": [
    {
     "name": "stdout",
     "output_type": "stream",
     "text": [
      "f\n"
     ]
    }
   ],
   "source": [
    "text = 'aabbccddeefgghhijj'\n",
    "\n",
    "#define a dictionary to store the data\n",
    "char = {}\n",
    "n = 0\n",
    "\n",
    "#loop through all text once to get the characters count & order of first occurance\n",
    "for i in text:\n",
    "  if i not in char.keys():\n",
    "    char[i] = [1, n]\n",
    "  else:\n",
    "    char[i] = [char[i][0]+1, char[i][1]]\n",
    "  n = n + 1\n",
    "\n",
    "#loop through the dictionary to find minimum count if occurance ==1  \n",
    "min_count = min([char[i][1] for i in char.keys() if char[i][0]==1])\n",
    "\n",
    "#finally find the relevant field in the dictionary\n",
    "for i in char.keys():\n",
    "  if char[i][0]==1 and char[i][1]==min_count:\n",
    "    print(i)"
   ]
  },
  {
   "cell_type": "code",
   "execution_count": 0,
   "metadata": {
    "colab": {
     "base_uri": "https://localhost:8080/",
     "height": 102
    },
    "colab_type": "code",
    "id": "SW3s20mCoIUx",
    "outputId": "5e208775-f43c-458e-8077-20d38de53b93"
   },
   "outputs": [
    {
     "name": "stdout",
     "output_type": "stream",
     "text": [
      "Enter a string: aabbccdde\n",
      "List of caracters to check:            aabbccdde\n",
      "The characters without duplicates are: abcde\n",
      "The repeated characters are:           abcd\n",
      "The first non-repeated characters is:  e\n"
     ]
    }
   ],
   "source": [
    "# Challenge 5.5.0 - Goldman Sachs interview\n",
    "str_input = input('Enter a string: ')\n",
    "print(\"List of caracters to check:            {}\".format(str_input))\n",
    "    \n",
    "no_duplicates =''\n",
    "repeated =''\n",
    "\n",
    "for i in str_input:\n",
    "    if i not in no_duplicates:\n",
    "        no_duplicates = no_duplicates + i\n",
    "    else:\n",
    "        repeated = repeated + i\n",
    "print(\"The characters without duplicates are: {}\".format(no_duplicates))\n",
    "print(\"The repeated characters are:           {}\".format(repeated))\n",
    "\n",
    "for i in no_duplicates:\n",
    "    if i in repeated:\n",
    "        continue\n",
    "    else:\n",
    "        print(\"The first non-repeated characters is:  {}\".format(i))\n",
    "        break"
   ]
  },
  {
   "cell_type": "code",
   "execution_count": 0,
   "metadata": {
    "colab": {
     "base_uri": "https://localhost:8080/",
     "height": 34
    },
    "colab_type": "code",
    "id": "pjpSJahftcky",
    "outputId": "8f7f8d16-49f5-426b-890f-b074f5c05963"
   },
   "outputs": [
    {
     "data": {
      "text/plain": [
       "0"
      ]
     },
     "execution_count": 15,
     "metadata": {
      "tags": []
     },
     "output_type": "execute_result"
    }
   ],
   "source": []
  },
  {
   "cell_type": "code",
   "execution_count": 0,
   "metadata": {
    "colab": {
     "base_uri": "https://localhost:8080/",
     "height": 34
    },
    "colab_type": "code",
    "id": "WMkdp1Ssn47V",
    "outputId": "4be95a82-1c2a-4959-a69c-d3477027ff13"
   },
   "outputs": [
    {
     "data": {
      "text/plain": [
       "10"
      ]
     },
     "execution_count": 18,
     "metadata": {
      "tags": []
     },
     "output_type": "execute_result"
    }
   ],
   "source": [
    "\n",
    "      "
   ]
  },
  {
   "cell_type": "code",
   "execution_count": 0,
   "metadata": {
    "colab": {},
    "colab_type": "code",
    "id": "2CuXkef5E7uw"
   },
   "outputs": [],
   "source": [
    "text = 'aabbccddeefgghhijj'\n",
    "\n",
    "\n",
    "char = {}\n",
    "n = 0\n",
    "for i in text:\n",
    "  if i not in char.keys():\n",
    "    char[i] = 1\n",
    "  else:\n",
    "    char[i] = char[i]+1"
   ]
  },
  {
   "cell_type": "code",
   "execution_count": 0,
   "metadata": {
    "colab": {
     "base_uri": "https://localhost:8080/",
     "height": 187
    },
    "colab_type": "code",
    "id": "N54xOucLFg5W",
    "outputId": "bf78dcb5-2d81-4928-98d9-f8fc75a7c4ff"
   },
   "outputs": [
    {
     "data": {
      "text/plain": [
       "{'a': 2,\n",
       " 'b': 2,\n",
       " 'c': 2,\n",
       " 'd': 2,\n",
       " 'e': 2,\n",
       " 'f': 1,\n",
       " 'g': 2,\n",
       " 'h': 2,\n",
       " 'i': 1,\n",
       " 'j': 2}"
      ]
     },
     "execution_count": 6,
     "metadata": {
      "tags": []
     },
     "output_type": "execute_result"
    }
   ],
   "source": [
    "char"
   ]
  },
  {
   "cell_type": "code",
   "execution_count": 0,
   "metadata": {
    "colab": {
     "base_uri": "https://localhost:8080/",
     "height": 187
    },
    "colab_type": "code",
    "id": "wnyBFNhZEwJE",
    "outputId": "aa7e9aea-1aa1-4148-d814-1e6c4e16631d"
   },
   "outputs": [
    {
     "data": {
      "text/plain": [
       "{'a': [2, 0],\n",
       " 'b': [2, 2],\n",
       " 'c': [2, 4],\n",
       " 'd': [2, 6],\n",
       " 'e': [2, 8],\n",
       " 'f': [1, 10],\n",
       " 'g': [2, 11],\n",
       " 'h': [2, 13],\n",
       " 'i': [1, 15],\n",
       " 'j': [2, 16]}"
      ]
     },
     "execution_count": 4,
     "metadata": {
      "tags": []
     },
     "output_type": "execute_result"
    }
   ],
   "source": [
    "for i in char.keys():\n",
    "  char[]"
   ]
  }
 ],
 "metadata": {
  "colab": {
   "collapsed_sections": [
    "MMjFucIDeq8Q",
    "EBV8l3iEeq8Z",
    "UZysvTpDeq8c",
    "axYPsKaqeq8e",
    "rR3Mw2K-eq8k",
    "cYm-fUXTeq9G",
    "uEPaO83neq9O",
    "tNHM94A0eq9Q",
    "MEDm0bF-eq9S",
    "QbCSljwYeq9V",
    "_VJVTVx6eq9V",
    "jHZmko0Eeq9X",
    "Y3TzmFS1eq9a",
    "GQVnbwPgeq9c",
    "Qvm5ip48eq9e",
    "t6Sn2Y_leq9e",
    "IXb0tBvheq9s",
    "pRGo6doPeq9u",
    "IfWfAUgneq9z",
    "0_lrp6Uveq99",
    "CLs3C6qxeq-B",
    "_jZEML1heq-G",
    "8l9Ox5nEeq-N",
    "MYMTDFUyeq-V",
    "5DKaMx0Xeq-d",
    "heuyIVbWeq-j",
    "bJ4QBNrCeq-n",
    "WqgNLVaceq-1",
    "6ro-6eVkeq-5",
    "JX6NSV7Ieq-8",
    "WlDvGqjIeq_B",
    "8SuFhWOUeq_G",
    "oIfoiGe0eq_H",
    "TTJOZJdneq_I",
    "StXbl1toeq_M",
    "3zJtuP2ieq_O",
    "HdYdFcdTeq_P",
    "cVa4D96peq_U",
    "6EgP_u5oeq_V",
    "gUQbPbHOeq_W",
    "VdxxwBf3eq_b",
    "Ekg_RLTueq_f",
    "6qSWfivneq_g",
    "sH_XwaZGeq_q",
    "s02P4S-Weq_r",
    "v6sIQVYaeq_t",
    "eod0452beq_w",
    "Rl_KMJA8eq_y",
    "LLNXaxezeq_0",
    "AKE0X-ppeq_6",
    "JSv4iMtieq_8",
    "0q8x8tyxeq__",
    "cDUea5oAerAA",
    "oMbs1uKLerAC",
    "YJG-i3iGerAE",
    "-SXuNJi_erAK",
    "yfNa9tXGerAN",
    "pKR76FPverAP",
    "J-4Z9g5lerAU",
    "d4y1BBG4erAX",
    "stmCtMCferAb",
    "0HgQG8YjerAn",
    "icNg_6HgerAo",
    "_N4eIFgserAr",
    "FvJZ8saNerAu",
    "oh0Xv8FnerAw",
    "HR49ZnF4erAz",
    "tVhMYLWkerA0",
    "fLBZWqvMerA4",
    "j9kHjlSeerA6",
    "dRZKEuU_erA6",
    "nqkeqKzserA7",
    "xIwG_Uj3erBB",
    "YYtsCbJperBD",
    "oWl0Ha2RerBD"
   ],
   "include_colab_link": true,
   "name": "py_class_2.ipynb",
   "provenance": [],
   "toc_visible": true
  },
  "kernelspec": {
   "display_name": "Python 3",
   "language": "python",
   "name": "python3"
  },
  "language_info": {
   "codemirror_mode": {
    "name": "ipython",
    "version": 3
   },
   "file_extension": ".py",
   "mimetype": "text/x-python",
   "name": "python",
   "nbconvert_exporter": "python",
   "pygments_lexer": "ipython3",
   "version": "3.7.4"
  }
 },
 "nbformat": 4,
 "nbformat_minor": 1
}