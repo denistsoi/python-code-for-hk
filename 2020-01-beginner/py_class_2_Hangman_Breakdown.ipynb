{
 "cells": [
  {
   "cell_type": "markdown",
   "metadata": {
    "colab_type": "text",
    "id": "view-in-github"
   },
   "source": [
    "<a href=\"https://colab.research.google.com/github/codeforhk/python_course/blob/master/py_class_2_Hangman_Breakdown.ipynb\" target=\"_parent\"><img src=\"https://colab.research.google.com/assets/colab-badge.svg\" alt=\"Open In Colab\"/></a>"
   ]
  },
  {
   "cell_type": "markdown",
   "metadata": {
    "colab_type": "text",
    "id": "N3waXG0QqYf-"
   },
   "source": [
    "# Hangman breakdown with example"
   ]
  },
  {
   "cell_type": "markdown",
   "metadata": {
    "colab_type": "text",
    "id": "_thTvPKMqYgA"
   },
   "source": [
    "Example 1: \n",
    "- To randomly choose a word from list, this is the way to do it."
   ]
  },
  {
   "cell_type": "code",
   "execution_count": 0,
   "metadata": {
    "colab": {},
    "colab_type": "code",
    "id": "7UCNyPhoqYgC",
    "outputId": "a839bedd-56bb-46ef-b791-d3e9617d2716"
   },
   "outputs": [
    {
     "data": {
      "text/plain": [
       "1"
      ]
     },
     "execution_count": 1,
     "metadata": {
      "tags": []
     },
     "output_type": "execute_result"
    }
   ],
   "source": [
    "import random\n",
    "random.choice([1,2,3])"
   ]
  },
  {
   "cell_type": "markdown",
   "metadata": {
    "colab_type": "text",
    "id": "nbF-ft9WqYgJ"
   },
   "source": [
    "Q1: Figure out a way to randomly choose a word from \"word_list\", and name it \"chosen_word\""
   ]
  },
  {
   "cell_type": "code",
   "execution_count": 0,
   "metadata": {
    "colab": {},
    "colab_type": "code",
    "id": "kG869PqGqYgK"
   },
   "outputs": [],
   "source": [
    "word_list = [\"stick\",\"john\",\"pencil\",\"rubber\",\"glove\",\"quick\",\"brown\",\"fox\",\"jumps\",\"over\"\n",
    "                     ,\"lazy\",\"dog\",\"manner\",\"house\",\"food\",\"brain\",\"history\",\"love\",\"peace\",\n",
    "                      \"object\"] \n",
    "\n",
    "chosen_word = #Your code here"
   ]
  },
  {
   "cell_type": "markdown",
   "metadata": {
    "colab_type": "text",
    "id": "IMRm992NqYgN"
   },
   "source": [
    "Example 2 \n",
    "- 2i)To find out the length of a string\n",
    "- 2ii) To loop through every character in a string\n",
    "- 2iii) To replace every character with '_'"
   ]
  },
  {
   "cell_type": "code",
   "execution_count": 0,
   "metadata": {
    "colab": {},
    "colab_type": "code",
    "id": "xXT-2T7XqYgO"
   },
   "outputs": [],
   "source": [
    "#2i)To find out the length of a string, do this:\n",
    "name = 'Patrick'\n",
    "length_of_name = len(name)"
   ]
  },
  {
   "cell_type": "code",
   "execution_count": 0,
   "metadata": {
    "colab": {},
    "colab_type": "code",
    "id": "VKj0GFcLqYgQ"
   },
   "outputs": [],
   "source": [
    "#2ii) To loop through every character in a string, do this:\n",
    "for i in name:\n",
    "    print(i)"
   ]
  },
  {
   "cell_type": "code",
   "execution_count": 0,
   "metadata": {
    "colab": {},
    "colab_type": "code",
    "id": "NKNcHNTLqYgT"
   },
   "outputs": [],
   "source": [
    "#2ii)or alternatively, do this:    \n",
    "[i for i in name]  "
   ]
  },
  {
   "cell_type": "code",
   "execution_count": 0,
   "metadata": {
    "colab": {},
    "colab_type": "code",
    "id": "_02Wv9ubqYgW"
   },
   "outputs": [],
   "source": [
    "#2iii) To replace every character with '_', do this\n",
    "['_' for i in name]"
   ]
  },
  {
   "cell_type": "markdown",
   "metadata": {
    "colab_type": "text",
    "id": "jABteYbHqYgb"
   },
   "source": [
    "Q2: Make the chosen_word \"invisible\" by replacing character to \"_\". For example, \"fox\" should return ['_','_','_']. \n",
    "Name this new variable \"playerchoice."
   ]
  },
  {
   "cell_type": "code",
   "execution_count": 0,
   "metadata": {
    "colab": {},
    "colab_type": "code",
    "id": "rwvpyw_bqYgc"
   },
   "outputs": [],
   "source": []
  },
  {
   "cell_type": "markdown",
   "metadata": {
    "colab_type": "text",
    "id": "sJ9H3N3HqYgf"
   },
   "source": [
    "Q3 Allow the player to input their guess. Name this variable \"guess\". I have done this question for you"
   ]
  },
  {
   "cell_type": "code",
   "execution_count": 0,
   "metadata": {
    "colab": {},
    "colab_type": "code",
    "id": "eNk7OuJQqYgg"
   },
   "outputs": [],
   "source": [
    "guess = str(input())"
   ]
  },
  {
   "cell_type": "markdown",
   "metadata": {
    "colab_type": "text",
    "id": "FR862tFaqYgj"
   },
   "source": [
    "Example 4 \n",
    "- 4i) To check if 1 is in the list [1,2,3]\n",
    "- 4ii) to check if 'p' is in 'patrick'"
   ]
  },
  {
   "cell_type": "code",
   "execution_count": 0,
   "metadata": {
    "colab": {},
    "colab_type": "code",
    "id": "NjU2ukA7qYgk"
   },
   "outputs": [],
   "source": [
    "#Example 4 \n",
    "#4i) To check if 1 is in the list [1,2,3], do this:\n",
    "1 in [1,2,3]"
   ]
  },
  {
   "cell_type": "code",
   "execution_count": 0,
   "metadata": {
    "colab": {},
    "colab_type": "code",
    "id": "xVGH3_0BqYgn"
   },
   "outputs": [],
   "source": [
    "#4ii) to check if 'p' is in 'patrick', do this:\n",
    "'p' in 'patrick'"
   ]
  },
  {
   "cell_type": "markdown",
   "metadata": {
    "colab_type": "text",
    "id": "RuUq0jbVqYgq"
   },
   "source": [
    "Q4 Now assume guess = 'o', and chosen_word = 'fox'. Write a logic to check if 'o' is in 'fox'."
   ]
  },
  {
   "cell_type": "code",
   "execution_count": 0,
   "metadata": {
    "colab": {},
    "colab_type": "code",
    "id": "m36lt_6GqYgr"
   },
   "outputs": [],
   "source": [
    "#Q4 Now assume guess = 'o', and chosen_word = 'fox'. Write a logic to check if 'o' is in 'fox'. \n",
    "# You \n",
    "guess = 'o'\n",
    "chosen_word = 'fox'"
   ]
  },
  {
   "cell_type": "markdown",
   "metadata": {
    "colab_type": "text",
    "id": "1JgDFgT9qYgt"
   },
   "source": [
    "Example 5: \n",
    "- 5i) Write a logic that loop through 'patrick' to find whether letter 'p' match the character. If yes, print \"p', if not, print '_'\n",
    "- 5ii) Write the same logic, but instead put the output in an empty string\n",
    "- 5 iii) Try to use list comprehension to do it"
   ]
  },
  {
   "cell_type": "code",
   "execution_count": 0,
   "metadata": {
    "colab": {},
    "colab_type": "code",
    "id": "hkqgJvddqYgv"
   },
   "outputs": [],
   "source": [
    "#i)\n",
    "name = 'patrick'\n",
    "guess = 'p'\n",
    "for i in name:\n",
    "    if i==guess:\n",
    "        print(guess)\n",
    "    else:\n",
    "        print('_')"
   ]
  },
  {
   "cell_type": "code",
   "execution_count": 0,
   "metadata": {
    "colab": {},
    "colab_type": "code",
    "id": "CpgI2IuZqYgy"
   },
   "outputs": [],
   "source": [
    "#ii)\n",
    "empty_list = []\n",
    "name = 'patrick'\n",
    "guess = 'p'\n",
    "for i in name:\n",
    "    if i==guess:\n",
    "        empty_list.append(guess)\n",
    "    else:\n",
    "        empty_list.append('_')\n",
    "empty_list"
   ]
  },
  {
   "cell_type": "code",
   "execution_count": 0,
   "metadata": {
    "colab": {},
    "colab_type": "code",
    "id": "Q09pu-WOqYg1"
   },
   "outputs": [],
   "source": [
    "#iii)\n",
    "[guess if guess==i else '_' for i in 'patrick'] "
   ]
  },
  {
   "cell_type": "markdown",
   "metadata": {
    "colab_type": "text",
    "id": "2P1k5bUIqYg4"
   },
   "source": [
    "Q5 Now write a logic, that loop over every word in chosen_word. If guess = chosen word, then return guess. If not, return underscore. Put them in a list"
   ]
  },
  {
   "cell_type": "code",
   "execution_count": 0,
   "metadata": {
    "colab": {},
    "colab_type": "code",
    "id": "9KeJftIRqYg5"
   },
   "outputs": [],
   "source": []
  },
  {
   "cell_type": "markdown",
   "metadata": {
    "colab_type": "text",
    "id": "qAYLwaWwqYg8"
   },
   "source": [
    "Example 6: Write a while loop that start with n = 5, reduce n by 1 for every loop, and print out every n. Write another while loop that breaks if n = 3"
   ]
  },
  {
   "cell_type": "code",
   "execution_count": 0,
   "metadata": {
    "colab": {},
    "colab_type": "code",
    "id": "7gOgEfVTqYg9"
   },
   "outputs": [],
   "source": [
    "n = 5\n",
    "while n>0:\n",
    "    if n==1:\n",
    "        print('you are nearly dead!')\n",
    "    n = n-1\n",
    "    print(n)\n",
    "\n",
    "#break if n = 5\n",
    "n = 5\n",
    "while n>0:\n",
    "    if n==3:\n",
    "        break\n",
    "    n = n-1\n",
    "    print(n)"
   ]
  },
  {
   "cell_type": "markdown",
   "metadata": {
    "colab_type": "text",
    "id": "bTSiszDnqYhA"
   },
   "source": [
    "Q6: Now, Write a while loop that start with life = 10, reduce life by 1 for every loop, and print out every life"
   ]
  },
  {
   "cell_type": "code",
   "execution_count": 0,
   "metadata": {
    "colab": {},
    "colab_type": "code",
    "id": "HPyVLaMKqYhB"
   },
   "outputs": [],
   "source": []
  },
  {
   "cell_type": "markdown",
   "metadata": {
    "colab_type": "text",
    "id": "BGLT9GGKqYhE"
   },
   "source": [
    "Example 7: Similar to example 5. Try to loop through 'patrick' and print out each character. But instead, loop through it using index"
   ]
  },
  {
   "cell_type": "code",
   "execution_count": 0,
   "metadata": {
    "colab": {},
    "colab_type": "code",
    "id": "JP8Epl56qYhE",
    "outputId": "7332b02b-4062-4aa7-b4c0-fa72197c9530"
   },
   "outputs": [
    {
     "name": "stdout",
     "output_type": "stream",
     "text": [
      "p\n",
      "a\n",
      "t\n",
      "r\n",
      "i\n",
      "c\n",
      "k\n"
     ]
    }
   ],
   "source": [
    "for i in range(len('patrick')):\n",
    "    print('patrick'[i])"
   ]
  },
  {
   "cell_type": "markdown",
   "metadata": {
    "colab_type": "text",
    "id": "rwfZnDWKqYhI"
   },
   "source": [
    "Q7: Now, Try to loop through chosen_word. If guess meets the character, print out the word \"guess\". If not, print out the relevant position in playerchoice. Finally, re-assign the output to the variable playerchoice. I have done this part for you."
   ]
  },
  {
   "cell_type": "code",
   "execution_count": 0,
   "metadata": {
    "colab": {},
    "colab_type": "code",
    "id": "ZP09hOHsqYhJ",
    "outputId": "621e107b-5fb4-420c-d63e-586cd7a728ac"
   },
   "outputs": [
    {
     "name": "stdout",
     "output_type": "stream",
     "text": [
      "f\n",
      "o\n",
      "x\n"
     ]
    }
   ],
   "source": [
    "guess = 'o'\n",
    "chosen_word = 'fox'\n",
    "playerchoice = ['_','_','_']\n",
    "\n",
    "#Long form\n",
    "for i in range(len(chosen_word)):\n",
    "    if guess ==chosen_word[i]:\n",
    "        print(guess)\n",
    "    else:\n",
    "        print(chosen_word[i])\n",
    "\n",
    "#Or put into string\n",
    "empty_string = []\n",
    "for i in range(len(chosen_word)):\n",
    "    if guess ==chosen_word[i]:\n",
    "        empty_string.append(guess)\n",
    "    else:\n",
    "        empty_string.append(chosen_word[i])\n",
    "print(empty_string)\n",
    "\n",
    "        \n",
    "#short form\n",
    "playerchoice = [guess if guess ==chosen_word[a] else playerchoice[a] for a in range(len(chosen_word))]"
   ]
  },
  {
   "cell_type": "markdown",
   "metadata": {
    "colab_type": "text",
    "id": "66UBu0bCqYhM"
   },
   "source": [
    "Q8 Finally, please put everything above into one piece :)"
   ]
  },
  {
   "cell_type": "code",
   "execution_count": 0,
   "metadata": {
    "colab": {},
    "colab_type": "code",
    "id": "OFUGBx-6qYhN"
   },
   "outputs": [],
   "source": [
    "import random\n",
    "print('WELCOME TO HANGMAN! ')\n",
    "word_list = [\"stick\",\"john\",\"pencil\",\"rubber\",\"glove\",\"quick\",\"brown\",\"fox\",\"jumps\",\"over\"\n",
    "                     ,\"lazy\",\"dog\",\"manner\",\"house\",\"food\",\"brain\",\"history\",\"love\",\"peace\",\n",
    "                      \"object\"] \n",
    "# Randomly choose a word and name it \"chosen_word\"\n",
    "chosen_word = #Your code\n",
    "\n",
    "# Assign playerchoice with a list of \"_\"\n",
    "playerchoice = # Your code here\n",
    "print(playerchoice)\n",
    "\n",
    "#Put eveything into a while loop. Reduce life every round\n",
    "life = 10\n",
    "while life>0:\n",
    "    if(sum([a == '_' for a in playerchoice])==0):\n",
    "        print('you won! lucky guy')\n",
    "        break\n",
    "#allow user to input their guess here\n",
    "    guess = #your code here\n",
    "\n",
    "# Write a logic to check if guess is in the chosenword. If yes, check which position is the matched character and replace it. \n",
    "#You should also renew 'playerchoice' because now player has made a right guess\n",
    "#If not, reduce life by 1\n",
    "    \n",
    "if(life==0):\n",
    "    print('You die!!!!!')"
   ]
  }
 ],
 "metadata": {
  "colab": {
   "include_colab_link": true,
   "name": "py_class_2_Hangman_Breakdown.ipynb",
   "provenance": [],
   "version": "0.3.2"
  },
  "kernelspec": {
   "display_name": "Python 3",
   "language": "python",
   "name": "python3"
  },
  "language_info": {
   "codemirror_mode": {
    "name": "ipython",
    "version": 3
   },
   "file_extension": ".py",
   "mimetype": "text/x-python",
   "name": "python",
   "nbconvert_exporter": "python",
   "pygments_lexer": "ipython3",
   "version": "3.7.4"
  }
 },
 "nbformat": 4,
 "nbformat_minor": 1
}
