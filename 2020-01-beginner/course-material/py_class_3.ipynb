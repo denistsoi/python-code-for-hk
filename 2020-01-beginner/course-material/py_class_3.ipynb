{
 "cells": [
  {
   "cell_type": "markdown",
   "metadata": {
    "colab_type": "text",
    "id": "view-in-github"
   },
   "source": [
    "<a href=\"https://colab.research.google.com/github/codeforhk/python_course/blob/master/py_class_3.ipynb\" target=\"_parent\"><img src=\"https://colab.research.google.com/assets/colab-badge.svg\" alt=\"Open In Colab\"/></a>"
   ]
  },
  {
   "cell_type": "markdown",
   "metadata": {
    "colab_type": "text",
    "id": "E_I6QftesBvW"
   },
   "source": [
    "\n",
    "    \n",
    "<img src=\"https://www.codefor.hk/wp-content/themes/DC_CUSTOM_THEME/img/logo-code-for-hk-logo.svg\" height=\"150\" width=\"150\"  align=\"center\"/>\n",
    "<h1><center>Code For Hong Kong - Python class 3</center></h1>\n",
    "<h6><center>Written by Patrick Leung</center></h6>"
   ]
  },
  {
   "cell_type": "markdown",
   "metadata": {
    "colab_type": "text",
    "id": "3GavFz5PrKrl"
   },
   "source": [
    "# 6.0.0 Python Functions\n"
   ]
  },
  {
   "cell_type": "markdown",
   "metadata": {
    "colab_type": "text",
    "id": "TSvMVattlyoZ"
   },
   "source": [
    "## 6.1.0 What is a function?"
   ]
  },
  {
   "cell_type": "markdown",
   "metadata": {
    "colab_type": "text",
    "id": "tBDnBw0t5G3T"
   },
   "source": [
    "A function is a block of organized, reusable code that is used to perform a single, related action. Functions provide better modularity for your application and a high degree of code reusing.\n",
    "\n",
    " You’re already familiar with the print(), input(), and len() functions from the previous chapters. Python provides several builtin functions like these, but you can also write your own functions.  These functions are called user-defined functions.\n"
   ]
  },
  {
   "cell_type": "markdown",
   "metadata": {
    "colab_type": "text",
    "id": "RltB37Zzo4Tg"
   },
   "source": [
    "\n",
    "![Image of Yaktocat](https://cdn-learn.adafruit.com/assets/assets/000/058/742/medium800/circuitpython_function-big.png?1533749193)\n",
    "\n",
    "\n",
    "\n",
    "\n"
   ]
  },
  {
   "cell_type": "markdown",
   "metadata": {
    "colab_type": "text",
    "id": "wy7v4YkZp-hK"
   },
   "source": [
    "![Image of Yaktocat](https://d2h0cx97tjks2p.cloudfront.net/blogs/wp-content/uploads/sites/2/2018/01/Python-Functions.jpg)\n",
    "\n",
    "\n",
    "\n"
   ]
  },
  {
   "cell_type": "markdown",
   "metadata": {
    "colab_type": "text",
    "id": "Q7nHGC3FOHrR"
   },
   "source": [
    "## 6.2.0 The structure and syntax of a function"
   ]
  },
  {
   "cell_type": "markdown",
   "metadata": {
    "colab_type": "text",
    "id": "fC34WwIj5NHb"
   },
   "source": [
    "- Function blocks begin with the keyword def followed by the function name and parentheses ( ( ) ).\n",
    "\n",
    "- Any input parameters or arguments should be placed within these parentheses. You can also define parameters inside these parentheses.\n",
    "\n",
    "- The first statement of a function can be an optional statement - the documentation string of the function or docstring.\n",
    "\n",
    "- The code block within every function starts with a colon (:) and is indented.\n",
    "\n",
    "- The statement return [expression] exits a function, optionally passing back an expression to the caller. A return statement with no arguments is the same as return None.\n",
    "\n",
    "\n"
   ]
  },
  {
   "cell_type": "markdown",
   "metadata": {
    "colab_type": "text",
    "id": "7IcmOIYWos-K"
   },
   "source": [
    "![Image of Yaktocat](https://swcarpentry.github.io/python-novice-inflammation/fig/python-function.svg)\n",
    "\n"
   ]
  },
  {
   "cell_type": "code",
   "execution_count": 0,
   "metadata": {
    "colab": {
     "base_uri": "https://localhost:8080/",
     "height": 34
    },
    "colab_type": "code",
    "id": "soAzgs81szOq",
    "outputId": "7bd2d83f-f214-4965-a4c8-2f73fa17bd92"
   },
   "outputs": [
    {
     "data": {
      "text/plain": [
       "37.77777777777778"
      ]
     },
     "execution_count": 35,
     "metadata": {
      "tags": []
     },
     "output_type": "execute_result"
    }
   ],
   "source": [
    "def fahr_to_celsius(temp):\n",
    "    return ((temp - 32)) * (5/9)\n",
    "\n",
    "fahr_to_celsius(100)    "
   ]
  },
  {
   "cell_type": "markdown",
   "metadata": {
    "colab_type": "text",
    "id": "ZBp00ReqrRsO"
   },
   "source": [
    "### 6.2.1 The syntax of function"
   ]
  },
  {
   "cell_type": "markdown",
   "metadata": {
    "colab_type": "text",
    "id": "HSYiyguPpNPU"
   },
   "source": [
    "![Image of Yaktocat](http://www.informit.com/content/images/chap2_9780134076430/elementLinks/p0215_01.jpg)\n",
    "\n",
    "\n"
   ]
  },
  {
   "cell_type": "markdown",
   "metadata": {
    "colab_type": "text",
    "id": "vY6UEg8YrWBO"
   },
   "source": [
    "To make it more coder friendly, this is how it looks like in a code format"
   ]
  },
  {
   "cell_type": "code",
   "execution_count": 0,
   "metadata": {
    "colab": {},
    "colab_type": "code",
    "id": "q5mHE4ctd-Y9"
   },
   "outputs": [],
   "source": [
    "def function-name(Parameter list):\n",
    "    statements, i.e. the function body"
   ]
  },
  {
   "cell_type": "markdown",
   "metadata": {
    "colab_type": "text",
    "id": "lSh1rSk-r6-q"
   },
   "source": [
    "#### Example 6.2.1\n",
    "\n",
    "Try write a function to return the sum of 2 number"
   ]
  },
  {
   "cell_type": "code",
   "execution_count": 0,
   "metadata": {
    "colab": {
     "base_uri": "https://localhost:8080/",
     "height": 34
    },
    "colab_type": "code",
    "id": "-v9acE9KsEM4",
    "outputId": "a5c6a83e-130a-4a5a-ea6b-88f30733dd34"
   },
   "outputs": [
    {
     "data": {
      "text/plain": [
       "3"
      ]
     },
     "execution_count": 33,
     "metadata": {
      "tags": []
     },
     "output_type": "execute_result"
    }
   ],
   "source": [
    "def sum_of_two_number( a, b):\n",
    "  return a+b\n",
    "\n",
    "# to call the function\n",
    "sum_2(1,2)"
   ]
  },
  {
   "cell_type": "markdown",
   "metadata": {
    "colab_type": "text",
    "id": "Nnu6HsZxsNdQ"
   },
   "source": [
    "#### Exercise 6.2.1\n",
    "\n",
    "Try write a function to return the multiple of 3 numbers"
   ]
  },
  {
   "cell_type": "code",
   "execution_count": 0,
   "metadata": {
    "colab": {},
    "colab_type": "code",
    "id": "CzA2cI4isUnV"
   },
   "outputs": [],
   "source": [
    "def mult_three_number(num1):\n",
    "    # some logic\n",
    "    return "
   ]
  },
  {
   "cell_type": "markdown",
   "metadata": {
    "colab_type": "text",
    "id": "ao-WGFCXshOr"
   },
   "source": [
    "## 6.2.2 Parameters of function\n",
    "\n",
    "If you think about it, function is just a wrapper of a logic, with the input as parameter, and output as return"
   ]
  },
  {
   "cell_type": "markdown",
   "metadata": {
    "colab_type": "text",
    "id": "QumlRkUNusSP"
   },
   "source": [
    "#### Example 6.2.2"
   ]
  },
  {
   "cell_type": "code",
   "execution_count": 0,
   "metadata": {
    "colab": {
     "base_uri": "https://localhost:8080/",
     "height": 34
    },
    "colab_type": "code",
    "id": "rj6nVA1DtAF2",
    "outputId": "1271a7bd-2e2b-47ac-af2f-a48341f40ecd"
   },
   "outputs": [
    {
     "data": {
      "text/plain": [
       "'is by default, cool'"
      ]
     },
     "execution_count": 37,
     "metadata": {
      "tags": []
     },
     "output_type": "execute_result"
    }
   ],
   "source": [
    "# a function can still work without a parameter\n",
    "\n",
    "def jay_chou():\n",
    "  return \"is by default, cool\"\n",
    "\n",
    "jay_chou()"
   ]
  },
  {
   "cell_type": "code",
   "execution_count": 0,
   "metadata": {
    "colab": {
     "base_uri": "https://localhost:8080/",
     "height": 34
    },
    "colab_type": "code",
    "id": "Bo9N1Go7str1",
    "outputId": "8afef7ea-3634-4857-8140-9266144195f7"
   },
   "outputs": [
    {
     "data": {
      "text/plain": [
       "'is cool'"
      ]
     },
     "execution_count": 38,
     "metadata": {
      "tags": []
     },
     "output_type": "execute_result"
    }
   ],
   "source": [
    "# a function can work with an input parameter, or even multiple\n",
    "\n",
    "def jay_chou( profession):\n",
    "  if profession == 'singer':\n",
    "      return \"is cool\"\n",
    "  else:\n",
    "      return \"he sucks when he doesn't sing\"\n",
    "\n",
    "jay_chou('singer')"
   ]
  },
  {
   "cell_type": "code",
   "execution_count": 0,
   "metadata": {
    "colab": {
     "base_uri": "https://localhost:8080/",
     "height": 34
    },
    "colab_type": "code",
    "id": "Yq_QIDEgth_-",
    "outputId": "a9bf447a-06b6-442c-9a36-2f0bd3ccab62"
   },
   "outputs": [
    {
     "data": {
      "text/plain": [
       "'is cool'"
      ]
     },
     "execution_count": 39,
     "metadata": {
      "tags": []
     },
     "output_type": "execute_result"
    }
   ],
   "source": [
    "# or you can do this\n",
    "\n",
    "jay_chou(profession = 'singer')"
   ]
  },
  {
   "cell_type": "code",
   "execution_count": 0,
   "metadata": {
    "colab": {
     "base_uri": "https://localhost:8080/",
     "height": 34
    },
    "colab_type": "code",
    "id": "ZANOSAketwTq",
    "outputId": "39a9af69-dc0f-45b0-e8c6-00c697cb2245"
   },
   "outputs": [
    {
     "data": {
      "text/plain": [
       "'is cool'"
      ]
     },
     "execution_count": 43,
     "metadata": {
      "tags": []
     },
     "output_type": "execute_result"
    }
   ],
   "source": [
    "# You can also add multiple variable\n",
    "\n",
    "def jay_chou(year, profession = 'singer'):\n",
    "  if year > 2010:\n",
    "      return \"his song sucks after 2010\"\n",
    "      \n",
    "  if profession == 'singer':\n",
    "      return \"is cool\"\n",
    "  else:\n",
    "      return \"he sucks when he doesn't sing\"\n",
    "    \n",
    "jay_chou(2009, 'singer')"
   ]
  },
  {
   "cell_type": "code",
   "execution_count": 0,
   "metadata": {
    "colab": {},
    "colab_type": "code",
    "id": "JqGwFZcJtlx3"
   },
   "outputs": [],
   "source": [
    "# You can also add a default variable. Here I set him to be a singer by default\n",
    "\n",
    "def jay_chou( profession = 'singer'):\n",
    "  if profession == 'singer':\n",
    "      return \"is cool\"\n",
    "  else:\n",
    "      return \"he sucks when he doesn't sing\""
   ]
  },
  {
   "cell_type": "markdown",
   "metadata": {
    "colab_type": "text",
    "id": "Yl99-mZHd_XN"
   },
   "source": [
    "Docstring is a description of the function. You can add it by using 3 \""
   ]
  },
  {
   "cell_type": "code",
   "execution_count": 0,
   "metadata": {
    "colab": {},
    "colab_type": "code",
    "id": "WXUXQRkll2Qd"
   },
   "outputs": [],
   "source": [
    "def add(x, y):\n",
    "    \"\"\"Return x plus y\"\"\"\n",
    "    return x + y"
   ]
  },
  {
   "cell_type": "code",
   "execution_count": 0,
   "metadata": {
    "colab": {},
    "colab_type": "code",
    "id": "XIDA2rLUuN6N"
   },
   "outputs": [],
   "source": [
    "def jay_chou(year, profession = 'singer'):\n",
    "  ''' \n",
    "  This is a function to explain jaychou is a good singer before 2010, otherwise he sucks\n",
    "  \n",
    "  arg:\n",
    "      year = numeric year\n",
    "      profession: can be any string\n",
    "  \n",
    "  '''\n",
    "  if year > 2010:\n",
    "      return \"his song sucks after 2010\"\n",
    "      \n",
    "  if profession == 'singer':\n",
    "      return \"is cool\"\n",
    "  else:\n",
    "      return \"he sucks when he doesn't sing\""
   ]
  },
  {
   "cell_type": "code",
   "execution_count": 0,
   "metadata": {
    "colab": {},
    "colab_type": "code",
    "id": "06Z5GGmXuhef"
   },
   "outputs": [],
   "source": [
    "# and you can call by using a question mark\n",
    "\n",
    "jay_chou?"
   ]
  },
  {
   "cell_type": "markdown",
   "metadata": {
    "colab_type": "text",
    "id": "kFamRP1Ml5Tr"
   },
   "source": [
    "#### Example 6.2.2\n",
    "\n",
    "a) Try write a function of suming 2 number\n",
    "\n",
    "b) Try write a function of multiplying 2 number\n",
    "\n",
    "c) Try write a function with an extra variable, that if mode = \"sum\", do the sum of 2 number. If mode = \"multiply\", do the multiply of 2 number\n",
    "\n",
    "d) Try set the default mode as sum\n",
    "\n",
    "e) Try use a doc string to explain that"
   ]
  },
  {
   "cell_type": "markdown",
   "metadata": {
    "colab_type": "text",
    "id": "2S4sCMemOJ-K"
   },
   "source": [
    "## 6.3.0 Local and Global Scope"
   ]
  },
  {
   "cell_type": "markdown",
   "metadata": {
    "colab_type": "text",
    "id": "sz4ZhVcAOhfx"
   },
   "source": [
    "In python, there are local variables and global variables. \n",
    "\n",
    "Local Variables Cannot Be Used in the Global Scope"
   ]
  },
  {
   "cell_type": "markdown",
   "metadata": {
    "colab_type": "text",
    "id": "aJZzdAQXOs_9"
   },
   "source": [
    "#### Example 6.3.0 Local and Global Variables with the Same Name"
   ]
  },
  {
   "cell_type": "code",
   "execution_count": 0,
   "metadata": {
    "colab": {
     "base_uri": "https://localhost:8080/",
     "height": 34
    },
    "colab_type": "code",
    "id": "ddTYafEdyjAY",
    "outputId": "c6694bb6-52a9-4583-8d53-bb2c7a916271"
   },
   "outputs": [
    {
     "name": "stdout",
     "output_type": "stream",
     "text": [
      "10\n"
     ]
    }
   ],
   "source": [
    "x = 10\n",
    "\n",
    "def something():\n",
    "  x = 100\n",
    "  return x\n",
    "\n",
    "print(x)"
   ]
  },
  {
   "cell_type": "markdown",
   "metadata": {
    "colab_type": "text",
    "id": "HDaRegomPCD8"
   },
   "source": [
    "## 6.4.0 Error Handling"
   ]
  },
  {
   "cell_type": "markdown",
   "metadata": {
    "colab_type": "text",
    "id": "4wAcJfXPUqfL"
   },
   "source": [
    "To handle Error, you can use try & except"
   ]
  },
  {
   "cell_type": "code",
   "execution_count": 0,
   "metadata": {
    "colab": {
     "base_uri": "https://localhost:8080/",
     "height": 34
    },
    "colab_type": "code",
    "id": "qs4QZGV4VEBI",
    "outputId": "d2281fd0-10b2-42ff-9c26-f3fa9372cbcb"
   },
   "outputs": [
    {
     "name": "stdout",
     "output_type": "stream",
     "text": [
      "this is an error!\n"
     ]
    }
   ],
   "source": [
    "\n",
    "try:\n",
    "  asdfasdfasdf\n",
    "except:\n",
    "  print(\"this is an error!\")\n"
   ]
  },
  {
   "cell_type": "markdown",
   "metadata": {
    "colab_type": "text",
    "id": "sXV5X5QkcZWi"
   },
   "source": [
    "# 7.0.0 Python Recap & advance technique\n"
   ]
  },
  {
   "cell_type": "markdown",
   "metadata": {
    "colab_type": "text",
    "id": "D2vRhPSScpef"
   },
   "source": [
    "![Image of Yaktocat](https://cdn.intellipaat.com/mediaFiles/2018/11/Python-Basics-Cheat-Sheet-1-1.png)\n"
   ]
  },
  {
   "cell_type": "markdown",
   "metadata": {
    "colab_type": "text",
    "id": "-JpPxFBSasLm"
   },
   "source": [
    "## 7.1.0 Loop recap"
   ]
  },
  {
   "cell_type": "markdown",
   "metadata": {
    "colab_type": "text",
    "id": "oB5rMvYOasLn"
   },
   "source": [
    "- You can loop through a list, a string or a range(index)\n",
    "- If you want to add all operation in a loop into a list, you can throw them inside an empty list"
   ]
  },
  {
   "cell_type": "code",
   "execution_count": 0,
   "metadata": {
    "colab": {},
    "colab_type": "code",
    "id": "saxonqpgasLo"
   },
   "outputs": [],
   "source": [
    "x = 'patrick'"
   ]
  },
  {
   "cell_type": "code",
   "execution_count": 0,
   "metadata": {
    "colab": {},
    "colab_type": "code",
    "id": "W3hIkx0AasLs",
    "outputId": "8f948414-a7ed-4084-83d5-06c6480dc5e7"
   },
   "outputs": [
    {
     "name": "stdout",
     "output_type": "stream",
     "text": [
      "p\n",
      "a\n",
      "t\n",
      "r\n",
      "i\n",
      "c\n",
      "k\n"
     ]
    }
   ],
   "source": [
    "for i in range(len(x)):\n",
    "    print(x[i])"
   ]
  },
  {
   "cell_type": "code",
   "execution_count": 0,
   "metadata": {
    "colab": {},
    "colab_type": "code",
    "id": "UG-vypceasLx",
    "outputId": "eb0ebbff-8a3e-4f29-cf31-ff4613e0cff0"
   },
   "outputs": [
    {
     "name": "stdout",
     "output_type": "stream",
     "text": [
      "0\n",
      "1\n",
      "2\n",
      "3\n",
      "4\n",
      "5\n",
      "6\n"
     ]
    }
   ],
   "source": [
    "#list\n",
    "x = 'patrick'\n",
    "for i in range(len(x)):\n",
    "    print(i)\n"
   ]
  },
  {
   "cell_type": "code",
   "execution_count": 0,
   "metadata": {
    "colab": {},
    "colab_type": "code",
    "id": "SUAmLYsSasL0"
   },
   "outputs": [],
   "source": [
    "#list\n",
    "x = [1,2,3]\n",
    "for i in x:\n",
    "    print(i*2)\n",
    "\n",
    "#string\n",
    "x = 'data'\n",
    "for i in x:\n",
    "    print(i)\n",
    "    \n",
    "#index\n",
    "for i in range(3):\n",
    "    print(i)"
   ]
  },
  {
   "cell_type": "code",
   "execution_count": 0,
   "metadata": {
    "colab": {},
    "colab_type": "code",
    "id": "gOKgndxqasL2",
    "outputId": "011dde99-6d48-4058-87cb-1c7fee3141a0",
    "scrolled": true
   },
   "outputs": [
    {
     "data": {
      "text/plain": [
       "[0, 1, 2]"
      ]
     },
     "execution_count": 6,
     "metadata": {
      "tags": []
     },
     "output_type": "execute_result"
    }
   ],
   "source": [
    "#throw it to empty list\n",
    "empty_list = [] #this is an empty list\n",
    "for i in range(3):\n",
    "    empty_list.append(i)\n",
    "empty_list"
   ]
  },
  {
   "cell_type": "markdown",
   "metadata": {
    "colab_type": "text",
    "id": "DgRoBN8rasL6"
   },
   "source": [
    "#### Exercise 7.1.1"
   ]
  },
  {
   "cell_type": "markdown",
   "metadata": {
    "colab_type": "text",
    "id": "eHdlgwt1asL6"
   },
   "source": [
    "Write a loop to multiply every number by 3 in list [1,2,3,4]. Output your answer in a list"
   ]
  },
  {
   "cell_type": "code",
   "execution_count": 0,
   "metadata": {
    "colab": {},
    "colab_type": "code",
    "id": "GD1z84JAasL7",
    "outputId": "a1e4d653-ab71-4015-8423-24edcbda7923"
   },
   "outputs": [
    {
     "name": "stdout",
     "output_type": "stream",
     "text": [
      "3\n",
      "6\n",
      "9\n",
      "12\n"
     ]
    }
   ],
   "source": [
    "x = [1,2,3,4]\n",
    "#your code here\n",
    "\n",
    "for i in x:\n",
    "    print(i*3)"
   ]
  },
  {
   "cell_type": "code",
   "execution_count": 0,
   "metadata": {
    "colab": {},
    "colab_type": "code",
    "id": "UdjewZ9xasL-",
    "outputId": "4b68197a-fc80-4c40-9bcf-7bbb50b2f8a6"
   },
   "outputs": [
    {
     "data": {
      "text/plain": [
       "[3, 9, 12]"
      ]
     },
     "execution_count": 15,
     "metadata": {
      "tags": []
     },
     "output_type": "execute_result"
    }
   ],
   "source": [
    "[(i*3)  for i in x if i!= 2]"
   ]
  },
  {
   "cell_type": "code",
   "execution_count": 0,
   "metadata": {
    "colab": {},
    "colab_type": "code",
    "id": "uhF_nkFMasMC",
    "outputId": "aba4cc79-e95f-4230-9e03-54e463e4d825"
   },
   "outputs": [
    {
     "data": {
      "text/plain": [
       "[3, 2, 9, 12]"
      ]
     },
     "execution_count": 14,
     "metadata": {
      "tags": []
     },
     "output_type": "execute_result"
    }
   ],
   "source": [
    "[(i*3) if i!=2 else i for i in x ]"
   ]
  },
  {
   "cell_type": "markdown",
   "metadata": {
    "colab_type": "text",
    "id": "cyxlKZtXasMG"
   },
   "source": [
    "### 7.1.2 list comprehension"
   ]
  },
  {
   "cell_type": "markdown",
   "metadata": {
    "colab_type": "text",
    "id": "FQGVbK48asMH"
   },
   "source": [
    "- In python, there is a efficient way to write loop, which is called the list comprehension. It simply \"flatten\" the for loop into a one liner. \n",
    "- Notice that it is bounded by a square bracket? square bracket is a sign for a 'list', and it is there because list comprehension will always output as a list!"
   ]
  },
  {
   "cell_type": "markdown",
   "metadata": {
    "colab_type": "text",
    "id": "YcfutJ_UasMH"
   },
   "source": [
    "![Image of Yaktocat](http://python-3-patterns-idioms-test.readthedocs.io/en/latest/_images/listComprehensions.gif)\n",
    "\n"
   ]
  },
  {
   "cell_type": "code",
   "execution_count": 0,
   "metadata": {
    "colab": {},
    "colab_type": "code",
    "id": "xsjNHRUBasMI"
   },
   "outputs": [],
   "source": [
    "empty_list = []\n",
    "for i in [1,2,3]:\n",
    "    empty_list.append(i*2)"
   ]
  },
  {
   "cell_type": "code",
   "execution_count": 0,
   "metadata": {
    "colab": {},
    "colab_type": "code",
    "id": "sIu5mCKzasML",
    "outputId": "ba2c7f40-1d22-496f-cb51-d6f5adf5b0e0"
   },
   "outputs": [
    {
     "data": {
      "text/plain": [
       "[2, 4, 6]"
      ]
     },
     "execution_count": 10,
     "metadata": {
      "tags": []
     },
     "output_type": "execute_result"
    }
   ],
   "source": [
    "[i*2 for i in [1,2,3]]"
   ]
  },
  {
   "cell_type": "code",
   "execution_count": 0,
   "metadata": {
    "colab": {},
    "colab_type": "code",
    "id": "JM5itL0oasMO",
    "outputId": "84a21452-2651-4266-80bf-1d5ee7b3d3a4"
   },
   "outputs": [
    {
     "name": "stdout",
     "output_type": "stream",
     "text": [
      "[2, 4, 6]\n",
      "['d', 'a', 't', 'a']\n",
      "[0, 1, 2]\n"
     ]
    }
   ],
   "source": [
    "firstexample = [i*2 for i in [1,2,3]]\n",
    "print(firstexample)\n",
    "\n",
    "secondexample = [i for i in 'data']\n",
    "print(secondexample)\n",
    "\n",
    "thirdexample = [i for i in range(3)]\n",
    "print(thirdexample)"
   ]
  },
  {
   "cell_type": "markdown",
   "metadata": {
    "colab_type": "text",
    "id": "kF6pRllYasMS"
   },
   "source": [
    "#### Example 7.1.2 Convert loop to list comprehension"
   ]
  },
  {
   "cell_type": "markdown",
   "metadata": {
    "colab_type": "text",
    "id": "eqVn5WGDasMT"
   },
   "source": [
    "- Write a for loop that loop from 0 to 3. Skip \"2\" in the loop\n",
    "- Transform this loop to list comprehension"
   ]
  },
  {
   "cell_type": "code",
   "execution_count": 0,
   "metadata": {
    "colab": {},
    "colab_type": "code",
    "id": "xNAxyC6_asMV",
    "outputId": "622bbade-96e2-4e46-ad7b-7bfc01bf93c5"
   },
   "outputs": [
    {
     "data": {
      "text/plain": [
       "[0, 1, 3]"
      ]
     },
     "execution_count": 17,
     "metadata": {
      "tags": []
     },
     "output_type": "execute_result"
    }
   ],
   "source": [
    "empty_list = []\n",
    "for i in range(4):\n",
    "    if(i!=2):\n",
    "        empty_list.append(i)\n",
    "empty_list\n"
   ]
  },
  {
   "cell_type": "code",
   "execution_count": 0,
   "metadata": {
    "colab": {},
    "colab_type": "code",
    "id": "Bg1oTeONasMa",
    "outputId": "66f00654-e3da-40ac-ad34-946664ea4efe"
   },
   "outputs": [
    {
     "data": {
      "text/plain": [
       "[0, 1, 'double', 3]"
      ]
     },
     "execution_count": 14,
     "metadata": {
      "tags": []
     },
     "output_type": "execute_result"
    }
   ],
   "source": [
    "['double' if i==2 else i for i in range(4)  ]"
   ]
  },
  {
   "cell_type": "markdown",
   "metadata": {
    "colab_type": "text",
    "id": "MNtoS5oIasMe"
   },
   "source": [
    "- Write a for loop that loop from 0 to 3. **Convert '2' into '_'**\n",
    "- Transform this loop to list comprehension\n"
   ]
  },
  {
   "cell_type": "code",
   "execution_count": 0,
   "metadata": {
    "colab": {},
    "colab_type": "code",
    "id": "1iQOGvZgasMf",
    "outputId": "7fca8981-9a77-4232-f4ed-f7c749991574"
   },
   "outputs": [
    {
     "data": {
      "text/plain": [
       "[0, 1, '_', 3]"
      ]
     },
     "execution_count": 15,
     "metadata": {
      "tags": []
     },
     "output_type": "execute_result"
    }
   ],
   "source": [
    "empty_list = []\n",
    "for i in range(4):\n",
    "    if(i!=2):\n",
    "        empty_list.append(i)\n",
    "    else:\n",
    "        empty_list.append('_')\n",
    "empty_list"
   ]
  },
  {
   "cell_type": "code",
   "execution_count": 0,
   "metadata": {
    "colab": {},
    "colab_type": "code",
    "id": "xlPTF_rIasMj"
   },
   "outputs": [],
   "source": [
    "#your code here"
   ]
  },
  {
   "cell_type": "markdown",
   "metadata": {
    "colab_type": "text",
    "id": "R6gfeCjgasMm"
   },
   "source": [
    "#### Exercise 7.1.2 Convert loop to list comprehension"
   ]
  },
  {
   "cell_type": "markdown",
   "metadata": {
    "colab_type": "text",
    "id": "0PVtiua2asMn"
   },
   "source": [
    "convert below to list comprehension"
   ]
  },
  {
   "cell_type": "code",
   "execution_count": 0,
   "metadata": {
    "colab": {},
    "colab_type": "code",
    "id": "Lf9mPdbPasMn",
    "outputId": "0c18adaf-a634-4883-fa8d-d54b6fa4d670"
   },
   "outputs": [
    {
     "data": {
      "text/plain": [
       "['b', 'b', 'c']"
      ]
     },
     "execution_count": 35,
     "metadata": {
      "tags": []
     },
     "output_type": "execute_result"
    }
   ],
   "source": [
    "empty_list = []\n",
    "for i  in 'abc':\n",
    "    if i=='a':\n",
    "        empty_list.append('b')\n",
    "    else:\n",
    "        empty_list.append(i)\n",
    "empty_list"
   ]
  },
  {
   "cell_type": "code",
   "execution_count": 0,
   "metadata": {
    "colab": {},
    "colab_type": "code",
    "id": "j-vp-4QVasMr"
   },
   "outputs": [],
   "source": [
    "#your code here"
   ]
  },
  {
   "cell_type": "markdown",
   "metadata": {
    "colab_type": "text",
    "id": "1qQd25zAasMt"
   },
   "source": [
    "#### Example 7.1.3 Advance list comprehension"
   ]
  },
  {
   "cell_type": "markdown",
   "metadata": {
    "colab_type": "text",
    "id": "mxoAIODFasMu"
   },
   "source": [
    "- Given \n",
    "x = ['a','b','c','d']\n",
    "y = [0,1,2,3]\n",
    "c = 'c'\n",
    "- if x = c , replace x with the corresponding position in y\n",
    "- Transform the loop to list comprehension"
   ]
  },
  {
   "cell_type": "code",
   "execution_count": 0,
   "metadata": {
    "colab": {},
    "colab_type": "code",
    "id": "GHv0jK3TasMv",
    "outputId": "d5a7a74f-e336-4696-d07c-c95e040bc9ed"
   },
   "outputs": [
    {
     "name": "stdout",
     "output_type": "stream",
     "text": [
      "['a', 'b', 2, 'd']\n"
     ]
    }
   ],
   "source": [
    "y = [0,1,2,3]\n",
    "x = ['a','b','c','d']\n",
    "c = 'c'\n",
    "\n",
    "empty_list = []\n",
    "for i in range(len(y)):\n",
    "    if(x[i]== 'c'):\n",
    "        empty_list.append(y[i])\n",
    "    else:\n",
    "        empty_list.append(x[i])\n",
    "print(empty_list)"
   ]
  },
  {
   "cell_type": "code",
   "execution_count": 0,
   "metadata": {
    "colab": {},
    "colab_type": "code",
    "id": "XSXJxji1asM0",
    "outputId": "419a3ed2-acfd-45bd-d5b7-b3fedb0eb2ea"
   },
   "outputs": [
    {
     "data": {
      "text/plain": [
       "['a', 'b', 2, 'd']"
      ]
     },
     "execution_count": 42,
     "metadata": {
      "tags": []
     },
     "output_type": "execute_result"
    }
   ],
   "source": [
    "[y[i] if x[i]==c else x[i] for i in  range(len(y))]"
   ]
  },
  {
   "cell_type": "markdown",
   "metadata": {
    "colab_type": "text",
    "id": "80SCBQmoasM3"
   },
   "source": [
    "#### Exercise 7.1.3 Advance list comprehension"
   ]
  },
  {
   "cell_type": "markdown",
   "metadata": {
    "colab_type": "text",
    "id": "_zpzz61_asM6"
   },
   "source": [
    "- Given name = 'data',currentpick = ['_','_','t','_'], playerguess = 'd'\n",
    "- Write a for loop that loop index. Convert '_' to 'd' in the correct position\n",
    "- Transform this loop to list comprehension"
   ]
  },
  {
   "cell_type": "code",
   "execution_count": 0,
   "metadata": {
    "colab": {},
    "colab_type": "code",
    "id": "MJ7WuJnuasM7"
   },
   "outputs": [],
   "source": [
    "#your code here"
   ]
  },
  {
   "cell_type": "markdown",
   "metadata": {
    "colab_type": "text",
    "id": "Xg1TH-qqasM9"
   },
   "source": [
    "## 7.2.0 While loop recap"
   ]
  },
  {
   "cell_type": "code",
   "execution_count": 0,
   "metadata": {
    "colab": {},
    "colab_type": "code",
    "id": "Gor7f_fVasM-",
    "outputId": "ca427234-f1f6-4696-fb23-d2778767b8aa"
   },
   "outputs": [
    {
     "name": "stdout",
     "output_type": "stream",
     "text": [
      "10\n",
      "9\n",
      "8\n",
      "7\n",
      "6\n"
     ]
    }
   ],
   "source": [
    "n = 10\n",
    "while n > 5:\n",
    "    # do sth\n",
    "    print(n)\n",
    "    n = n - 1\n",
    "    "
   ]
  },
  {
   "cell_type": "code",
   "execution_count": 0,
   "metadata": {
    "colab": {},
    "colab_type": "code",
    "id": "LC3gTLxmasNB",
    "outputId": "86b8272f-387d-4782-c708-8e91b97fc703"
   },
   "outputs": [
    {
     "name": "stdout",
     "output_type": "stream",
     "text": [
      "8\n",
      "7\n",
      "6\n",
      "5\n",
      "4\n",
      "3\n",
      "2\n",
      "1\n"
     ]
    }
   ],
   "source": [
    "live = 8\n",
    "while  live>0:\n",
    "    print(live)\n",
    "    live = live-1"
   ]
  },
  {
   "cell_type": "markdown",
   "metadata": {
    "colab_type": "text",
    "id": "SpjQ4Y7fasNE"
   },
   "source": [
    "#### Example 7.2.1  While loop"
   ]
  },
  {
   "cell_type": "markdown",
   "metadata": {
    "colab_type": "text",
    "id": "mYX8j_IjasNE"
   },
   "source": [
    "- write a while loop that breaks if life  =3"
   ]
  },
  {
   "cell_type": "code",
   "execution_count": 0,
   "metadata": {
    "colab": {},
    "colab_type": "code",
    "id": "LL5xxBT0asNG",
    "outputId": "16a8c159-1561-453c-b7ec-fd62f0648c11",
    "scrolled": true
   },
   "outputs": [
    {
     "name": "stdout",
     "output_type": "stream",
     "text": [
      "5\n",
      "4\n",
      "3\n"
     ]
    }
   ],
   "source": [
    "live = 5\n",
    "while  live>0:\n",
    "    print(live)\n",
    "    if live==3:\n",
    "        break\n",
    "    live = live-1"
   ]
  },
  {
   "cell_type": "markdown",
   "metadata": {
    "colab_type": "text",
    "id": "k4ugVkVTasNL"
   },
   "source": [
    "#### Exercise 7.2.1 While loop"
   ]
  },
  {
   "cell_type": "markdown",
   "metadata": {
    "colab_type": "text",
    "id": "odT0djcRasNL"
   },
   "source": [
    "- Write a while loop that go from live = 0 to live = 10. Stop the loop if live >10\n",
    "- Try to write an infinite loop. How can you do that?"
   ]
  },
  {
   "cell_type": "code",
   "execution_count": 0,
   "metadata": {
    "colab": {},
    "colab_type": "code",
    "id": "ctubMjF5asNM"
   },
   "outputs": [],
   "source": [
    "#Your code here\n",
    "\n"
   ]
  },
  {
   "cell_type": "markdown",
   "metadata": {
    "colab_type": "text",
    "id": "2APZPg46asNO"
   },
   "source": [
    "## Test 7.3.0  Test of concept"
   ]
  },
  {
   "cell_type": "markdown",
   "metadata": {
    "colab_type": "text",
    "id": "QsTduYi8asNO"
   },
   "source": [
    "Q1 Can you fix the bug?"
   ]
  },
  {
   "source": [
    "for i in [1,2,3,4]:\n",
    "    if i ==3:\n",
    "        print('three')\n",
    "    else:\n",
    "        print(i)"
   ],
   "cell_type": "code",
   "outputs": [
    {
     "output_type": "stream",
     "name": "stdout",
     "text": "1\n2\nthree\n4\n"
    }
   ],
   "metadata": {},
   "execution_count": 1
  },
  {
   "cell_type": "markdown",
   "metadata": {
    "colab_type": "text",
    "id": "w-RR2P_qasNR"
   },
   "source": [
    "Q2 In the python memory system: \n",
    "- what is variable s after you execute the code?\n",
    "- what is variable x after you execute the code?\n",
    "- which variable is assigned as 24?\n"
   ]
  },
  {
   "cell_type": "code",
   "execution_count": 0,
   "metadata": {
    "colab": {},
    "colab_type": "code",
    "id": "Wf1qcdH0asNS",
    "outputId": "9e8feb9b-033d-4e47-b2d1-dd04d82e985f"
   },
   "outputs": [
    {
     "name": "stdout",
     "output_type": "stream",
     "text": [
      "24\n"
     ]
    },
    {
     "data": {
      "text/plain": [
       "24"
      ]
     },
     "execution_count": 24,
     "metadata": {
      "tags": []
     },
     "output_type": "execute_result"
    }
   ],
   "source": [
    "x = 12\n",
    "s = 1\n",
    "def this_is_a_function(x):\n",
    "    s = 10\n",
    "    x = x*2+s\n",
    "    print(x)\n",
    "    return(x)\n",
    "\n",
    "x = this_is_a_function(7)\n",
    "x"
   ]
  },
  {
   "cell_type": "markdown",
   "metadata": {
    "colab_type": "text",
    "id": "okrcDC6UasNV"
   },
   "source": [
    "Q3 Playing with list\n",
    "- How do you get the second last object on the list?\n",
    "- how do I get the length of the list?"
   ]
  },
  {
   "cell_type": "code",
   "execution_count": 0,
   "metadata": {
    "colab": {},
    "colab_type": "code",
    "id": "SrkEa4w2asNV"
   },
   "outputs": [],
   "source": [
    "x = range(31,9999)\n",
    "#second last?"
   ]
  },
  {
   "cell_type": "markdown",
   "metadata": {
    "colab_type": "text",
    "id": "DpjlWAZBasNa"
   },
   "source": [
    "Q4 \n",
    "- How to concatenate list a & b? concatenate them and name it c\n",
    "- now, multiple every item on the new list by 3, and put them on a list called d\n"
   ]
  },
  {
   "cell_type": "code",
   "execution_count": 0,
   "metadata": {
    "colab": {},
    "colab_type": "code",
    "id": "rmqhAr_nasNb"
   },
   "outputs": [],
   "source": [
    "a = [1,2,3]\n",
    "b = [4,5,6]\n"
   ]
  },
  {
   "cell_type": "code",
   "execution_count": 0,
   "metadata": {
    "colab": {},
    "colab_type": "code",
    "id": "V8wN5CxUasNg"
   },
   "outputs": [],
   "source": [
    "# Your code here"
   ]
  },
  {
   "cell_type": "code",
   "execution_count": 0,
   "metadata": {
    "colab": {},
    "colab_type": "code",
    "id": "9ZR1k6CEasNp",
    "outputId": "2967e050-c6bf-4d58-8aa1-b7d32363d903"
   },
   "outputs": [
    {
     "data": {
      "text/plain": [
       "array([ 3,  6,  9, 12, 15, 18])"
      ]
     },
     "execution_count": 41,
     "metadata": {
      "tags": []
     },
     "output_type": "execute_result"
    }
   ],
   "source": [
    "import numpy as np\n",
    "# Your code here\n"
   ]
  },
  {
   "cell_type": "markdown",
   "metadata": {
    "colab_type": "text",
    "id": "1M9XAPDMasNs"
   },
   "source": [
    "Q5 Can you fix the bug? I want to concatenate x and y"
   ]
  },
  {
   "source": [
    "x = [1,2,3]\n",
    "y = 4\n",
    "x.append(y)"
   ],
   "cell_type": "code",
   "outputs": [],
   "metadata": {},
   "execution_count": 2
  },
  {
   "cell_type": "markdown",
   "metadata": {
    "colab_type": "text",
    "id": "yE-sEPLZasNw"
   },
   "source": [
    "Q6 can you fix the bug?"
   ]
  },
  {
   "source": [
    "[a for a in [1,2,3] if a==3]"
   ],
   "cell_type": "code",
   "outputs": [
    {
     "output_type": "execute_result",
     "data": {
      "text/plain": "[3]"
     },
     "metadata": {},
     "execution_count": 6
    }
   ],
   "metadata": {},
   "execution_count": 6
  },
  {
   "cell_type": "markdown",
   "metadata": {
    "colab_type": "text",
    "id": "aO942k97asNz"
   },
   "source": [
    "Q7 Can you fix the bug?"
   ]
  },
  {
   "source": [
    "[a for a in [1,2,3] if a==3]"
   ],
   "cell_type": "code",
   "outputs": [
    {
     "output_type": "execute_result",
     "data": {
      "text/plain": "[3]"
     },
     "metadata": {},
     "execution_count": 8
    }
   ],
   "metadata": {},
   "execution_count": 8
  },
  {
   "cell_type": "code",
   "execution_count": 0,
   "metadata": {
    "colab": {},
    "colab_type": "code",
    "id": "eRK3pr2uasN3"
   },
   "outputs": [],
   "source": []
  },
  {
   "cell_type": "markdown",
   "metadata": {
    "colab_type": "text",
    "id": "8af_oltBc1Sb"
   },
   "source": [
    "## Challenge 7.4.0"
   ]
  },
  {
   "cell_type": "markdown",
   "metadata": {
    "colab_type": "text",
    "id": "YSV2Z-neck1H"
   },
   "source": [
    "#### Challenge 7.4.1\n",
    "\n",
    "Construct a function that returns all the divisors of the number the user inputs as a list."
   ]
  },
  {
   "cell_type": "markdown",
   "metadata": {
    "colab_type": "text",
    "id": "FRrwOEGPck1H"
   },
   "source": [
    " #### Challenge 7.4.2\n",
    " \n",
    " x = [1, 1, 2, 3, 5, 8, 13, 21, 34, 55, 89]\n",
    "\n",
    "a) write a program that prints out all the elements of the list that are less than 5.\n",
    "\n",
    "\n",
    "b) Instead of printing the elements one by one, make a new list that has all the elements less than 5 from this list in it and print out this new list.\n",
    "\n",
    "\n",
    "c) Write this in one line of Python.\n",
    "\n",
    "\n",
    "d)Ask the user for a number and return a list that contains only elements from the original list a that are smaller than that number given by the user.\n"
   ]
  },
  {
   "cell_type": "markdown",
   "metadata": {
    "colab_type": "text",
    "id": "sYFNVtdpck1I"
   },
   "source": [
    "#### Challenge 7.4.3\n",
    "\n",
    "Write a program that asks the user how many Fibonnaci numbers to generate and then generates them. Take this opportunity to think about how you can use functions. Make sure to ask the user to enter the number of numbers in the sequence to generate.(Hint: The Fibonnaci seqence is a sequence of numbers where the next number in the sequence is the sum of the previous two numbers in the sequence. The sequence looks like this: 1, 1, 2, 3, 5, 8, 13, …)"
   ]
  },
  {
   "cell_type": "markdown",
   "metadata": {
    "colab_type": "text",
    "id": "y58S5m9Uck1J"
   },
   "source": [
    "#### Challenge 7.4.4\n",
    "\n",
    "Generate a random number between 1 and 20 (including 1 and 20). Ask the user to guess the number, then tell them whether they guessed too low, too high, or exactly right. (Hint: remember to use the user input lessons from the very first exercise)\n",
    "\n",
    "Extras:\n",
    "\n",
    "Keep the game going until the user types “exit”\n",
    "Keep track of how many guesses the user has taken, and when the game ends, print this out."
   ]
  },
  {
   "cell_type": "code",
   "execution_count": 0,
   "metadata": {
    "colab": {
     "base_uri": "https://localhost:8080/",
     "height": 289
    },
    "colab_type": "code",
    "id": "8wf_Gp-7dXaY",
    "outputId": "71636fa5-7f7c-4a06-a3c0-cae6c6022adb"
   },
   "outputs": [
    {
     "name": "stdout",
     "output_type": "stream",
     "text": [
      "I am thinking of a number between 1 and 20.\n",
      "Take a guess.\n",
      "10\n",
      "Your guess is too low.\n",
      "Take a guess.\n",
      "15\n",
      "Your guess is too low.\n",
      "Take a guess.\n",
      "18\n",
      "Your guess is too high.\n",
      "Take a guess.\n",
      "17\n",
      "Your guess is too high.\n",
      "Take a guess.\n",
      "16\n",
      "Good job! You guessed my number in 5 guesses!\n"
     ]
    }
   ],
   "source": [
    "# This is a guess the number game.\n",
    "import random\n",
    "secretNumber = random.randint(1, 20)\n",
    "print('I am thinking of a number between 1 and 20.')\n",
    "\n",
    "# Ask the player to guess 6 times.\n",
    "for guessesTaken in range(1, 7):\n",
    "    print('Take a guess.')\n",
    "    guess = int(input())\n",
    "\n",
    "    if guess < secretNumber:\n",
    "        print('Your guess is too low.')\n",
    "    elif guess > secretNumber:\n",
    "        print('Your guess is too high.')\n",
    "    else:\n",
    "        break    # This condition is the correct guess!\n",
    "\n",
    "if guess == secretNumber:\n",
    "    print('Good job! You guessed my number in ' + str(guessesTaken) + ' guesses!')\n",
    "else:\n",
    "    print('Nope. The number I was thinking of was ' + str(secretNumber))\n",
    "#Let’s look at this code line by line, starting at the top.\n"
   ]
  },
  {
   "cell_type": "markdown",
   "metadata": {
    "colab_type": "text",
    "id": "46gq-Fmnck1J"
   },
   "source": [
    "#### Challenge 7.4.5\n",
    "\n",
    "Hangman\n",
    "\n",
    "https://github.com/codeforhk/python_course/blob/master/py_class_2_Hangman_Breakdown.ipynb"
   ]
  },
  {
   "cell_type": "code",
   "execution_count": null,
   "metadata": {},
   "outputs": [],
   "source": []
  },
  {
   "cell_type": "markdown",
   "metadata": {
    "colab_type": "text",
    "id": "Vdbh_gW_ck1P"
   },
   "source": [
    "## Take home exercise\n",
    "\n",
    "Finish Hangman!"
   ]
  }
 ],
 "metadata": {
  "colab": {
   "collapsed_sections": [
    "UZysvTpDeq8c",
    "axYPsKaqeq8e",
    "rR3Mw2K-eq8k",
    "cYm-fUXTeq9G",
    "uEPaO83neq9O",
    "tNHM94A0eq9Q",
    "MEDm0bF-eq9S",
    "QbCSljwYeq9V",
    "_VJVTVx6eq9V",
    "jHZmko0Eeq9X",
    "Y3TzmFS1eq9a",
    "GQVnbwPgeq9c",
    "Qvm5ip48eq9e",
    "t6Sn2Y_leq9e",
    "IXb0tBvheq9s",
    "pRGo6doPeq9u",
    "IfWfAUgneq9z",
    "0_lrp6Uveq99",
    "CLs3C6qxeq-B",
    "_jZEML1heq-G",
    "8l9Ox5nEeq-N",
    "MYMTDFUyeq-V",
    "5DKaMx0Xeq-d",
    "heuyIVbWeq-j",
    "bJ4QBNrCeq-n",
    "WqgNLVaceq-1",
    "6ro-6eVkeq-5",
    "JX6NSV7Ieq-8",
    "WlDvGqjIeq_B",
    "8SuFhWOUeq_G",
    "oIfoiGe0eq_H",
    "TTJOZJdneq_I",
    "StXbl1toeq_M",
    "3zJtuP2ieq_O",
    "HdYdFcdTeq_P",
    "cVa4D96peq_U",
    "6EgP_u5oeq_V",
    "gUQbPbHOeq_W",
    "VdxxwBf3eq_b",
    "Ekg_RLTueq_f",
    "6qSWfivneq_g",
    "sH_XwaZGeq_q",
    "s02P4S-Weq_r",
    "v6sIQVYaeq_t",
    "eod0452beq_w",
    "Rl_KMJA8eq_y",
    "LLNXaxezeq_0",
    "AKE0X-ppeq_6",
    "JSv4iMtieq_8",
    "0q8x8tyxeq__",
    "cDUea5oAerAA",
    "oMbs1uKLerAC",
    "YJG-i3iGerAE",
    "-SXuNJi_erAK",
    "yfNa9tXGerAN",
    "pKR76FPverAP",
    "J-4Z9g5lerAU",
    "d4y1BBG4erAX",
    "stmCtMCferAb",
    "0HgQG8YjerAn",
    "icNg_6HgerAo",
    "_N4eIFgserAr",
    "FvJZ8saNerAu",
    "oh0Xv8FnerAw",
    "tVhMYLWkerA0",
    "fLBZWqvMerA4",
    "j9kHjlSeerA6",
    "dRZKEuU_erA6",
    "xIwG_Uj3erBB",
    "YYtsCbJperBD",
    "oWl0Ha2RerBD"
   ],
   "include_colab_link": true,
   "name": "py_class_3.ipynb",
   "provenance": [],
   "toc_visible": true
  },
  "kernelspec": {
   "display_name": "Python 3",
   "language": "python",
   "name": "python3"
  },
  "language_info": {
   "codemirror_mode": {
    "name": "ipython",
    "version": 3
   },
   "file_extension": ".py",
   "mimetype": "text/x-python",
   "name": "python",
   "nbconvert_exporter": "python",
   "pygments_lexer": "ipython3",
   "version": "3.7.3"
  }
 },
 "nbformat": 4,
 "nbformat_minor": 1
}