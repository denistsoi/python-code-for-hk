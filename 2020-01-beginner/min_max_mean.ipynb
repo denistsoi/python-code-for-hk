{
 "nbformat": 4,
 "nbformat_minor": 2,
 "metadata": {
  "language_info": {
   "name": "python",
   "codemirror_mode": {
    "name": "ipython",
    "version": 3
   },
   "version": "3.7.3-final"
  },
  "orig_nbformat": 2,
  "file_extension": ".py",
  "mimetype": "text/x-python",
  "name": "python",
  "npconvert_exporter": "python",
  "pygments_lexer": "ipython3",
  "version": 3,
  "kernelspec": {
   "name": "python37364bitc6f8272de35d4e508f36e0915614a098",
   "display_name": "Python 3.7.3 64-bit"
  }
 },
 "cells": [
  {
   "cell_type": "code",
   "execution_count": 3,
   "metadata": {},
   "outputs": [
    {
     "name": "stdout",
     "output_type": "stream",
     "text": "-10 200 60.6\n"
    }
   ],
   "source": [
    "# max/min/mean\n",
    "# Your code here\n",
    "list_of_integers = [10, -10, 100, 200, 3]\n",
    "min_num = list_of_integers[0]\n",
    "max_num = list_of_integers[0]\n",
    "total = 0\n",
    "\n",
    "for i in list_of_integers:\n",
    "    if i < min_num:\n",
    "        min_num = i\n",
    "    elif i > max_num:\n",
    "        max_num = i    \n",
    "    total += i\n",
    "mean = total / len(list_of_integers)\n",
    "\n",
    "print(min_num, max_num, mean)\n"
   ]
  },
  {
   "cell_type": "code",
   "execution_count": 5,
   "metadata": {},
   "outputs": [
    {
     "name": "stdout",
     "output_type": "stream",
     "text": "60.6\n-10\n200\n"
    }
   ],
   "source": [
    "def generate_values(numbers):\n",
    "    min_num = list_of_integers[0]\n",
    "    max_num = list_of_integers[0]\n",
    "    total = 0\n",
    "\n",
    "    for i in list_of_integers:\n",
    "        if i < min_num:\n",
    "            min_num = i\n",
    "        elif i > max_num:\n",
    "            max_num = i    \n",
    "        total += i\n",
    "\n",
    "    mean_value = total / len(list_of_integers)\n",
    "\n",
    "    return { \"min_num\": min_num, \"max_num\": max_num, \"mean_value\": mean_value }\n",
    "\n",
    "class Solution():\n",
    "    def __init__(self, numbers):\n",
    "        self._values = generate_values(numbers)\n",
    "\n",
    "    @property\n",
    "    def min_num(self):\n",
    "        return self._values.get(\"min_num\", 0)\n",
    "\n",
    "    @property\n",
    "    def max_num(self):\n",
    "        return self._values.get(\"max_num\", 0)\n",
    "    \n",
    "    @property\n",
    "    def mean_value(self):\n",
    "        return self._values.get(\"mean_value\", 0)\n",
    "\n",
    "list_of_integers = [10, -10, 100, 200, 3]\n",
    "answer = Solution(list_of_integers)\n",
    "\n",
    "print(answer.mean_value)\n",
    "print(answer.min_num)\n",
    "print(answer.max_num)"
   ]
  },
  {
   "cell_type": "code",
   "execution_count": null,
   "metadata": {},
   "outputs": [],
   "source": []
  }
 ]
}