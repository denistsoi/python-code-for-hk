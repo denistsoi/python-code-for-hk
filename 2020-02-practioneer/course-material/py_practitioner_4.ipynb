{
  "nbformat": 4,
  "nbformat_minor": 0,
  "metadata": {
    "colab": {
      "name": "py_practitioner_4.ipynb",
      "provenance": [],
      "include_colab_link": true
    },
    "kernelspec": {
      "name": "python3",
      "display_name": "Python 3"
    }
  },
  "cells": [
    {
      "cell_type": "markdown",
      "metadata": {
        "id": "view-in-github",
        "colab_type": "text"
      },
      "source": [
        "<a href=\"https://colab.research.google.com/github/codeforhk/python_practitioner/blob/master/py_practitioner_4.ipynb\" target=\"_parent\"><img src=\"https://colab.research.google.com/assets/colab-badge.svg\" alt=\"Open In Colab\"/></a>"
      ]
    },
    {
      "cell_type": "markdown",
      "metadata": {
        "id": "ejMS_tRueq8A",
        "colab_type": "text"
      },
      "source": [
        "\n",
        "    \n",
        "<img src=\"https://www.codefor.hk/wp-content/themes/DC_CUSTOM_THEME/img/logo-code-for-hk-logo.svg\" height=\"150\" width=\"150\"  align=\"center\"/>\n",
        "<h1><center>Code For Hong Kong - Python Practitioner class 4</center></h1>\n",
        "<h6><center>Written by Patrick Leung</center></h6>\n"
      ]
    },
    {
      "cell_type": "markdown",
      "metadata": {
        "id": "EEMPIn4lRgQx",
        "colab_type": "text"
      },
      "source": [
        "<img src=\"https://yt3.ggpht.com/iFOyisOFkFJU3VPQBc92xmjj9IW9k7iVHs1Dva-TTi4wJGXxFKj4ifITh8rHpywTRywgOhW2Tg=w2120-fcrop64=1,00000000ffffffff-k-c0xffffffff-no-nd-rj\" align=\"center\"/>\n",
        "\n",
        "## Project: Your Project\n",
        "\n",
        "\n",
        "What is your project?"
      ]
    },
    {
      "cell_type": "markdown",
      "metadata": {
        "id": "_d6E6tGDCAhA",
        "colab_type": "text"
      },
      "source": [
        "# 0.0.0 Preparation & Planning"
      ]
    },
    {
      "cell_type": "markdown",
      "metadata": {
        "id": "IfVvTYbyCeo8",
        "colab_type": "text"
      },
      "source": [
        "Well done! Now you are starting your own project.\n",
        "\n",
        "What will you be doing?\n"
      ]
    },
    {
      "cell_type": "markdown",
      "metadata": {
        "id": "p1ZnVYjdCnL7",
        "colab_type": "text"
      },
      "source": [
        "\n",
        "Remember of the 4 hats we should be wearing? ( Architect / Handcrafter / Director / coder). Try to think in terms of each hat."
      ]
    },
    {
      "cell_type": "markdown",
      "metadata": {
        "id": "EZkdKzbiRxAm",
        "colab_type": "text"
      },
      "source": [
        "## 0.1.0 What are you building? What is your project about? "
      ]
    },
    {
      "cell_type": "markdown",
      "metadata": {
        "id": "rYn2hLoCDy9V",
        "colab_type": "text"
      },
      "source": [
        "![alt text](https://www.brainleaf.com/blog/wp-content/uploads/2015/07/what-are-you-building.jpg)"
      ]
    },
    {
      "cell_type": "markdown",
      "metadata": {
        "id": "F89yFWhCRTGe",
        "colab_type": "text"
      },
      "source": [
        "Put on your *Handcrafter* hat.\n",
        "\n",
        "\n",
        "\n"
      ]
    },
    {
      "cell_type": "markdown",
      "metadata": {
        "id": "Ar9b8XvSDSNF",
        "colab_type": "text"
      },
      "source": [
        "Try to think of this\n",
        "\n",
        "as a **{Who are you}**, I want to build **{What you wana build}**, because **{purpose of building it}**."
      ]
    },
    {
      "cell_type": "markdown",
      "metadata": {
        "id": "-16xcxHJDHJ2",
        "colab_type": "text"
      },
      "source": [
        "### Example 0.1.1\n",
        "Try to use one line to describe what you are working on.\n",
        "\n",
        "\n",
        "as a **{travel lover},** i want to **{build a Skyscanner scraper that records the flight price}**, because I want to **{get the cheapest possible flight ticket}**."
      ]
    },
    {
      "cell_type": "markdown",
      "metadata": {
        "id": "dTy904U4DDjG",
        "colab_type": "text"
      },
      "source": [
        "### Question 0.1.1\n",
        "Try to use one line to describe what you are working on.\n",
        "\n",
        "a **{Who are you}**, I want to build **{What you wana build}**, because **{purpose of building it}**"
      ]
    },
    {
      "cell_type": "markdown",
      "metadata": {
        "id": "P-iTkeVACO-k",
        "colab_type": "text"
      },
      "source": [
        "## 0.2.0 How would break it down?"
      ]
    },
    {
      "cell_type": "markdown",
      "metadata": {
        "id": "gGUXKhY8GSHD",
        "colab_type": "text"
      },
      "source": [
        "![alt text](https://megaphone-prod.s3.amazonaws.com/podcasts/60814bd6-4d3d-11e8-b4f0-93bb9234309c/image/uploads_2F1526592281879-uoz9lahrbep-81b68921440947d785dc5189fd36e858_2FBreakItDown_3000x3000_JJ.png)"
      ]
    },
    {
      "cell_type": "markdown",
      "metadata": {
        "id": "Tk4NIjADD9Uu",
        "colab_type": "text"
      },
      "source": [
        "Put on your Handcrafter / Director hat.\n",
        "\n",
        "How do I bring it down? What are the steps if I am doing by hand?"
      ]
    },
    {
      "cell_type": "markdown",
      "metadata": {
        "id": "eGyxxmZwEGdi",
        "colab_type": "text"
      },
      "source": [
        "### Example 0.2.1\n",
        "\n",
        "\n",
        "\n",
        "*   Go to skyscanner.com\n",
        "*   Specify the time and location\n",
        "*   Scan all the price\n",
        "*   Save the price on my computer\n",
        "*   Alert myself if I find a very cheap price\n",
        "\n",
        "\n",
        "\n"
      ]
    },
    {
      "cell_type": "markdown",
      "metadata": {
        "id": "ANLN2z_sEY-o",
        "colab_type": "text"
      },
      "source": [
        "### Exercise 0.2.1\n",
        "\n",
        "What are your steps?"
      ]
    },
    {
      "cell_type": "markdown",
      "metadata": {
        "id": "BvM0UCAXRTDi",
        "colab_type": "text"
      },
      "source": [
        "## 0.3.0 Which external parties should we focus on?\n",
        "\n",
        "List out all the external parties, e.g websites / api\n",
        "\n"
      ]
    },
    {
      "cell_type": "markdown",
      "metadata": {
        "id": "UGc5TUXgGava",
        "colab_type": "text"
      },
      "source": [
        "![alt text](https://www.portaltalk.com/wp-content/uploads/2015/06/Samenwerken.jpg)"
      ]
    },
    {
      "cell_type": "markdown",
      "metadata": {
        "id": "CKp_Rs01EpLo",
        "colab_type": "text"
      },
      "source": [
        "\n",
        "### Example 0.3.1\n",
        "List out all the external parties, e.g websites / api\n",
        "\n",
        "www.skyscanner.com\n",
        "\n"
      ]
    },
    {
      "cell_type": "markdown",
      "metadata": {
        "id": "MXoS2HBzEqbQ",
        "colab_type": "text"
      },
      "source": [
        "### Exercise 0.3.1\n",
        "List out the websites you care about\n",
        "\n"
      ]
    },
    {
      "cell_type": "markdown",
      "metadata": {
        "id": "sx0J5WHNTQH3",
        "colab_type": "text"
      },
      "source": [
        "## 0.4.0 What is your architectural plan?"
      ]
    },
    {
      "cell_type": "markdown",
      "metadata": {
        "id": "cRIkJumHFqU8",
        "colab_type": "text"
      },
      "source": [
        "![alt text](https://miro.medium.com/max/1039/1*M22DR3WPqbWXWidYIq2GwA.png)"
      ]
    },
    {
      "cell_type": "markdown",
      "metadata": {
        "id": "INsC-I-CTTdW",
        "colab_type": "text"
      },
      "source": [
        "### Example 0.4.1\n",
        "\n",
        "[Example architecture diagram](https://www.lucidchart.com/invitations/accept/a1f0d551-b90b-449f-8a6d-4162a8f6c200)"
      ]
    },
    {
      "cell_type": "markdown",
      "metadata": {
        "id": "-qRQTgUDE06l",
        "colab_type": "text"
      },
      "source": [
        "### Exercise 0.4.1\n",
        "\n",
        "List out your architectural plan"
      ]
    },
    {
      "cell_type": "markdown",
      "metadata": {
        "id": "Uv-sCgH0BzsL",
        "colab_type": "text"
      },
      "source": [
        "## 0.5.0 What libraries will you be using?"
      ]
    },
    {
      "cell_type": "markdown",
      "metadata": {
        "id": "TkUR2IdBGjtU",
        "colab_type": "text"
      },
      "source": [
        "![alt text](https://miro.medium.com/max/603/0*RSHaCzm8VQ-DFQOv)"
      ]
    },
    {
      "cell_type": "markdown",
      "metadata": {
        "id": "uAO2yY0mGmqX",
        "colab_type": "text"
      },
      "source": [
        "## Example 0.5.0\n",
        "\n",
        "\n",
        "\n"
      ]
    },
    {
      "cell_type": "code",
      "metadata": {
        "id": "xMFOB-L9G2B_",
        "colab_type": "code",
        "colab": {}
      },
      "source": [
        "import pandas as pd\n",
        "import requests\n",
        "from bs4 import BeautifulSoup as bs\n",
        "from selenium import webdriver\n"
      ],
      "execution_count": 0,
      "outputs": []
    },
    {
      "cell_type": "markdown",
      "metadata": {
        "id": "KPHqLl4RG3Lk",
        "colab_type": "text"
      },
      "source": [
        "## Exercise 0.5.0"
      ]
    },
    {
      "cell_type": "code",
      "metadata": {
        "id": "5cZagqzfG4Cu",
        "colab_type": "code",
        "colab": {}
      },
      "source": [
        "## Import what ?"
      ],
      "execution_count": 0,
      "outputs": []
    },
    {
      "cell_type": "markdown",
      "metadata": {
        "id": "b7_bmketTdCw",
        "colab_type": "text"
      },
      "source": [
        "## 1.0.0 Write a code that gets the data from the website"
      ]
    },
    {
      "cell_type": "markdown",
      "metadata": {
        "id": "ntZCEl4KH1zg",
        "colab_type": "text"
      },
      "source": [
        "### 1.1.0 How do you locate the correct URL?"
      ]
    },
    {
      "cell_type": "code",
      "metadata": {
        "id": "ECeYj3JYIOoz",
        "colab_type": "code",
        "colab": {}
      },
      "source": [
        "## Your code here"
      ],
      "execution_count": 0,
      "outputs": []
    },
    {
      "cell_type": "markdown",
      "metadata": {
        "id": "osipMCkcH7aH",
        "colab_type": "text"
      },
      "source": [
        "### 1.2.0 How do you manipulate the UR:?"
      ]
    },
    {
      "cell_type": "code",
      "metadata": {
        "id": "8oHeeb7SIQVa",
        "colab_type": "code",
        "colab": {}
      },
      "source": [
        "## Your code here"
      ],
      "execution_count": 0,
      "outputs": []
    },
    {
      "cell_type": "markdown",
      "metadata": {
        "id": "O6hkGsvVH_fa",
        "colab_type": "text"
      },
      "source": [
        "### 1.3.0 How do you access the URL?"
      ]
    },
    {
      "cell_type": "code",
      "metadata": {
        "id": "PxmMw1CiXBC7",
        "colab_type": "code",
        "colab": {}
      },
      "source": [
        "# Code to run from colab\n",
        "!pip install selenium\n",
        "!apt-get update # to update ubuntu to correctly run apt install\n",
        "!apt install chromium-chromedriver\n",
        "!cp /usr/lib/chromium-browser/chromedriver /usr/bin\n",
        "\n",
        "import sys\n",
        "sys.path.insert(0,'/usr/lib/chromium-browser/chromedriver')\n",
        "from selenium import webdriver\n",
        "chrome_options = webdriver.ChromeOptions()\n",
        "chrome_options.add_argument('--headless')\n",
        "chrome_options.add_argument('--no-sandbox')\n",
        "chrome_options.add_argument('--disable-dev-shm-usage')\n",
        "driver = webdriver.Chrome('chromedriver',chrome_options=chrome_options)"
      ],
      "execution_count": 0,
      "outputs": []
    },
    {
      "cell_type": "code",
      "metadata": {
        "id": "e_Bsp9hpbei2",
        "colab_type": "code",
        "colab": {}
      },
      "source": [
        "## Your code here\n",
        "from selenium import webdriver\n",
        "driver = webdriver.Chrome()"
      ],
      "execution_count": 0,
      "outputs": []
    },
    {
      "cell_type": "markdown",
      "metadata": {
        "id": "_MPipfj9IFIl",
        "colab_type": "text"
      },
      "source": [
        "### 1.4.0 Does the URL need any special treatment?"
      ]
    },
    {
      "cell_type": "code",
      "metadata": {
        "id": "t4LSAcE0ISdf",
        "colab_type": "code",
        "colab": {}
      },
      "source": [
        "## Your code here"
      ],
      "execution_count": 0,
      "outputs": []
    },
    {
      "cell_type": "markdown",
      "metadata": {
        "id": "dfGziFhrb_oe",
        "colab_type": "text"
      },
      "source": [
        "### 1.5.0 DO you need to navigate via selenium?\n",
        "![alt text](http://aliyunzixunbucket.oss-cn-beijing.aliyuncs.com/jpg/65ed5fe382dfed9a22e9c004739f42ea.jpg?x-oss-process=image/resize,p_100/auto-orient,1/quality,q_90/format,jpg/watermark,image_eXVuY2VzaGk=,t_100,g_se,x_0,y_0)"
      ]
    },
    {
      "cell_type": "markdown",
      "metadata": {
        "id": "tv6mI0g4VdM8",
        "colab_type": "text"
      },
      "source": [
        "## 2.0.0 Parse and reshape the data\n",
        "\n",
        "Now that you have located the right page, how would you get the information you need ? (Or perform the actions you need?)"
      ]
    },
    {
      "cell_type": "markdown",
      "metadata": {
        "id": "7gucN8lNWodS",
        "colab_type": "text"
      },
      "source": [
        "Very likely, you will need to parse the data via beautifulsoup\n",
        "\n",
        "https://gist.github.com/yoki/b7f2fcef64c893e307c4c59303ead19a"
      ]
    },
    {
      "cell_type": "code",
      "metadata": {
        "id": "ZXnBKmd8WwgM",
        "colab_type": "code",
        "colab": {}
      },
      "source": [
        "from bs4 import BeautifulSoup as bs\n",
        "\n",
        "source = driver.page_source\n",
        "soup = bs(source, 'lxml')"
      ],
      "execution_count": 0,
      "outputs": []
    },
    {
      "cell_type": "code",
      "metadata": {
        "id": "lnlJq_f3Iiy7",
        "colab_type": "code",
        "colab": {}
      },
      "source": [
        "import pandas as pd\n",
        "# Your code here"
      ],
      "execution_count": 0,
      "outputs": []
    },
    {
      "cell_type": "markdown",
      "metadata": {
        "id": "09PLuCq3VoJ9",
        "colab_type": "text"
      },
      "source": [
        "## 3.0.0  Structure and save the data"
      ]
    },
    {
      "cell_type": "markdown",
      "metadata": {
        "id": "BC69bI4lcPL6",
        "colab_type": "text"
      },
      "source": [
        "![alt text](https://4.bp.blogspot.com/-7OGvqmQ_Qu8/WWcqq7FXVPI/AAAAAAAAI-c/VU7i1m2A0BMdCuIH6WuNJ8pv9D0dBsiugCLcBGAs/s1600/Pandas-2.png)"
      ]
    },
    {
      "cell_type": "code",
      "metadata": {
        "id": "YXjLjuybWjbq",
        "colab_type": "code",
        "colab": {}
      },
      "source": [
        "import pandas as pd\n",
        "# How would you transform the data you need?"
      ],
      "execution_count": 0,
      "outputs": []
    },
    {
      "cell_type": "markdown",
      "metadata": {
        "id": "D1krlJDQVu4e",
        "colab_type": "text"
      },
      "source": [
        "## 4.0.0 Decision Engine"
      ]
    },
    {
      "cell_type": "code",
      "metadata": {
        "id": "xHnonLqXWkUV",
        "colab_type": "code",
        "colab": {}
      },
      "source": [
        "# What are the decision you would want to make?\n",
        "\n",
        "# For example, for skyscanner, I would want to alert myself if price is lower than X"
      ],
      "execution_count": 0,
      "outputs": []
    },
    {
      "cell_type": "markdown",
      "metadata": {
        "id": "1EnOIfh_V2vq",
        "colab_type": "text"
      },
      "source": [
        "## 5.0.0 Notification System"
      ]
    },
    {
      "cell_type": "markdown",
      "metadata": {
        "id": "utLbfTMdV5eb",
        "colab_type": "text"
      },
      "source": [
        "## 6.0.0 How to restructure your code and run it dynamically?"
      ]
    },
    {
      "cell_type": "markdown",
      "metadata": {
        "id": "K9Jdj96mV_1d",
        "colab_type": "text"
      },
      "source": [
        "## 7.0.0 Final Destinations"
      ]
    },
    {
      "cell_type": "code",
      "metadata": {
        "id": "jt50JxOTWPQ4",
        "colab_type": "code",
        "colab": {}
      },
      "source": [
        "# Try put it on github"
      ],
      "execution_count": 0,
      "outputs": []
    }
  ]
}