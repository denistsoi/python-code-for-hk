{
  "nbformat": 4,
  "nbformat_minor": 0,
  "metadata": {
    "colab": {
      "name": "py_class_1_and_2_recap",
      "provenance": [],
      "toc_visible": true,
      "include_colab_link": true
    },
    "kernelspec": {
      "name": "python3",
      "display_name": "Python 3"
    }
  },
  "cells": [
    {
      "cell_type": "markdown",
      "metadata": {
        "id": "view-in-github",
        "colab_type": "text"
      },
      "source": [
        "<a href=\"https://colab.research.google.com/github/codeforhk/python_practitioner/blob/master/py_class_1_and_2_recap.ipynb\" target=\"_parent\"><img src=\"https://colab.research.google.com/assets/colab-badge.svg\" alt=\"Open In Colab\"/></a>"
      ]
    },
    {
      "cell_type": "markdown",
      "metadata": {
        "id": "9VHTi_SpL2mW",
        "colab_type": "text"
      },
      "source": [
        "# Module 1: Intro to the Python programming lauguage"
      ]
    },
    {
      "cell_type": "markdown",
      "metadata": {
        "id": "3I44I0Ot7c7o",
        "colab_type": "text"
      },
      "source": [
        "## The Zen of Python"
      ]
    },
    {
      "cell_type": "code",
      "metadata": {
        "id": "eLbx-mcd7JI0",
        "colab_type": "code",
        "outputId": "c6624813-c155-4c48-d627-143676a57989",
        "colab": {
          "base_uri": "https://localhost:8080/",
          "height": 374
        }
      },
      "source": [
        "# The zen of Python\n",
        "\n",
        "import this"
      ],
      "execution_count": 0,
      "outputs": [
        {
          "output_type": "stream",
          "text": [
            "The Zen of Python, by Tim Peters\n",
            "\n",
            "Beautiful is better than ugly.\n",
            "Explicit is better than implicit.\n",
            "Simple is better than complex.\n",
            "Complex is better than complicated.\n",
            "Flat is better than nested.\n",
            "Sparse is better than dense.\n",
            "Readability counts.\n",
            "Special cases aren't special enough to break the rules.\n",
            "Although practicality beats purity.\n",
            "Errors should never pass silently.\n",
            "Unless explicitly silenced.\n",
            "In the face of ambiguity, refuse the temptation to guess.\n",
            "There should be one-- and preferably only one --obvious way to do it.\n",
            "Although that way may not be obvious at first unless you're Dutch.\n",
            "Now is better than never.\n",
            "Although never is often better than *right* now.\n",
            "If the implementation is hard to explain, it's a bad idea.\n",
            "If the implementation is easy to explain, it may be a good idea.\n",
            "Namespaces are one honking great idea -- let's do more of those!\n"
          ],
          "name": "stdout"
        }
      ]
    },
    {
      "cell_type": "markdown",
      "metadata": {
        "id": "7m5VF5cKL5wD",
        "colab_type": "text"
      },
      "source": [
        "# Module 2: Data Types and Operators¶"
      ]
    },
    {
      "cell_type": "markdown",
      "metadata": {
        "id": "i-OkKzccNJw5",
        "colab_type": "text"
      },
      "source": [
        "## 2.0.0 Assigning Variable"
      ]
    },
    {
      "cell_type": "code",
      "metadata": {
        "id": "ZOesiyKFNEVM",
        "colab_type": "code",
        "colab": {}
      },
      "source": [
        "# Let's say assign the value 1 to x, then execute the cell by CTRL+ENTER\n",
        "\n",
        "x = 1\n",
        "\n",
        "#From now on, python recognise x is equal to 1"
      ],
      "execution_count": 0,
      "outputs": []
    },
    {
      "cell_type": "code",
      "metadata": {
        "id": "p3hm-ThVNEoV",
        "colab_type": "code",
        "colab": {}
      },
      "source": [
        "# This will create an error, called \"SyntaxError\". It means python doesn't understand it! \n",
        "# (You should see this very often from now on)\n",
        "\n",
        "1 = x"
      ],
      "execution_count": 0,
      "outputs": []
    },
    {
      "cell_type": "code",
      "metadata": {
        "id": "OmrYAVvGNE2T",
        "colab_type": "code",
        "colab": {}
      },
      "source": [
        "x # Try execute me!"
      ],
      "execution_count": 0,
      "outputs": []
    },
    {
      "cell_type": "markdown",
      "metadata": {
        "id": "YulrYuBnNFBc",
        "colab_type": "text"
      },
      "source": [
        "### 2.0.1 Reassigning variable"
      ]
    },
    {
      "cell_type": "code",
      "metadata": {
        "id": "bz4GWqIaNFKd",
        "colab_type": "code",
        "colab": {}
      },
      "source": [
        "# You can assign anything to the variable. \n",
        "\n",
        "x = 'an expensive iphone'\n",
        "x"
      ],
      "execution_count": 0,
      "outputs": []
    },
    {
      "cell_type": "markdown",
      "metadata": {
        "id": "CY6m70KQNuOV",
        "colab_type": "text"
      },
      "source": [
        "## 2.1.0 Data Types"
      ]
    },
    {
      "cell_type": "markdown",
      "metadata": {
        "id": "HAdOX6BXNuGc",
        "colab_type": "text"
      },
      "source": [
        "### 2.1.1 Integer"
      ]
    },
    {
      "cell_type": "code",
      "metadata": {
        "id": "f5tErI4YNt77",
        "colab_type": "code",
        "colab": {}
      },
      "source": [
        "# Interger\n",
        "\n",
        "y = 2\n",
        "type(y)"
      ],
      "execution_count": 0,
      "outputs": []
    },
    {
      "cell_type": "markdown",
      "metadata": {
        "id": "26FZLeD3NtzS",
        "colab_type": "text"
      },
      "source": [
        "### 2.1.2 Float"
      ]
    },
    {
      "cell_type": "code",
      "metadata": {
        "id": "fZz3AqgVOFyO",
        "colab_type": "code",
        "colab": {}
      },
      "source": [
        "# Float\n",
        "\n",
        "z = 3.1416\n",
        "type(z)"
      ],
      "execution_count": 0,
      "outputs": []
    },
    {
      "cell_type": "code",
      "metadata": {
        "id": "0AhUFDzsOF5s",
        "colab_type": "code",
        "colab": {}
      },
      "source": [
        "# You can change the type from float to integer using int()\n",
        "\n",
        "int(z)"
      ],
      "execution_count": 0,
      "outputs": []
    },
    {
      "cell_type": "markdown",
      "metadata": {
        "id": "aF8aVJYeOGB8",
        "colab_type": "text"
      },
      "source": [
        "### 2.1.3 String"
      ]
    },
    {
      "cell_type": "code",
      "metadata": {
        "id": "TteglY2UOGIl",
        "colab_type": "code",
        "colab": {}
      },
      "source": [
        "this_is_a_string = 'Patrick'\n",
        "this_is_also_a_string = \"$%%^&*()njfnksdjfsdyftuy32uygsjdhfbmnasd\"\n",
        "number_can_also_be_string = \"123456\""
      ],
      "execution_count": 0,
      "outputs": []
    },
    {
      "cell_type": "code",
      "metadata": {
        "id": "z4g9XlnQOGNa",
        "colab_type": "code",
        "colab": {}
      },
      "source": [
        "# Anything within a \" or ' will be a string\n",
        "\n",
        "myname = \"Patrick\"\n",
        "type(myname)"
      ],
      "execution_count": 0,
      "outputs": []
    },
    {
      "cell_type": "code",
      "metadata": {
        "id": "O0UwUfdWOGQq",
        "colab_type": "code",
        "colab": {}
      },
      "source": [
        "# String can be concatenated by using + sign\n",
        "\n",
        "firstname  = 'Cristiano'\n",
        "lastname = 'Ronaldo'\n",
        "\n",
        "fullname = firstname + ' ' + lastname # Space also counts as string\n",
        "fullname"
      ],
      "execution_count": 0,
      "outputs": []
    },
    {
      "cell_type": "code",
      "metadata": {
        "id": "T9ikPxn3OGUR",
        "colab_type": "code",
        "colab": {}
      },
      "source": [
        "# Remember Integer and Float? They will also be string desipte they are not\n",
        "\n",
        "one = '1'\n",
        "two = '2.2'\n",
        "\n",
        "one + two # "
      ],
      "execution_count": 0,
      "outputs": []
    },
    {
      "cell_type": "code",
      "metadata": {
        "id": "qakXfj3tOGXT",
        "colab_type": "code",
        "colab": {}
      },
      "source": [
        "int(one) + float(two)"
      ],
      "execution_count": 0,
      "outputs": []
    },
    {
      "cell_type": "markdown",
      "metadata": {
        "id": "hU6dK5IsOGan",
        "colab_type": "text"
      },
      "source": [
        "### 2.1.4 Reserved Keywords in Python"
      ]
    },
    {
      "cell_type": "code",
      "metadata": {
        "id": "qMK64oSvOGd8",
        "colab_type": "code",
        "colab": {}
      },
      "source": [
        "# Don't use these keywords as variable !!! \n",
        "# They have special meanings and usage in Python\n",
        "# Here are some of the examples\n",
        "\n",
        "False\n",
        "None\n",
        "and\n",
        "if\n",
        "for\n",
        "from\n",
        "import\n",
        "as\n",
        "is\n",
        "in\n",
        "print"
      ],
      "execution_count": 0,
      "outputs": []
    },
    {
      "cell_type": "markdown",
      "metadata": {
        "id": "i79T47r4OGhF",
        "colab_type": "text"
      },
      "source": [
        "## 2.2.0 Math Operations in Python\n",
        "\n",
        "- Summation\n",
        "- Subtraction\n",
        "- Multiplication\n",
        "- Division"
      ]
    },
    {
      "cell_type": "markdown",
      "metadata": {
        "id": "gacjl7fUOGkS",
        "colab_type": "text"
      },
      "source": [
        "### 2.2.1 Summation"
      ]
    },
    {
      "cell_type": "code",
      "metadata": {
        "id": "Cg3T2aaiOGnL",
        "colab_type": "code",
        "colab": {}
      },
      "source": [
        "# You can use it like a calculator. Try 6 + 7? you should be expecting 13?\n",
        "\n",
        "6 + 7"
      ],
      "execution_count": 0,
      "outputs": []
    },
    {
      "cell_type": "code",
      "metadata": {
        "id": "bADl5fZyOGqd",
        "colab_type": "code",
        "colab": {}
      },
      "source": [
        "#Let's say I want to know how much to does it cost to the buy whole set of iphone\n",
        "\n",
        "iphoneX = 9998\n",
        "airpods = 1288\n",
        "\n",
        "price_for_new_iphone = iphoneX + airpods\n",
        "price_for_new_iphone"
      ],
      "execution_count": 0,
      "outputs": []
    },
    {
      "cell_type": "markdown",
      "metadata": {
        "id": "Cg6laE1kOGtq",
        "colab_type": "text"
      },
      "source": [
        "### 2.2.2 Subtraction"
      ]
    },
    {
      "cell_type": "code",
      "metadata": {
        "id": "kEHDI7B6Ntgz",
        "colab_type": "code",
        "colab": {}
      },
      "source": [
        "# You can use it like a calculator. Try 8 - 2? you should be expecting 6?\n",
        "\n",
        "8 - 2"
      ],
      "execution_count": 0,
      "outputs": []
    },
    {
      "cell_type": "code",
      "metadata": {
        "id": "ZWq2j-PONtNM",
        "colab_type": "code",
        "colab": {}
      },
      "source": [
        "# Assign 2019 to a variable called THISYEAR, \n",
        "\n",
        "THIS_YEAR = 2019"
      ],
      "execution_count": 0,
      "outputs": []
    },
    {
      "cell_type": "code",
      "metadata": {
        "id": "ApCJtNNKgazs",
        "colab_type": "code",
        "colab": {}
      },
      "source": [
        "# Assign the year of your birthday to  a variable called BIRTHYEAR\n",
        "\n",
        "BIRTH_YEAR =      # Don't forget to assign a birth year to the BIRTHYEAR variable   "
      ],
      "execution_count": 0,
      "outputs": []
    },
    {
      "cell_type": "code",
      "metadata": {
        "id": "TCbH3ziXga7k",
        "colab_type": "code",
        "colab": {}
      },
      "source": [
        "# Work out your age by substracting BIRTHYEAR by THISYEAR\n",
        "\n",
        "age = THIS_YEAR - BIRTH_YEAR\n",
        "age"
      ],
      "execution_count": 0,
      "outputs": []
    },
    {
      "cell_type": "markdown",
      "metadata": {
        "id": "aWmerWxZgbBy",
        "colab_type": "text"
      },
      "source": [
        "### 2.2.3 Multiplication"
      ]
    },
    {
      "cell_type": "code",
      "metadata": {
        "id": "hEZbsaXsgbGY",
        "colab_type": "code",
        "colab": {}
      },
      "source": [
        "# You can use it like a calculator. Try 7 * 6? you should be expecting 42?\n",
        "\n",
        "7 * 6"
      ],
      "execution_count": 0,
      "outputs": []
    },
    {
      "cell_type": "code",
      "metadata": {
        "id": "7G6Lf4NBgbKL",
        "colab_type": "code",
        "colab": {}
      },
      "source": [
        "# Let's assign 7.8 to a variable called exchange_rate\n",
        "\n",
        "exchange_rate = 7.8"
      ],
      "execution_count": 0,
      "outputs": []
    },
    {
      "cell_type": "code",
      "metadata": {
        "id": "BCa0QWongbNu",
        "colab_type": "code",
        "colab": {}
      },
      "source": [
        "# Let's assign 7.8 to a variable called exchange_rate\n",
        "\n",
        "exchange_rate = 7.8\n",
        "\n",
        "# Assign 100 to a variable called usd\n",
        "\n",
        "usd = 100   \n",
        "\n",
        "#workout how much hkd is worth of 100 usd\n",
        "hkd = usd * exchange_rate\n",
        "\n",
        "hkd"
      ],
      "execution_count": 0,
      "outputs": []
    },
    {
      "cell_type": "markdown",
      "metadata": {
        "id": "Xo7q8qdIgbRO",
        "colab_type": "text"
      },
      "source": [
        "### 2.2.4 Division"
      ]
    },
    {
      "cell_type": "code",
      "metadata": {
        "id": "lFVwSJ8VgbUo",
        "colab_type": "code",
        "colab": {}
      },
      "source": [
        "# You can use it like a calculator. Try 12 / 6? you should be expecting 2?\n",
        "\n",
        "\n",
        "12 / 6"
      ],
      "execution_count": 0,
      "outputs": []
    },
    {
      "cell_type": "code",
      "metadata": {
        "id": "QKkyYqWbgbYH",
        "colab_type": "code",
        "colab": {}
      },
      "source": [
        "# In division, the result would be float by default\n",
        "# You can do divsion with two slash (//) to indicate you want Integer as results\n",
        "\n",
        "12 // 6"
      ],
      "execution_count": 0,
      "outputs": []
    },
    {
      "cell_type": "markdown",
      "metadata": {
        "id": "HpHWV3sJgbba",
        "colab_type": "text"
      },
      "source": [
        "### 2.2.5 More examples"
      ]
    },
    {
      "cell_type": "code",
      "metadata": {
        "id": "la2Qjj1Sgbel",
        "colab_type": "code",
        "colab": {}
      },
      "source": [
        "# You don't need to define the type of variable. The interpreter will guess.\n",
        "\n",
        "a = 4\n",
        "b = 3\n",
        "\n",
        "print(a + b)\n",
        "print(a - b)\n",
        "print(a * b) \n",
        "print(a / b) "
      ],
      "execution_count": 0,
      "outputs": []
    },
    {
      "cell_type": "code",
      "metadata": {
        "id": "c_iSocIvgbiI",
        "colab_type": "code",
        "colab": {}
      },
      "source": [
        "# As in the previous example, if one element is floating point\n",
        "# the interpreter will do an automatic cast\n",
        "\n",
        "a = 6.   ## this is now a float\n",
        "b = 7\n",
        "\n",
        "print(a + b)\n",
        "print(a - b)\n",
        "print(a * b) \n",
        "print(a / b)"
      ],
      "execution_count": 0,
      "outputs": []
    },
    {
      "cell_type": "markdown",
      "metadata": {
        "id": "qpYV1lwqgblt",
        "colab_type": "text"
      },
      "source": [
        "## 2.3.0 Logical operation (Boolean, True or False)"
      ]
    },
    {
      "cell_type": "markdown",
      "metadata": {
        "id": "o5-hxW08hMqw",
        "colab_type": "text"
      },
      "source": [
        "### 2.3.1 The equal (==) sign"
      ]
    },
    {
      "cell_type": "code",
      "metadata": {
        "id": "cH-HxUa1g_sY",
        "colab_type": "code",
        "colab": {}
      },
      "source": [
        "## The == sign will determin whether the two values are equal\n",
        "\n",
        "x = 1\n",
        "x == 1 # Check if x equals one"
      ],
      "execution_count": 0,
      "outputs": []
    },
    {
      "cell_type": "markdown",
      "metadata": {
        "id": "_Ig9SzWIg_9z",
        "colab_type": "text"
      },
      "source": [
        "### 2.3.2 The not equal (!=) sign"
      ]
    },
    {
      "cell_type": "code",
      "metadata": {
        "id": "SGu1O_dhhAHc",
        "colab_type": "code",
        "colab": {}
      },
      "source": [
        "## The != sign will determin whether the two values are equal\n",
        "\n",
        "x = 1\n",
        "x != 1 # Check if x equals one"
      ],
      "execution_count": 0,
      "outputs": []
    },
    {
      "cell_type": "markdown",
      "metadata": {
        "id": "H4L4N5NphAQA",
        "colab_type": "text"
      },
      "source": [
        "### 2.3.3 Inequality signs (>, <)"
      ]
    },
    {
      "cell_type": "code",
      "metadata": {
        "id": "a3AMkJd0hAYv",
        "colab_type": "code",
        "colab": {}
      },
      "source": [
        "# > and < sign means bigger or smaller\n",
        "\n",
        "iphone = 9000\n",
        "samsung = 5000\n",
        "\n",
        "# You can change the sign to see a different results\n",
        "\n",
        "iphone > samsung "
      ],
      "execution_count": 0,
      "outputs": []
    },
    {
      "cell_type": "markdown",
      "metadata": {
        "id": "8HvDR37Ygboq",
        "colab_type": "text"
      },
      "source": [
        "### 2.3.4 Using them together >=, <= etc."
      ]
    },
    {
      "cell_type": "code",
      "metadata": {
        "id": "FX6HRUOrhcbL",
        "colab_type": "code",
        "colab": {}
      },
      "source": [
        "iphone <= samsung"
      ],
      "execution_count": 0,
      "outputs": []
    },
    {
      "cell_type": "markdown",
      "metadata": {
        "id": "kb4kclc9hcPi",
        "colab_type": "text"
      },
      "source": [
        "## 2.4.0 String Operations"
      ]
    },
    {
      "cell_type": "code",
      "metadata": {
        "id": "4Gs0RYoEhiWE",
        "colab_type": "code",
        "colab": {}
      },
      "source": [
        "# Python can handle very long text as well\n",
        "\n",
        "wiki = \"Python is a widely used high-level programming language for general-purpose programming, created by Guido van Rossum and first released in 1991\"\n",
        "\n",
        "print(wiki)"
      ],
      "execution_count": 0,
      "outputs": []
    },
    {
      "cell_type": "markdown",
      "metadata": {
        "id": "LrAOgg7Qhieh",
        "colab_type": "text"
      },
      "source": [
        "### 2.4.1 Slicing strings"
      ]
    },
    {
      "cell_type": "code",
      "metadata": {
        "id": "xhfQWbWIhiqV",
        "colab_type": "code",
        "colab": {}
      },
      "source": [
        "# You can try to slice different parts of a string\n",
        "# by using the index\n",
        "\n",
        "# The first letter will be indexed as 0\n",
        "\n",
        "wiki[0]"
      ],
      "execution_count": 0,
      "outputs": []
    },
    {
      "cell_type": "code",
      "metadata": {
        "id": "CM0nBTg9hivl",
        "colab_type": "code",
        "colab": {}
      },
      "source": [
        "# The last letter will be indexed as -1 \n",
        "\n",
        "wiki[-1]"
      ],
      "execution_count": 0,
      "outputs": []
    },
    {
      "cell_type": "code",
      "metadata": {
        "id": "UpmIzYF0hizb",
        "colab_type": "code",
        "colab": {}
      },
      "source": [
        "# You can also use [beginning_index:ending_index] to slice\n",
        "# a range of string into a shorter string (or called substring)\n",
        "\n",
        "wiki[0:23]"
      ],
      "execution_count": 0,
      "outputs": []
    },
    {
      "cell_type": "markdown",
      "metadata": {
        "id": "gzR28E9ehi2k",
        "colab_type": "text"
      },
      "source": [
        "### 2.4.2 String related functions"
      ]
    },
    {
      "cell_type": "code",
      "metadata": {
        "id": "S3bxYDV3hi51",
        "colab_type": "code",
        "colab": {}
      },
      "source": [
        "# Finding the location of a substring\n",
        "# It will return the first index if finds the substring\n",
        "\n",
        "print(wiki.find(\"Python\"))"
      ],
      "execution_count": 0,
      "outputs": []
    },
    {
      "cell_type": "code",
      "metadata": {
        "id": "ILM8vb4Ehi8r",
        "colab_type": "code",
        "colab": {}
      },
      "source": [
        "## Changing string to uppercase\n",
        "\n",
        "print(wiki.upper())"
      ],
      "execution_count": 0,
      "outputs": []
    },
    {
      "cell_type": "code",
      "metadata": {
        "id": "yHfCOqtCh9fo",
        "colab_type": "code",
        "colab": {}
      },
      "source": [
        "## Changing string to lowercase\n",
        "\n",
        "print(wiki.lower())"
      ],
      "execution_count": 0,
      "outputs": []
    },
    {
      "cell_type": "code",
      "metadata": {
        "id": "hvX8mYbEh9kV",
        "colab_type": "code",
        "colab": {}
      },
      "source": [
        "## Replacing substrings to something else\n",
        "\n",
        "print(wiki.replace('high', 'low'))"
      ],
      "execution_count": 0,
      "outputs": []
    },
    {
      "cell_type": "code",
      "metadata": {
        "id": "YmgOgi3Wh9ni",
        "colab_type": "code",
        "colab": {}
      },
      "source": [
        "## these operations do not modify the original string\n",
        "\n",
        "print(wiki)"
      ],
      "execution_count": 0,
      "outputs": []
    },
    {
      "cell_type": "code",
      "metadata": {
        "id": "e8l3RP5Zh-Bd",
        "colab_type": "code",
        "colab": {}
      },
      "source": [
        "# We can count the occurrences of a letter or word \n",
        "\n",
        "print(wiki.count('a'))\n",
        "print(wiki.count('Python'))"
      ],
      "execution_count": 0,
      "outputs": []
    },
    {
      "cell_type": "code",
      "metadata": {
        "id": "hcQ41EYBh-SM",
        "colab_type": "code",
        "colab": {}
      },
      "source": [
        "# \"in\" keyword returns a boolean\n",
        "\n",
        "print(\"python\" in wiki)\n",
        "print(\"language\" in wiki)"
      ],
      "execution_count": 0,
      "outputs": []
    },
    {
      "cell_type": "code",
      "metadata": {
        "id": "BINbRHsrh-fq",
        "colab_type": "code",
        "colab": {}
      },
      "source": [
        "## .split() separates fields \n",
        "\n",
        "print(wiki.split())\n",
        "# It would return a new data type called \"list\""
      ],
      "execution_count": 0,
      "outputs": []
    },
    {
      "cell_type": "code",
      "metadata": {
        "id": "RAGZkWpThi_r",
        "colab_type": "code",
        "colab": {}
      },
      "source": [
        "# You can use them together !\n",
        "\n",
        "# Change all the letters to lower case and count occurnce of a word\n",
        "\n",
        "print(wiki.lower().count('python'))"
      ],
      "execution_count": 0,
      "outputs": []
    },
    {
      "cell_type": "markdown",
      "metadata": {
        "id": "LPrM34cVL8vW",
        "colab_type": "text"
      },
      "source": [
        "# Module 3: Data Structures (List, Dictionary, Tuple, Dataframe)"
      ]
    },
    {
      "cell_type": "markdown",
      "metadata": {
        "id": "z_YdLD49L_Up",
        "colab_type": "text"
      },
      "source": [
        "## 3.1.0 List"
      ]
    },
    {
      "cell_type": "markdown",
      "metadata": {
        "id": "7mIqOKEFjsoZ",
        "colab_type": "text"
      },
      "source": [
        "### 3.1.1 List syntax\n"
      ]
    },
    {
      "cell_type": "code",
      "metadata": {
        "id": "AZKRtPYgjgVu",
        "colab_type": "code",
        "outputId": "d60bcd55-5a7c-4c09-d9aa-8a12b7fc096b",
        "colab": {
          "base_uri": "https://localhost:8080/",
          "height": 34
        }
      },
      "source": [
        "# We use square brackets to indicate a list\n",
        "\n",
        "sea_creatures = ['shark', 'cuttlefish', 'squid', 'mantis shrimp', 'anemone']\n",
        "print(sea_creatures)"
      ],
      "execution_count": 0,
      "outputs": [
        {
          "output_type": "stream",
          "text": [
            "['shark', 'cuttlefish', 'squid', 'mantis shrimp', 'anemone']\n"
          ],
          "name": "stdout"
        }
      ]
    },
    {
      "cell_type": "code",
      "metadata": {
        "id": "gbNxf6fvjj4X",
        "colab_type": "code",
        "outputId": "f203710a-318e-4051-9054-028dcb7a529f",
        "colab": {
          "base_uri": "https://localhost:8080/",
          "height": 34
        }
      },
      "source": [
        "# We can check the type of the sea_creatures variable\n",
        "\n",
        "type(sea_creatures)"
      ],
      "execution_count": 0,
      "outputs": [
        {
          "output_type": "execute_result",
          "data": {
            "text/plain": [
              "list"
            ]
          },
          "metadata": {
            "tags": []
          },
          "execution_count": 2
        }
      ]
    },
    {
      "cell_type": "markdown",
      "metadata": {
        "id": "xkP00K2qjmAn",
        "colab_type": "text"
      },
      "source": [
        "### 3.1.2 List & Index"
      ]
    },
    {
      "cell_type": "code",
      "metadata": {
        "id": "T5QP_tM3j9vH",
        "colab_type": "code",
        "outputId": "1ef91429-3511-4aae-d8da-b50f78f18ec0",
        "colab": {
          "base_uri": "https://localhost:8080/",
          "height": 68
        }
      },
      "source": [
        "# List begins at zero. similar to string slicing\n",
        "\n",
        "num_list = [1,2,3,4,5]\n",
        "\n",
        "print(num_list[0]) # use square bracket to indicate anything \"index\". index begins at 0 - \n",
        "# and this expression is trying to get the first item from the list!\n",
        "\n",
        "#This to select the second item\n",
        "print(num_list[1])\n",
        "\n",
        "#This to select the last item\n",
        "print(num_list[-1])\n",
        "\n",
        "#This to select the second last item\n",
        "print(num_list[-2])"
      ],
      "execution_count": 0,
      "outputs": [
        {
          "output_type": "stream",
          "text": [
            "1\n",
            "2\n",
            "5\n"
          ],
          "name": "stdout"
        }
      ]
    },
    {
      "cell_type": "code",
      "metadata": {
        "id": "2--X4XmPkErR",
        "colab_type": "code",
        "outputId": "4157f39a-96ba-41f8-fc75-1de8a21a0668",
        "colab": {
          "base_uri": "https://localhost:8080/",
          "height": 68
        }
      },
      "source": [
        "# And this is how to selet more than one item in list\n",
        "\n",
        "print(num_list[0:5])\n",
        "print(num_list[3:])\n",
        "print(num_list[:3])"
      ],
      "execution_count": 0,
      "outputs": [
        {
          "output_type": "stream",
          "text": [
            "[1, 2, 3, 4, 5]\n",
            "[4, 5]\n",
            "[1, 2, 3]\n"
          ],
          "name": "stdout"
        }
      ]
    },
    {
      "cell_type": "markdown",
      "metadata": {
        "id": "eIc-xC21kOlN",
        "colab_type": "text"
      },
      "source": [
        "### 3.1.3 Length of a list"
      ]
    },
    {
      "cell_type": "code",
      "metadata": {
        "id": "B_n12ezHkXxK",
        "colab_type": "code",
        "outputId": "59096601-9206-406e-dc34-bc4219028150",
        "colab": {
          "base_uri": "https://localhost:8080/",
          "height": 34
        }
      },
      "source": [
        "# You can use the len() function to look for the length of a list\n",
        "\n",
        "num_list = [1,2,3,4,5]\n",
        "len(num_list)"
      ],
      "execution_count": 0,
      "outputs": [
        {
          "output_type": "execute_result",
          "data": {
            "text/plain": [
              "5"
            ]
          },
          "metadata": {
            "tags": []
          },
          "execution_count": 6
        }
      ]
    },
    {
      "cell_type": "markdown",
      "metadata": {
        "id": "uJ0Axt0Nkcvi",
        "colab_type": "text"
      },
      "source": [
        "### 3.1.4 Manipulating the list"
      ]
    },
    {
      "cell_type": "code",
      "metadata": {
        "id": "F26XTiC1kj7a",
        "colab_type": "code",
        "colab": {}
      },
      "source": [
        "# You can add item to the list using append()\n",
        "\n",
        "empty_list = []\n",
        "empty_list.append(1)\n",
        "empty_list.append(2.0)\n",
        "empty_list.append('three')\n",
        "print(empty_list)"
      ],
      "execution_count": 0,
      "outputs": []
    },
    {
      "cell_type": "code",
      "metadata": {
        "id": "vzsncufTkf5u",
        "colab_type": "code",
        "colab": {}
      },
      "source": [
        "# You can remove a certain item using remove()\n",
        "\n",
        "num_list = [1,2,3,4,5]\n",
        "num_list.remove(1)\n",
        "print(num_list)"
      ],
      "execution_count": 0,
      "outputs": []
    },
    {
      "cell_type": "code",
      "metadata": {
        "id": "coVQSP8Dkxch",
        "colab_type": "code",
        "colab": {}
      },
      "source": [
        "# To sort the list, use .sort()\n",
        "\n",
        "num = [100,-20,1,2,3,1]\n",
        "num.sort()\n",
        "print(num)"
      ],
      "execution_count": 0,
      "outputs": []
    },
    {
      "cell_type": "code",
      "metadata": {
        "id": "KzzXoJhYkz3v",
        "colab_type": "code",
        "outputId": "f0eb179a-3dbb-43b5-8efb-0699b3e7df2e",
        "colab": {
          "base_uri": "https://localhost:8080/",
          "height": 51
        }
      },
      "source": [
        "# To find the max, use .max()\n",
        "\n",
        "num = [100,-20,1,2,3,1]\n",
        "print(max(num))\n",
        "\n",
        "# You can find the minmun using min() as well\n",
        "\n",
        "num = [100,-20,1,2,3,1]\n",
        "print(min(num))"
      ],
      "execution_count": 0,
      "outputs": [
        {
          "output_type": "stream",
          "text": [
            "100\n",
            "-20\n"
          ],
          "name": "stdout"
        }
      ]
    },
    {
      "cell_type": "code",
      "metadata": {
        "id": "5s6II820k0HN",
        "colab_type": "code",
        "colab": {}
      },
      "source": [
        "# To count a certain item, use count\n",
        "\n",
        "num = [100,-20,1,2,3,1]\n",
        "num.count(1)"
      ],
      "execution_count": 0,
      "outputs": []
    },
    {
      "cell_type": "code",
      "metadata": {
        "id": "NesbanCzk0Pa",
        "colab_type": "code",
        "outputId": "74503737-cc21-4dbd-95c3-376eab8103fd",
        "colab": {
          "base_uri": "https://localhost:8080/",
          "height": 34
        }
      },
      "source": [
        "# You can \"add\" two list together to form a longer list\n",
        "# This is called concatenating list \n",
        "\n",
        "asia = [\"china\", \"japan\", \"india\"]\n",
        "europe = [\"france\", \"germany\", \"italy\"]\n",
        "\n",
        "asia + europe"
      ],
      "execution_count": 0,
      "outputs": [
        {
          "output_type": "execute_result",
          "data": {
            "text/plain": [
              "['china', 'japan', 'india', 'france', 'germany', 'italy']"
            ]
          },
          "metadata": {
            "tags": []
          },
          "execution_count": 12
        }
      ]
    },
    {
      "cell_type": "markdown",
      "metadata": {
        "id": "k2ppH-TTk0V4",
        "colab_type": "text"
      },
      "source": [
        "### 3.1.5 Creating complex list\n"
      ]
    },
    {
      "cell_type": "code",
      "metadata": {
        "id": "XNKS9abEk0eE",
        "colab_type": "code",
        "outputId": "86e65891-1ce2-46c0-f5d3-1906d1c9fc12",
        "colab": {
          "base_uri": "https://localhost:8080/",
          "height": 34
        }
      },
      "source": [
        "# List can be of a more complicatd structure\n",
        "# Such as a list of list, or 2D list\n",
        "\n",
        "a = [1, 2, 3]\n",
        "b = [3, 4, 5]\n",
        "c = [5, 6, 7]\n",
        "\n",
        "[a,b,c]"
      ],
      "execution_count": 0,
      "outputs": [
        {
          "output_type": "execute_result",
          "data": {
            "text/plain": [
              "[[1, 2, 3], [3, 4, 5], [5, 6, 7]]"
            ]
          },
          "metadata": {
            "tags": []
          },
          "execution_count": 14
        }
      ]
    },
    {
      "cell_type": "markdown",
      "metadata": {
        "id": "V_DwoA4fk0ig",
        "colab_type": "text"
      },
      "source": [
        "### 3.1.6 Working with strings & list"
      ]
    },
    {
      "cell_type": "code",
      "metadata": {
        "id": "Rm1v0ZxGmKBG",
        "colab_type": "code",
        "colab": {}
      },
      "source": [
        "# You can use .split() to split a long string into a list\n",
        "\n",
        "shape_of_you = \"The club isn't the best place to find a lover.  So the bar is where I go (mmmm).  Me and my friends at the table doing shots.  Drinking fast and then we talk slow (mmmm).  And you come over and start up a conversation with just me.  And trust me I'll give it a chance now (mmmm).  Take my hand, stop, put Van The Man on the jukebox.  And then we start to dance.  And now I'm singing like.  .  Girl, you know I want your love.  Your love was handmade for somebody like me.  Come on now, follow my lead.  I may be crazy, don't mind me.  Say, boy, let's not talk too much.  Grab on my waist and put that body on me.  Come on now, follow my lead.  Come, come on now, follow my lead (mmmm).  .  I'm in love with the shape of you.  We push and pull like a magnet do.  Although my heart is falling too.  I'm in love with your body.  Last night you were in my room.  And now my bedsheets smell like you.  Every day discovering something brand new.  I'm in love with your body.  .  Oh I oh I oh I oh I.  I'm in love with your body.  Oh I oh I oh I oh I.  I'm in love with your body.  Oh I oh I oh I oh I.  I'm in love with your body.  Every day discovering something brand new.  I'm in love with the shape of you.  .  One week in we let the story begin.  We're going out on our first date (mmmm).  You and me are thrifty, so go all you can eat.  Fill up your bag and I fill up a plate (mmmm).  We talk for hours and hours about the sweet and the sour.  And how your family is doing okay (mmmm).  And leave and get in a taxi, then kiss in the backseat.  Tell the driver make the radio play.  And I'm singing like.  .  Girl, you know I want your love.  Your love was handmade for somebody like me.  Come on now, follow my lead.  I may be crazy, don't mind me.  Say, boy, let's not talk too much.  Grab on my waist and put that body on me.  Come on now, follow my lead.  Come, come on now, follow my lead (mmmm).  .  I'm in love with the shape of you.  We push and pull like a magnet do.  Although my heart is falling too.  I'm in love with your body.  Last night you were in my room.  And now my bedsheets smell like you.  Every day discovering something brand new.  I'm in love with your body.  .  Oh I oh I oh I oh I.  I'm in love with your body.  Oh I oh I oh I oh I.  I'm in love with your body.  Oh I oh I oh I oh I.  I'm in love with your body.  Every day discovering something brand new.  I'm in love with the shape of you.  .  Come on, be my baby, come on.  Come on, be my baby, come on.  Come on, be my baby, come on.  Come on, be my baby, come on.  Come on, be my baby, come on.  Come on, be my baby, come on.  Come on, be my baby, come on.  Come on, be my baby, come on.  .  I'm in love with the shape of you.  We push and pull like a magnet do.  Although my heart is falling too.  I'm in love with your body.  Last night you were in my room.  And now my bedsheets smell like you.  Every day discovering something brand new.  I'm in love with your body.  .  Come on, be my baby, come on.  Come on, be my baby, come on.  I'm in love with your body.  Come on, be my baby, come on.  Come on, be my baby, come on.  I'm in love with your body.  Come on, be my baby, come on.  Come on, be my baby, come on.  I'm in love with your body.  Every day discovering something brand new.  I'm in love with the shape of you\"\n",
        "shape_of_you_list = shape_of_you.split('.') # Split by the \".\"\n",
        "shape_of_you_list[:3]"
      ],
      "execution_count": 0,
      "outputs": []
    },
    {
      "cell_type": "markdown",
      "metadata": {
        "id": "TZFpxCIEmKOe",
        "colab_type": "text"
      },
      "source": [
        "## 3.2.0 Dictionary"
      ]
    },
    {
      "cell_type": "markdown",
      "metadata": {
        "id": "9y0EDOu0mKWf",
        "colab_type": "text"
      },
      "source": [
        "### 3.2.1 Dictionary Syntax"
      ]
    },
    {
      "cell_type": "code",
      "metadata": {
        "id": "vmaCOWXNmKex",
        "colab_type": "code",
        "outputId": "592f21e8-cdba-4432-cf07-6eac7ea21adb",
        "colab": {
          "base_uri": "https://localhost:8080/",
          "height": 34
        }
      },
      "source": [
        "# Dictionary is also called as a \"key value pair\". \n",
        "# You can directly extract the value based on the key\n",
        "\n",
        "# Let's make a dictionary:\n",
        "mygeobook = {\"Country\":\"USA\",\"Capital\":\"Washington,Dc\",\"President\":\"Donald Trump\",\"Region\":\"America\"}\n",
        "\n",
        "mygeobook['Country'] # Try change this to different keys in the dictionary"
      ],
      "execution_count": 0,
      "outputs": [
        {
          "output_type": "execute_result",
          "data": {
            "text/plain": [
              "'USA'"
            ]
          },
          "metadata": {
            "tags": []
          },
          "execution_count": 24
        }
      ]
    },
    {
      "cell_type": "code",
      "metadata": {
        "id": "7AgoLl_6mKlu",
        "colab_type": "code",
        "outputId": "b58ae957-32c3-4146-d673-dff550fec618",
        "colab": {
          "base_uri": "https://localhost:8080/",
          "height": 34
        }
      },
      "source": [
        "# We can check the type of the mygeobook variable\n",
        "\n",
        "type(mygeobook)"
      ],
      "execution_count": 0,
      "outputs": [
        {
          "output_type": "execute_result",
          "data": {
            "text/plain": [
              "dict"
            ]
          },
          "metadata": {
            "tags": []
          },
          "execution_count": 21
        }
      ]
    },
    {
      "cell_type": "markdown",
      "metadata": {
        "id": "icLMI8e7346w",
        "colab_type": "text"
      },
      "source": [
        "### 3.2.2 Dictionary examples"
      ]
    },
    {
      "cell_type": "code",
      "metadata": {
        "id": "ZVdu4LQ-mJ1U",
        "colab_type": "code",
        "outputId": "23595e59-adad-45da-c84a-7c12e43b00d0",
        "colab": {
          "base_uri": "https://localhost:8080/",
          "height": 85
        }
      },
      "source": [
        "# You can reassign a new value by the key\n",
        "\n",
        "mygeobook['Region'] = \"North America\"\n",
        "\n",
        "mygeobook # Region changed from \"America\" to \"North America\""
      ],
      "execution_count": 0,
      "outputs": [
        {
          "output_type": "execute_result",
          "data": {
            "text/plain": [
              "{'Capital': 'Washington,Dc',\n",
              " 'Country': 'USA',\n",
              " 'President': 'Donald Trump',\n",
              " 'Region': 'North America'}"
            ]
          },
          "metadata": {
            "tags": []
          },
          "execution_count": 22
        }
      ]
    },
    {
      "cell_type": "code",
      "metadata": {
        "id": "Ne41WRC7mJnr",
        "colab_type": "code",
        "outputId": "4a6bf5c9-a5f1-46c2-80ff-aa1c174be691",
        "colab": {
          "base_uri": "https://localhost:8080/",
          "height": 102
        }
      },
      "source": [
        "# It can also store a list as the value\n",
        "\n",
        "mygeobook['Cities'] = ['new york', 'san fransisco', 'chicago']\n",
        "\n",
        "mygeobook"
      ],
      "execution_count": 0,
      "outputs": [
        {
          "output_type": "execute_result",
          "data": {
            "text/plain": [
              "{'Capital': 'Washington,Dc',\n",
              " 'Cities': ['new york', 'san fransisco', 'chicago'],\n",
              " 'Country': 'USA',\n",
              " 'President': 'Donald Trump',\n",
              " 'Region': 'North America'}"
            ]
          },
          "metadata": {
            "tags": []
          },
          "execution_count": 23
        }
      ]
    },
    {
      "cell_type": "markdown",
      "metadata": {
        "id": "IpPspJIjobop",
        "colab_type": "text"
      },
      "source": [
        "## 3.3.0 Tuple"
      ]
    },
    {
      "cell_type": "markdown",
      "metadata": {
        "id": "LA9ZLilG4Fvz",
        "colab_type": "text"
      },
      "source": [
        "### 3.3.1 Tuple syntax"
      ]
    },
    {
      "cell_type": "code",
      "metadata": {
        "id": "BSyFaiGNobka",
        "colab_type": "code",
        "outputId": "825d4e91-d644-40e7-e593-2f4d87db4d0c",
        "colab": {
          "base_uri": "https://localhost:8080/",
          "height": 34
        }
      },
      "source": [
        "# Tuple are indicate by curly brackets\n",
        "\n",
        "num_tuple = (1, 2, 3)\n",
        "num_tuple"
      ],
      "execution_count": 0,
      "outputs": [
        {
          "output_type": "execute_result",
          "data": {
            "text/plain": [
              "(1, 2, 3)"
            ]
          },
          "metadata": {
            "tags": []
          },
          "execution_count": 26
        }
      ]
    },
    {
      "cell_type": "code",
      "metadata": {
        "id": "xiDfqnuHobeL",
        "colab_type": "code",
        "outputId": "1372f1f2-1123-4e2a-b577-063fc36b1451",
        "colab": {
          "base_uri": "https://localhost:8080/",
          "height": 34
        }
      },
      "source": [
        "# We can check the type of the num_tuple variable\n",
        "\n",
        "type(num_tuple)"
      ],
      "execution_count": 0,
      "outputs": [
        {
          "output_type": "execute_result",
          "data": {
            "text/plain": [
              "tuple"
            ]
          },
          "metadata": {
            "tags": []
          },
          "execution_count": 27
        }
      ]
    },
    {
      "cell_type": "markdown",
      "metadata": {
        "id": "kRJrT1SY3-R8",
        "colab_type": "text"
      },
      "source": [
        "### 3.3.1 Tuple examples"
      ]
    },
    {
      "cell_type": "code",
      "metadata": {
        "id": "mrudPw6IobW4",
        "colab_type": "code",
        "outputId": "6422b3bf-2dc9-4514-b91a-199d00c3a9aa",
        "colab": {
          "base_uri": "https://localhost:8080/",
          "height": 34
        }
      },
      "source": [
        "# Tuple is similar to list, you can retrive value by using the index\n",
        "\n",
        "num_tuple[0]"
      ],
      "execution_count": 0,
      "outputs": [
        {
          "output_type": "execute_result",
          "data": {
            "text/plain": [
              "1"
            ]
          },
          "metadata": {
            "tags": []
          },
          "execution_count": 52
        }
      ]
    },
    {
      "cell_type": "code",
      "metadata": {
        "id": "5ey9tavQo990",
        "colab_type": "code",
        "outputId": "7d3f6a8f-e09b-4397-9e93-4c41c170487d",
        "colab": {
          "base_uri": "https://localhost:8080/",
          "height": 181
        }
      },
      "source": [
        "# The main difference is new values cannot be assigned\n",
        "# This is called immutable\n",
        "\n",
        "num_tuple[0] = 3 # This will throw an error"
      ],
      "execution_count": 0,
      "outputs": [
        {
          "output_type": "error",
          "ename": "TypeError",
          "evalue": "ignored",
          "traceback": [
            "\u001b[0;31m---------------------------------------------------------------------------\u001b[0m",
            "\u001b[0;31mTypeError\u001b[0m                                 Traceback (most recent call last)",
            "\u001b[0;32m<ipython-input-31-e6a3ef5facdc>\u001b[0m in \u001b[0;36m<module>\u001b[0;34m()\u001b[0m\n\u001b[1;32m      1\u001b[0m \u001b[0;34m\u001b[0m\u001b[0m\n\u001b[0;32m----> 2\u001b[0;31m \u001b[0mnum_tuple\u001b[0m\u001b[0;34m[\u001b[0m\u001b[0;36m0\u001b[0m\u001b[0;34m]\u001b[0m \u001b[0;34m=\u001b[0m \u001b[0;36m3\u001b[0m\u001b[0;34m\u001b[0m\u001b[0;34m\u001b[0m\u001b[0m\n\u001b[0m",
            "\u001b[0;31mTypeError\u001b[0m: 'tuple' object does not support item assignment"
          ]
        }
      ]
    },
    {
      "cell_type": "code",
      "metadata": {
        "id": "EkCCHrgI4gIn",
        "colab_type": "code",
        "colab": {}
      },
      "source": [
        "# You can only reassign the whole tuple\n",
        "\n",
        "tuple_a = (\"apples\", \"bananas\", \"oranges\")\n",
        "print(tuple_a)\n",
        "\n",
        "tuple_a = (\"berries\", \"bananas\", \"oranges\")\n",
        "print(tuple_a)"
      ],
      "execution_count": 0,
      "outputs": []
    },
    {
      "cell_type": "markdown",
      "metadata": {
        "id": "144UJ71Mk0mN",
        "colab_type": "text"
      },
      "source": [
        "# Module 4: Operations and Control Flow"
      ]
    },
    {
      "cell_type": "markdown",
      "metadata": {
        "id": "n-tO2k8YpZSn",
        "colab_type": "text"
      },
      "source": [
        "## 4.0.0 Indentation matters!"
      ]
    },
    {
      "cell_type": "code",
      "metadata": {
        "id": "gnLoGWMspY_t",
        "colab_type": "code",
        "outputId": "4f73986f-7cd6-4c0e-e8dc-9f329510b600",
        "colab": {
          "base_uri": "https://localhost:8080/",
          "height": 34
        }
      },
      "source": [
        "# To tell python that you can in a certain operations (or control flow)\n",
        "# You have to use spaces to indicate that\n",
        "# We call it indentation\n",
        "\n",
        "programming_lauguage = 'Python'\n",
        "\n",
        "if(programming_lauguage == 'Python'):\n",
        "    # Add four spaces for the line below to fix the error\n",
        "    print('I am learning ' + programming_lauguage)\n",
        "else:\n",
        "    print('I am learning something else')"
      ],
      "execution_count": 0,
      "outputs": [
        {
          "output_type": "stream",
          "text": [
            "I am learning Python\n"
          ],
          "name": "stdout"
        }
      ]
    },
    {
      "cell_type": "markdown",
      "metadata": {
        "id": "MotSW311k0p3",
        "colab_type": "text"
      },
      "source": [
        "## 4.1.0 if else statements"
      ]
    },
    {
      "cell_type": "markdown",
      "metadata": {
        "id": "1uai3UtM5XsS",
        "colab_type": "text"
      },
      "source": [
        "### 4.1.1 if else syntax"
      ]
    },
    {
      "cell_type": "code",
      "metadata": {
        "id": "UMrEdzebpogT",
        "colab_type": "code",
        "colab": {}
      },
      "source": [
        "# Here is an example of an if else statement\n",
        "\n",
        "iphone = 9000\n",
        "samsung = 5000\n",
        "\n",
        "if(iphone>samsung):\n",
        "    print('buy Samsung!')\n",
        "else:\n",
        "    print('buy iphone!')"
      ],
      "execution_count": 0,
      "outputs": []
    },
    {
      "cell_type": "markdown",
      "metadata": {
        "id": "mTFWTGBWpqwT",
        "colab_type": "text"
      },
      "source": [
        "### 4.1.2 elif statements"
      ]
    },
    {
      "cell_type": "code",
      "metadata": {
        "id": "WS35eRjb5BwS",
        "colab_type": "code",
        "colab": {}
      },
      "source": [
        "# You can also uses elif to add one more if cluase\n",
        "\n",
        "iphone = 9000\n",
        "samsung = 5000\n",
        "\n",
        "if(iphone > samsung):\n",
        "    print('buy Samsung!')\n",
        "elif (samsung >= 6000 ):\n",
        "    print('buy iphone!')\n",
        "else:\n",
        "    print('No need to buy a phone')"
      ],
      "execution_count": 0,
      "outputs": []
    },
    {
      "cell_type": "markdown",
      "metadata": {
        "id": "m59Le7Tl5HJU",
        "colab_type": "text"
      },
      "source": [
        "### 4.1.3 Multiple conditions in if else"
      ]
    },
    {
      "cell_type": "code",
      "metadata": {
        "id": "vyLQ9laypq9w",
        "colab_type": "code",
        "outputId": "e39998c7-6a7b-403a-b984-65553b371940",
        "colab": {
          "base_uri": "https://localhost:8080/",
          "height": 34
        }
      },
      "source": [
        "# You can also evaluate with more than one condition\n",
        "\n",
        "iphone = 9000\n",
        "samsung = 5000\n",
        "\n",
        "if(iphone > samsung) and (samsung <= 6000 ):\n",
        "    print('buy Samsung!')\n",
        "elif (samsung >= 6000 ):\n",
        "    print('buy iphone!')\n",
        "else:\n",
        "    print('No need to buy a phone')\n"
      ],
      "execution_count": 0,
      "outputs": [
        {
          "output_type": "stream",
          "text": [
            "buy Samsung!\n"
          ],
          "name": "stdout"
        }
      ]
    },
    {
      "cell_type": "markdown",
      "metadata": {
        "id": "plw8BK3_prLT",
        "colab_type": "text"
      },
      "source": [
        "## 4.2.0 for loop"
      ]
    },
    {
      "cell_type": "markdown",
      "metadata": {
        "id": "HAZm8QczprZt",
        "colab_type": "text"
      },
      "source": [
        "### 4.2.1 for loop syntax"
      ]
    },
    {
      "cell_type": "code",
      "metadata": {
        "id": "LDfABAHZprn8",
        "colab_type": "code",
        "outputId": "2a1e11c0-ac89-474c-bf42-d675af12c105",
        "colab": {
          "base_uri": "https://localhost:8080/",
          "height": 68
        }
      },
      "source": [
        "# You can loop through a list of values\n",
        "\n",
        "shopping_list = [\"bananas\", \"chocolate\", \"carrots\"]\n",
        "\n",
        "# We can automatically loop through list elements without using indexes\n",
        "\n",
        "for item in shopping_list:\n",
        "    print(\"today I brought some \" + item)\n",
        "             "
      ],
      "execution_count": 0,
      "outputs": [
        {
          "output_type": "stream",
          "text": [
            "today I brought some bananas\n",
            "today I brought some chocolate\n",
            "today I brought some carrots\n"
          ],
          "name": "stdout"
        }
      ]
    },
    {
      "cell_type": "markdown",
      "metadata": {
        "id": "bfXMtTP83Y7Q",
        "colab_type": "text"
      },
      "source": [
        "### 4.2.2 for loop examples"
      ]
    },
    {
      "cell_type": "code",
      "metadata": {
        "id": "DsIyxuacr6Si",
        "colab_type": "code",
        "outputId": "85088d8f-7bad-4c0c-aee1-ce82c6161fe8",
        "colab": {
          "base_uri": "https://localhost:8080/",
          "height": 187
        }
      },
      "source": [
        "# You can also loop rough a range of numbers\n",
        "\n",
        "result=0\n",
        "for i in range(1,11):\n",
        "    result = result+i\n",
        "    print(result)"
      ],
      "execution_count": 0,
      "outputs": [
        {
          "output_type": "stream",
          "text": [
            "1\n",
            "3\n",
            "6\n",
            "10\n",
            "15\n",
            "21\n",
            "28\n",
            "36\n",
            "45\n",
            "55\n"
          ],
          "name": "stdout"
        }
      ]
    },
    {
      "cell_type": "code",
      "metadata": {
        "id": "kt0-stsApsWB",
        "colab_type": "code",
        "outputId": "eb52dd09-0ed8-457c-af7e-7095623ac08d",
        "colab": {
          "base_uri": "https://localhost:8080/",
          "height": 68
        }
      },
      "source": [
        "# You can loop two list together\n",
        "# Using zip()\n",
        "\n",
        "list_1 = [1, 2, 3]\n",
        "list_2 = [3, 4, 5]\n",
        "\n",
        "for x, y in zip(list_1, list_2):\n",
        "    print(x, y)"
      ],
      "execution_count": 0,
      "outputs": [
        {
          "output_type": "stream",
          "text": [
            "1 3\n",
            "2 4\n",
            "3 5\n"
          ],
          "name": "stdout"
        }
      ]
    },
    {
      "cell_type": "code",
      "metadata": {
        "id": "DYVceZqTpsZB",
        "colab_type": "code",
        "outputId": "47a16a3e-8af1-47e9-a9b0-94f7d9c29d24",
        "colab": {
          "base_uri": "https://localhost:8080/",
          "height": 119
        }
      },
      "source": [
        "# You can also get the index of the item during the loop \n",
        "# Using enumerate()\n",
        "\n",
        "list_enumerate = [1, 2, 3, 4, 5, 6]\n",
        "\n",
        "for i, x in enumerate(list_enumerate):\n",
        "    print(i, x)"
      ],
      "execution_count": 0,
      "outputs": [
        {
          "output_type": "stream",
          "text": [
            "0 1\n",
            "1 2\n",
            "2 3\n",
            "3 4\n",
            "4 5\n",
            "5 6\n"
          ],
          "name": "stdout"
        }
      ]
    },
    {
      "cell_type": "markdown",
      "metadata": {
        "id": "jwRk0Qjg5RVh",
        "colab_type": "text"
      },
      "source": [
        "## 4.3.0 While loop"
      ]
    },
    {
      "cell_type": "markdown",
      "metadata": {
        "id": "STu5AViN5RjX",
        "colab_type": "text"
      },
      "source": [
        "### 4.3.1 while loop syntax"
      ]
    },
    {
      "cell_type": "code",
      "metadata": {
        "id": "LKv4ynVU6R_W",
        "colab_type": "code",
        "outputId": "cf43133f-6e2c-4ed6-84cc-0a9e067aba78",
        "colab": {
          "base_uri": "https://localhost:8080/",
          "height": 119
        }
      },
      "source": [
        "# Here is a while loop example\n",
        "\n",
        "i = 1\n",
        "\n",
        "while i < 6:\n",
        "    print(i)\n",
        "    i = i + 1 \n",
        "\n",
        "print(i)"
      ],
      "execution_count": 0,
      "outputs": [
        {
          "output_type": "stream",
          "text": [
            "1\n",
            "2\n",
            "3\n",
            "4\n",
            "5\n",
            "6\n"
          ],
          "name": "stdout"
        }
      ]
    },
    {
      "cell_type": "markdown",
      "metadata": {
        "id": "nh8AVg1r6mTI",
        "colab_type": "text"
      },
      "source": [
        "### 4.3.2 break statement and infinite loop"
      ]
    },
    {
      "cell_type": "code",
      "metadata": {
        "id": "mmhKUGkH5Rvw",
        "colab_type": "code",
        "colab": {}
      },
      "source": [
        "# \n",
        "\n",
        "i = 1\n",
        "\n",
        "while i < 6:\n",
        "  print(i)\n",
        "  if i == 3:\n",
        "    break\n",
        "  i += 1"
      ],
      "execution_count": 0,
      "outputs": []
    },
    {
      "cell_type": "code",
      "metadata": {
        "id": "rh_4ZkQRpscq",
        "colab_type": "code",
        "colab": {}
      },
      "source": [
        ""
      ],
      "execution_count": 0,
      "outputs": []
    }
  ]
}