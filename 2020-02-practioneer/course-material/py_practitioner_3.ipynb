{
  "nbformat": 4,
  "nbformat_minor": 0,
  "metadata": {
    "colab": {
      "name": "py_practitioner_3.ipynb",
      "provenance": [],
      "include_colab_link": true
    },
    "kernelspec": {
      "name": "python3",
      "display_name": "Python 3"
    }
  },
  "cells": [
    {
      "cell_type": "markdown",
      "metadata": {
        "id": "view-in-github",
        "colab_type": "text"
      },
      "source": [
        "<a href=\"https://colab.research.google.com/github/codeforhk/python_practitioner/blob/master/py_practitioner_3.ipynb\" target=\"_parent\"><img src=\"https://colab.research.google.com/assets/colab-badge.svg\" alt=\"Open In Colab\"/></a>"
      ]
    },
    {
      "cell_type": "markdown",
      "metadata": {
        "id": "ejMS_tRueq8A",
        "colab_type": "text"
      },
      "source": [
        "\n",
        "    \n",
        "<img src=\"https://www.codefor.hk/wp-content/themes/DC_CUSTOM_THEME/img/logo-code-for-hk-logo.svg\" height=\"150\" width=\"150\"  align=\"center\"/>\n",
        "<h1><center>Code For Hong Kong - Python Practitioner class 3</center></h1>\n",
        "<h6><center>Written by Patrick Leung</center></h6>\n"
      ]
    },
    {
      "cell_type": "markdown",
      "metadata": {
        "id": "nLzB2n5JE1AA",
        "colab_type": "text"
      },
      "source": [
        "# Coding Test"
      ]
    },
    {
      "cell_type": "markdown",
      "metadata": {
        "id": "TMG24tU8A8ZU",
        "colab_type": "text"
      },
      "source": [
        "\n",
        "\n",
        "![alt text](https://miro.medium.com/max/3016/0*i1XbVjul86E_CSyf.jpg)\n",
        "\n",
        "Reaching this stage of the course, I want to test you on some interesting concepts. By now, you should understand a bit of how computer works, and what you can do with it.\n",
        "\n",
        "\n"
      ]
    },
    {
      "cell_type": "markdown",
      "metadata": {
        "id": "O402_lQKEoWg",
        "colab_type": "text"
      },
      "source": [
        "One thing with programming is data security - why are computer virus harmful?\n",
        "\n",
        "Understanding how to harm your computer is actually a great way to know the consequence."
      ]
    },
    {
      "cell_type": "markdown",
      "metadata": {
        "id": "9Gqy-3nBEmAF",
        "colab_type": "text"
      },
      "source": [
        "Using your knowledge, can you try the test below?"
      ]
    },
    {
      "cell_type": "markdown",
      "metadata": {
        "id": "z0YHO5usBCvA",
        "colab_type": "text"
      },
      "source": [
        "## Test 1 \n",
        "I have a 4 digit password with lower case letter and number. Can you write a code to crack it?"
      ]
    },
    {
      "cell_type": "code",
      "metadata": {
        "id": "HyeL46FBBe-s",
        "colab_type": "code",
        "colab": {}
      },
      "source": [
        "# Your code here"
      ],
      "execution_count": 0,
      "outputs": []
    },
    {
      "cell_type": "markdown",
      "metadata": {
        "id": "D_S0VKDeBRJG",
        "colab_type": "text"
      },
      "source": [
        "## Test 2\n",
        "\n",
        "Write the most dangerous program you can think of, and run it on the colab cloud. (Don't, don't, don't run it on your local labtop!)"
      ]
    },
    {
      "cell_type": "code",
      "metadata": {
        "id": "wmlILUsc_Ght",
        "colab_type": "code",
        "colab": {}
      },
      "source": [
        "# Your code here"
      ],
      "execution_count": 0,
      "outputs": []
    },
    {
      "cell_type": "markdown",
      "metadata": {
        "id": "f6zg5RvFDZBV",
        "colab_type": "text"
      },
      "source": [
        "## Test 3"
      ]
    },
    {
      "cell_type": "markdown",
      "metadata": {
        "id": "jhKmaeTND1zu",
        "colab_type": "text"
      },
      "source": [
        "Remember our student picker? \n",
        "1) Try to write a function with a student picker\n",
        "2) Think of a way to write a function, if the student fail to answer a question, increase the chance of the students getting picked."
      ]
    },
    {
      "cell_type": "code",
      "metadata": {
        "id": "ftTOYfJs_jqs",
        "colab_type": "code",
        "colab": {}
      },
      "source": [
        "# Your code here\n",
        "# (If you can't answer question 2, we will show you later in class :) \n"
      ],
      "execution_count": 0,
      "outputs": []
    },
    {
      "cell_type": "markdown",
      "metadata": {
        "id": "CoEwMdGloFit",
        "colab_type": "text"
      },
      "source": [
        "# 4.0.0 Practical Python Packages & Skills"
      ]
    },
    {
      "cell_type": "markdown",
      "metadata": {
        "id": "nbRxeRf7HvTp",
        "colab_type": "text"
      },
      "source": [
        "## 4.2.0 Pandas - Spreadsheet related"
      ]
    },
    {
      "cell_type": "markdown",
      "metadata": {
        "id": "QngPW2JbONF4",
        "colab_type": "text"
      },
      "source": [
        "![alt text](https://bookdata.readthedocs.io/en/latest/_images/base_01_pandas_5_0.png)"
      ]
    },
    {
      "cell_type": "markdown",
      "metadata": {
        "id": "faYQDHldPLTV",
        "colab_type": "text"
      },
      "source": [
        "![alt text](https://api.ning.com/files/C5oySLeJLWY1o*iHM1XzvVl*4GgdVb6RHvdGg3m0tGQSa9I4CeXVfkKcJ3Symm6jLi33fBq-d1K5VzxhTL7Z5ZMjuo6xhWj7/pandas.PNG)"
      ]
    },
    {
      "cell_type": "markdown",
      "metadata": {
        "id": "LHlq_KkuQcpf",
        "colab_type": "text"
      },
      "source": [
        "![alt text](https://pbpython.com/images/pandas-dataframe-shadow.png)"
      ]
    },
    {
      "cell_type": "code",
      "metadata": {
        "id": "kxQHde8BIUic",
        "colab_type": "code",
        "colab": {}
      },
      "source": [
        "import pandas as pd"
      ],
      "execution_count": 0,
      "outputs": []
    },
    {
      "cell_type": "markdown",
      "metadata": {
        "id": "LYuWdGAYQPjv",
        "colab_type": "text"
      },
      "source": [
        "## 4.3.0 Summary of basic pandas function"
      ]
    },
    {
      "cell_type": "markdown",
      "metadata": {
        "id": "sNZSxGdSNSfE",
        "colab_type": "text"
      },
      "source": [
        "### 4.3.1 To Create a dataframe"
      ]
    },
    {
      "cell_type": "code",
      "metadata": {
        "id": "ouCGT40gNSfG",
        "colab_type": "code",
        "colab": {}
      },
      "source": [
        "import pandas as pd\n",
        "df = pd.DataFrame({'A':[1,2,3]})"
      ],
      "execution_count": 0,
      "outputs": []
    },
    {
      "cell_type": "code",
      "metadata": {
        "id": "iuJleWD7NSfI",
        "colab_type": "code",
        "outputId": "727985bb-1efe-4de1-ab41-a14196c632d8",
        "colab": {}
      },
      "source": [
        "df"
      ],
      "execution_count": 0,
      "outputs": [
        {
          "output_type": "execute_result",
          "data": {
            "text/html": [
              "<div>\n",
              "<style>\n",
              "    .dataframe thead tr:only-child th {\n",
              "        text-align: right;\n",
              "    }\n",
              "\n",
              "    .dataframe thead th {\n",
              "        text-align: left;\n",
              "    }\n",
              "\n",
              "    .dataframe tbody tr th {\n",
              "        vertical-align: top;\n",
              "    }\n",
              "</style>\n",
              "<table border=\"1\" class=\"dataframe\">\n",
              "  <thead>\n",
              "    <tr style=\"text-align: right;\">\n",
              "      <th></th>\n",
              "      <th>A</th>\n",
              "    </tr>\n",
              "  </thead>\n",
              "  <tbody>\n",
              "    <tr>\n",
              "      <th>0</th>\n",
              "      <td>1</td>\n",
              "    </tr>\n",
              "    <tr>\n",
              "      <th>1</th>\n",
              "      <td>2</td>\n",
              "    </tr>\n",
              "    <tr>\n",
              "      <th>2</th>\n",
              "      <td>3</td>\n",
              "    </tr>\n",
              "  </tbody>\n",
              "</table>\n",
              "</div>"
            ],
            "text/plain": [
              "   A\n",
              "0  1\n",
              "1  2\n",
              "2  3"
            ]
          },
          "metadata": {
            "tags": []
          },
          "execution_count": 42
        }
      ]
    },
    {
      "cell_type": "code",
      "metadata": {
        "id": "9CkqxVE8NSfQ",
        "colab_type": "code",
        "colab": {}
      },
      "source": [
        "df.index = ['a','b','c']"
      ],
      "execution_count": 0,
      "outputs": []
    },
    {
      "cell_type": "code",
      "metadata": {
        "scrolled": false,
        "id": "i1p3vUmhNSfU",
        "colab_type": "code",
        "outputId": "1bbe9e4b-69c3-471b-83b8-039ef200d2b4",
        "colab": {}
      },
      "source": [
        "df"
      ],
      "execution_count": 0,
      "outputs": [
        {
          "output_type": "execute_result",
          "data": {
            "text/html": [
              "<div>\n",
              "<style>\n",
              "    .dataframe thead tr:only-child th {\n",
              "        text-align: right;\n",
              "    }\n",
              "\n",
              "    .dataframe thead th {\n",
              "        text-align: left;\n",
              "    }\n",
              "\n",
              "    .dataframe tbody tr th {\n",
              "        vertical-align: top;\n",
              "    }\n",
              "</style>\n",
              "<table border=\"1\" class=\"dataframe\">\n",
              "  <thead>\n",
              "    <tr style=\"text-align: right;\">\n",
              "      <th></th>\n",
              "      <th>A</th>\n",
              "    </tr>\n",
              "  </thead>\n",
              "  <tbody>\n",
              "    <tr>\n",
              "      <th>a</th>\n",
              "      <td>1</td>\n",
              "    </tr>\n",
              "    <tr>\n",
              "      <th>b</th>\n",
              "      <td>2</td>\n",
              "    </tr>\n",
              "    <tr>\n",
              "      <th>c</th>\n",
              "      <td>3</td>\n",
              "    </tr>\n",
              "  </tbody>\n",
              "</table>\n",
              "</div>"
            ],
            "text/plain": [
              "   A\n",
              "a  1\n",
              "b  2\n",
              "c  3"
            ]
          },
          "metadata": {
            "tags": []
          },
          "execution_count": 44
        }
      ]
    },
    {
      "cell_type": "code",
      "metadata": {
        "scrolled": true,
        "id": "Pu-LrBLyNSfZ",
        "colab_type": "code",
        "outputId": "9bd50c61-efea-4b6d-a9f2-ab317060a9fa",
        "colab": {}
      },
      "source": [
        "import pandas as pd\n",
        "df = pd.DataFrame({'A':[1,2,3],'B':['a','b','c']})\n",
        "df"
      ],
      "execution_count": 0,
      "outputs": [
        {
          "output_type": "execute_result",
          "data": {
            "text/html": [
              "<div>\n",
              "<style>\n",
              "    .dataframe thead tr:only-child th {\n",
              "        text-align: right;\n",
              "    }\n",
              "\n",
              "    .dataframe thead th {\n",
              "        text-align: left;\n",
              "    }\n",
              "\n",
              "    .dataframe tbody tr th {\n",
              "        vertical-align: top;\n",
              "    }\n",
              "</style>\n",
              "<table border=\"1\" class=\"dataframe\">\n",
              "  <thead>\n",
              "    <tr style=\"text-align: right;\">\n",
              "      <th></th>\n",
              "      <th>A</th>\n",
              "      <th>B</th>\n",
              "    </tr>\n",
              "  </thead>\n",
              "  <tbody>\n",
              "    <tr>\n",
              "      <th>0</th>\n",
              "      <td>1</td>\n",
              "      <td>a</td>\n",
              "    </tr>\n",
              "    <tr>\n",
              "      <th>1</th>\n",
              "      <td>2</td>\n",
              "      <td>b</td>\n",
              "    </tr>\n",
              "    <tr>\n",
              "      <th>2</th>\n",
              "      <td>3</td>\n",
              "      <td>c</td>\n",
              "    </tr>\n",
              "  </tbody>\n",
              "</table>\n",
              "</div>"
            ],
            "text/plain": [
              "   A  B\n",
              "0  1  a\n",
              "1  2  b\n",
              "2  3  c"
            ]
          },
          "metadata": {
            "tags": []
          },
          "execution_count": 45
        }
      ]
    },
    {
      "cell_type": "markdown",
      "metadata": {
        "id": "ykV0Cfx6NSfc",
        "colab_type": "text"
      },
      "source": [
        " ...or read from some other source"
      ]
    },
    {
      "cell_type": "code",
      "metadata": {
        "id": "wZTF6t9JNSfe",
        "colab_type": "code",
        "colab": {}
      },
      "source": [
        "url = 'https://raw.githubusercontent.com/miga101/course-DSML-101/master/pandas_class/diamonds.csv'\n",
        "df2 = pd.read_csv(url)\n"
      ],
      "execution_count": 0,
      "outputs": []
    },
    {
      "cell_type": "markdown",
      "metadata": {
        "colab_type": "text",
        "id": "vCp80o6jQDPY"
      },
      "source": [
        "### 4.3.2 To select a subset of dataframe"
      ]
    },
    {
      "cell_type": "markdown",
      "metadata": {
        "colab_type": "text",
        "id": "bWawQ-6BQDPa"
      },
      "source": [
        " You can select a column by square bracket, column names"
      ]
    },
    {
      "cell_type": "code",
      "metadata": {
        "colab_type": "code",
        "outputId": "d04c2f45-1bbb-4ae0-a885-d150f75bd43c",
        "id": "8Nat2xUeQDPa",
        "colab": {}
      },
      "source": [
        "df"
      ],
      "execution_count": 0,
      "outputs": [
        {
          "output_type": "execute_result",
          "data": {
            "text/html": [
              "<div>\n",
              "<style>\n",
              "    .dataframe thead tr:only-child th {\n",
              "        text-align: right;\n",
              "    }\n",
              "\n",
              "    .dataframe thead th {\n",
              "        text-align: left;\n",
              "    }\n",
              "\n",
              "    .dataframe tbody tr th {\n",
              "        vertical-align: top;\n",
              "    }\n",
              "</style>\n",
              "<table border=\"1\" class=\"dataframe\">\n",
              "  <thead>\n",
              "    <tr style=\"text-align: right;\">\n",
              "      <th></th>\n",
              "      <th>A</th>\n",
              "      <th>B</th>\n",
              "    </tr>\n",
              "  </thead>\n",
              "  <tbody>\n",
              "    <tr>\n",
              "      <th>0</th>\n",
              "      <td>1</td>\n",
              "      <td>a</td>\n",
              "    </tr>\n",
              "    <tr>\n",
              "      <th>1</th>\n",
              "      <td>2</td>\n",
              "      <td>b</td>\n",
              "    </tr>\n",
              "    <tr>\n",
              "      <th>2</th>\n",
              "      <td>3</td>\n",
              "      <td>c</td>\n",
              "    </tr>\n",
              "  </tbody>\n",
              "</table>\n",
              "</div>"
            ],
            "text/plain": [
              "   A  B\n",
              "0  1  a\n",
              "1  2  b\n",
              "2  3  c"
            ]
          },
          "metadata": {
            "tags": []
          },
          "execution_count": 50
        }
      ]
    },
    {
      "cell_type": "code",
      "metadata": {
        "colab_type": "code",
        "outputId": "f85e2fff-3b8e-4c6f-b388-06acaa0a10d1",
        "id": "q4aqDaK-QDPd",
        "colab": {}
      },
      "source": [
        "df['B']"
      ],
      "execution_count": 0,
      "outputs": [
        {
          "output_type": "execute_result",
          "data": {
            "text/plain": [
              "0    a\n",
              "1    b\n",
              "2    c\n",
              "Name: B, dtype: object"
            ]
          },
          "metadata": {
            "tags": []
          },
          "execution_count": 51
        }
      ]
    },
    {
      "cell_type": "code",
      "metadata": {
        "colab_type": "code",
        "outputId": "abb6d3be-b3c2-4c8a-8ef2-6589fed58f80",
        "id": "qq3iecvQQDPh",
        "colab": {}
      },
      "source": [
        "df['A']"
      ],
      "execution_count": 0,
      "outputs": [
        {
          "output_type": "execute_result",
          "data": {
            "text/plain": [
              "0    1\n",
              "1    2\n",
              "2    3\n",
              "Name: A, dtype: int64"
            ]
          },
          "metadata": {
            "tags": []
          },
          "execution_count": 53
        }
      ]
    },
    {
      "cell_type": "code",
      "metadata": {
        "colab_type": "code",
        "outputId": "ca1ea952-6ca4-4205-e62c-880ec4331f15",
        "id": "SrSOGehwQDPk",
        "colab": {}
      },
      "source": [
        "#e.g to select a column called A\n",
        "df.A\n",
        "df['A']"
      ],
      "execution_count": 0,
      "outputs": [
        {
          "output_type": "execute_result",
          "data": {
            "text/plain": [
              "0    1\n",
              "1    2\n",
              "2    3\n",
              "Name: A, dtype: int64"
            ]
          },
          "metadata": {
            "tags": []
          },
          "execution_count": 4
        }
      ]
    },
    {
      "cell_type": "markdown",
      "metadata": {
        "colab_type": "text",
        "id": "zTju9wZdQDPm"
      },
      "source": [
        "You can use \"columns\" list all the columns "
      ]
    },
    {
      "cell_type": "code",
      "metadata": {
        "colab_type": "code",
        "id": "9ZvvpiqpQDPn",
        "colab": {}
      },
      "source": [
        "df.columns = ['patrick','data']"
      ],
      "execution_count": 0,
      "outputs": []
    },
    {
      "cell_type": "code",
      "metadata": {
        "colab_type": "code",
        "outputId": "9d03c8a3-51c4-436f-fd98-2689390e3e1a",
        "id": "f-HiD3W-QDPt",
        "colab": {}
      },
      "source": [
        "df.columns\n",
        "\n",
        "df.columns = ['A','B']\n",
        "df"
      ],
      "execution_count": 0,
      "outputs": [
        {
          "output_type": "execute_result",
          "data": {
            "text/html": [
              "<div>\n",
              "<style>\n",
              "    .dataframe thead tr:only-child th {\n",
              "        text-align: right;\n",
              "    }\n",
              "\n",
              "    .dataframe thead th {\n",
              "        text-align: left;\n",
              "    }\n",
              "\n",
              "    .dataframe tbody tr th {\n",
              "        vertical-align: top;\n",
              "    }\n",
              "</style>\n",
              "<table border=\"1\" class=\"dataframe\">\n",
              "  <thead>\n",
              "    <tr style=\"text-align: right;\">\n",
              "      <th></th>\n",
              "      <th>A</th>\n",
              "      <th>B</th>\n",
              "    </tr>\n",
              "  </thead>\n",
              "  <tbody>\n",
              "    <tr>\n",
              "      <th>0</th>\n",
              "      <td>1</td>\n",
              "      <td>a</td>\n",
              "    </tr>\n",
              "    <tr>\n",
              "      <th>1</th>\n",
              "      <td>2</td>\n",
              "      <td>b</td>\n",
              "    </tr>\n",
              "    <tr>\n",
              "      <th>2</th>\n",
              "      <td>3</td>\n",
              "      <td>c</td>\n",
              "    </tr>\n",
              "  </tbody>\n",
              "</table>\n",
              "</div>"
            ],
            "text/plain": [
              "   A  B\n",
              "0  1  a\n",
              "1  2  b\n",
              "2  3  c"
            ]
          },
          "metadata": {
            "tags": []
          },
          "execution_count": 58
        }
      ]
    },
    {
      "cell_type": "markdown",
      "metadata": {
        "colab_type": "text",
        "id": "I3CPmtseQDPy"
      },
      "source": [
        " Or, you can use \"loc\" to select a subset of the dataframe"
      ]
    },
    {
      "cell_type": "code",
      "metadata": {
        "colab_type": "code",
        "outputId": "56ea7052-7136-4ff3-cb53-a6f358568951",
        "id": "6WVCIOrvQDP1",
        "colab": {}
      },
      "source": [
        "df.loc[]"
      ],
      "execution_count": 0,
      "outputs": [
        {
          "output_type": "execute_result",
          "data": {
            "text/html": [
              "<div>\n",
              "<style>\n",
              "    .dataframe thead tr:only-child th {\n",
              "        text-align: right;\n",
              "    }\n",
              "\n",
              "    .dataframe thead th {\n",
              "        text-align: left;\n",
              "    }\n",
              "\n",
              "    .dataframe tbody tr th {\n",
              "        vertical-align: top;\n",
              "    }\n",
              "</style>\n",
              "<table border=\"1\" class=\"dataframe\">\n",
              "  <thead>\n",
              "    <tr style=\"text-align: right;\">\n",
              "      <th></th>\n",
              "      <th>A</th>\n",
              "      <th>B</th>\n",
              "    </tr>\n",
              "  </thead>\n",
              "  <tbody>\n",
              "    <tr>\n",
              "      <th>0</th>\n",
              "      <td>1</td>\n",
              "      <td>a</td>\n",
              "    </tr>\n",
              "    <tr>\n",
              "      <th>1</th>\n",
              "      <td>2</td>\n",
              "      <td>b</td>\n",
              "    </tr>\n",
              "    <tr>\n",
              "      <th>2</th>\n",
              "      <td>3</td>\n",
              "      <td>c</td>\n",
              "    </tr>\n",
              "  </tbody>\n",
              "</table>\n",
              "</div>"
            ],
            "text/plain": [
              "   A  B\n",
              "0  1  a\n",
              "1  2  b\n",
              "2  3  c"
            ]
          },
          "metadata": {
            "tags": []
          },
          "execution_count": 59
        }
      ]
    },
    {
      "cell_type": "code",
      "metadata": {
        "scrolled": true,
        "colab_type": "code",
        "id": "qK4K07RTQDP5",
        "colab": {}
      },
      "source": [
        "df.loc[2,'B']  = 'patrick'"
      ],
      "execution_count": 0,
      "outputs": []
    },
    {
      "cell_type": "code",
      "metadata": {
        "colab_type": "code",
        "outputId": "89d20ec6-6a59-4f33-e958-31b053b144a4",
        "id": "NVF53Na7QDP8",
        "colab": {}
      },
      "source": [
        "df"
      ],
      "execution_count": 0,
      "outputs": [
        {
          "output_type": "execute_result",
          "data": {
            "text/html": [
              "<div>\n",
              "<style>\n",
              "    .dataframe thead tr:only-child th {\n",
              "        text-align: right;\n",
              "    }\n",
              "\n",
              "    .dataframe thead th {\n",
              "        text-align: left;\n",
              "    }\n",
              "\n",
              "    .dataframe tbody tr th {\n",
              "        vertical-align: top;\n",
              "    }\n",
              "</style>\n",
              "<table border=\"1\" class=\"dataframe\">\n",
              "  <thead>\n",
              "    <tr style=\"text-align: right;\">\n",
              "      <th></th>\n",
              "      <th>A</th>\n",
              "      <th>B</th>\n",
              "    </tr>\n",
              "  </thead>\n",
              "  <tbody>\n",
              "    <tr>\n",
              "      <th>0</th>\n",
              "      <td>1</td>\n",
              "      <td>a</td>\n",
              "    </tr>\n",
              "    <tr>\n",
              "      <th>1</th>\n",
              "      <td>2</td>\n",
              "      <td>b</td>\n",
              "    </tr>\n",
              "    <tr>\n",
              "      <th>2</th>\n",
              "      <td>3</td>\n",
              "      <td>patrick</td>\n",
              "    </tr>\n",
              "  </tbody>\n",
              "</table>\n",
              "</div>"
            ],
            "text/plain": [
              "   A        B\n",
              "0  1        a\n",
              "1  2        b\n",
              "2  3  patrick"
            ]
          },
          "metadata": {
            "tags": []
          },
          "execution_count": 62
        }
      ]
    },
    {
      "cell_type": "markdown",
      "metadata": {
        "colab_type": "text",
        "id": "JAEHcmHnQDQA"
      },
      "source": [
        "Or, you can use \"iloc\" to use index to select a subset of the dataframe"
      ]
    },
    {
      "cell_type": "code",
      "metadata": {
        "scrolled": true,
        "colab_type": "code",
        "outputId": "452b3ad0-fee7-4d79-ae15-ad20021adc59",
        "id": "0r4rm23FQDQB",
        "colab": {}
      },
      "source": [
        "df.iloc[2,0]"
      ],
      "execution_count": 0,
      "outputs": [
        {
          "output_type": "execute_result",
          "data": {
            "text/plain": [
              "3"
            ]
          },
          "metadata": {
            "tags": []
          },
          "execution_count": 64
        }
      ]
    },
    {
      "cell_type": "markdown",
      "metadata": {
        "colab_type": "text",
        "id": "0Hm0tjizQDQC"
      },
      "source": [
        "### 4.3.3 Manipulating the dataset"
      ]
    },
    {
      "cell_type": "markdown",
      "metadata": {
        "colab_type": "text",
        "id": "bwKi1yGBQDQD"
      },
      "source": [
        "##### simply use a new column name to add a column"
      ]
    },
    {
      "cell_type": "code",
      "metadata": {
        "colab_type": "code",
        "outputId": "bb15eb76-9d99-439b-d873-23f5a0c91456",
        "id": "xK_3lJ34QDQF",
        "colab": {}
      },
      "source": [
        "df['C'] = [0.1,0.2,0.3]\n",
        "df"
      ],
      "execution_count": 0,
      "outputs": [
        {
          "output_type": "execute_result",
          "data": {
            "text/html": [
              "<div>\n",
              "<style>\n",
              "    .dataframe thead tr:only-child th {\n",
              "        text-align: right;\n",
              "    }\n",
              "\n",
              "    .dataframe thead th {\n",
              "        text-align: left;\n",
              "    }\n",
              "\n",
              "    .dataframe tbody tr th {\n",
              "        vertical-align: top;\n",
              "    }\n",
              "</style>\n",
              "<table border=\"1\" class=\"dataframe\">\n",
              "  <thead>\n",
              "    <tr style=\"text-align: right;\">\n",
              "      <th></th>\n",
              "      <th>A</th>\n",
              "      <th>B</th>\n",
              "      <th>C</th>\n",
              "    </tr>\n",
              "  </thead>\n",
              "  <tbody>\n",
              "    <tr>\n",
              "      <th>0</th>\n",
              "      <td>1</td>\n",
              "      <td>a</td>\n",
              "      <td>0.1</td>\n",
              "    </tr>\n",
              "    <tr>\n",
              "      <th>1</th>\n",
              "      <td>2</td>\n",
              "      <td>b</td>\n",
              "      <td>0.2</td>\n",
              "    </tr>\n",
              "    <tr>\n",
              "      <th>2</th>\n",
              "      <td>3</td>\n",
              "      <td>patrick</td>\n",
              "      <td>0.3</td>\n",
              "    </tr>\n",
              "  </tbody>\n",
              "</table>\n",
              "</div>"
            ],
            "text/plain": [
              "   A        B    C\n",
              "0  1        a  0.1\n",
              "1  2        b  0.2\n",
              "2  3  patrick  0.3"
            ]
          },
          "metadata": {
            "tags": []
          },
          "execution_count": 66
        }
      ]
    },
    {
      "cell_type": "code",
      "metadata": {
        "colab_type": "code",
        "id": "HAah4tkLQDQJ",
        "colab": {}
      },
      "source": [
        "df['C'] = [0.1,0.2,0.4]"
      ],
      "execution_count": 0,
      "outputs": []
    },
    {
      "cell_type": "code",
      "metadata": {
        "colab_type": "code",
        "outputId": "a2b14b79-a821-4b62-8cb4-c377b5f16ade",
        "id": "z2h9sjyBQDQP",
        "colab": {}
      },
      "source": [
        "# IMPORTANT\n",
        "df['C'].apply(lambda x: x*4)"
      ],
      "execution_count": 0,
      "outputs": [
        {
          "output_type": "execute_result",
          "data": {
            "text/plain": [
              "0    0.4\n",
              "1    0.8\n",
              "2    1.2\n",
              "Name: C, dtype: float64"
            ]
          },
          "metadata": {
            "tags": []
          },
          "execution_count": 70
        }
      ]
    },
    {
      "cell_type": "code",
      "metadata": {
        "colab_type": "code",
        "outputId": "0ef796d5-efbd-4ca2-d48c-2a771b595451",
        "id": "3URjakEQQDQT",
        "colab": {}
      },
      "source": [
        "df"
      ],
      "execution_count": 0,
      "outputs": [
        {
          "output_type": "execute_result",
          "data": {
            "text/html": [
              "<div>\n",
              "<style>\n",
              "    .dataframe thead tr:only-child th {\n",
              "        text-align: right;\n",
              "    }\n",
              "\n",
              "    .dataframe thead th {\n",
              "        text-align: left;\n",
              "    }\n",
              "\n",
              "    .dataframe tbody tr th {\n",
              "        vertical-align: top;\n",
              "    }\n",
              "</style>\n",
              "<table border=\"1\" class=\"dataframe\">\n",
              "  <thead>\n",
              "    <tr style=\"text-align: right;\">\n",
              "      <th></th>\n",
              "      <th>A</th>\n",
              "      <th>B</th>\n",
              "      <th>C</th>\n",
              "    </tr>\n",
              "  </thead>\n",
              "  <tbody>\n",
              "    <tr>\n",
              "      <th>0</th>\n",
              "      <td>1</td>\n",
              "      <td>a</td>\n",
              "      <td>0.1</td>\n",
              "    </tr>\n",
              "    <tr>\n",
              "      <th>1</th>\n",
              "      <td>2</td>\n",
              "      <td>b</td>\n",
              "      <td>0.2</td>\n",
              "    </tr>\n",
              "    <tr>\n",
              "      <th>2</th>\n",
              "      <td>3</td>\n",
              "      <td>patrick</td>\n",
              "      <td>0.4</td>\n",
              "    </tr>\n",
              "  </tbody>\n",
              "</table>\n",
              "</div>"
            ],
            "text/plain": [
              "   A        B    C\n",
              "0  1        a  0.1\n",
              "1  2        b  0.2\n",
              "2  3  patrick  0.4"
            ]
          },
          "metadata": {
            "tags": []
          },
          "execution_count": 52
        }
      ]
    },
    {
      "cell_type": "code",
      "metadata": {
        "colab_type": "code",
        "outputId": "16de4d93-291a-4dce-e5b4-a5ef592174f4",
        "id": "qHJA15zyQDQU",
        "colab": {}
      },
      "source": [
        "df['C'] = [0.1,0.2,0.3]\n",
        "df"
      ],
      "execution_count": 0,
      "outputs": [
        {
          "output_type": "execute_result",
          "data": {
            "text/html": [
              "<div>\n",
              "<style>\n",
              "    .dataframe thead tr:only-child th {\n",
              "        text-align: right;\n",
              "    }\n",
              "\n",
              "    .dataframe thead th {\n",
              "        text-align: left;\n",
              "    }\n",
              "\n",
              "    .dataframe tbody tr th {\n",
              "        vertical-align: top;\n",
              "    }\n",
              "</style>\n",
              "<table border=\"1\" class=\"dataframe\">\n",
              "  <thead>\n",
              "    <tr style=\"text-align: right;\">\n",
              "      <th></th>\n",
              "      <th>A</th>\n",
              "      <th>B</th>\n",
              "      <th>C</th>\n",
              "    </tr>\n",
              "  </thead>\n",
              "  <tbody>\n",
              "    <tr>\n",
              "      <th>0</th>\n",
              "      <td>1</td>\n",
              "      <td>a</td>\n",
              "      <td>0.1</td>\n",
              "    </tr>\n",
              "    <tr>\n",
              "      <th>1</th>\n",
              "      <td>2</td>\n",
              "      <td>b</td>\n",
              "      <td>0.2</td>\n",
              "    </tr>\n",
              "    <tr>\n",
              "      <th>2</th>\n",
              "      <td>3</td>\n",
              "      <td>c</td>\n",
              "      <td>0.3</td>\n",
              "    </tr>\n",
              "  </tbody>\n",
              "</table>\n",
              "</div>"
            ],
            "text/plain": [
              "   A  B    C\n",
              "0  1  a  0.1\n",
              "1  2  b  0.2\n",
              "2  3  c  0.3"
            ]
          },
          "metadata": {
            "tags": []
          },
          "execution_count": 16
        }
      ]
    },
    {
      "cell_type": "markdown",
      "metadata": {
        "colab_type": "text",
        "id": "nh5p4kKeQDQX"
      },
      "source": [
        "##### Use apply to manipulate a column"
      ]
    },
    {
      "cell_type": "code",
      "metadata": {
        "colab_type": "code",
        "id": "mtWyZtlLQDQY",
        "colab": {}
      },
      "source": [
        "df['C'] = [i*2 for i in df['C']]"
      ],
      "execution_count": 0,
      "outputs": []
    },
    {
      "cell_type": "code",
      "metadata": {
        "colab_type": "code",
        "outputId": "00c26dae-4d55-4e36-a0c5-57d819a45be8",
        "id": "gyNiyjGxQDQa",
        "colab": {}
      },
      "source": [
        "df"
      ],
      "execution_count": 0,
      "outputs": [
        {
          "output_type": "execute_result",
          "data": {
            "text/html": [
              "<div>\n",
              "<style>\n",
              "    .dataframe thead tr:only-child th {\n",
              "        text-align: right;\n",
              "    }\n",
              "\n",
              "    .dataframe thead th {\n",
              "        text-align: left;\n",
              "    }\n",
              "\n",
              "    .dataframe tbody tr th {\n",
              "        vertical-align: top;\n",
              "    }\n",
              "</style>\n",
              "<table border=\"1\" class=\"dataframe\">\n",
              "  <thead>\n",
              "    <tr style=\"text-align: right;\">\n",
              "      <th></th>\n",
              "      <th>A</th>\n",
              "      <th>B</th>\n",
              "      <th>C</th>\n",
              "    </tr>\n",
              "  </thead>\n",
              "  <tbody>\n",
              "    <tr>\n",
              "      <th>0</th>\n",
              "      <td>1</td>\n",
              "      <td>a</td>\n",
              "      <td>0.2</td>\n",
              "    </tr>\n",
              "    <tr>\n",
              "      <th>1</th>\n",
              "      <td>2</td>\n",
              "      <td>b</td>\n",
              "      <td>0.4</td>\n",
              "    </tr>\n",
              "    <tr>\n",
              "      <th>2</th>\n",
              "      <td>3</td>\n",
              "      <td>patrick</td>\n",
              "      <td>0.6</td>\n",
              "    </tr>\n",
              "  </tbody>\n",
              "</table>\n",
              "</div>"
            ],
            "text/plain": [
              "   A        B    C\n",
              "0  1        a  0.2\n",
              "1  2        b  0.4\n",
              "2  3  patrick  0.6"
            ]
          },
          "metadata": {
            "tags": []
          },
          "execution_count": 72
        }
      ]
    },
    {
      "cell_type": "code",
      "metadata": {
        "colab_type": "code",
        "id": "RmDOXGWzQDQc",
        "colab": {}
      },
      "source": [
        "df['C'] = df['C'].apply(lambda x: x*2)"
      ],
      "execution_count": 0,
      "outputs": []
    },
    {
      "cell_type": "code",
      "metadata": {
        "colab_type": "code",
        "outputId": "a788e9d9-20c8-4b21-d618-bfa998aba9d5",
        "id": "_HMoHrw3QDQe",
        "colab": {}
      },
      "source": [
        "df"
      ],
      "execution_count": 0,
      "outputs": [
        {
          "output_type": "execute_result",
          "data": {
            "text/html": [
              "<div>\n",
              "<style>\n",
              "    .dataframe thead tr:only-child th {\n",
              "        text-align: right;\n",
              "    }\n",
              "\n",
              "    .dataframe thead th {\n",
              "        text-align: left;\n",
              "    }\n",
              "\n",
              "    .dataframe tbody tr th {\n",
              "        vertical-align: top;\n",
              "    }\n",
              "</style>\n",
              "<table border=\"1\" class=\"dataframe\">\n",
              "  <thead>\n",
              "    <tr style=\"text-align: right;\">\n",
              "      <th></th>\n",
              "      <th>A</th>\n",
              "      <th>B</th>\n",
              "      <th>C</th>\n",
              "    </tr>\n",
              "  </thead>\n",
              "  <tbody>\n",
              "    <tr>\n",
              "      <th>0</th>\n",
              "      <td>1</td>\n",
              "      <td>a</td>\n",
              "      <td>0.4</td>\n",
              "    </tr>\n",
              "    <tr>\n",
              "      <th>1</th>\n",
              "      <td>2</td>\n",
              "      <td>b</td>\n",
              "      <td>0.8</td>\n",
              "    </tr>\n",
              "    <tr>\n",
              "      <th>2</th>\n",
              "      <td>3</td>\n",
              "      <td>patrick</td>\n",
              "      <td>1.6</td>\n",
              "    </tr>\n",
              "  </tbody>\n",
              "</table>\n",
              "</div>"
            ],
            "text/plain": [
              "   A        B    C\n",
              "0  1        a  0.4\n",
              "1  2        b  0.8\n",
              "2  3  patrick  1.6"
            ]
          },
          "metadata": {
            "tags": []
          },
          "execution_count": 60
        }
      ]
    },
    {
      "cell_type": "code",
      "metadata": {
        "colab_type": "code",
        "outputId": "c04b1611-1b04-4b60-b3b0-8604bdcf0857",
        "id": "e6vG3K8jQDQg",
        "colab": {}
      },
      "source": [
        "df['C'] = df['C'].apply(lambda x: x*2)\n",
        "df"
      ],
      "execution_count": 0,
      "outputs": [
        {
          "output_type": "execute_result",
          "data": {
            "text/html": [
              "<div>\n",
              "<style>\n",
              "    .dataframe thead tr:only-child th {\n",
              "        text-align: right;\n",
              "    }\n",
              "\n",
              "    .dataframe thead th {\n",
              "        text-align: left;\n",
              "    }\n",
              "\n",
              "    .dataframe tbody tr th {\n",
              "        vertical-align: top;\n",
              "    }\n",
              "</style>\n",
              "<table border=\"1\" class=\"dataframe\">\n",
              "  <thead>\n",
              "    <tr style=\"text-align: right;\">\n",
              "      <th></th>\n",
              "      <th>A</th>\n",
              "      <th>B</th>\n",
              "      <th>C</th>\n",
              "    </tr>\n",
              "  </thead>\n",
              "  <tbody>\n",
              "    <tr>\n",
              "      <th>0</th>\n",
              "      <td>1</td>\n",
              "      <td>a</td>\n",
              "      <td>0.2</td>\n",
              "    </tr>\n",
              "    <tr>\n",
              "      <th>1</th>\n",
              "      <td>2</td>\n",
              "      <td>b</td>\n",
              "      <td>0.4</td>\n",
              "    </tr>\n",
              "    <tr>\n",
              "      <th>2</th>\n",
              "      <td>3</td>\n",
              "      <td>c</td>\n",
              "      <td>0.6</td>\n",
              "    </tr>\n",
              "  </tbody>\n",
              "</table>\n",
              "</div>"
            ],
            "text/plain": [
              "   A  B    C\n",
              "0  1  a  0.2\n",
              "1  2  b  0.4\n",
              "2  3  c  0.6"
            ]
          },
          "metadata": {
            "tags": []
          },
          "execution_count": 18
        }
      ]
    },
    {
      "cell_type": "markdown",
      "metadata": {
        "colab_type": "text",
        "id": "rqV5jRvoQDQi"
      },
      "source": [
        "##### Use 'drop' to drop a column"
      ]
    },
    {
      "cell_type": "code",
      "metadata": {
        "colab_type": "code",
        "id": "cECvaBu1QDQi",
        "colab": {}
      },
      "source": [
        "df = df.drop(['C'], axis = 1)"
      ],
      "execution_count": 0,
      "outputs": []
    },
    {
      "cell_type": "code",
      "metadata": {
        "colab_type": "code",
        "outputId": "13447729-18d3-40f2-d271-0cd07370bc12",
        "id": "6OjLTaUzQDQk",
        "colab": {}
      },
      "source": [
        "df"
      ],
      "execution_count": 0,
      "outputs": [
        {
          "output_type": "execute_result",
          "data": {
            "text/html": [
              "<div>\n",
              "<style>\n",
              "    .dataframe thead tr:only-child th {\n",
              "        text-align: right;\n",
              "    }\n",
              "\n",
              "    .dataframe thead th {\n",
              "        text-align: left;\n",
              "    }\n",
              "\n",
              "    .dataframe tbody tr th {\n",
              "        vertical-align: top;\n",
              "    }\n",
              "</style>\n",
              "<table border=\"1\" class=\"dataframe\">\n",
              "  <thead>\n",
              "    <tr style=\"text-align: right;\">\n",
              "      <th></th>\n",
              "      <th>A</th>\n",
              "      <th>B</th>\n",
              "    </tr>\n",
              "  </thead>\n",
              "  <tbody>\n",
              "    <tr>\n",
              "      <th>0</th>\n",
              "      <td>1</td>\n",
              "      <td>a</td>\n",
              "    </tr>\n",
              "    <tr>\n",
              "      <th>1</th>\n",
              "      <td>2</td>\n",
              "      <td>b</td>\n",
              "    </tr>\n",
              "    <tr>\n",
              "      <th>2</th>\n",
              "      <td>3</td>\n",
              "      <td>patrick</td>\n",
              "    </tr>\n",
              "  </tbody>\n",
              "</table>\n",
              "</div>"
            ],
            "text/plain": [
              "   A        B\n",
              "0  1        a\n",
              "1  2        b\n",
              "2  3  patrick"
            ]
          },
          "metadata": {
            "tags": []
          },
          "execution_count": 78
        }
      ]
    },
    {
      "cell_type": "code",
      "metadata": {
        "colab_type": "code",
        "id": "6hm8yDGlQDQl",
        "colab": {}
      },
      "source": [
        "df = df.drop(['B', 'C'], axis=1)"
      ],
      "execution_count": 0,
      "outputs": []
    },
    {
      "cell_type": "code",
      "metadata": {
        "colab_type": "code",
        "outputId": "d934a675-724b-40a8-e8f0-e03b08e754cd",
        "id": "zpu1D-LLQDQn",
        "colab": {}
      },
      "source": [
        "df"
      ],
      "execution_count": 0,
      "outputs": [
        {
          "output_type": "execute_result",
          "data": {
            "text/html": [
              "<div>\n",
              "<style>\n",
              "    .dataframe thead tr:only-child th {\n",
              "        text-align: right;\n",
              "    }\n",
              "\n",
              "    .dataframe thead th {\n",
              "        text-align: left;\n",
              "    }\n",
              "\n",
              "    .dataframe tbody tr th {\n",
              "        vertical-align: top;\n",
              "    }\n",
              "</style>\n",
              "<table border=\"1\" class=\"dataframe\">\n",
              "  <thead>\n",
              "    <tr style=\"text-align: right;\">\n",
              "      <th></th>\n",
              "      <th>A</th>\n",
              "    </tr>\n",
              "  </thead>\n",
              "  <tbody>\n",
              "    <tr>\n",
              "      <th>0</th>\n",
              "      <td>1</td>\n",
              "    </tr>\n",
              "    <tr>\n",
              "      <th>1</th>\n",
              "      <td>2</td>\n",
              "    </tr>\n",
              "    <tr>\n",
              "      <th>2</th>\n",
              "      <td>3</td>\n",
              "    </tr>\n",
              "  </tbody>\n",
              "</table>\n",
              "</div>"
            ],
            "text/plain": [
              "   A\n",
              "0  1\n",
              "1  2\n",
              "2  3"
            ]
          },
          "metadata": {
            "tags": []
          },
          "execution_count": 64
        }
      ]
    },
    {
      "cell_type": "markdown",
      "metadata": {
        "colab_type": "text",
        "id": "8IjOROoeQDQt"
      },
      "source": [
        "##### Use 'drop' to drop a row"
      ]
    },
    {
      "cell_type": "code",
      "metadata": {
        "colab_type": "code",
        "id": "9BRwA_FkQDQu",
        "colab": {}
      },
      "source": [
        "df['Flora'] = 1"
      ],
      "execution_count": 0,
      "outputs": []
    },
    {
      "cell_type": "code",
      "metadata": {
        "colab_type": "code",
        "outputId": "91ce7c06-9330-4ee7-e32d-9eb37b027ac1",
        "id": "rNnJYEK_QDQx",
        "colab": {}
      },
      "source": [
        "df.drop([1,2], axis = 0)"
      ],
      "execution_count": 0,
      "outputs": [
        {
          "output_type": "execute_result",
          "data": {
            "text/html": [
              "<div>\n",
              "<style>\n",
              "    .dataframe thead tr:only-child th {\n",
              "        text-align: right;\n",
              "    }\n",
              "\n",
              "    .dataframe thead th {\n",
              "        text-align: left;\n",
              "    }\n",
              "\n",
              "    .dataframe tbody tr th {\n",
              "        vertical-align: top;\n",
              "    }\n",
              "</style>\n",
              "<table border=\"1\" class=\"dataframe\">\n",
              "  <thead>\n",
              "    <tr style=\"text-align: right;\">\n",
              "      <th></th>\n",
              "      <th>A</th>\n",
              "      <th>B</th>\n",
              "    </tr>\n",
              "  </thead>\n",
              "  <tbody>\n",
              "    <tr>\n",
              "      <th>0</th>\n",
              "      <td>1</td>\n",
              "      <td>a</td>\n",
              "    </tr>\n",
              "  </tbody>\n",
              "</table>\n",
              "</div>"
            ],
            "text/plain": [
              "   A  B\n",
              "0  1  a"
            ]
          },
          "metadata": {
            "tags": []
          },
          "execution_count": 80
        }
      ]
    },
    {
      "cell_type": "code",
      "metadata": {
        "colab_type": "code",
        "outputId": "27f657f9-579c-409d-825e-4401adbc095a",
        "id": "8vg3O4gbQDQz",
        "colab": {}
      },
      "source": [
        "df.drop([1,2], axis=0)"
      ],
      "execution_count": 0,
      "outputs": [
        {
          "output_type": "execute_result",
          "data": {
            "text/html": [
              "<div>\n",
              "<style>\n",
              "    .dataframe thead tr:only-child th {\n",
              "        text-align: right;\n",
              "    }\n",
              "\n",
              "    .dataframe thead th {\n",
              "        text-align: left;\n",
              "    }\n",
              "\n",
              "    .dataframe tbody tr th {\n",
              "        vertical-align: top;\n",
              "    }\n",
              "</style>\n",
              "<table border=\"1\" class=\"dataframe\">\n",
              "  <thead>\n",
              "    <tr style=\"text-align: right;\">\n",
              "      <th></th>\n",
              "      <th>A</th>\n",
              "    </tr>\n",
              "  </thead>\n",
              "  <tbody>\n",
              "    <tr>\n",
              "      <th>0</th>\n",
              "      <td>1</td>\n",
              "    </tr>\n",
              "  </tbody>\n",
              "</table>\n",
              "</div>"
            ],
            "text/plain": [
              "   A\n",
              "0  1"
            ]
          },
          "metadata": {
            "tags": []
          },
          "execution_count": 65
        }
      ]
    },
    {
      "cell_type": "markdown",
      "metadata": {
        "colab_type": "text",
        "id": "6JoDBReZQDQ2"
      },
      "source": [
        "### 4.3.4 Exploring the dataset"
      ]
    },
    {
      "cell_type": "markdown",
      "metadata": {
        "colab_type": "text",
        "id": "SgcznxvVQDQ2"
      },
      "source": [
        "###### Use head and tail to quickly peek the dataset"
      ]
    },
    {
      "cell_type": "markdown",
      "metadata": {
        "id": "7LtUqF2GT2dD",
        "colab_type": "text"
      },
      "source": [
        ""
      ]
    },
    {
      "cell_type": "code",
      "metadata": {
        "colab_type": "code",
        "id": "Gt4jVqkfQDQ3",
        "colab": {}
      },
      "source": [
        "df = pd.DataFrame({'A':[1,2,3,4,5], 'B':[1,2,3,4,5]})"
      ],
      "execution_count": 0,
      "outputs": []
    },
    {
      "cell_type": "code",
      "metadata": {
        "colab_type": "code",
        "outputId": "b5604abf-9ef8-4f6e-dabb-eeced477467d",
        "id": "rgPqjUyZQDQ4",
        "colab": {}
      },
      "source": [
        "df.tail(2)"
      ],
      "execution_count": 0,
      "outputs": [
        {
          "output_type": "execute_result",
          "data": {
            "text/html": [
              "<div>\n",
              "<style>\n",
              "    .dataframe thead tr:only-child th {\n",
              "        text-align: right;\n",
              "    }\n",
              "\n",
              "    .dataframe thead th {\n",
              "        text-align: left;\n",
              "    }\n",
              "\n",
              "    .dataframe tbody tr th {\n",
              "        vertical-align: top;\n",
              "    }\n",
              "</style>\n",
              "<table border=\"1\" class=\"dataframe\">\n",
              "  <thead>\n",
              "    <tr style=\"text-align: right;\">\n",
              "      <th></th>\n",
              "      <th>A</th>\n",
              "      <th>B</th>\n",
              "    </tr>\n",
              "  </thead>\n",
              "  <tbody>\n",
              "    <tr>\n",
              "      <th>3</th>\n",
              "      <td>4</td>\n",
              "      <td>4</td>\n",
              "    </tr>\n",
              "    <tr>\n",
              "      <th>4</th>\n",
              "      <td>5</td>\n",
              "      <td>5</td>\n",
              "    </tr>\n",
              "  </tbody>\n",
              "</table>\n",
              "</div>"
            ],
            "text/plain": [
              "   A  B\n",
              "3  4  4\n",
              "4  5  5"
            ]
          },
          "metadata": {
            "tags": []
          },
          "execution_count": 92
        }
      ]
    },
    {
      "cell_type": "code",
      "metadata": {
        "colab_type": "code",
        "outputId": "880c1461-5eef-4320-bdcb-942818197408",
        "id": "uiqlDqCOQDQ7",
        "colab": {}
      },
      "source": [
        "df.head(2) #shows the top 2 rows\n",
        "df.tail(2) #shows the last 2 rows"
      ],
      "execution_count": 0,
      "outputs": [
        {
          "output_type": "execute_result",
          "data": {
            "text/html": [
              "<div>\n",
              "<style>\n",
              "    .dataframe thead tr:only-child th {\n",
              "        text-align: right;\n",
              "    }\n",
              "\n",
              "    .dataframe thead th {\n",
              "        text-align: left;\n",
              "    }\n",
              "\n",
              "    .dataframe tbody tr th {\n",
              "        vertical-align: top;\n",
              "    }\n",
              "</style>\n",
              "<table border=\"1\" class=\"dataframe\">\n",
              "  <thead>\n",
              "    <tr style=\"text-align: right;\">\n",
              "      <th></th>\n",
              "      <th>A</th>\n",
              "      <th>B</th>\n",
              "    </tr>\n",
              "  </thead>\n",
              "  <tbody>\n",
              "    <tr>\n",
              "      <th>3</th>\n",
              "      <td>4</td>\n",
              "      <td>4</td>\n",
              "    </tr>\n",
              "    <tr>\n",
              "      <th>4</th>\n",
              "      <td>5</td>\n",
              "      <td>5</td>\n",
              "    </tr>\n",
              "  </tbody>\n",
              "</table>\n",
              "</div>"
            ],
            "text/plain": [
              "   A  B\n",
              "3  4  4\n",
              "4  5  5"
            ]
          },
          "metadata": {
            "tags": []
          },
          "execution_count": 69
        }
      ]
    },
    {
      "cell_type": "markdown",
      "metadata": {
        "colab_type": "text",
        "id": "dd-z-79fQDQ9"
      },
      "source": [
        "###### Use shape, info & describe to quickly understand the size/data type of the dataset"
      ]
    },
    {
      "cell_type": "code",
      "metadata": {
        "colab_type": "code",
        "outputId": "053be1cd-8a57-4a83-9583-9695151e8427",
        "id": "vL--Xg7VQDQ9",
        "colab": {}
      },
      "source": [
        "df.shape"
      ],
      "execution_count": 0,
      "outputs": [
        {
          "output_type": "execute_result",
          "data": {
            "text/plain": [
              "(5, 2)"
            ]
          },
          "metadata": {
            "tags": []
          },
          "execution_count": 70
        }
      ]
    },
    {
      "cell_type": "code",
      "metadata": {
        "colab_type": "code",
        "outputId": "0d07e9a3-f379-4145-d571-6b540400ad1d",
        "id": "8FtZanSXQDRA",
        "colab": {}
      },
      "source": [
        "df.info()"
      ],
      "execution_count": 0,
      "outputs": [
        {
          "output_type": "stream",
          "text": [
            "<class 'pandas.core.frame.DataFrame'>\n",
            "RangeIndex: 5 entries, 0 to 4\n",
            "Data columns (total 2 columns):\n",
            "A    5 non-null int64\n",
            "B    5 non-null int64\n",
            "dtypes: int64(2)\n",
            "memory usage: 160.0 bytes\n"
          ],
          "name": "stdout"
        }
      ]
    },
    {
      "cell_type": "code",
      "metadata": {
        "colab_type": "code",
        "outputId": "32483026-82a8-49c1-95da-ad9dab786b7a",
        "id": "n8VcIrsYQDRD",
        "colab": {}
      },
      "source": [
        "df.shape\n",
        "df.info()\n",
        "df.describe()"
      ],
      "execution_count": 0,
      "outputs": [
        {
          "output_type": "stream",
          "text": [
            "<class 'pandas.core.frame.DataFrame'>\n",
            "RangeIndex: 5 entries, 0 to 4\n",
            "Data columns (total 2 columns):\n",
            "A    5 non-null int64\n",
            "B    5 non-null int64\n",
            "dtypes: int64(2)\n",
            "memory usage: 160.0 bytes\n"
          ],
          "name": "stdout"
        },
        {
          "output_type": "execute_result",
          "data": {
            "text/html": [
              "<div>\n",
              "<style>\n",
              "    .dataframe thead tr:only-child th {\n",
              "        text-align: right;\n",
              "    }\n",
              "\n",
              "    .dataframe thead th {\n",
              "        text-align: left;\n",
              "    }\n",
              "\n",
              "    .dataframe tbody tr th {\n",
              "        vertical-align: top;\n",
              "    }\n",
              "</style>\n",
              "<table border=\"1\" class=\"dataframe\">\n",
              "  <thead>\n",
              "    <tr style=\"text-align: right;\">\n",
              "      <th></th>\n",
              "      <th>A</th>\n",
              "      <th>B</th>\n",
              "    </tr>\n",
              "  </thead>\n",
              "  <tbody>\n",
              "    <tr>\n",
              "      <th>count</th>\n",
              "      <td>5.000000</td>\n",
              "      <td>5.000000</td>\n",
              "    </tr>\n",
              "    <tr>\n",
              "      <th>mean</th>\n",
              "      <td>3.000000</td>\n",
              "      <td>3.000000</td>\n",
              "    </tr>\n",
              "    <tr>\n",
              "      <th>std</th>\n",
              "      <td>1.581139</td>\n",
              "      <td>1.581139</td>\n",
              "    </tr>\n",
              "    <tr>\n",
              "      <th>min</th>\n",
              "      <td>1.000000</td>\n",
              "      <td>1.000000</td>\n",
              "    </tr>\n",
              "    <tr>\n",
              "      <th>25%</th>\n",
              "      <td>2.000000</td>\n",
              "      <td>2.000000</td>\n",
              "    </tr>\n",
              "    <tr>\n",
              "      <th>50%</th>\n",
              "      <td>3.000000</td>\n",
              "      <td>3.000000</td>\n",
              "    </tr>\n",
              "    <tr>\n",
              "      <th>75%</th>\n",
              "      <td>4.000000</td>\n",
              "      <td>4.000000</td>\n",
              "    </tr>\n",
              "    <tr>\n",
              "      <th>max</th>\n",
              "      <td>5.000000</td>\n",
              "      <td>5.000000</td>\n",
              "    </tr>\n",
              "  </tbody>\n",
              "</table>\n",
              "</div>"
            ],
            "text/plain": [
              "              A         B\n",
              "count  5.000000  5.000000\n",
              "mean   3.000000  3.000000\n",
              "std    1.581139  1.581139\n",
              "min    1.000000  1.000000\n",
              "25%    2.000000  2.000000\n",
              "50%    3.000000  3.000000\n",
              "75%    4.000000  4.000000\n",
              "max    5.000000  5.000000"
            ]
          },
          "metadata": {
            "tags": []
          },
          "execution_count": 96
        }
      ]
    },
    {
      "cell_type": "markdown",
      "metadata": {
        "id": "g5FQU663SwDE",
        "colab_type": "text"
      },
      "source": [
        "## 4.4.0 Advance pandas technique"
      ]
    },
    {
      "cell_type": "markdown",
      "metadata": {
        "id": "2zR8CHNqNSjo",
        "colab_type": "text"
      },
      "source": [
        "### 4.4.1 Reading Data\n",
        "\n",
        "\n",
        "\n",
        "- To create a DataFrame out of common Python data structures, we can pass a dictionary of lists to the DataFrame constructor.\n",
        "-  Using the columns parameter allows us to tell the constructor how we'd like the columns ordered. By default, the DataFrame constructor will order the columns alphabetically (though this isn't the case when reading from a file - more on that next)."
      ]
    },
    {
      "cell_type": "markdown",
      "metadata": {
        "collapsed": true,
        "id": "ieM14ryhNSjp",
        "colab_type": "text"
      },
      "source": [
        "### 4.4.2 CSV file extraction - Reading data online with a valid url link:"
      ]
    },
    {
      "cell_type": "markdown",
      "metadata": {
        "id": "dUx32oUYNSjq",
        "colab_type": "text"
      },
      "source": [
        "- With this example we will learn how to access online real data (e.g. stock market)\n",
        "- Let's get this dataset from a website location, providing a valid link. In this example we are using real Tesla's prices. "
      ]
    },
    {
      "cell_type": "code",
      "metadata": {
        "scrolled": true,
        "id": "PxpDCyT_NSjx",
        "colab_type": "code",
        "outputId": "60d917bc-3470-4c1c-e27a-17b44d3d1bee",
        "colab": {}
      },
      "source": [
        "url = \"https://raw.githubusercontent.com/miga101/course-DSML-101/master/pandas_class/TSLA.csv\"\n",
        "tesla = pd.read_csv(url, index_col=0, parse_dates=True) # index_col = 0, means that we want date to be our index\n",
        "                                                        # parse_dates=True, means we let Panda to \"understand\" the date format for us\n",
        "\n",
        "tesla"
      ],
      "execution_count": 0,
      "outputs": [
        {
          "output_type": "execute_result",
          "data": {
            "text/html": [
              "<div>\n",
              "<style>\n",
              "    .dataframe thead tr:only-child th {\n",
              "        text-align: right;\n",
              "    }\n",
              "\n",
              "    .dataframe thead th {\n",
              "        text-align: left;\n",
              "    }\n",
              "\n",
              "    .dataframe tbody tr th {\n",
              "        vertical-align: top;\n",
              "    }\n",
              "</style>\n",
              "<table border=\"1\" class=\"dataframe\">\n",
              "  <thead>\n",
              "    <tr style=\"text-align: right;\">\n",
              "      <th></th>\n",
              "      <th>Open</th>\n",
              "      <th>High</th>\n",
              "      <th>Low</th>\n",
              "      <th>Close</th>\n",
              "      <th>Adj Close</th>\n",
              "      <th>Volume</th>\n",
              "    </tr>\n",
              "    <tr>\n",
              "      <th>Date</th>\n",
              "      <th></th>\n",
              "      <th></th>\n",
              "      <th></th>\n",
              "      <th></th>\n",
              "      <th></th>\n",
              "      <th></th>\n",
              "    </tr>\n",
              "  </thead>\n",
              "  <tbody>\n",
              "    <tr>\n",
              "      <th>2017-08-21</th>\n",
              "      <td>345.820007</td>\n",
              "      <td>345.820007</td>\n",
              "      <td>331.850006</td>\n",
              "      <td>337.859985</td>\n",
              "      <td>337.859985</td>\n",
              "      <td>6495400</td>\n",
              "    </tr>\n",
              "    <tr>\n",
              "      <th>2017-08-22</th>\n",
              "      <td>341.130005</td>\n",
              "      <td>342.239990</td>\n",
              "      <td>337.369995</td>\n",
              "      <td>341.350006</td>\n",
              "      <td>341.350006</td>\n",
              "      <td>4322000</td>\n",
              "    </tr>\n",
              "    <tr>\n",
              "      <th>2017-08-23</th>\n",
              "      <td>338.989990</td>\n",
              "      <td>353.489990</td>\n",
              "      <td>338.299988</td>\n",
              "      <td>352.769989</td>\n",
              "      <td>352.769989</td>\n",
              "      <td>4954500</td>\n",
              "    </tr>\n",
              "    <tr>\n",
              "      <th>2017-08-24</th>\n",
              "      <td>352.519989</td>\n",
              "      <td>356.660004</td>\n",
              "      <td>349.739990</td>\n",
              "      <td>352.929993</td>\n",
              "      <td>352.929993</td>\n",
              "      <td>4584700</td>\n",
              "    </tr>\n",
              "    <tr>\n",
              "      <th>2017-08-25</th>\n",
              "      <td>354.239990</td>\n",
              "      <td>355.690002</td>\n",
              "      <td>347.299988</td>\n",
              "      <td>348.049988</td>\n",
              "      <td>348.049988</td>\n",
              "      <td>3484000</td>\n",
              "    </tr>\n",
              "    <tr>\n",
              "      <th>2017-08-28</th>\n",
              "      <td>347.279999</td>\n",
              "      <td>347.350006</td>\n",
              "      <td>339.720001</td>\n",
              "      <td>345.660004</td>\n",
              "      <td>345.660004</td>\n",
              "      <td>3764000</td>\n",
              "    </tr>\n",
              "    <tr>\n",
              "      <th>2017-08-29</th>\n",
              "      <td>339.480011</td>\n",
              "      <td>349.049988</td>\n",
              "      <td>338.750000</td>\n",
              "      <td>347.359985</td>\n",
              "      <td>347.359985</td>\n",
              "      <td>4073700</td>\n",
              "    </tr>\n",
              "    <tr>\n",
              "      <th>2017-08-30</th>\n",
              "      <td>349.670013</td>\n",
              "      <td>353.470001</td>\n",
              "      <td>347.000000</td>\n",
              "      <td>353.179993</td>\n",
              "      <td>353.179993</td>\n",
              "      <td>3412900</td>\n",
              "    </tr>\n",
              "    <tr>\n",
              "      <th>2017-08-31</th>\n",
              "      <td>353.549988</td>\n",
              "      <td>358.440002</td>\n",
              "      <td>352.820007</td>\n",
              "      <td>355.899994</td>\n",
              "      <td>355.899994</td>\n",
              "      <td>4072800</td>\n",
              "    </tr>\n",
              "    <tr>\n",
              "      <th>2017-09-01</th>\n",
              "      <td>356.119995</td>\n",
              "      <td>357.589996</td>\n",
              "      <td>353.690002</td>\n",
              "      <td>355.399994</td>\n",
              "      <td>355.399994</td>\n",
              "      <td>3049500</td>\n",
              "    </tr>\n",
              "    <tr>\n",
              "      <th>2017-09-05</th>\n",
              "      <td>353.799988</td>\n",
              "      <td>355.489990</td>\n",
              "      <td>345.890015</td>\n",
              "      <td>349.589996</td>\n",
              "      <td>349.589996</td>\n",
              "      <td>3835100</td>\n",
              "    </tr>\n",
              "    <tr>\n",
              "      <th>2017-09-06</th>\n",
              "      <td>349.500000</td>\n",
              "      <td>350.980011</td>\n",
              "      <td>341.559998</td>\n",
              "      <td>344.529999</td>\n",
              "      <td>344.529999</td>\n",
              "      <td>4091400</td>\n",
              "    </tr>\n",
              "    <tr>\n",
              "      <th>2017-09-07</th>\n",
              "      <td>345.980011</td>\n",
              "      <td>352.480011</td>\n",
              "      <td>343.450012</td>\n",
              "      <td>350.609985</td>\n",
              "      <td>350.609985</td>\n",
              "      <td>4239200</td>\n",
              "    </tr>\n",
              "    <tr>\n",
              "      <th>2017-09-08</th>\n",
              "      <td>348.989990</td>\n",
              "      <td>349.779999</td>\n",
              "      <td>342.299988</td>\n",
              "      <td>343.399994</td>\n",
              "      <td>343.399994</td>\n",
              "      <td>3257600</td>\n",
              "    </tr>\n",
              "    <tr>\n",
              "      <th>2017-09-11</th>\n",
              "      <td>351.350006</td>\n",
              "      <td>363.709991</td>\n",
              "      <td>350.000000</td>\n",
              "      <td>363.690002</td>\n",
              "      <td>363.690002</td>\n",
              "      <td>7667100</td>\n",
              "    </tr>\n",
              "    <tr>\n",
              "      <th>2017-09-12</th>\n",
              "      <td>364.489990</td>\n",
              "      <td>368.760010</td>\n",
              "      <td>360.399994</td>\n",
              "      <td>362.750000</td>\n",
              "      <td>362.750000</td>\n",
              "      <td>5972900</td>\n",
              "    </tr>\n",
              "    <tr>\n",
              "      <th>2017-09-13</th>\n",
              "      <td>363.820007</td>\n",
              "      <td>368.070007</td>\n",
              "      <td>359.589996</td>\n",
              "      <td>366.230011</td>\n",
              "      <td>366.230011</td>\n",
              "      <td>4185200</td>\n",
              "    </tr>\n",
              "    <tr>\n",
              "      <th>2017-09-14</th>\n",
              "      <td>364.329987</td>\n",
              "      <td>377.959991</td>\n",
              "      <td>362.630005</td>\n",
              "      <td>377.640015</td>\n",
              "      <td>377.640015</td>\n",
              "      <td>7202500</td>\n",
              "    </tr>\n",
              "    <tr>\n",
              "      <th>2017-09-15</th>\n",
              "      <td>374.510010</td>\n",
              "      <td>380.000000</td>\n",
              "      <td>372.700012</td>\n",
              "      <td>379.809998</td>\n",
              "      <td>379.809998</td>\n",
              "      <td>5420500</td>\n",
              "    </tr>\n",
              "    <tr>\n",
              "      <th>2017-09-18</th>\n",
              "      <td>380.250000</td>\n",
              "      <td>389.609985</td>\n",
              "      <td>377.679993</td>\n",
              "      <td>385.000000</td>\n",
              "      <td>385.000000</td>\n",
              "      <td>7188000</td>\n",
              "    </tr>\n",
              "    <tr>\n",
              "      <th>2017-09-19</th>\n",
              "      <td>380.000000</td>\n",
              "      <td>382.390015</td>\n",
              "      <td>373.570007</td>\n",
              "      <td>375.100006</td>\n",
              "      <td>375.100006</td>\n",
              "      <td>6451900</td>\n",
              "    </tr>\n",
              "    <tr>\n",
              "      <th>2017-09-20</th>\n",
              "      <td>373.000000</td>\n",
              "      <td>378.250000</td>\n",
              "      <td>371.070007</td>\n",
              "      <td>373.910004</td>\n",
              "      <td>373.910004</td>\n",
              "      <td>4902800</td>\n",
              "    </tr>\n",
              "  </tbody>\n",
              "</table>\n",
              "</div>"
            ],
            "text/plain": [
              "                  Open        High         Low       Close   Adj Close  \\\n",
              "Date                                                                     \n",
              "2017-08-21  345.820007  345.820007  331.850006  337.859985  337.859985   \n",
              "2017-08-22  341.130005  342.239990  337.369995  341.350006  341.350006   \n",
              "2017-08-23  338.989990  353.489990  338.299988  352.769989  352.769989   \n",
              "2017-08-24  352.519989  356.660004  349.739990  352.929993  352.929993   \n",
              "2017-08-25  354.239990  355.690002  347.299988  348.049988  348.049988   \n",
              "2017-08-28  347.279999  347.350006  339.720001  345.660004  345.660004   \n",
              "2017-08-29  339.480011  349.049988  338.750000  347.359985  347.359985   \n",
              "2017-08-30  349.670013  353.470001  347.000000  353.179993  353.179993   \n",
              "2017-08-31  353.549988  358.440002  352.820007  355.899994  355.899994   \n",
              "2017-09-01  356.119995  357.589996  353.690002  355.399994  355.399994   \n",
              "2017-09-05  353.799988  355.489990  345.890015  349.589996  349.589996   \n",
              "2017-09-06  349.500000  350.980011  341.559998  344.529999  344.529999   \n",
              "2017-09-07  345.980011  352.480011  343.450012  350.609985  350.609985   \n",
              "2017-09-08  348.989990  349.779999  342.299988  343.399994  343.399994   \n",
              "2017-09-11  351.350006  363.709991  350.000000  363.690002  363.690002   \n",
              "2017-09-12  364.489990  368.760010  360.399994  362.750000  362.750000   \n",
              "2017-09-13  363.820007  368.070007  359.589996  366.230011  366.230011   \n",
              "2017-09-14  364.329987  377.959991  362.630005  377.640015  377.640015   \n",
              "2017-09-15  374.510010  380.000000  372.700012  379.809998  379.809998   \n",
              "2017-09-18  380.250000  389.609985  377.679993  385.000000  385.000000   \n",
              "2017-09-19  380.000000  382.390015  373.570007  375.100006  375.100006   \n",
              "2017-09-20  373.000000  378.250000  371.070007  373.910004  373.910004   \n",
              "\n",
              "             Volume  \n",
              "Date                 \n",
              "2017-08-21  6495400  \n",
              "2017-08-22  4322000  \n",
              "2017-08-23  4954500  \n",
              "2017-08-24  4584700  \n",
              "2017-08-25  3484000  \n",
              "2017-08-28  3764000  \n",
              "2017-08-29  4073700  \n",
              "2017-08-30  3412900  \n",
              "2017-08-31  4072800  \n",
              "2017-09-01  3049500  \n",
              "2017-09-05  3835100  \n",
              "2017-09-06  4091400  \n",
              "2017-09-07  4239200  \n",
              "2017-09-08  3257600  \n",
              "2017-09-11  7667100  \n",
              "2017-09-12  5972900  \n",
              "2017-09-13  4185200  \n",
              "2017-09-14  7202500  \n",
              "2017-09-15  5420500  \n",
              "2017-09-18  7188000  \n",
              "2017-09-19  6451900  \n",
              "2017-09-20  4902800  "
            ]
          },
          "metadata": {
            "tags": []
          },
          "execution_count": 144
        }
      ]
    },
    {
      "cell_type": "markdown",
      "metadata": {
        "id": "MOLe0E7YNSj0",
        "colab_type": "text"
      },
      "source": [
        "Plotting using pandas"
      ]
    },
    {
      "cell_type": "code",
      "metadata": {
        "id": "2j4ce0_INSj0",
        "colab_type": "code",
        "outputId": "8645200d-d554-44cf-a925-9006f08e6c9e",
        "colab": {}
      },
      "source": [
        "tesla.shape"
      ],
      "execution_count": 0,
      "outputs": [
        {
          "output_type": "execute_result",
          "data": {
            "text/plain": [
              "(22, 6)"
            ]
          },
          "metadata": {
            "tags": []
          },
          "execution_count": 145
        }
      ]
    },
    {
      "cell_type": "code",
      "metadata": {
        "id": "kS-TPrrVNSj1",
        "colab_type": "code",
        "outputId": "a87ea990-6666-4a3b-f5a6-9deb71fe0ad2",
        "colab": {}
      },
      "source": [
        "import matplotlib.pyplot as plt\n",
        "tesla.plot(y = ['Adj Close','High','Low'])\n",
        "plt.show()"
      ],
      "execution_count": 0,
      "outputs": [
        {
          "output_type": "display_data",
          "data": {
            "image/png": "[encoded data removed]",
            "text/plain": [
              "<matplotlib.figure.Figure at 0x7fdaac942208>"
            ]
          },
          "metadata": {
            "tags": []
          }
        }
      ]
    },
    {
      "cell_type": "code",
      "metadata": {
        "scrolled": false,
        "id": "7108hQHVNSj3",
        "colab_type": "code",
        "outputId": "96ad9280-8b59-4fe9-c2b0-1c55ef1ef7d8",
        "colab": {}
      },
      "source": [
        "import matplotlib.pyplot as plt\n",
        "tesla.plot(y=['Adj Close','Volume']) # plotting by indicating which column we want the values from...\n",
        "plt.show()\n",
        "\n",
        "#pd.plot?"
      ],
      "execution_count": 0,
      "outputs": [
        {
          "output_type": "display_data",
          "data": {
            "image/png": "[encoded data removed]",
            "text/plain": [
              "<matplotlib.figure.Figure at 0x7fdaac885588>"
            ]
          },
          "metadata": {
            "tags": []
          }
        }
      ]
    },
    {
      "cell_type": "code",
      "metadata": {
        "id": "xe30koJNNSj4",
        "colab_type": "code",
        "outputId": "6a5b94f7-55eb-4d30-9456-c86a8346540f",
        "colab": {}
      },
      "source": [
        "import matplotlib.pyplot as plt\n",
        "tesla.plot(y=['Adj Close','Open']) # plotting by indicating which column we want the values from...\n",
        "plt.show()"
      ],
      "execution_count": 0,
      "outputs": [
        {
          "output_type": "display_data",
          "data": {
            "image/png": "[encoded data removed]",
            "text/plain": [
              "<matplotlib.figure.Figure at 0x7f771b6cdf60>"
            ]
          },
          "metadata": {
            "tags": []
          }
        }
      ]
    },
    {
      "cell_type": "code",
      "metadata": {
        "id": "mJ_F4ZUqNSj5",
        "colab_type": "code",
        "outputId": "cecc46d6-be5c-4372-aae9-ee84ace17fd3",
        "colab": {}
      },
      "source": [
        "tesla[tesla.index>'2017-08-30'].plot(y=['Adj Close','Open']) \n",
        "plt.show()"
      ],
      "execution_count": 0,
      "outputs": [
        {
          "output_type": "display_data",
          "data": {
            "image/png": "[encoded data removed]",
            "text/plain": [
              "<matplotlib.figure.Figure at 0x7f771b2a7160>"
            ]
          },
          "metadata": {
            "tags": []
          }
        }
      ]
    },
    {
      "cell_type": "code",
      "metadata": {
        "id": "-6HN_ocqNSj6",
        "colab_type": "code",
        "outputId": "751b9018-12e8-46f0-8a00-b5f96172dacd",
        "colab": {}
      },
      "source": [
        "tesla['Close'].mean() # getting the mean by just calling the mean function"
      ],
      "execution_count": 0,
      "outputs": [
        {
          "output_type": "execute_result",
          "data": {
            "text/plain": [
              "357.3963609545454"
            ]
          },
          "metadata": {
            "tags": []
          },
          "execution_count": 128
        }
      ]
    },
    {
      "cell_type": "code",
      "metadata": {
        "scrolled": true,
        "id": "t2dY88-JNSj7",
        "colab_type": "code",
        "outputId": "ad10e668-47df-49af-973b-4155380621da",
        "colab": {}
      },
      "source": [
        "tesla.describe() # the describe function will give us a statistical summary"
      ],
      "execution_count": 0,
      "outputs": [
        {
          "output_type": "execute_result",
          "data": {
            "text/html": [
              "<div>\n",
              "<style>\n",
              "    .dataframe thead tr:only-child th {\n",
              "        text-align: right;\n",
              "    }\n",
              "\n",
              "    .dataframe thead th {\n",
              "        text-align: left;\n",
              "    }\n",
              "\n",
              "    .dataframe tbody tr th {\n",
              "        vertical-align: top;\n",
              "    }\n",
              "</style>\n",
              "<table border=\"1\" class=\"dataframe\">\n",
              "  <thead>\n",
              "    <tr style=\"text-align: right;\">\n",
              "      <th></th>\n",
              "      <th>Open</th>\n",
              "      <th>High</th>\n",
              "      <th>Low</th>\n",
              "      <th>Close</th>\n",
              "      <th>Adj Close</th>\n",
              "      <th>Volume</th>\n",
              "    </tr>\n",
              "  </thead>\n",
              "  <tbody>\n",
              "    <tr>\n",
              "      <th>count</th>\n",
              "      <td>22.000000</td>\n",
              "      <td>22.000000</td>\n",
              "      <td>22.000000</td>\n",
              "      <td>22.000000</td>\n",
              "      <td>22.000000</td>\n",
              "      <td>2.200000e+01</td>\n",
              "    </tr>\n",
              "    <tr>\n",
              "      <th>mean</th>\n",
              "      <td>355.855453</td>\n",
              "      <td>360.785454</td>\n",
              "      <td>351.699091</td>\n",
              "      <td>357.396361</td>\n",
              "      <td>357.396361</td>\n",
              "      <td>4.846714e+06</td>\n",
              "    </tr>\n",
              "    <tr>\n",
              "      <th>std</th>\n",
              "      <td>12.422002</td>\n",
              "      <td>13.377043</td>\n",
              "      <td>13.207881</td>\n",
              "      <td>13.637017</td>\n",
              "      <td>13.637017</td>\n",
              "      <td>1.391716e+06</td>\n",
              "    </tr>\n",
              "    <tr>\n",
              "      <th>min</th>\n",
              "      <td>338.989990</td>\n",
              "      <td>342.239990</td>\n",
              "      <td>331.850006</td>\n",
              "      <td>337.859985</td>\n",
              "      <td>337.859985</td>\n",
              "      <td>3.049500e+06</td>\n",
              "    </tr>\n",
              "    <tr>\n",
              "      <th>25%</th>\n",
              "      <td>347.707497</td>\n",
              "      <td>351.355011</td>\n",
              "      <td>341.744996</td>\n",
              "      <td>347.532486</td>\n",
              "      <td>347.532486</td>\n",
              "      <td>3.894525e+06</td>\n",
              "    </tr>\n",
              "    <tr>\n",
              "      <th>50%</th>\n",
              "      <td>353.034988</td>\n",
              "      <td>356.175003</td>\n",
              "      <td>348.519989</td>\n",
              "      <td>353.054993</td>\n",
              "      <td>353.054993</td>\n",
              "      <td>4.280600e+06</td>\n",
              "    </tr>\n",
              "    <tr>\n",
              "      <th>75%</th>\n",
              "      <td>364.202492</td>\n",
              "      <td>368.587509</td>\n",
              "      <td>360.197495</td>\n",
              "      <td>365.595009</td>\n",
              "      <td>365.595009</td>\n",
              "      <td>5.834800e+06</td>\n",
              "    </tr>\n",
              "    <tr>\n",
              "      <th>max</th>\n",
              "      <td>380.250000</td>\n",
              "      <td>389.609985</td>\n",
              "      <td>377.679993</td>\n",
              "      <td>385.000000</td>\n",
              "      <td>385.000000</td>\n",
              "      <td>7.667100e+06</td>\n",
              "    </tr>\n",
              "  </tbody>\n",
              "</table>\n",
              "</div>"
            ],
            "text/plain": [
              "             Open        High         Low       Close   Adj Close  \\\n",
              "count   22.000000   22.000000   22.000000   22.000000   22.000000   \n",
              "mean   355.855453  360.785454  351.699091  357.396361  357.396361   \n",
              "std     12.422002   13.377043   13.207881   13.637017   13.637017   \n",
              "min    338.989990  342.239990  331.850006  337.859985  337.859985   \n",
              "25%    347.707497  351.355011  341.744996  347.532486  347.532486   \n",
              "50%    353.034988  356.175003  348.519989  353.054993  353.054993   \n",
              "75%    364.202492  368.587509  360.197495  365.595009  365.595009   \n",
              "max    380.250000  389.609985  377.679993  385.000000  385.000000   \n",
              "\n",
              "             Volume  \n",
              "count  2.200000e+01  \n",
              "mean   4.846714e+06  \n",
              "std    1.391716e+06  \n",
              "min    3.049500e+06  \n",
              "25%    3.894525e+06  \n",
              "50%    4.280600e+06  \n",
              "75%    5.834800e+06  \n",
              "max    7.667100e+06  "
            ]
          },
          "metadata": {
            "tags": []
          },
          "execution_count": 129
        }
      ]
    },
    {
      "cell_type": "markdown",
      "metadata": {
        "id": "Erw4VAK2NSj8",
        "colab_type": "text"
      },
      "source": [
        "#### Exercise 4.4.3 - read the csv from the link "
      ]
    },
    {
      "cell_type": "markdown",
      "metadata": {
        "id": "rGrale6nNSj8",
        "colab_type": "text"
      },
      "source": [
        "- Read the csv using pandas\n",
        "- Peek into the data by only viewing the first few lines. How would you do that?"
      ]
    },
    {
      "cell_type": "code",
      "metadata": {
        "scrolled": true,
        "id": "CYy7hMjoNSj8",
        "colab_type": "code",
        "outputId": "53fe6d35-2496-4285-c33f-b03b3e57146d",
        "colab": {}
      },
      "source": [
        "import pandas as pd\n",
        "# another example, list of countries\n",
        "url_c = \"https://raw.githubusercontent.com/cs109/2014_data/master/countries.csv\"\n",
        "# Your code here\n",
        "\n",
        "df = pd.read_csv(url_c)\n",
        "df.head(5)\n"
      ],
      "execution_count": 0,
      "outputs": [
        {
          "output_type": "execute_result",
          "data": {
            "text/html": [
              "<div>\n",
              "<style>\n",
              "    .dataframe thead tr:only-child th {\n",
              "        text-align: right;\n",
              "    }\n",
              "\n",
              "    .dataframe thead th {\n",
              "        text-align: left;\n",
              "    }\n",
              "\n",
              "    .dataframe tbody tr th {\n",
              "        vertical-align: top;\n",
              "    }\n",
              "</style>\n",
              "<table border=\"1\" class=\"dataframe\">\n",
              "  <thead>\n",
              "    <tr style=\"text-align: right;\">\n",
              "      <th></th>\n",
              "      <th>Country</th>\n",
              "      <th>Region</th>\n",
              "    </tr>\n",
              "  </thead>\n",
              "  <tbody>\n",
              "    <tr>\n",
              "      <th>0</th>\n",
              "      <td>Algeria</td>\n",
              "      <td>AFRICA</td>\n",
              "    </tr>\n",
              "    <tr>\n",
              "      <th>1</th>\n",
              "      <td>Angola</td>\n",
              "      <td>AFRICA</td>\n",
              "    </tr>\n",
              "    <tr>\n",
              "      <th>2</th>\n",
              "      <td>Benin</td>\n",
              "      <td>AFRICA</td>\n",
              "    </tr>\n",
              "    <tr>\n",
              "      <th>3</th>\n",
              "      <td>Botswana</td>\n",
              "      <td>AFRICA</td>\n",
              "    </tr>\n",
              "    <tr>\n",
              "      <th>4</th>\n",
              "      <td>Burkina</td>\n",
              "      <td>AFRICA</td>\n",
              "    </tr>\n",
              "  </tbody>\n",
              "</table>\n",
              "</div>"
            ],
            "text/plain": [
              "    Country  Region\n",
              "0   Algeria  AFRICA\n",
              "1    Angola  AFRICA\n",
              "2     Benin  AFRICA\n",
              "3  Botswana  AFRICA\n",
              "4   Burkina  AFRICA"
            ]
          },
          "metadata": {
            "tags": []
          },
          "execution_count": 2
        }
      ]
    },
    {
      "cell_type": "markdown",
      "metadata": {
        "id": "ruEsKkhCNSj9",
        "colab_type": "text"
      },
      "source": [
        "### 4.4.4 - Build your own Pandas dataframe"
      ]
    },
    {
      "cell_type": "markdown",
      "metadata": {
        "id": "XEGexPZINSj-",
        "colab_type": "text"
      },
      "source": [
        "- Below is how to build the dataframe structure using a dictionary - which is just a combination of lists"
      ]
    },
    {
      "cell_type": "code",
      "metadata": {
        "id": "Gq-RQTLWNSj-",
        "colab_type": "code",
        "outputId": "f2ffa4a3-b4a6-4283-89b7-c5b7d101080f",
        "colab": {}
      },
      "source": [
        "data = {'year': [2010, 2011, 2012, 2011, 2012, 2010, 2011, 2012],\n",
        "        'team': ['Bears', 'Bears', 'Bears', 'Packers', 'Packers', 'Lions', 'Lions', 'Lions'],\n",
        "        'wins': [11, 8, 10, 15, 11, 6, 10, 4],\n",
        "        'losses': [5, 8, 6, 1, 5, 10, 6, 12]}\n",
        "football = pd.DataFrame(data, columns=['year', 'team', 'wins', 'losses'])\n",
        "football"
      ],
      "execution_count": 0,
      "outputs": [
        {
          "output_type": "execute_result",
          "data": {
            "text/html": [
              "<div>\n",
              "<style>\n",
              "    .dataframe thead tr:only-child th {\n",
              "        text-align: right;\n",
              "    }\n",
              "\n",
              "    .dataframe thead th {\n",
              "        text-align: left;\n",
              "    }\n",
              "\n",
              "    .dataframe tbody tr th {\n",
              "        vertical-align: top;\n",
              "    }\n",
              "</style>\n",
              "<table border=\"1\" class=\"dataframe\">\n",
              "  <thead>\n",
              "    <tr style=\"text-align: right;\">\n",
              "      <th></th>\n",
              "      <th>year</th>\n",
              "      <th>team</th>\n",
              "      <th>wins</th>\n",
              "      <th>losses</th>\n",
              "    </tr>\n",
              "  </thead>\n",
              "  <tbody>\n",
              "    <tr>\n",
              "      <th>0</th>\n",
              "      <td>2010</td>\n",
              "      <td>Bears</td>\n",
              "      <td>11</td>\n",
              "      <td>5</td>\n",
              "    </tr>\n",
              "    <tr>\n",
              "      <th>1</th>\n",
              "      <td>2011</td>\n",
              "      <td>Bears</td>\n",
              "      <td>8</td>\n",
              "      <td>8</td>\n",
              "    </tr>\n",
              "    <tr>\n",
              "      <th>2</th>\n",
              "      <td>2012</td>\n",
              "      <td>Bears</td>\n",
              "      <td>10</td>\n",
              "      <td>6</td>\n",
              "    </tr>\n",
              "    <tr>\n",
              "      <th>3</th>\n",
              "      <td>2011</td>\n",
              "      <td>Packers</td>\n",
              "      <td>15</td>\n",
              "      <td>1</td>\n",
              "    </tr>\n",
              "    <tr>\n",
              "      <th>4</th>\n",
              "      <td>2012</td>\n",
              "      <td>Packers</td>\n",
              "      <td>11</td>\n",
              "      <td>5</td>\n",
              "    </tr>\n",
              "    <tr>\n",
              "      <th>5</th>\n",
              "      <td>2010</td>\n",
              "      <td>Lions</td>\n",
              "      <td>6</td>\n",
              "      <td>10</td>\n",
              "    </tr>\n",
              "    <tr>\n",
              "      <th>6</th>\n",
              "      <td>2011</td>\n",
              "      <td>Lions</td>\n",
              "      <td>10</td>\n",
              "      <td>6</td>\n",
              "    </tr>\n",
              "    <tr>\n",
              "      <th>7</th>\n",
              "      <td>2012</td>\n",
              "      <td>Lions</td>\n",
              "      <td>4</td>\n",
              "      <td>12</td>\n",
              "    </tr>\n",
              "  </tbody>\n",
              "</table>\n",
              "</div>"
            ],
            "text/plain": [
              "   year     team  wins  losses\n",
              "0  2010    Bears    11       5\n",
              "1  2011    Bears     8       8\n",
              "2  2012    Bears    10       6\n",
              "3  2011  Packers    15       1\n",
              "4  2012  Packers    11       5\n",
              "5  2010    Lions     6      10\n",
              "6  2011    Lions    10       6\n",
              "7  2012    Lions     4      12"
            ]
          },
          "metadata": {
            "tags": []
          },
          "execution_count": 154
        }
      ]
    },
    {
      "cell_type": "markdown",
      "metadata": {
        "id": "EztC9iTwNSj_",
        "colab_type": "text"
      },
      "source": [
        "### 4.4.5 - Build your pandas dataframe using list"
      ]
    },
    {
      "cell_type": "markdown",
      "metadata": {
        "id": "8DuwReH5NSj_",
        "colab_type": "text"
      },
      "source": [
        "Back to our hangman example. Let's say I want to build a dataframe, with all the words used in hangman game, and an extra column counting all the len of words. How would I do it?"
      ]
    },
    {
      "cell_type": "code",
      "metadata": {
        "scrolled": true,
        "id": "I0_p_qQ5NSkA",
        "colab_type": "code",
        "outputId": "3c6bc6ba-fe23-40a2-e201-84e01f8845a3",
        "colab": {}
      },
      "source": [
        "word_list = [\"stick\",\"john\",\"pencil\",\"rubber\",\"glove\",\"quick\",\"brown\",\"fox\",\"jumps\",\"over\"\n",
        "                     ,\"lazy\",\"dog\",\"manner\",\"house\",\"food\",\"brain\",\"history\",\"love\",\"peace\",\n",
        "                      \"object\"]\n",
        "df = pd.DataFrame(word_list, columns = ['words'] )\n",
        "df['word_count'] = df['words'].apply(lambda x: len(x))\n",
        "df"
      ],
      "execution_count": 0,
      "outputs": [
        {
          "output_type": "execute_result",
          "data": {
            "text/html": [
              "<div>\n",
              "<style>\n",
              "    .dataframe thead tr:only-child th {\n",
              "        text-align: right;\n",
              "    }\n",
              "\n",
              "    .dataframe thead th {\n",
              "        text-align: left;\n",
              "    }\n",
              "\n",
              "    .dataframe tbody tr th {\n",
              "        vertical-align: top;\n",
              "    }\n",
              "</style>\n",
              "<table border=\"1\" class=\"dataframe\">\n",
              "  <thead>\n",
              "    <tr style=\"text-align: right;\">\n",
              "      <th></th>\n",
              "      <th>words</th>\n",
              "      <th>word_count</th>\n",
              "    </tr>\n",
              "  </thead>\n",
              "  <tbody>\n",
              "    <tr>\n",
              "      <th>0</th>\n",
              "      <td>stick</td>\n",
              "      <td>5</td>\n",
              "    </tr>\n",
              "    <tr>\n",
              "      <th>1</th>\n",
              "      <td>john</td>\n",
              "      <td>4</td>\n",
              "    </tr>\n",
              "    <tr>\n",
              "      <th>2</th>\n",
              "      <td>pencil</td>\n",
              "      <td>6</td>\n",
              "    </tr>\n",
              "    <tr>\n",
              "      <th>3</th>\n",
              "      <td>rubber</td>\n",
              "      <td>6</td>\n",
              "    </tr>\n",
              "    <tr>\n",
              "      <th>4</th>\n",
              "      <td>glove</td>\n",
              "      <td>5</td>\n",
              "    </tr>\n",
              "    <tr>\n",
              "      <th>5</th>\n",
              "      <td>quick</td>\n",
              "      <td>5</td>\n",
              "    </tr>\n",
              "    <tr>\n",
              "      <th>6</th>\n",
              "      <td>brown</td>\n",
              "      <td>5</td>\n",
              "    </tr>\n",
              "    <tr>\n",
              "      <th>7</th>\n",
              "      <td>fox</td>\n",
              "      <td>3</td>\n",
              "    </tr>\n",
              "    <tr>\n",
              "      <th>8</th>\n",
              "      <td>jumps</td>\n",
              "      <td>5</td>\n",
              "    </tr>\n",
              "    <tr>\n",
              "      <th>9</th>\n",
              "      <td>over</td>\n",
              "      <td>4</td>\n",
              "    </tr>\n",
              "    <tr>\n",
              "      <th>10</th>\n",
              "      <td>lazy</td>\n",
              "      <td>4</td>\n",
              "    </tr>\n",
              "    <tr>\n",
              "      <th>11</th>\n",
              "      <td>dog</td>\n",
              "      <td>3</td>\n",
              "    </tr>\n",
              "    <tr>\n",
              "      <th>12</th>\n",
              "      <td>manner</td>\n",
              "      <td>6</td>\n",
              "    </tr>\n",
              "    <tr>\n",
              "      <th>13</th>\n",
              "      <td>house</td>\n",
              "      <td>5</td>\n",
              "    </tr>\n",
              "    <tr>\n",
              "      <th>14</th>\n",
              "      <td>food</td>\n",
              "      <td>4</td>\n",
              "    </tr>\n",
              "    <tr>\n",
              "      <th>15</th>\n",
              "      <td>brain</td>\n",
              "      <td>5</td>\n",
              "    </tr>\n",
              "    <tr>\n",
              "      <th>16</th>\n",
              "      <td>history</td>\n",
              "      <td>7</td>\n",
              "    </tr>\n",
              "    <tr>\n",
              "      <th>17</th>\n",
              "      <td>love</td>\n",
              "      <td>4</td>\n",
              "    </tr>\n",
              "    <tr>\n",
              "      <th>18</th>\n",
              "      <td>peace</td>\n",
              "      <td>5</td>\n",
              "    </tr>\n",
              "    <tr>\n",
              "      <th>19</th>\n",
              "      <td>object</td>\n",
              "      <td>6</td>\n",
              "    </tr>\n",
              "  </tbody>\n",
              "</table>\n",
              "</div>"
            ],
            "text/plain": [
              "      words  word_count\n",
              "0     stick           5\n",
              "1      john           4\n",
              "2    pencil           6\n",
              "3    rubber           6\n",
              "4     glove           5\n",
              "5     quick           5\n",
              "6     brown           5\n",
              "7       fox           3\n",
              "8     jumps           5\n",
              "9      over           4\n",
              "10     lazy           4\n",
              "11      dog           3\n",
              "12   manner           6\n",
              "13    house           5\n",
              "14     food           4\n",
              "15    brain           5\n",
              "16  history           7\n",
              "17     love           4\n",
              "18    peace           5\n",
              "19   object           6"
            ]
          },
          "metadata": {
            "tags": []
          },
          "execution_count": 165
        }
      ]
    },
    {
      "cell_type": "markdown",
      "metadata": {
        "id": "hwIswl-WNSkB",
        "colab_type": "text"
      },
      "source": [
        "### 4.4.6 Dataset from a local CSV file.\n",
        "\n",
        "Reading a CSV is as simple as calling the read_csv function. By default, the read_csv function expects the column separator to be a comma, but you can change that using the sep parameter."
      ]
    },
    {
      "cell_type": "code",
      "metadata": {
        "id": "j0vEY33ANSkB",
        "colab_type": "code",
        "outputId": "f5ad8730-6c31-464e-950e-00f499563e91",
        "colab": {}
      },
      "source": [
        "import os\n",
        "os.getcwd()\n",
        "os.listdir()"
      ],
      "execution_count": 0,
      "outputs": [
        {
          "output_type": "execute_result",
          "data": {
            "text/plain": [
              "['.ipynb_checkpoints',\n",
              " 'DSML class THREE (python recap).ipynb',\n",
              " 'DSML class THREE homework_solution.ipynb',\n",
              " 'DSML- week 1 solutions.ipynb',\n",
              " 'DSML4_week 1 solution.ipynb',\n",
              " 'DSML_Class 3_v1.ipynb',\n",
              " 'DSML_Class 3_v2-Copy1.ipynb',\n",
              " 'DSML_Class 3_v2-Copy2.ipynb',\n",
              " 'DSML_Class 3_v2.ipynb',\n",
              " 'DSML_Class THREE_.ipynb',\n",
              " 'DSML_Class3-Copy1.ipynb',\n",
              " 'DSML_Class3-Copy2.ipynb',\n",
              " 'DSML_Class3.ipynb',\n",
              " 'DSML_Class_THREE (1).ipynb',\n",
              " 'Hangman+breakdown (1).ipynb',\n",
              " 'Hangman_Hilda.ipynb',\n",
              " 'ckass_3.JPG',\n",
              " 'class 4 solution',\n",
              " 'class5 solution',\n",
              " 'df.csv',\n",
              " 'football.csv']"
            ]
          },
          "metadata": {
            "tags": []
          },
          "execution_count": 166
        }
      ]
    },
    {
      "cell_type": "code",
      "metadata": {
        "id": "8XjFez-_NSkC",
        "colab_type": "code",
        "colab": {}
      },
      "source": [
        "df = pd.read_csv('football.csv')"
      ],
      "execution_count": 0,
      "outputs": []
    },
    {
      "cell_type": "code",
      "metadata": {
        "id": "-HOIUuLuNSkC",
        "colab_type": "code",
        "colab": {}
      },
      "source": [
        "df.to_csv('df.csv')"
      ],
      "execution_count": 0,
      "outputs": []
    },
    {
      "cell_type": "code",
      "metadata": {
        "id": "UgXL3Vg8NSkD",
        "colab_type": "code",
        "colab": {}
      },
      "source": [
        "football.to_csv('df.csv')"
      ],
      "execution_count": 0,
      "outputs": []
    },
    {
      "cell_type": "code",
      "metadata": {
        "id": "TcjRUvntNSkE",
        "colab_type": "code",
        "colab": {}
      },
      "source": [
        "# First, write the dataframe to a local hard drive\n",
        "football.to_csv('football.csv')"
      ],
      "execution_count": 0,
      "outputs": []
    },
    {
      "cell_type": "code",
      "metadata": {
        "id": "ZQD9b4ToNSkE",
        "colab_type": "code",
        "outputId": "f6ab1ea7-9de7-44cb-e18e-c5b17bff6350",
        "colab": {}
      },
      "source": [
        "pd.read_csv('df.csv')"
      ],
      "execution_count": 0,
      "outputs": [
        {
          "output_type": "execute_result",
          "data": {
            "text/html": [
              "<div>\n",
              "<style>\n",
              "    .dataframe thead tr:only-child th {\n",
              "        text-align: right;\n",
              "    }\n",
              "\n",
              "    .dataframe thead th {\n",
              "        text-align: left;\n",
              "    }\n",
              "\n",
              "    .dataframe tbody tr th {\n",
              "        vertical-align: top;\n",
              "    }\n",
              "</style>\n",
              "<table border=\"1\" class=\"dataframe\">\n",
              "  <thead>\n",
              "    <tr style=\"text-align: right;\">\n",
              "      <th></th>\n",
              "      <th>Unnamed: 0</th>\n",
              "      <th>year</th>\n",
              "      <th>team</th>\n",
              "      <th>wins</th>\n",
              "      <th>losses</th>\n",
              "    </tr>\n",
              "  </thead>\n",
              "  <tbody>\n",
              "    <tr>\n",
              "      <th>0</th>\n",
              "      <td>0</td>\n",
              "      <td>2010</td>\n",
              "      <td>Bears</td>\n",
              "      <td>11</td>\n",
              "      <td>5</td>\n",
              "    </tr>\n",
              "    <tr>\n",
              "      <th>1</th>\n",
              "      <td>1</td>\n",
              "      <td>2011</td>\n",
              "      <td>Bears</td>\n",
              "      <td>8</td>\n",
              "      <td>8</td>\n",
              "    </tr>\n",
              "    <tr>\n",
              "      <th>2</th>\n",
              "      <td>2</td>\n",
              "      <td>2012</td>\n",
              "      <td>Bears</td>\n",
              "      <td>10</td>\n",
              "      <td>6</td>\n",
              "    </tr>\n",
              "    <tr>\n",
              "      <th>3</th>\n",
              "      <td>3</td>\n",
              "      <td>2011</td>\n",
              "      <td>Packers</td>\n",
              "      <td>15</td>\n",
              "      <td>1</td>\n",
              "    </tr>\n",
              "    <tr>\n",
              "      <th>4</th>\n",
              "      <td>4</td>\n",
              "      <td>2012</td>\n",
              "      <td>Packers</td>\n",
              "      <td>11</td>\n",
              "      <td>5</td>\n",
              "    </tr>\n",
              "    <tr>\n",
              "      <th>5</th>\n",
              "      <td>5</td>\n",
              "      <td>2010</td>\n",
              "      <td>Lions</td>\n",
              "      <td>6</td>\n",
              "      <td>10</td>\n",
              "    </tr>\n",
              "    <tr>\n",
              "      <th>6</th>\n",
              "      <td>6</td>\n",
              "      <td>2011</td>\n",
              "      <td>Lions</td>\n",
              "      <td>10</td>\n",
              "      <td>6</td>\n",
              "    </tr>\n",
              "    <tr>\n",
              "      <th>7</th>\n",
              "      <td>7</td>\n",
              "      <td>2012</td>\n",
              "      <td>Lions</td>\n",
              "      <td>4</td>\n",
              "      <td>12</td>\n",
              "    </tr>\n",
              "  </tbody>\n",
              "</table>\n",
              "</div>"
            ],
            "text/plain": [
              "   Unnamed: 0  year     team  wins  losses\n",
              "0           0  2010    Bears    11       5\n",
              "1           1  2011    Bears     8       8\n",
              "2           2  2012    Bears    10       6\n",
              "3           3  2011  Packers    15       1\n",
              "4           4  2012  Packers    11       5\n",
              "5           5  2010    Lions     6      10\n",
              "6           6  2011    Lions    10       6\n",
              "7           7  2012    Lions     4      12"
            ]
          },
          "metadata": {
            "tags": []
          },
          "execution_count": 154
        }
      ]
    },
    {
      "cell_type": "code",
      "metadata": {
        "id": "E074U2Q-NSkF",
        "colab_type": "code",
        "outputId": "8986e873-0964-463d-a301-44d3d6d8bad5",
        "colab": {}
      },
      "source": [
        "from_csv = pd.read_csv('football.csv')\n",
        "from_csv.head(2)"
      ],
      "execution_count": 0,
      "outputs": [
        {
          "output_type": "execute_result",
          "data": {
            "text/html": [
              "<div>\n",
              "<style>\n",
              "    .dataframe thead tr:only-child th {\n",
              "        text-align: right;\n",
              "    }\n",
              "\n",
              "    .dataframe thead th {\n",
              "        text-align: left;\n",
              "    }\n",
              "\n",
              "    .dataframe tbody tr th {\n",
              "        vertical-align: top;\n",
              "    }\n",
              "</style>\n",
              "<table border=\"1\" class=\"dataframe\">\n",
              "  <thead>\n",
              "    <tr style=\"text-align: right;\">\n",
              "      <th></th>\n",
              "      <th>Unnamed: 0</th>\n",
              "      <th>year</th>\n",
              "      <th>team</th>\n",
              "      <th>wins</th>\n",
              "      <th>losses</th>\n",
              "    </tr>\n",
              "  </thead>\n",
              "  <tbody>\n",
              "    <tr>\n",
              "      <th>0</th>\n",
              "      <td>0</td>\n",
              "      <td>2010</td>\n",
              "      <td>Bears</td>\n",
              "      <td>11</td>\n",
              "      <td>5</td>\n",
              "    </tr>\n",
              "    <tr>\n",
              "      <th>1</th>\n",
              "      <td>1</td>\n",
              "      <td>2011</td>\n",
              "      <td>Bears</td>\n",
              "      <td>8</td>\n",
              "      <td>8</td>\n",
              "    </tr>\n",
              "  </tbody>\n",
              "</table>\n",
              "</div>"
            ],
            "text/plain": [
              "   Unnamed: 0  year   team  wins  losses\n",
              "0           0  2010  Bears    11       5\n",
              "1           1  2011  Bears     8       8"
            ]
          },
          "metadata": {
            "tags": []
          },
          "execution_count": 234
        }
      ]
    },
    {
      "cell_type": "code",
      "metadata": {
        "id": "ApTGKEJkNSkI",
        "colab_type": "code",
        "outputId": "e23a37ee-92b2-42f9-b50c-1be3b95c0f51",
        "colab": {}
      },
      "source": [
        "# this is the DataFrame we created from a dictionary earlier\n",
        "football.head()"
      ],
      "execution_count": 0,
      "outputs": [
        {
          "output_type": "execute_result",
          "data": {
            "text/html": [
              "<div>\n",
              "<style>\n",
              "    .dataframe thead tr:only-child th {\n",
              "        text-align: right;\n",
              "    }\n",
              "\n",
              "    .dataframe thead th {\n",
              "        text-align: left;\n",
              "    }\n",
              "\n",
              "    .dataframe tbody tr th {\n",
              "        vertical-align: top;\n",
              "    }\n",
              "</style>\n",
              "<table border=\"1\" class=\"dataframe\">\n",
              "  <thead>\n",
              "    <tr style=\"text-align: right;\">\n",
              "      <th></th>\n",
              "      <th>year</th>\n",
              "      <th>team</th>\n",
              "      <th>wins</th>\n",
              "      <th>losses</th>\n",
              "    </tr>\n",
              "  </thead>\n",
              "  <tbody>\n",
              "    <tr>\n",
              "      <th>0</th>\n",
              "      <td>2010</td>\n",
              "      <td>Bears</td>\n",
              "      <td>11</td>\n",
              "      <td>5</td>\n",
              "    </tr>\n",
              "    <tr>\n",
              "      <th>1</th>\n",
              "      <td>2011</td>\n",
              "      <td>Bears</td>\n",
              "      <td>8</td>\n",
              "      <td>8</td>\n",
              "    </tr>\n",
              "    <tr>\n",
              "      <th>2</th>\n",
              "      <td>2012</td>\n",
              "      <td>Bears</td>\n",
              "      <td>10</td>\n",
              "      <td>6</td>\n",
              "    </tr>\n",
              "    <tr>\n",
              "      <th>3</th>\n",
              "      <td>2011</td>\n",
              "      <td>Packers</td>\n",
              "      <td>15</td>\n",
              "      <td>1</td>\n",
              "    </tr>\n",
              "    <tr>\n",
              "      <th>4</th>\n",
              "      <td>2012</td>\n",
              "      <td>Packers</td>\n",
              "      <td>11</td>\n",
              "      <td>5</td>\n",
              "    </tr>\n",
              "  </tbody>\n",
              "</table>\n",
              "</div>"
            ],
            "text/plain": [
              "   year     team  wins  losses\n",
              "0  2010    Bears    11       5\n",
              "1  2011    Bears     8       8\n",
              "2  2012    Bears    10       6\n",
              "3  2011  Packers    15       1\n",
              "4  2012  Packers    11       5"
            ]
          },
          "metadata": {
            "tags": []
          },
          "execution_count": 33
        }
      ]
    },
    {
      "cell_type": "markdown",
      "metadata": {
        "id": "8HuCQ0JxNSkL",
        "colab_type": "text"
      },
      "source": [
        "### 4.4.7 Exporting our data to excel"
      ]
    },
    {
      "cell_type": "code",
      "metadata": {
        "id": "_4SZIGbmNSkL",
        "colab_type": "code",
        "colab": {}
      },
      "source": [
        "# since our index on the football DataFrame is meaningless, let's not write it\n",
        "#import openpyxl\n",
        "#football.to_excel('football.xlsx', index=False)"
      ],
      "execution_count": 0,
      "outputs": []
    },
    {
      "cell_type": "code",
      "metadata": {
        "id": "n3v5ukxkNSkM",
        "colab_type": "code",
        "colab": {}
      },
      "source": [
        "# delete the old DataFrame\n",
        "del football"
      ],
      "execution_count": 0,
      "outputs": []
    },
    {
      "cell_type": "code",
      "metadata": {
        "id": "BJtKeHfqNSkO",
        "colab_type": "code",
        "colab": {}
      },
      "source": [
        "# read from Excel\n",
        "football = pd.read_excel('football.xlsx', 'Sheet1')\n",
        "football"
      ],
      "execution_count": 0,
      "outputs": []
    },
    {
      "cell_type": "code",
      "metadata": {
        "id": "1OeL5Y_cSZba",
        "colab_type": "code",
        "colab": {}
      },
      "source": [
        ""
      ],
      "execution_count": 0,
      "outputs": []
    },
    {
      "cell_type": "markdown",
      "metadata": {
        "id": "STd1VSJUNSkQ",
        "colab_type": "text"
      },
      "source": [
        "## 4.5.0  Webscrapping using pandas\n",
        "\n",
        "Use read_html & read_table to get information off the internet"
      ]
    },
    {
      "cell_type": "code",
      "metadata": {
        "id": "mGBblvYmNSkR",
        "colab_type": "code",
        "colab": {}
      },
      "source": [
        "#pip install pandas\n",
        "#pip install lxml\n",
        "#sudo pip3 install html5lib\n",
        "#pip install BeautifulSoup4"
      ],
      "execution_count": 0,
      "outputs": []
    },
    {
      "cell_type": "code",
      "metadata": {
        "scrolled": true,
        "id": "3SPK9CsGNSkS",
        "colab_type": "code",
        "outputId": "dd12b24e-2fb8-47cb-e692-25496d0274b8",
        "colab": {
          "base_uri": "https://localhost:8080/",
          "height": 669
        }
      },
      "source": [
        "import pandas as pd\n",
        "import html5lib\n",
        "url='http://www.skysports.com/premier-league-table'\n",
        "epltable = pd.read_html(url)\n",
        "epltable[0]"
      ],
      "execution_count": 0,
      "outputs": [
        {
          "output_type": "execute_result",
          "data": {
            "text/html": [
              "<div>\n",
              "<style scoped>\n",
              "    .dataframe tbody tr th:only-of-type {\n",
              "        vertical-align: middle;\n",
              "    }\n",
              "\n",
              "    .dataframe tbody tr th {\n",
              "        vertical-align: top;\n",
              "    }\n",
              "\n",
              "    .dataframe thead th {\n",
              "        text-align: right;\n",
              "    }\n",
              "</style>\n",
              "<table border=\"1\" class=\"dataframe\">\n",
              "  <thead>\n",
              "    <tr style=\"text-align: right;\">\n",
              "      <th></th>\n",
              "      <th>#</th>\n",
              "      <th>Team</th>\n",
              "      <th>Pl</th>\n",
              "      <th>W</th>\n",
              "      <th>D</th>\n",
              "      <th>L</th>\n",
              "      <th>F</th>\n",
              "      <th>A</th>\n",
              "      <th>GD</th>\n",
              "      <th>Pts</th>\n",
              "      <th>Last 6</th>\n",
              "    </tr>\n",
              "  </thead>\n",
              "  <tbody>\n",
              "    <tr>\n",
              "      <th>0</th>\n",
              "      <td>1</td>\n",
              "      <td>Manchester City</td>\n",
              "      <td>29</td>\n",
              "      <td>23</td>\n",
              "      <td>2</td>\n",
              "      <td>4</td>\n",
              "      <td>76</td>\n",
              "      <td>20</td>\n",
              "      <td>56</td>\n",
              "      <td>71</td>\n",
              "      <td>NaN</td>\n",
              "    </tr>\n",
              "    <tr>\n",
              "      <th>1</th>\n",
              "      <td>2</td>\n",
              "      <td>Liverpool</td>\n",
              "      <td>29</td>\n",
              "      <td>21</td>\n",
              "      <td>7</td>\n",
              "      <td>1</td>\n",
              "      <td>64</td>\n",
              "      <td>15</td>\n",
              "      <td>49</td>\n",
              "      <td>70</td>\n",
              "      <td>NaN</td>\n",
              "    </tr>\n",
              "    <tr>\n",
              "      <th>2</th>\n",
              "      <td>3</td>\n",
              "      <td>Tottenham Hotspur</td>\n",
              "      <td>29</td>\n",
              "      <td>20</td>\n",
              "      <td>1</td>\n",
              "      <td>8</td>\n",
              "      <td>56</td>\n",
              "      <td>30</td>\n",
              "      <td>26</td>\n",
              "      <td>61</td>\n",
              "      <td>NaN</td>\n",
              "    </tr>\n",
              "    <tr>\n",
              "      <th>3</th>\n",
              "      <td>4</td>\n",
              "      <td>Manchester United</td>\n",
              "      <td>29</td>\n",
              "      <td>17</td>\n",
              "      <td>7</td>\n",
              "      <td>5</td>\n",
              "      <td>58</td>\n",
              "      <td>38</td>\n",
              "      <td>20</td>\n",
              "      <td>58</td>\n",
              "      <td>NaN</td>\n",
              "    </tr>\n",
              "    <tr>\n",
              "      <th>4</th>\n",
              "      <td>5</td>\n",
              "      <td>Arsenal</td>\n",
              "      <td>29</td>\n",
              "      <td>17</td>\n",
              "      <td>6</td>\n",
              "      <td>6</td>\n",
              "      <td>61</td>\n",
              "      <td>39</td>\n",
              "      <td>22</td>\n",
              "      <td>57</td>\n",
              "      <td>NaN</td>\n",
              "    </tr>\n",
              "    <tr>\n",
              "      <th>5</th>\n",
              "      <td>6</td>\n",
              "      <td>Chelsea</td>\n",
              "      <td>28</td>\n",
              "      <td>17</td>\n",
              "      <td>5</td>\n",
              "      <td>6</td>\n",
              "      <td>49</td>\n",
              "      <td>30</td>\n",
              "      <td>19</td>\n",
              "      <td>56</td>\n",
              "      <td>NaN</td>\n",
              "    </tr>\n",
              "    <tr>\n",
              "      <th>6</th>\n",
              "      <td>7</td>\n",
              "      <td>Wolverhampton Wanderers</td>\n",
              "      <td>29</td>\n",
              "      <td>12</td>\n",
              "      <td>7</td>\n",
              "      <td>10</td>\n",
              "      <td>37</td>\n",
              "      <td>35</td>\n",
              "      <td>2</td>\n",
              "      <td>43</td>\n",
              "      <td>NaN</td>\n",
              "    </tr>\n",
              "    <tr>\n",
              "      <th>7</th>\n",
              "      <td>8</td>\n",
              "      <td>Watford</td>\n",
              "      <td>29</td>\n",
              "      <td>12</td>\n",
              "      <td>7</td>\n",
              "      <td>10</td>\n",
              "      <td>41</td>\n",
              "      <td>41</td>\n",
              "      <td>0</td>\n",
              "      <td>43</td>\n",
              "      <td>NaN</td>\n",
              "    </tr>\n",
              "    <tr>\n",
              "      <th>8</th>\n",
              "      <td>9</td>\n",
              "      <td>West Ham United</td>\n",
              "      <td>29</td>\n",
              "      <td>11</td>\n",
              "      <td>6</td>\n",
              "      <td>12</td>\n",
              "      <td>37</td>\n",
              "      <td>41</td>\n",
              "      <td>-4</td>\n",
              "      <td>39</td>\n",
              "      <td>NaN</td>\n",
              "    </tr>\n",
              "    <tr>\n",
              "      <th>9</th>\n",
              "      <td>10</td>\n",
              "      <td>Everton</td>\n",
              "      <td>29</td>\n",
              "      <td>10</td>\n",
              "      <td>7</td>\n",
              "      <td>12</td>\n",
              "      <td>39</td>\n",
              "      <td>39</td>\n",
              "      <td>0</td>\n",
              "      <td>37</td>\n",
              "      <td>NaN</td>\n",
              "    </tr>\n",
              "    <tr>\n",
              "      <th>10</th>\n",
              "      <td>11</td>\n",
              "      <td>Leicester City</td>\n",
              "      <td>29</td>\n",
              "      <td>10</td>\n",
              "      <td>5</td>\n",
              "      <td>14</td>\n",
              "      <td>35</td>\n",
              "      <td>41</td>\n",
              "      <td>-6</td>\n",
              "      <td>35</td>\n",
              "      <td>NaN</td>\n",
              "    </tr>\n",
              "    <tr>\n",
              "      <th>11</th>\n",
              "      <td>12</td>\n",
              "      <td>Bournemouth</td>\n",
              "      <td>29</td>\n",
              "      <td>10</td>\n",
              "      <td>4</td>\n",
              "      <td>15</td>\n",
              "      <td>39</td>\n",
              "      <td>54</td>\n",
              "      <td>-15</td>\n",
              "      <td>34</td>\n",
              "      <td>NaN</td>\n",
              "    </tr>\n",
              "    <tr>\n",
              "      <th>12</th>\n",
              "      <td>13</td>\n",
              "      <td>Crystal Palace</td>\n",
              "      <td>29</td>\n",
              "      <td>9</td>\n",
              "      <td>6</td>\n",
              "      <td>14</td>\n",
              "      <td>35</td>\n",
              "      <td>39</td>\n",
              "      <td>-4</td>\n",
              "      <td>33</td>\n",
              "      <td>NaN</td>\n",
              "    </tr>\n",
              "    <tr>\n",
              "      <th>13</th>\n",
              "      <td>14</td>\n",
              "      <td>Newcastle United</td>\n",
              "      <td>29</td>\n",
              "      <td>8</td>\n",
              "      <td>7</td>\n",
              "      <td>14</td>\n",
              "      <td>26</td>\n",
              "      <td>36</td>\n",
              "      <td>-10</td>\n",
              "      <td>31</td>\n",
              "      <td>NaN</td>\n",
              "    </tr>\n",
              "    <tr>\n",
              "      <th>14</th>\n",
              "      <td>15</td>\n",
              "      <td>Brighton and Hove Albion</td>\n",
              "      <td>28</td>\n",
              "      <td>8</td>\n",
              "      <td>6</td>\n",
              "      <td>14</td>\n",
              "      <td>30</td>\n",
              "      <td>41</td>\n",
              "      <td>-11</td>\n",
              "      <td>30</td>\n",
              "      <td>NaN</td>\n",
              "    </tr>\n",
              "    <tr>\n",
              "      <th>15</th>\n",
              "      <td>16</td>\n",
              "      <td>Burnley</td>\n",
              "      <td>29</td>\n",
              "      <td>8</td>\n",
              "      <td>6</td>\n",
              "      <td>15</td>\n",
              "      <td>32</td>\n",
              "      <td>53</td>\n",
              "      <td>-21</td>\n",
              "      <td>30</td>\n",
              "      <td>NaN</td>\n",
              "    </tr>\n",
              "    <tr>\n",
              "      <th>16</th>\n",
              "      <td>17</td>\n",
              "      <td>Southampton</td>\n",
              "      <td>29</td>\n",
              "      <td>6</td>\n",
              "      <td>9</td>\n",
              "      <td>14</td>\n",
              "      <td>32</td>\n",
              "      <td>49</td>\n",
              "      <td>-17</td>\n",
              "      <td>27</td>\n",
              "      <td>NaN</td>\n",
              "    </tr>\n",
              "    <tr>\n",
              "      <th>17</th>\n",
              "      <td>18</td>\n",
              "      <td>Cardiff City</td>\n",
              "      <td>29</td>\n",
              "      <td>7</td>\n",
              "      <td>4</td>\n",
              "      <td>18</td>\n",
              "      <td>25</td>\n",
              "      <td>57</td>\n",
              "      <td>-32</td>\n",
              "      <td>25</td>\n",
              "      <td>NaN</td>\n",
              "    </tr>\n",
              "    <tr>\n",
              "      <th>18</th>\n",
              "      <td>19</td>\n",
              "      <td>Fulham</td>\n",
              "      <td>29</td>\n",
              "      <td>4</td>\n",
              "      <td>5</td>\n",
              "      <td>20</td>\n",
              "      <td>27</td>\n",
              "      <td>65</td>\n",
              "      <td>-38</td>\n",
              "      <td>17</td>\n",
              "      <td>NaN</td>\n",
              "    </tr>\n",
              "    <tr>\n",
              "      <th>19</th>\n",
              "      <td>20</td>\n",
              "      <td>Huddersfield Town</td>\n",
              "      <td>29</td>\n",
              "      <td>3</td>\n",
              "      <td>5</td>\n",
              "      <td>21</td>\n",
              "      <td>15</td>\n",
              "      <td>51</td>\n",
              "      <td>-36</td>\n",
              "      <td>14</td>\n",
              "      <td>NaN</td>\n",
              "    </tr>\n",
              "  </tbody>\n",
              "</table>\n",
              "</div>"
            ],
            "text/plain": [
              "     #                      Team  Pl   W  D   L   F   A  GD  Pts  Last 6\n",
              "0    1           Manchester City  29  23  2   4  76  20  56   71     NaN\n",
              "1    2                 Liverpool  29  21  7   1  64  15  49   70     NaN\n",
              "2    3         Tottenham Hotspur  29  20  1   8  56  30  26   61     NaN\n",
              "3    4         Manchester United  29  17  7   5  58  38  20   58     NaN\n",
              "4    5                   Arsenal  29  17  6   6  61  39  22   57     NaN\n",
              "5    6                   Chelsea  28  17  5   6  49  30  19   56     NaN\n",
              "6    7   Wolverhampton Wanderers  29  12  7  10  37  35   2   43     NaN\n",
              "7    8                   Watford  29  12  7  10  41  41   0   43     NaN\n",
              "8    9           West Ham United  29  11  6  12  37  41  -4   39     NaN\n",
              "9   10                   Everton  29  10  7  12  39  39   0   37     NaN\n",
              "10  11            Leicester City  29  10  5  14  35  41  -6   35     NaN\n",
              "11  12               Bournemouth  29  10  4  15  39  54 -15   34     NaN\n",
              "12  13            Crystal Palace  29   9  6  14  35  39  -4   33     NaN\n",
              "13  14          Newcastle United  29   8  7  14  26  36 -10   31     NaN\n",
              "14  15  Brighton and Hove Albion  28   8  6  14  30  41 -11   30     NaN\n",
              "15  16                   Burnley  29   8  6  15  32  53 -21   30     NaN\n",
              "16  17               Southampton  29   6  9  14  32  49 -17   27     NaN\n",
              "17  18              Cardiff City  29   7  4  18  25  57 -32   25     NaN\n",
              "18  19                    Fulham  29   4  5  20  27  65 -38   17     NaN\n",
              "19  20         Huddersfield Town  29   3  5  21  15  51 -36   14     NaN"
            ]
          },
          "metadata": {
            "tags": []
          },
          "execution_count": 8
        }
      ]
    },
    {
      "cell_type": "code",
      "metadata": {
        "id": "xSJUhzPeNSke",
        "colab_type": "code",
        "outputId": "17769e89-64c6-481d-a437-500cc8f93e2c",
        "colab": {}
      },
      "source": [
        "url = 'https://raw.github.com/gjreda/best-sandwiches/master/data/best-sandwiches-geocode.tsv'\n",
        "\n",
        "# fetch the text from the URL and read it into a DataFrame\n",
        "from_url = pd.read_table(url, sep='\\t')\n",
        "from_url.head(3)"
      ],
      "execution_count": 0,
      "outputs": [
        {
          "output_type": "execute_result",
          "data": {
            "text/html": [
              "<div>\n",
              "<style>\n",
              "    .dataframe thead tr:only-child th {\n",
              "        text-align: right;\n",
              "    }\n",
              "\n",
              "    .dataframe thead th {\n",
              "        text-align: left;\n",
              "    }\n",
              "\n",
              "    .dataframe tbody tr th {\n",
              "        vertical-align: top;\n",
              "    }\n",
              "</style>\n",
              "<table border=\"1\" class=\"dataframe\">\n",
              "  <thead>\n",
              "    <tr style=\"text-align: right;\">\n",
              "      <th></th>\n",
              "      <th>rank</th>\n",
              "      <th>sandwich</th>\n",
              "      <th>restaurant</th>\n",
              "      <th>description</th>\n",
              "      <th>price</th>\n",
              "      <th>address</th>\n",
              "      <th>city</th>\n",
              "      <th>phone</th>\n",
              "      <th>website</th>\n",
              "      <th>full_address</th>\n",
              "      <th>formatted_address</th>\n",
              "      <th>lat</th>\n",
              "      <th>lng</th>\n",
              "    </tr>\n",
              "  </thead>\n",
              "  <tbody>\n",
              "    <tr>\n",
              "      <th>0</th>\n",
              "      <td>1</td>\n",
              "      <td>BLT</td>\n",
              "      <td>Old Oak Tap</td>\n",
              "      <td>The B is applewood smoked&amp;mdash;nice and snapp...</td>\n",
              "      <td>$10</td>\n",
              "      <td>2109 W. Chicago Ave.</td>\n",
              "      <td>Chicago</td>\n",
              "      <td>773-772-0406</td>\n",
              "      <td>theoldoaktap.com</td>\n",
              "      <td>2109 W. Chicago Ave., Chicago</td>\n",
              "      <td>2109 West Chicago Avenue, Chicago, IL 60622, USA</td>\n",
              "      <td>41.895734</td>\n",
              "      <td>-87.679960</td>\n",
              "    </tr>\n",
              "    <tr>\n",
              "      <th>1</th>\n",
              "      <td>2</td>\n",
              "      <td>Fried Bologna</td>\n",
              "      <td>Au Cheval</td>\n",
              "      <td>Thought your bologna-eating days had retired w...</td>\n",
              "      <td>$9</td>\n",
              "      <td>800 W. Randolph St.</td>\n",
              "      <td>Chicago</td>\n",
              "      <td>312-929-4580</td>\n",
              "      <td>aucheval.tumblr.com</td>\n",
              "      <td>800 W. Randolph St., Chicago</td>\n",
              "      <td>800 West Randolph Street, Chicago, IL 60607, USA</td>\n",
              "      <td>41.884672</td>\n",
              "      <td>-87.647754</td>\n",
              "    </tr>\n",
              "    <tr>\n",
              "      <th>2</th>\n",
              "      <td>3</td>\n",
              "      <td>Woodland Mushroom</td>\n",
              "      <td>Xoco</td>\n",
              "      <td>Leave it to Rick Bayless and crew to come up w...</td>\n",
              "      <td>$9.50.</td>\n",
              "      <td>445 N. Clark St.</td>\n",
              "      <td>Chicago</td>\n",
              "      <td>312-334-3688</td>\n",
              "      <td>rickbayless.com</td>\n",
              "      <td>445 N. Clark St., Chicago</td>\n",
              "      <td>445 North Clark Street, Chicago, IL 60654, USA</td>\n",
              "      <td>41.890602</td>\n",
              "      <td>-87.630925</td>\n",
              "    </tr>\n",
              "  </tbody>\n",
              "</table>\n",
              "</div>"
            ],
            "text/plain": [
              "   rank           sandwich   restaurant  \\\n",
              "0     1                BLT  Old Oak Tap   \n",
              "1     2      Fried Bologna    Au Cheval   \n",
              "2     3  Woodland Mushroom         Xoco   \n",
              "\n",
              "                                         description   price  \\\n",
              "0  The B is applewood smoked&mdash;nice and snapp...     $10   \n",
              "1  Thought your bologna-eating days had retired w...      $9   \n",
              "2  Leave it to Rick Bayless and crew to come up w...  $9.50.   \n",
              "\n",
              "                address     city         phone              website  \\\n",
              "0  2109 W. Chicago Ave.  Chicago  773-772-0406     theoldoaktap.com   \n",
              "1   800 W. Randolph St.  Chicago  312-929-4580  aucheval.tumblr.com   \n",
              "2      445 N. Clark St.  Chicago  312-334-3688      rickbayless.com   \n",
              "\n",
              "                    full_address  \\\n",
              "0  2109 W. Chicago Ave., Chicago   \n",
              "1   800 W. Randolph St., Chicago   \n",
              "2      445 N. Clark St., Chicago   \n",
              "\n",
              "                                  formatted_address        lat        lng  \n",
              "0  2109 West Chicago Avenue, Chicago, IL 60622, USA  41.895734 -87.679960  \n",
              "1  800 West Randolph Street, Chicago, IL 60607, USA  41.884672 -87.647754  \n",
              "2    445 North Clark Street, Chicago, IL 60654, USA  41.890602 -87.630925  "
            ]
          },
          "metadata": {
            "tags": []
          },
          "execution_count": 46
        }
      ]
    },
    {
      "cell_type": "markdown",
      "metadata": {
        "id": "9EXfFkWbNSkh",
        "colab_type": "text"
      },
      "source": [
        "#### Exercise 4.5.1 Download from internet\n",
        "- Try to download all US states using pandas, and save it do an object called \"us\""
      ]
    },
    {
      "cell_type": "code",
      "metadata": {
        "scrolled": true,
        "id": "cu4eS1dtNSkh",
        "colab_type": "code",
        "colab": {}
      },
      "source": [
        "import pandas as pd\n",
        "url = 'https://simple.wikipedia.org/wiki/List_of_U.S._states'\n"
      ],
      "execution_count": 0,
      "outputs": []
    },
    {
      "cell_type": "code",
      "metadata": {
        "id": "4Lq0kkntNSkj",
        "colab_type": "code",
        "outputId": "92cfbb49-d8c0-48a6-b6b8-8e1092a691fb",
        "colab": {}
      },
      "source": [
        "states"
      ],
      "execution_count": 0,
      "outputs": [
        {
          "output_type": "execute_result",
          "data": {
            "text/html": [
              "<div>\n",
              "<style>\n",
              "    .dataframe thead tr:only-child th {\n",
              "        text-align: right;\n",
              "    }\n",
              "\n",
              "    .dataframe thead th {\n",
              "        text-align: left;\n",
              "    }\n",
              "\n",
              "    .dataframe tbody tr th {\n",
              "        vertical-align: top;\n",
              "    }\n",
              "</style>\n",
              "<table border=\"1\" class=\"dataframe\">\n",
              "  <thead>\n",
              "    <tr style=\"text-align: right;\">\n",
              "      <th></th>\n",
              "      <th>0</th>\n",
              "      <th>1</th>\n",
              "      <th>2</th>\n",
              "      <th>3</th>\n",
              "      <th>4</th>\n",
              "    </tr>\n",
              "  </thead>\n",
              "  <tbody>\n",
              "    <tr>\n",
              "      <th>0</th>\n",
              "      <td>Sl no.</td>\n",
              "      <td>Abbreviations</td>\n",
              "      <td>State Name</td>\n",
              "      <td>Capital</td>\n",
              "      <td>Became a State</td>\n",
              "    </tr>\n",
              "    <tr>\n",
              "      <th>1</th>\n",
              "      <td>1</td>\n",
              "      <td>AL</td>\n",
              "      <td>Alabama</td>\n",
              "      <td>Montgomery</td>\n",
              "      <td>December 14, 1819</td>\n",
              "    </tr>\n",
              "    <tr>\n",
              "      <th>2</th>\n",
              "      <td>2</td>\n",
              "      <td>AK</td>\n",
              "      <td>Alaska</td>\n",
              "      <td>Juneau</td>\n",
              "      <td>January 3, 1959</td>\n",
              "    </tr>\n",
              "    <tr>\n",
              "      <th>3</th>\n",
              "      <td>3</td>\n",
              "      <td>AZ</td>\n",
              "      <td>Arizona</td>\n",
              "      <td>Phoenix</td>\n",
              "      <td>February 14, 1912</td>\n",
              "    </tr>\n",
              "    <tr>\n",
              "      <th>4</th>\n",
              "      <td>4</td>\n",
              "      <td>AR</td>\n",
              "      <td>Arkansas</td>\n",
              "      <td>Little Rock</td>\n",
              "      <td>June 15, 1836</td>\n",
              "    </tr>\n",
              "    <tr>\n",
              "      <th>5</th>\n",
              "      <td>5</td>\n",
              "      <td>CA</td>\n",
              "      <td>California</td>\n",
              "      <td>Sacramento</td>\n",
              "      <td>September 9, 1850</td>\n",
              "    </tr>\n",
              "    <tr>\n",
              "      <th>6</th>\n",
              "      <td>6</td>\n",
              "      <td>CO</td>\n",
              "      <td>Colorado</td>\n",
              "      <td>Denver</td>\n",
              "      <td>August 1, 1876</td>\n",
              "    </tr>\n",
              "    <tr>\n",
              "      <th>7</th>\n",
              "      <td>7</td>\n",
              "      <td>CT</td>\n",
              "      <td>Connecticut</td>\n",
              "      <td>Hartford</td>\n",
              "      <td>January 9, 1788</td>\n",
              "    </tr>\n",
              "    <tr>\n",
              "      <th>8</th>\n",
              "      <td>8</td>\n",
              "      <td>DE</td>\n",
              "      <td>Delaware</td>\n",
              "      <td>Dover</td>\n",
              "      <td>December 7, 1787</td>\n",
              "    </tr>\n",
              "    <tr>\n",
              "      <th>9</th>\n",
              "      <td>9</td>\n",
              "      <td>FL</td>\n",
              "      <td>Florida</td>\n",
              "      <td>Tallahassee</td>\n",
              "      <td>March 3, 1845</td>\n",
              "    </tr>\n",
              "    <tr>\n",
              "      <th>10</th>\n",
              "      <td>10</td>\n",
              "      <td>GA</td>\n",
              "      <td>Georgia</td>\n",
              "      <td>Atlanta</td>\n",
              "      <td>January 2, 1788</td>\n",
              "    </tr>\n",
              "    <tr>\n",
              "      <th>11</th>\n",
              "      <td>11</td>\n",
              "      <td>HI</td>\n",
              "      <td>Hawaii</td>\n",
              "      <td>Honolulu</td>\n",
              "      <td>August 21, 1959</td>\n",
              "    </tr>\n",
              "    <tr>\n",
              "      <th>12</th>\n",
              "      <td>12</td>\n",
              "      <td>ID</td>\n",
              "      <td>Idaho</td>\n",
              "      <td>Boise</td>\n",
              "      <td>July 3, 1890</td>\n",
              "    </tr>\n",
              "    <tr>\n",
              "      <th>13</th>\n",
              "      <td>13</td>\n",
              "      <td>IL</td>\n",
              "      <td>Illinois</td>\n",
              "      <td>Springfield</td>\n",
              "      <td>December 3, 1818</td>\n",
              "    </tr>\n",
              "    <tr>\n",
              "      <th>14</th>\n",
              "      <td>14</td>\n",
              "      <td>IN</td>\n",
              "      <td>Indiana</td>\n",
              "      <td>Indianapolis</td>\n",
              "      <td>December 11, 1816</td>\n",
              "    </tr>\n",
              "    <tr>\n",
              "      <th>15</th>\n",
              "      <td>15</td>\n",
              "      <td>IA</td>\n",
              "      <td>Iowa</td>\n",
              "      <td>Des Moines</td>\n",
              "      <td>December 28, 1846</td>\n",
              "    </tr>\n",
              "    <tr>\n",
              "      <th>16</th>\n",
              "      <td>16</td>\n",
              "      <td>KS</td>\n",
              "      <td>Kansas</td>\n",
              "      <td>Topeka</td>\n",
              "      <td>January 29, 1861</td>\n",
              "    </tr>\n",
              "    <tr>\n",
              "      <th>17</th>\n",
              "      <td>17</td>\n",
              "      <td>KY</td>\n",
              "      <td>Kentucky</td>\n",
              "      <td>Frankfort</td>\n",
              "      <td>June 1, 1792</td>\n",
              "    </tr>\n",
              "    <tr>\n",
              "      <th>18</th>\n",
              "      <td>18</td>\n",
              "      <td>LA</td>\n",
              "      <td>Louisiana</td>\n",
              "      <td>Baton Rouge</td>\n",
              "      <td>April 30, 1812</td>\n",
              "    </tr>\n",
              "    <tr>\n",
              "      <th>19</th>\n",
              "      <td>19</td>\n",
              "      <td>ME</td>\n",
              "      <td>Maine</td>\n",
              "      <td>Augusta</td>\n",
              "      <td>March 15, 1820</td>\n",
              "    </tr>\n",
              "    <tr>\n",
              "      <th>20</th>\n",
              "      <td>20</td>\n",
              "      <td>MD</td>\n",
              "      <td>Maryland</td>\n",
              "      <td>Annapolis</td>\n",
              "      <td>April 28, 1788</td>\n",
              "    </tr>\n",
              "    <tr>\n",
              "      <th>21</th>\n",
              "      <td>21</td>\n",
              "      <td>MA</td>\n",
              "      <td>Massachusetts</td>\n",
              "      <td>Boston</td>\n",
              "      <td>February 6, 1788</td>\n",
              "    </tr>\n",
              "    <tr>\n",
              "      <th>22</th>\n",
              "      <td>22</td>\n",
              "      <td>MI</td>\n",
              "      <td>Michigan</td>\n",
              "      <td>Lansing</td>\n",
              "      <td>January 26, 1837</td>\n",
              "    </tr>\n",
              "    <tr>\n",
              "      <th>23</th>\n",
              "      <td>23</td>\n",
              "      <td>MN</td>\n",
              "      <td>Minnesota</td>\n",
              "      <td>Saint Paul</td>\n",
              "      <td>May 11, 1858</td>\n",
              "    </tr>\n",
              "    <tr>\n",
              "      <th>24</th>\n",
              "      <td>24</td>\n",
              "      <td>MS</td>\n",
              "      <td>Mississippi</td>\n",
              "      <td>Jackson</td>\n",
              "      <td>December 10, 1817</td>\n",
              "    </tr>\n",
              "    <tr>\n",
              "      <th>25</th>\n",
              "      <td>25</td>\n",
              "      <td>MO</td>\n",
              "      <td>Missouri</td>\n",
              "      <td>Jefferson City</td>\n",
              "      <td>August 10, 1821</td>\n",
              "    </tr>\n",
              "    <tr>\n",
              "      <th>26</th>\n",
              "      <td>26</td>\n",
              "      <td>MT</td>\n",
              "      <td>Montana</td>\n",
              "      <td>Helena</td>\n",
              "      <td>November 8, 1889</td>\n",
              "    </tr>\n",
              "    <tr>\n",
              "      <th>27</th>\n",
              "      <td>27</td>\n",
              "      <td>NE</td>\n",
              "      <td>Nebraska</td>\n",
              "      <td>Lincoln</td>\n",
              "      <td>March 1, 1867</td>\n",
              "    </tr>\n",
              "    <tr>\n",
              "      <th>28</th>\n",
              "      <td>28</td>\n",
              "      <td>NV</td>\n",
              "      <td>Nevada</td>\n",
              "      <td>Carson City</td>\n",
              "      <td>October 31, 1864</td>\n",
              "    </tr>\n",
              "    <tr>\n",
              "      <th>29</th>\n",
              "      <td>29</td>\n",
              "      <td>NH</td>\n",
              "      <td>New Hampshire</td>\n",
              "      <td>Concord</td>\n",
              "      <td>June 21, 1788</td>\n",
              "    </tr>\n",
              "    <tr>\n",
              "      <th>30</th>\n",
              "      <td>30</td>\n",
              "      <td>NJ</td>\n",
              "      <td>New Jersey</td>\n",
              "      <td>Trenton</td>\n",
              "      <td>December 18, 1787</td>\n",
              "    </tr>\n",
              "    <tr>\n",
              "      <th>31</th>\n",
              "      <td>31</td>\n",
              "      <td>NM</td>\n",
              "      <td>New Mexico</td>\n",
              "      <td>Santa Fe</td>\n",
              "      <td>January 6, 1912</td>\n",
              "    </tr>\n",
              "    <tr>\n",
              "      <th>32</th>\n",
              "      <td>32</td>\n",
              "      <td>NY</td>\n",
              "      <td>New York</td>\n",
              "      <td>Albany</td>\n",
              "      <td>July 26, 1788</td>\n",
              "    </tr>\n",
              "    <tr>\n",
              "      <th>33</th>\n",
              "      <td>33</td>\n",
              "      <td>NC</td>\n",
              "      <td>North Carolina</td>\n",
              "      <td>Raleigh</td>\n",
              "      <td>November 21, 1789</td>\n",
              "    </tr>\n",
              "    <tr>\n",
              "      <th>34</th>\n",
              "      <td>34</td>\n",
              "      <td>ND</td>\n",
              "      <td>North Dakota</td>\n",
              "      <td>Bismarck</td>\n",
              "      <td>November 2, 1889</td>\n",
              "    </tr>\n",
              "    <tr>\n",
              "      <th>35</th>\n",
              "      <td>35</td>\n",
              "      <td>OH</td>\n",
              "      <td>Ohio</td>\n",
              "      <td>Columbus</td>\n",
              "      <td>March 1, 1803</td>\n",
              "    </tr>\n",
              "    <tr>\n",
              "      <th>36</th>\n",
              "      <td>36</td>\n",
              "      <td>OK</td>\n",
              "      <td>Oklahoma</td>\n",
              "      <td>Oklahoma City</td>\n",
              "      <td>November 16, 1907</td>\n",
              "    </tr>\n",
              "    <tr>\n",
              "      <th>37</th>\n",
              "      <td>37</td>\n",
              "      <td>OR</td>\n",
              "      <td>Oregon</td>\n",
              "      <td>Salem</td>\n",
              "      <td>February 14, 1859</td>\n",
              "    </tr>\n",
              "    <tr>\n",
              "      <th>38</th>\n",
              "      <td>38</td>\n",
              "      <td>PA</td>\n",
              "      <td>Pennsylvania</td>\n",
              "      <td>Harrisburg</td>\n",
              "      <td>December 12, 1787</td>\n",
              "    </tr>\n",
              "    <tr>\n",
              "      <th>39</th>\n",
              "      <td>39</td>\n",
              "      <td>RI</td>\n",
              "      <td>Rhode Island</td>\n",
              "      <td>Providence</td>\n",
              "      <td>May 19, 1790</td>\n",
              "    </tr>\n",
              "    <tr>\n",
              "      <th>40</th>\n",
              "      <td>40</td>\n",
              "      <td>SC</td>\n",
              "      <td>South Carolina</td>\n",
              "      <td>Columbia</td>\n",
              "      <td>May 23, 1788</td>\n",
              "    </tr>\n",
              "    <tr>\n",
              "      <th>41</th>\n",
              "      <td>41</td>\n",
              "      <td>SD</td>\n",
              "      <td>South Dakota</td>\n",
              "      <td>Pierre</td>\n",
              "      <td>November 2, 1889</td>\n",
              "    </tr>\n",
              "    <tr>\n",
              "      <th>42</th>\n",
              "      <td>42</td>\n",
              "      <td>TN</td>\n",
              "      <td>Tennessee</td>\n",
              "      <td>Nashville</td>\n",
              "      <td>June 1, 1796</td>\n",
              "    </tr>\n",
              "    <tr>\n",
              "      <th>43</th>\n",
              "      <td>43</td>\n",
              "      <td>TX</td>\n",
              "      <td>Texas</td>\n",
              "      <td>Austin</td>\n",
              "      <td>December 29, 1845</td>\n",
              "    </tr>\n",
              "    <tr>\n",
              "      <th>44</th>\n",
              "      <td>44</td>\n",
              "      <td>UT</td>\n",
              "      <td>Utah</td>\n",
              "      <td>Salt Lake City</td>\n",
              "      <td>January 4, 1896</td>\n",
              "    </tr>\n",
              "    <tr>\n",
              "      <th>45</th>\n",
              "      <td>45</td>\n",
              "      <td>VT</td>\n",
              "      <td>Vermont</td>\n",
              "      <td>Montpelier</td>\n",
              "      <td>March 4, 1791</td>\n",
              "    </tr>\n",
              "    <tr>\n",
              "      <th>46</th>\n",
              "      <td>46</td>\n",
              "      <td>VA</td>\n",
              "      <td>Virginia</td>\n",
              "      <td>Richmond</td>\n",
              "      <td>June 25, 1788</td>\n",
              "    </tr>\n",
              "    <tr>\n",
              "      <th>47</th>\n",
              "      <td>47</td>\n",
              "      <td>WA</td>\n",
              "      <td>Washington</td>\n",
              "      <td>Olympia</td>\n",
              "      <td>November 11, 1889</td>\n",
              "    </tr>\n",
              "    <tr>\n",
              "      <th>48</th>\n",
              "      <td>48</td>\n",
              "      <td>WV</td>\n",
              "      <td>West Virginia</td>\n",
              "      <td>Charleston</td>\n",
              "      <td>June 20, 1863</td>\n",
              "    </tr>\n",
              "    <tr>\n",
              "      <th>49</th>\n",
              "      <td>49</td>\n",
              "      <td>WI</td>\n",
              "      <td>Wisconsin</td>\n",
              "      <td>Madison</td>\n",
              "      <td>May 29, 1848</td>\n",
              "    </tr>\n",
              "    <tr>\n",
              "      <th>50</th>\n",
              "      <td>50</td>\n",
              "      <td>WY</td>\n",
              "      <td>Wyoming</td>\n",
              "      <td>Cheyenne</td>\n",
              "      <td>July 10, 1890</td>\n",
              "    </tr>\n",
              "  </tbody>\n",
              "</table>\n",
              "</div>"
            ],
            "text/plain": [
              "         0              1               2               3                  4\n",
              "0   Sl no.  Abbreviations      State Name         Capital     Became a State\n",
              "1        1             AL         Alabama      Montgomery  December 14, 1819\n",
              "2        2             AK          Alaska          Juneau    January 3, 1959\n",
              "3        3             AZ         Arizona         Phoenix  February 14, 1912\n",
              "4        4             AR        Arkansas     Little Rock      June 15, 1836\n",
              "5        5             CA      California      Sacramento  September 9, 1850\n",
              "6        6             CO        Colorado          Denver     August 1, 1876\n",
              "7        7             CT     Connecticut        Hartford    January 9, 1788\n",
              "8        8             DE        Delaware           Dover   December 7, 1787\n",
              "9        9             FL         Florida     Tallahassee      March 3, 1845\n",
              "10      10             GA         Georgia         Atlanta    January 2, 1788\n",
              "11      11             HI          Hawaii        Honolulu    August 21, 1959\n",
              "12      12             ID           Idaho           Boise       July 3, 1890\n",
              "13      13             IL        Illinois     Springfield   December 3, 1818\n",
              "14      14             IN         Indiana    Indianapolis  December 11, 1816\n",
              "15      15             IA            Iowa      Des Moines  December 28, 1846\n",
              "16      16             KS          Kansas          Topeka   January 29, 1861\n",
              "17      17             KY        Kentucky       Frankfort       June 1, 1792\n",
              "18      18             LA       Louisiana     Baton Rouge     April 30, 1812\n",
              "19      19             ME           Maine         Augusta     March 15, 1820\n",
              "20      20             MD        Maryland       Annapolis     April 28, 1788\n",
              "21      21             MA   Massachusetts          Boston   February 6, 1788\n",
              "22      22             MI        Michigan         Lansing   January 26, 1837\n",
              "23      23             MN       Minnesota      Saint Paul       May 11, 1858\n",
              "24      24             MS     Mississippi         Jackson  December 10, 1817\n",
              "25      25             MO        Missouri  Jefferson City    August 10, 1821\n",
              "26      26             MT         Montana          Helena   November 8, 1889\n",
              "27      27             NE        Nebraska         Lincoln      March 1, 1867\n",
              "28      28             NV          Nevada     Carson City   October 31, 1864\n",
              "29      29             NH   New Hampshire         Concord      June 21, 1788\n",
              "30      30             NJ      New Jersey         Trenton  December 18, 1787\n",
              "31      31             NM      New Mexico        Santa Fe    January 6, 1912\n",
              "32      32             NY        New York          Albany      July 26, 1788\n",
              "33      33             NC  North Carolina         Raleigh  November 21, 1789\n",
              "34      34             ND    North Dakota        Bismarck   November 2, 1889\n",
              "35      35             OH            Ohio        Columbus      March 1, 1803\n",
              "36      36             OK        Oklahoma   Oklahoma City  November 16, 1907\n",
              "37      37             OR          Oregon           Salem  February 14, 1859\n",
              "38      38             PA    Pennsylvania      Harrisburg  December 12, 1787\n",
              "39      39             RI    Rhode Island      Providence       May 19, 1790\n",
              "40      40             SC  South Carolina        Columbia       May 23, 1788\n",
              "41      41             SD    South Dakota          Pierre   November 2, 1889\n",
              "42      42             TN       Tennessee       Nashville       June 1, 1796\n",
              "43      43             TX           Texas          Austin  December 29, 1845\n",
              "44      44             UT            Utah  Salt Lake City    January 4, 1896\n",
              "45      45             VT         Vermont      Montpelier      March 4, 1791\n",
              "46      46             VA        Virginia        Richmond      June 25, 1788\n",
              "47      47             WA      Washington         Olympia  November 11, 1889\n",
              "48      48             WV   West Virginia      Charleston      June 20, 1863\n",
              "49      49             WI       Wisconsin         Madison       May 29, 1848\n",
              "50      50             WY         Wyoming        Cheyenne      July 10, 1890"
            ]
          },
          "metadata": {
            "tags": []
          },
          "execution_count": 57
        }
      ]
    },
    {
      "cell_type": "markdown",
      "metadata": {
        "id": "7PtyVLz_NSkk",
        "colab_type": "text"
      },
      "source": [
        "- Try to make the below table a 'human readable' pandas table"
      ]
    },
    {
      "cell_type": "code",
      "metadata": {
        "scrolled": true,
        "id": "GDu18FKzNSkm",
        "colab_type": "code",
        "colab": {}
      },
      "source": [
        "url = 'https://redirect.viglink.com/?format=go&jsonp=vglnk_150580104072412&key=949efb41171ac6ec1bf7f206d57e90b8&libId=j7r70ik301021u9s000DAfhsh97p2&loc=https%3A%2F%2Fwww.r-bloggers.com%2Fgetting-data-from-an-online-source%2F&v=1&out=https%3A%2F%2Fsakai.unc.edu%2Faccess%2Fcontent%2Fgroup%2F3d1eb92e-7848-4f55-90c3-7c72a54e7e43%2Fpublic%2Fdata%2Fbycatch.csv&ref=https%3A%2F%2Fwww.google.com.hk%2F&title=Getting%20Data%20From%20An%20Online%20Source%20%7C%20R-bloggers&txt=https%3A%2F%2Fsakai.unc.edu%2Faccess%2Fcontent%2Fgroup%2F3d1eb92e-7848-4f55-90c3-7c72a54e7e43%2Fpublic%2Fdata%2Fbycatch.csv'\n",
        "\n",
        "# fetch the text from the URL and read it into a DataFrame\n",
        "#fom_url = pd.read_table(url, sep = ',')\n",
        "#from_url\n"
      ],
      "execution_count": 0,
      "outputs": []
    },
    {
      "cell_type": "code",
      "metadata": {
        "id": "0yXqcGW0NSko",
        "colab_type": "code",
        "outputId": "4ae6f38d-b3c5-495c-b621-6e1bdedf618b",
        "colab": {}
      },
      "source": [
        "# another, list of countries\n",
        "url=\"https://raw.githubusercontent.com/cs109/2014_data/master/countries.csv\"\n",
        "countries = pd.read_csv(url)\n",
        "countries.Region.value_counts()"
      ],
      "execution_count": 0,
      "outputs": [
        {
          "output_type": "execute_result",
          "data": {
            "text/plain": [
              "AFRICA           54\n",
              "EUROPE           47\n",
              "ASIA             44\n",
              "NORTH AMERICA    23\n",
              "OCEANIA          14\n",
              "SOUTH AMERICA    12\n",
              "Name: Region, dtype: int64"
            ]
          },
          "metadata": {
            "tags": []
          },
          "execution_count": 63
        }
      ]
    },
    {
      "cell_type": "markdown",
      "metadata": {
        "id": "0F9igBiHRxop",
        "colab_type": "text"
      },
      "source": [
        "## 4.6.0 Send Email using python (TO BE UPDATED)"
      ]
    },
    {
      "cell_type": "markdown",
      "metadata": {
        "id": "qJmSYio5YJrR",
        "colab_type": "text"
      },
      "source": [
        "https://blog.mailtrap.io/send-emails-with-gmail-api/"
      ]
    },
    {
      "cell_type": "code",
      "metadata": {
        "id": "10v8mRNBR2_1",
        "colab_type": "code",
        "colab": {}
      },
      "source": [
        "#import hashlib, binascii\n",
        "import smtplib\n",
        "def send_email( user, pwd, recipient, subject, body):\n",
        "    FROM = user\n",
        "    TO = recipient if type(recipient) is list else [recipient]\n",
        "    SUBJECT = subject\n",
        "    TEXT = body\n",
        "\n",
        "    # Prepare actual message\n",
        "    message = \"\"\"From: %s\\nTo: %s\\nSubject: %s\\n\\n%s\n",
        "    \"\"\" % (FROM, \", \".join(TO), SUBJECT, TEXT)\n",
        "    try:\n",
        "        server = smtplib.SMTP(\"smtp.gmail.com\", 587)\n",
        "        server.ehlo()\n",
        "        server.starttls()\n",
        "        server.login(user, pwd)\n",
        "        server.sendmail(FROM, TO, message)\n",
        "        server.close()\n",
        "        print('successfully sent the mail')\n",
        "    except:\n",
        "        print(\"failed to send mail\")"
      ],
      "execution_count": 0,
      "outputs": []
    },
    {
      "cell_type": "code",
      "metadata": {
        "id": "lvNRkeGKR2sy",
        "colab_type": "code",
        "colab": {}
      },
      "source": [
        "send_email('abc@gmail.com',pwd,['abc@gmail.com','abc@gmail.com'],'hello','nonosense')"
      ],
      "execution_count": 0,
      "outputs": []
    },
    {
      "cell_type": "markdown",
      "metadata": {
        "id": "poLS_eOdsNPi",
        "colab_type": "text"
      },
      "source": [
        ""
      ]
    },
    {
      "cell_type": "markdown",
      "metadata": {
        "id": "iS-eYYHlsHW6",
        "colab_type": "text"
      },
      "source": [
        "# 5.0.0 Drafting your Python Project"
      ]
    },
    {
      "cell_type": "markdown",
      "metadata": {
        "id": "Dh4dhthx-R0_",
        "colab_type": "text"
      },
      "source": [
        "![alt text](https://www.collegechoice.net/wp-content/uploads/2018/05/Best-Drafting-Degree-2.jpg)"
      ]
    },
    {
      "cell_type": "markdown",
      "metadata": {
        "id": "fIM-wXdq3tJj",
        "colab_type": "text"
      },
      "source": [
        "Let's continue drafting our python project on the \"common project\" sheets"
      ]
    },
    {
      "cell_type": "markdown",
      "metadata": {
        "id": "Oe3EHtEt33Er",
        "colab_type": "text"
      },
      "source": [
        "https://github.com/codeforhk/python_practitioner/blob/master/common_project.ipynb"
      ]
    },
    {
      "cell_type": "markdown",
      "metadata": {
        "id": "v1qDqjaGroE2",
        "colab_type": "text"
      },
      "source": [
        "# 6.0.0 Structuring Python Project"
      ]
    },
    {
      "cell_type": "markdown",
      "metadata": {
        "id": "CXoJY4rC2OYA",
        "colab_type": "text"
      },
      "source": [
        "![alt text](https://caserta.com/wp-content/uploads/2017/05/lifts-1590608_1920.jpg)"
      ]
    },
    {
      "cell_type": "markdown",
      "metadata": {
        "id": "-9wcHujb1Zuk",
        "colab_type": "text"
      },
      "source": [
        "Here we will be starting to take our hands off jupyter notebook, and try to make our hands dirty and work with command lines / folders.\n",
        "\n",
        "I have attached below a finished copy of the program. You can download the program and run it locally. \n",
        "\n",
        "https://github.com/codeforhk/project/tree/master/crypto_arb\n",
        "\n",
        "Ideally, I would want you to do 2 things:\n",
        "\n",
        "*   Try to re-create our trading program.\n",
        "*   Try to create a Github account, and upload your project.\n",
        "\n",
        "\n"
      ]
    },
    {
      "cell_type": "markdown",
      "metadata": {
        "id": "P7y7xjm6sQ0z",
        "colab_type": "text"
      },
      "source": [
        "## 6.1.0 Python Classes and Methods"
      ]
    },
    {
      "cell_type": "markdown",
      "metadata": {
        "id": "y4AHpQ3H-vmM",
        "colab_type": "text"
      },
      "source": [
        "![alt text](https://2.bp.blogspot.com/-gTIR9FnZ8Jk/WNPcnx29PHI/AAAAAAAAZsU/ckiWk5b4AcgBiWjMdctUURv70cvLC7L8wCLcB/s400/class-object%2Bin%2Bpython.jpg)"
      ]
    },
    {
      "cell_type": "markdown",
      "metadata": {
        "id": "-KBLxsRb-dVL",
        "colab_type": "text"
      },
      "source": [
        "![alt text](https://miro.medium.com/max/3352/1*M0GPyMZGdCfAsbfMgYZRUA.png)"
      ]
    },
    {
      "cell_type": "markdown",
      "metadata": {
        "id": "xRYgcPAN-qPV",
        "colab_type": "text"
      },
      "source": [
        "![alt text](https://intellipaat.com/mediaFiles/2019/03/python10.png)"
      ]
    },
    {
      "cell_type": "markdown",
      "metadata": {
        "id": "aA75bNNrsrPI",
        "colab_type": "text"
      },
      "source": [
        "Before we start structuring, there is a very important concept. We will be structuring our code to a \"class\"\n",
        "\n",
        "[What is a class?](https://www.hackerearth.com/practice/python/object-oriented-programming/classes-and-objects-i/tutorial/)\n",
        "\n",
        "Python is an “object-oriented programming language.” This means that almost all the code is implemented using a special construct called classes. Programmers use classes to keep related things together. This is done using the keyword “class,” which is a grouping of object-oriented constructs.\n",
        "\n",
        "By the end of this tutorial you will be able to:\n",
        "\n",
        "* Define what is a class\n",
        "* Describe how to create a class\n",
        "* Define what is a method\n",
        "* Describe how to do object instantiation\n",
        "* Describe how to create instance attributes in Python"
      ]
    },
    {
      "cell_type": "markdown",
      "metadata": {
        "id": "gYG6oFMUsjKE",
        "colab_type": "text"
      },
      "source": [
        "## 6.2.0 What is a class?"
      ]
    },
    {
      "cell_type": "markdown",
      "metadata": {
        "id": "j1NzkucStBRU",
        "colab_type": "text"
      },
      "source": [
        "A class is a code template for creating objects. Objects have member variables and have behaviour associated with them. In python a class is created by the keyword class.\n",
        "\n",
        "An object is created using the constructor of the class. This object will then be called the instance of the class. In Python we create instances in the following manner"
      ]
    },
    {
      "cell_type": "markdown",
      "metadata": {
        "id": "yheCHivgIgjA",
        "colab_type": "text"
      },
      "source": [
        "## 6.3.0 How to create a class?"
      ]
    },
    {
      "cell_type": "markdown",
      "metadata": {
        "id": "950k8aEYI_DC",
        "colab_type": "text"
      },
      "source": [
        "The simplest class can be created using the class keyword. For example, let's create a simple, empty class with no functionalities."
      ]
    },
    {
      "cell_type": "code",
      "metadata": {
        "id": "W8ryHFsHJIRn",
        "colab_type": "code",
        "colab": {}
      },
      "source": [
        "class Snake:\n",
        "  pass\n"
      ],
      "execution_count": 0,
      "outputs": []
    },
    {
      "cell_type": "code",
      "metadata": {
        "id": "ZW_UhSMtJL6x",
        "colab_type": "code",
        "colab": {
          "base_uri": "https://localhost:8080/",
          "height": 34
        },
        "outputId": "b93b55b8-f17c-45fa-90b4-51bc5fa4f411"
      },
      "source": [
        "snake = Snake()\n",
        "snake"
      ],
      "execution_count": 3,
      "outputs": [
        {
          "output_type": "execute_result",
          "data": {
            "text/plain": [
              "<__main__.Snake at 0x7f27784c9048>"
            ]
          },
          "metadata": {
            "tags": []
          },
          "execution_count": 3
        }
      ]
    },
    {
      "cell_type": "markdown",
      "metadata": {
        "id": "R3Ga77cqJLqr",
        "colab_type": "text"
      },
      "source": [
        "Try Create a class called \"PriceCrawler\""
      ]
    },
    {
      "cell_type": "code",
      "metadata": {
        "id": "tg2ULnhwJU80",
        "colab_type": "code",
        "colab": {}
      },
      "source": [
        "# Your code here"
      ],
      "execution_count": 0,
      "outputs": []
    },
    {
      "cell_type": "markdown",
      "metadata": {
        "id": "Ff4D8qYBIkF1",
        "colab_type": "text"
      },
      "source": [
        "## 6.4.0 Attributes in class"
      ]
    },
    {
      "cell_type": "markdown",
      "metadata": {
        "id": "1iSu7xqlJe-5",
        "colab_type": "text"
      },
      "source": [
        "\n",
        "A class by itself is of no use unless there is some functionality associated with it. Functionalities are defined by setting attributes, which act as containers for data and functions related to those attributes. Those functions are called methods."
      ]
    },
    {
      "cell_type": "code",
      "metadata": {
        "id": "AcDcbfLzJeXN",
        "colab_type": "code",
        "colab": {
          "base_uri": "https://localhost:8080/",
          "height": 34
        },
        "outputId": "2267b79c-03c0-4b5d-9794-75f5aba69c8d"
      },
      "source": [
        "class Snake:\n",
        "  name = 'python'\n",
        "Snake.name"
      ],
      "execution_count": 8,
      "outputs": [
        {
          "output_type": "execute_result",
          "data": {
            "text/plain": [
              "'python'"
            ]
          },
          "metadata": {
            "tags": []
          },
          "execution_count": 8
        }
      ]
    },
    {
      "cell_type": "markdown",
      "metadata": {
        "id": "zyMA3MGaIrIm",
        "colab_type": "text"
      },
      "source": [
        "## 6.5.0 Methods in class"
      ]
    },
    {
      "cell_type": "markdown",
      "metadata": {
        "id": "CYjUNosYJ1aW",
        "colab_type": "text"
      },
      "source": [
        "Once there are attributes that “belong” to the class, you can define functions that will access the class attribute. These functions are called methods. When you define methods, you will need to always provide the first argument to the method with a self keyword.\n",
        "\n",
        "For example, you can define a class Snake, which has one attribute name and one method change_name. The method change name will take in an argument new_name along with the keyword self."
      ]
    },
    {
      "cell_type": "code",
      "metadata": {
        "id": "JKYCBP9trqEC",
        "colab_type": "code",
        "colab": {}
      },
      "source": [
        "class Snake:\n",
        "  name = \"python\"\n",
        "    \n",
        "  def change_name(self, new_name): # note that the first argument is self\n",
        "    self.name = new_name "
      ],
      "execution_count": 0,
      "outputs": []
    },
    {
      "cell_type": "code",
      "metadata": {
        "id": "O8YLchbsJ6OU",
        "colab_type": "code",
        "colab": {
          "base_uri": "https://localhost:8080/",
          "height": 34
        },
        "outputId": "c8a8bbc3-97dd-478a-d5bf-d0e428bdddfe"
      },
      "source": [
        "# instantiate the class\n",
        "snake = Snake()\n",
        "\n",
        "snake.change_name('anaconda')\n",
        "snake.name"
      ],
      "execution_count": 10,
      "outputs": [
        {
          "output_type": "execute_result",
          "data": {
            "text/plain": [
              "'anaconda'"
            ]
          },
          "metadata": {
            "tags": []
          },
          "execution_count": 10
        }
      ]
    },
    {
      "cell_type": "markdown",
      "metadata": {
        "id": "DGG6JXu9KaUa",
        "colab_type": "text"
      },
      "source": [
        "### Example 6.5.0\n",
        "\n",
        "1) Try to instaniate a class called PriceCrawler\n",
        "\n",
        "2) Create an attribute called url\n",
        "\n",
        "3) Create a method to get the price from the exchange using the url"
      ]
    },
    {
      "cell_type": "code",
      "metadata": {
        "id": "EpzjhGPxKcvF",
        "colab_type": "code",
        "colab": {}
      },
      "source": [
        "class PriceCrawler:\n",
        "  url = 'https://api.huobi.pro/market/depth?symbol=ethbtc&type=step1'\n",
        "\n",
        "  def get_hb(self, url):\n",
        "    r = requests.get()\n",
        "    r = eval(r.content)\n",
        "    return r"
      ],
      "execution_count": 0,
      "outputs": []
    },
    {
      "cell_type": "markdown",
      "metadata": {
        "id": "rpUMT3B2KFc6",
        "colab_type": "text"
      },
      "source": [
        "### Exercise 6.5.0\n",
        "\n",
        "1) Try to instaniate a class called PriceCrawler\n",
        "\n",
        "2) Create an attribute called url\n",
        "\n",
        "3) Create a method to get the price from the exchange using the url"
      ]
    },
    {
      "cell_type": "code",
      "metadata": {
        "id": "5dNbwG40Kskr",
        "colab_type": "code",
        "colab": {}
      },
      "source": [
        "class PriceCrawler:\n",
        "  url = 'https://poloniex.com/public?command=returnOrderBook&currencyPair=BTC_ETH'\n",
        "\n",
        "  #Your code here"
      ],
      "execution_count": 0,
      "outputs": []
    },
    {
      "cell_type": "markdown",
      "metadata": {
        "id": "pu04oLFdIvrC",
        "colab_type": "text"
      },
      "source": [
        "## 6.6.0 Instance attributes in python and the init method"
      ]
    },
    {
      "cell_type": "markdown",
      "metadata": {
        "id": "qYxC_9wqKD22",
        "colab_type": "text"
      },
      "source": [
        "You can also provide the values for the attributes at runtime. This is done by defining the attributes inside the init method. The following example illustrates this."
      ]
    },
    {
      "cell_type": "code",
      "metadata": {
        "id": "HAoRklu3r98m",
        "colab_type": "code",
        "colab": {}
      },
      "source": [
        "class Snake:\n",
        "\n",
        "    def __init__(self, name):\n",
        "        self.name = name\n",
        "\n",
        "    def change_name(self, new_name):\n",
        "        self.name = new_name"
      ],
      "execution_count": 0,
      "outputs": []
    },
    {
      "cell_type": "markdown",
      "metadata": {
        "id": "iDUYU_pMK0rM",
        "colab_type": "text"
      },
      "source": [
        "### Example 6.6.0 \n",
        "\n",
        "1) Create a class call PriceCrawker\n",
        "\n",
        "2) Instantiate the value of the url at start\n",
        "\n",
        "3) use the url to create the method"
      ]
    },
    {
      "cell_type": "code",
      "metadata": {
        "id": "E5JQPEpvLACV",
        "colab_type": "code",
        "colab": {}
      },
      "source": [
        "class PriceCrawler:\n",
        "\n",
        "  def __init__(self):\n",
        "    self.url = 'https://api.huobi.pro/market/depth?symbol=ethbtc&type=step1'\n",
        "\n",
        "  def get_hb(self, url):\n",
        "    r = requests.get()\n",
        "    r = eval(r.content)\n",
        "    return r"
      ],
      "execution_count": 0,
      "outputs": []
    },
    {
      "cell_type": "markdown",
      "metadata": {
        "id": "LVWl4o6TLGEC",
        "colab_type": "text"
      },
      "source": [
        "### Exercise 6.6.0 \n",
        "\n",
        "1) Create a class call PriceCrawker\n",
        "\n",
        "2) Instantiate the value of the url at start\n",
        "\n",
        "3) use the url to create the method"
      ]
    },
    {
      "cell_type": "code",
      "metadata": {
        "id": "l1kiAIbtLMSX",
        "colab_type": "code",
        "colab": {}
      },
      "source": [
        "class PriceCrawler:\n",
        "  url = 'https://poloniex.com/public?command=returnOrderBook&currencyPair=BTC_ETH'\n",
        "\n",
        "  #Your code here"
      ],
      "execution_count": 0,
      "outputs": []
    },
    {
      "cell_type": "markdown",
      "metadata": {
        "id": "nFgT9nxsLQCh",
        "colab_type": "text"
      },
      "source": [
        "## Challenge 6.6.0\n"
      ]
    },
    {
      "cell_type": "markdown",
      "metadata": {
        "id": "4bJ58REMLa6i",
        "colab_type": "text"
      },
      "source": [
        "\n",
        "Remember our student picker? \n",
        "1) Try to write a function with a student picker\n",
        "2) Think of a way to write a function, if the student fail to answer a question, increase the chance of the students getting picked."
      ]
    },
    {
      "cell_type": "markdown",
      "metadata": {
        "id": "De6XmgJPLdtW",
        "colab_type": "text"
      },
      "source": [
        "1) What do you want to instantiate?\n",
        "\n",
        "2) What should be in the init?\n",
        "\n",
        "3) What should be the attribute?\n",
        "\n",
        "4) What should be in the method?"
      ]
    },
    {
      "cell_type": "code",
      "metadata": {
        "id": "tZLDBdQ_Lb8B",
        "colab_type": "code",
        "colab": {}
      },
      "source": [
        "# Your code here"
      ],
      "execution_count": 0,
      "outputs": []
    },
    {
      "cell_type": "markdown",
      "metadata": {
        "id": "g7eble1avp1c",
        "colab_type": "text"
      },
      "source": [
        "## 6.7.0 Designing our trading project into class"
      ]
    },
    {
      "cell_type": "markdown",
      "metadata": {
        "id": "X0gt3zDawBRQ",
        "colab_type": "text"
      },
      "source": [
        "Think of it this way\n",
        "\n",
        "*   How many functions do we have?\n",
        "*   What are the components?\n",
        "*   What do we want to instantiate?\n",
        "*   What methods do we want to have?\n",
        "\n"
      ]
    },
    {
      "cell_type": "markdown",
      "metadata": {
        "id": "aAalqR9DL8uP",
        "colab_type": "text"
      },
      "source": [
        "You should now switch to the project"
      ]
    },
    {
      "cell_type": "markdown",
      "metadata": {
        "id": "95dveepxvvXk",
        "colab_type": "text"
      },
      "source": [
        "## 6.8.0 Uploading to Github\n",
        "\n",
        "\n",
        "\n",
        "*   Create a Github account\n",
        "*   Create a repository\n",
        "*   Upload the program on your repo\n",
        "*   Write a readme\n",
        "\n"
      ]
    },
    {
      "cell_type": "markdown",
      "metadata": {
        "id": "TmgOi8cIskjr",
        "colab_type": "text"
      },
      "source": [
        "# 7.0.0 Advance web scraping - Selenium"
      ]
    },
    {
      "cell_type": "markdown",
      "metadata": {
        "id": "1iuIFeoiPfPH",
        "colab_type": "text"
      },
      "source": [
        "## 7.1.0 How to run it on colab?"
      ]
    },
    {
      "cell_type": "markdown",
      "metadata": {
        "id": "U-eIYgZAO9FS",
        "colab_type": "text"
      },
      "source": [
        "The code below helps to install selenium on colab"
      ]
    },
    {
      "cell_type": "code",
      "metadata": {
        "id": "ALTwfpQRslpg",
        "colab_type": "code",
        "colab": {
          "base_uri": "https://localhost:8080/",
          "height": 731
        },
        "outputId": "19868deb-1ce6-4adf-fbb2-d2d8b09a43a7"
      },
      "source": [
        "!pip install selenium\n",
        "!apt-get update # to update ubuntu to correctly run apt install\n",
        "!apt install chromium-chromedriver\n",
        "!cp /usr/lib/chromium-browser/chromedriver /usr/bin\n",
        "\n",
        "import sys\n",
        "sys.path.insert(0,'/usr/lib/chromium-browser/chromedriver')\n",
        "\n"
      ],
      "execution_count": 19,
      "outputs": [
        {
          "output_type": "stream",
          "text": [
            "Requirement already satisfied: selenium in /usr/local/lib/python3.6/dist-packages (3.141.0)\n",
            "Requirement already satisfied: urllib3 in /usr/local/lib/python3.6/dist-packages (from selenium) (1.24.3)\n",
            "Hit:1 https://cloud.r-project.org/bin/linux/ubuntu bionic-cran35/ InRelease\n",
            "Ign:2 https://developer.download.nvidia.com/compute/cuda/repos/ubuntu1804/x86_64  InRelease\n",
            "Ign:3 https://developer.download.nvidia.com/compute/machine-learning/repos/ubuntu1804/x86_64  InRelease\n",
            "Hit:4 https://developer.download.nvidia.com/compute/cuda/repos/ubuntu1804/x86_64  Release\n",
            "Hit:5 https://developer.download.nvidia.com/compute/machine-learning/repos/ubuntu1804/x86_64  Release\n",
            "Hit:6 http://security.ubuntu.com/ubuntu bionic-security InRelease\n",
            "Hit:7 http://ppa.launchpad.net/graphics-drivers/ppa/ubuntu bionic InRelease\n",
            "Hit:8 http://archive.ubuntu.com/ubuntu bionic InRelease\n",
            "Hit:9 http://archive.ubuntu.com/ubuntu bionic-updates InRelease\n",
            "Hit:10 http://ppa.launchpad.net/marutter/c2d4u3.5/ubuntu bionic InRelease\n",
            "Hit:11 http://archive.ubuntu.com/ubuntu bionic-backports InRelease\n",
            "Reading package lists... Done\n",
            "Reading package lists... Done\n",
            "Building dependency tree       \n",
            "Reading state information... Done\n",
            "chromium-chromedriver is already the newest version (78.0.3904.108-0ubuntu0.18.04.1).\n",
            "The following packages were automatically installed and are no longer required:\n",
            "  cuda-cufft-10-1 cuda-cufft-dev-10-1 cuda-curand-10-1 cuda-curand-dev-10-1\n",
            "  cuda-cusolver-10-1 cuda-cusolver-dev-10-1 cuda-cusparse-10-1\n",
            "  cuda-cusparse-dev-10-1 cuda-drivers cuda-license-10-2 cuda-npp-10-1\n",
            "  cuda-npp-dev-10-1 cuda-nsight-10-1 cuda-nsight-compute-10-1\n",
            "  cuda-nsight-systems-10-1 cuda-nvgraph-10-1 cuda-nvgraph-dev-10-1\n",
            "  cuda-nvjpeg-10-1 cuda-nvjpeg-dev-10-1 cuda-nvrtc-10-1 cuda-nvrtc-dev-10-1\n",
            "  cuda-nvvp-10-1 default-jre dkms freeglut3 freeglut3-dev\n",
            "  keyboard-configuration libargon2-0 libcap2 libcryptsetup12 libcublas10\n",
            "  libdevmapper1.02.1 libfontenc1 libgtk2.0-0 libgtk2.0-common libidn11\n",
            "  libip4tc0 libjansson4 libnvidia-cfg1-440 libnvidia-common-430\n",
            "  libnvidia-common-440 libnvidia-decode-440 libnvidia-encode-440\n",
            "  libnvidia-fbc1-440 libnvidia-gl-440 libnvidia-ifr1-440 libpam-systemd\n",
            "  libpolkit-agent-1-0 libpolkit-backend-1-0 libpolkit-gobject-1-0 libxfont2\n",
            "  libxi-dev libxkbfile1 libxmu-dev libxmu-headers libxnvctrl0\n",
            "  nsight-compute-2019.5.0 nsight-systems-2019.5.2 nvidia-compute-utils-440\n",
            "  nvidia-dkms-440 nvidia-driver-440 nvidia-kernel-common-440\n",
            "  nvidia-kernel-source-440 nvidia-modprobe nvidia-settings nvidia-utils-440\n",
            "  openjdk-11-jre policykit-1 policykit-1-gnome python3-xkit\n",
            "  screen-resolution-extra systemd systemd-sysv udev x11-xkb-utils\n",
            "  xserver-common xserver-xorg-core-hwe-18.04 xserver-xorg-video-nvidia-440\n",
            "Use 'apt autoremove' to remove them.\n",
            "0 upgraded, 0 newly installed, 0 to remove and 41 not upgraded.\n",
            "cp: '/usr/lib/chromium-browser/chromedriver' and '/usr/bin/chromedriver' are the same file\n"
          ],
          "name": "stdout"
        }
      ]
    },
    {
      "cell_type": "markdown",
      "metadata": {
        "id": "INxGW75XO8ag",
        "colab_type": "text"
      },
      "source": [
        "You can start selenium by running the code below. This also helps you to run it in a \"headless\" mode"
      ]
    },
    {
      "cell_type": "code",
      "metadata": {
        "id": "icmfElK6O6nW",
        "colab_type": "code",
        "colab": {}
      },
      "source": [
        "from selenium import webdriver\n",
        "\n",
        "chrome_options = webdriver.ChromeOptions()\n",
        "chrome_options.add_argument('--headless')\n",
        "chrome_options.add_argument('--no-sandbox')\n",
        "chrome_options.add_argument('--disable-dev-shm-usage')\n",
        "\n",
        "# This code launch your browser\n",
        "driver = webdriver.Chrome('chromedriver',chrome_options=chrome_options)"
      ],
      "execution_count": 0,
      "outputs": []
    },
    {
      "cell_type": "markdown",
      "metadata": {
        "id": "OqOxHLJAPL_T",
        "colab_type": "text"
      },
      "source": [
        "You can use the code to navigate to a website"
      ]
    },
    {
      "cell_type": "code",
      "metadata": {
        "id": "zVxfTN3yOflz",
        "colab_type": "code",
        "colab": {}
      },
      "source": [
        "\n",
        "driver.get(\"https://www.skyscanner.com\")"
      ],
      "execution_count": 0,
      "outputs": []
    },
    {
      "cell_type": "markdown",
      "metadata": {
        "id": "0qc1-LF1PTqW",
        "colab_type": "text"
      },
      "source": [
        "Because we are in a headless mode, we can't really see our browser. You can make use of save screenshot to help you"
      ]
    },
    {
      "cell_type": "code",
      "metadata": {
        "id": "H4aJLAgqPQwL",
        "colab_type": "code",
        "colab": {
          "base_uri": "https://localhost:8080/",
          "height": 617
        },
        "outputId": "62fafd1e-4646-48db-f6c2-1bbee87088cc"
      },
      "source": [
        "from IPython.display import Image\n",
        "driver.save_screenshot('screenie.png')\n",
        "Image(\"screenie.png\")"
      ],
      "execution_count": 23,
      "outputs": [
        {
          "output_type": "execute_result",
          "data": {
            "image/png": "[encoded data removed]",
            "text/plain": [
              "<IPython.core.display.Image object>"
            ]
          },
          "metadata": {
            "tags": []
          },
          "execution_count": 23
        }
      ]
    },
    {
      "cell_type": "markdown",
      "metadata": {
        "id": "yBt1sOoZPiP7",
        "colab_type": "text"
      },
      "source": [
        "## 7.2.0 How to do web scrapping using Selenium?"
      ]
    },
    {
      "cell_type": "code",
      "metadata": {
        "id": "T9UHm7B1PnnE",
        "colab_type": "code",
        "colab": {
          "base_uri": "https://localhost:8080/",
          "height": 617
        },
        "outputId": "a29efe50-9744-4292-c706-9ccd7948d4d3"
      },
      "source": [
        "driver.get(\"https://www.google.com/search?q=DJI+mavic+mini\")\n",
        "driver.save_screenshot('screenie.png')\n",
        "Image(\"screenie.png\")"
      ],
      "execution_count": 26,
      "outputs": [
        {
          "output_type": "execute_result",
          "data": {
            "image/png": "[encoded data removed]",
            "text/plain": [
              "<IPython.core.display.Image object>"
            ]
          },
          "metadata": {
            "tags": []
          },
          "execution_count": 26
        }
      ]
    },
    {
      "cell_type": "markdown",
      "metadata": {
        "id": "QOxKwoztQ5G1",
        "colab_type": "text"
      },
      "source": [
        "Let's say I want to navigate to page two"
      ]
    },
    {
      "cell_type": "code",
      "metadata": {
        "id": "cfEVtdpAPsmW",
        "colab_type": "code",
        "colab": {}
      },
      "source": [
        "# I can click a page\n",
        "driver.find_element_by_css_selector('#nav > tbody > tr > td:nth-child(3) > a').click()"
      ],
      "execution_count": 0,
      "outputs": []
    },
    {
      "cell_type": "code",
      "metadata": {
        "id": "U4AmhegWQYcM",
        "colab_type": "code",
        "colab": {
          "base_uri": "https://localhost:8080/",
          "height": 617
        },
        "outputId": "25982cbd-2e99-4300-86e5-e4b22a717d14"
      },
      "source": [
        "driver.save_screenshot('screenie.png')\n",
        "Image(\"screenie.png\")"
      ],
      "execution_count": 36,
      "outputs": [
        {
          "output_type": "execute_result",
          "data": {
            "image/png": "[encoded data removed]",
            "text/plain": [
              "<IPython.core.display.Image object>"
            ]
          },
          "metadata": {
            "tags": []
          },
          "execution_count": 36
        }
      ]
    },
    {
      "cell_type": "markdown",
      "metadata": {
        "id": "e1-vbIfdRcSW",
        "colab_type": "text"
      },
      "source": [
        "Parse it via BeautifulSoup"
      ]
    },
    {
      "cell_type": "code",
      "metadata": {
        "id": "fyYqv9wARCgd",
        "colab_type": "code",
        "colab": {}
      },
      "source": [
        "from bs4 import BeautifulSoup as bs\n",
        "soup = bs(driver.page_source,'lxml')"
      ],
      "execution_count": 0,
      "outputs": []
    },
    {
      "cell_type": "markdown",
      "metadata": {
        "id": "-Sp9i7uFRenl",
        "colab_type": "text"
      },
      "source": [
        "Get all the link"
      ]
    },
    {
      "cell_type": "code",
      "metadata": {
        "id": "EyKBg_YARLLE",
        "colab_type": "code",
        "colab": {
          "base_uri": "https://localhost:8080/",
          "height": 360
        },
        "outputId": "6b820ed1-6eeb-4fcb-987a-98ef2a2eeccd"
      },
      "source": [
        "for i in soup.find_all('a')[-20:]:\n",
        "  try:\n",
        "    print(i['href'])\n",
        "  except:\n",
        "    ''"
      ],
      "execution_count": 44,
      "outputs": [
        {
          "output_type": "stream",
          "text": [
            "https://www.bestdeals.today/axios-ironclad?%7Bignore%7Dorigin=google&google_params[matchtype]=%7Bmatchtype%7D&google_params[network]=%7Bnetwork%7D&google_params[device]=%7Bdevice%7D&google_params[creative]=%7Bcreative%7D&google_params[keyword]=%7Bkeyword%7D&google_params[adposition]=%7Badposition%7D&google_params[adgroupid]=%7Badgroupid%7D&google_params[campaignid]=%7Bcampaignid%7D&bs=%7B_bid%7D&google_params[feeditemid]=%7Bfeeditemid%7D&google_params[targetid]=%7Btargetid%7D&google_params[loc_interest_ms]=%7Bloc_interest_ms%7D&google_params[loc_physical_ms]=%7Bloc_physical_ms%7D&google_params[devicemodel]=%7Bdevicemodel%7D&google_params[target]=%7Btarget%7D&sitelink=title&dest=0&sys_id=0%7C771\n",
            "https://www.bestdeals.today/?%7Bignore%7Dorigin=google&google_params[matchtype]=%7Bmatchtype%7D&google_params[network]=%7Bnetwork%7D&google_params[device]=%7Bdevice%7D&google_params[creative]=%7Bcreative%7D&google_params[keyword]=%7Bkeyword%7D&google_params[adposition]=%7Badposition%7D&google_params[adgroupid]=%7Badgroupid%7D&google_params[campaignid]=%7Bcampaignid%7D&bs=%7B_bid%7D&google_params[feeditemid]=%7Bfeeditemid%7D&google_params[targetid]=%7Btargetid%7D&google_params[loc_interest_ms]=%7Bloc_interest_ms%7D&google_params[loc_physical_ms]=%7Bloc_physical_ms%7D&google_params[devicemodel]=%7Bdevicemodel%7D&google_params[target]=%7Btarget%7D&sitelink=Top&dest=0&sys_id=0%7C771\n",
            "/search?q=DJI+mavic+mini&biw=800&bih=600&ei=dcXoXYmwGNzD0PEPgZ6ymAI&start=0&sa=N&ved=2ahUKEwjJvur3kJ7mAhXcITQIHQGPDCM4ChDx0wN6BQgLELQC\n",
            "/search?q=DJI+mavic+mini&biw=800&bih=600&ei=dcXoXYmwGNzD0PEPgZ6ymAI&start=0&sa=N&ved=2ahUKEwjJvur3kJ7mAhXcITQIHQGPDCM4ChDy0wN6BQgLELYC\n",
            "/search?q=DJI+mavic+mini&biw=800&bih=600&ei=dcXoXYmwGNzD0PEPgZ6ymAI&start=20&sa=N&ved=2ahUKEwjJvur3kJ7mAhXcITQIHQGPDCM4ChDy0wN6BQgLELkC\n",
            "/search?q=DJI+mavic+mini&biw=800&bih=600&ei=dcXoXYmwGNzD0PEPgZ6ymAI&start=30&sa=N&ved=2ahUKEwjJvur3kJ7mAhXcITQIHQGPDCM4ChDy0wN6BQgLELsC\n",
            "/search?q=DJI+mavic+mini&biw=800&bih=600&ei=dcXoXYmwGNzD0PEPgZ6ymAI&start=40&sa=N&ved=2ahUKEwjJvur3kJ7mAhXcITQIHQGPDCM4ChDy0wN6BQgLEL0C\n",
            "/search?q=DJI+mavic+mini&biw=800&bih=600&ei=dcXoXYmwGNzD0PEPgZ6ymAI&start=50&sa=N&ved=2ahUKEwjJvur3kJ7mAhXcITQIHQGPDCM4ChDy0wN6BQgLEL8C\n",
            "/search?q=DJI+mavic+mini&biw=800&bih=600&ei=dcXoXYmwGNzD0PEPgZ6ymAI&start=60&sa=N&ved=2ahUKEwjJvur3kJ7mAhXcITQIHQGPDCM4ChDy0wN6BQgLEMEC\n",
            "/search?q=DJI+mavic+mini&biw=800&bih=600&ei=dcXoXYmwGNzD0PEPgZ6ymAI&start=70&sa=N&ved=2ahUKEwjJvur3kJ7mAhXcITQIHQGPDCM4ChDy0wN6BQgLEMMC\n",
            "/search?q=DJI+mavic+mini&biw=800&bih=600&ei=dcXoXYmwGNzD0PEPgZ6ymAI&start=80&sa=N&ved=2ahUKEwjJvur3kJ7mAhXcITQIHQGPDCM4ChDy0wN6BQgLEMUC\n",
            "/search?q=DJI+mavic+mini&biw=800&bih=600&ei=dcXoXYmwGNzD0PEPgZ6ymAI&start=90&sa=N&ved=2ahUKEwjJvur3kJ7mAhXcITQIHQGPDCM4ChDy0wN6BQgLEMcC\n",
            "/search?q=DJI+mavic+mini&biw=800&bih=600&ei=dcXoXYmwGNzD0PEPgZ6ymAI&start=20&sa=N&ved=2ahUKEwjJvur3kJ7mAhXcITQIHQGPDCM4ChDw0wN6BQgLEMkC\n",
            "#\n",
            "https://support.google.com/websearch?p=ws_settings_location&hl=en\n",
            "https://support.google.com/websearch/?p=ws_results_help&hl=en&fg=1\n",
            "#\n",
            "https://policies.google.com/privacy?fg=1\n",
            "https://policies.google.com/terms?fg=1\n"
          ],
          "name": "stdout"
        }
      ]
    },
    {
      "cell_type": "markdown",
      "metadata": {
        "id": "sfWv0CJG9qQW",
        "colab_type": "text"
      },
      "source": [
        "## 7.3.0 How to run it on Mac?"
      ]
    },
    {
      "cell_type": "code",
      "metadata": {
        "id": "en_W_fgqRtAw",
        "colab_type": "code",
        "colab": {}
      },
      "source": [
        "# try to run the below on terminal, it should work\n",
        "ruby -e \"$(curl -fsSL https://raw.githubusercontent.com/Homebrew/install/master/install)\" < /dev/null 2> /dev/null\n",
        "brew cask install chromedriver\n",
        "pip3 install selenium\n"
      ],
      "execution_count": 0,
      "outputs": []
    },
    {
      "cell_type": "markdown",
      "metadata": {
        "id": "CQgPyvQN9so6",
        "colab_type": "text"
      },
      "source": [
        "## 7.4.0 How to run on window?\n",
        "\n",
        "Unfortunately, I can't figure out a good way to install on window. If you have window 10, it is recommended to install window sub-system of Linux, or bash on window\n",
        "\n",
        "https://itsfoss.com/install-bash-on-windows/"
      ]
    },
    {
      "cell_type": "markdown",
      "metadata": {
        "id": "pKgPmGHQv3vU",
        "colab_type": "text"
      },
      "source": [
        "# 8.0.0 Starting with your own project"
      ]
    },
    {
      "cell_type": "markdown",
      "metadata": {
        "id": "ZqR5z9GIOHV6",
        "colab_type": "text"
      },
      "source": [
        "Please start working on your own project.\n",
        "\n",
        "I have gave it a try on the skyscanner project - this would give you an idea on how to structure your project in mind."
      ]
    },
    {
      "cell_type": "code",
      "metadata": {
        "id": "7uQG77Yjv6kL",
        "colab_type": "code",
        "colab": {}
      },
      "source": [
        "from selenium import webdriver\n",
        "from bs4 import BeautifulSoup as bs\n",
        "import time\n",
        "import pandas as pd\n",
        "\n",
        "class skyscanner:\n",
        "\n",
        "  def __init__(self):\n",
        "    self.TICKET = 'EcoTicketWrapper_ecoContainer'\n",
        "    self.LEG = 'LegDetails_container'\n",
        "    self.PRICE = 'Price_mainPriceContainer'\n",
        "    self.driver = webdriver.Chrome()\n",
        "    url = 'https://www.skyscanner.com.hk/transport/flights/hkg/osaa/191208/200212/' \n",
        "    self.driver.get(url)\n",
        "    \n",
        "  def quit_browser(self):\n",
        "    self.driver.quit()\n",
        "\n",
        "  def flatten(self, l):\n",
        "    return [a for b in l for a in b]\n",
        "\n",
        "  def search_class_name(self, key_word):\n",
        "    target = [i for i in self.all_class if key_word in i] \n",
        "    return list(set(target))[0]\n",
        "\n",
        "  def search_all_class(self):\n",
        "    all_class = []\n",
        "    for i in self.soup.find_all('div'):\n",
        "      try:\n",
        "        all_class.append(i['class'])\n",
        "      except:\n",
        "        ''\n",
        "    return all_class\n",
        "\n",
        "  def execute(self, start, end):\n",
        "    url = 'https://www.skyscanner.com.hk/transport/flights/hkg/osaa/{start}/{end}/'.format(start = start, end = end) \n",
        "    self.driver.get(url)\n",
        "    time.sleep(30)\n",
        "    self.driver.execute_script(\"window.scrollTo(0, 100)\") \n",
        "    self.soup = bs(self.driver.page_source)\n",
        "    self.all_class = self.flatten(self.search_all_class())\n",
        "    ticket_details = self.search_class_name(self.TICKET)\n",
        "    leg_details = self.search_class_name(self.LEG)\n",
        "    price_details = self.search_class_name(self.PRICE)\n",
        "    ticket_body_list = self.soup.find_all('div', class_ = ticket_details)#\n",
        "    all_tickets = []\n",
        "    for i in ticket_body_list:\n",
        "      legs = []\n",
        "      for leg in i.find_all('div', class_ = leg_details):\n",
        "        legs.append([i.text for i in leg.find_all('span')])\n",
        "      \n",
        "      ticket_price = (i.find('div', class_ = price_details).text)\n",
        "      all_tickets.append({'leg_1': legs[0], 'leg_2': legs[1], 'price':ticket_price})\n",
        "      return pd.DataFrame(all_tickets)\n"
      ],
      "execution_count": 0,
      "outputs": []
    }
  ]
}