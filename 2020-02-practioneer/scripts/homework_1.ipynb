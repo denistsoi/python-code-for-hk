{
 "nbformat": 4,
 "nbformat_minor": 2,
 "metadata": {
  "language_info": {
   "name": "python",
   "codemirror_mode": {
    "name": "ipython",
    "version": 3
   },
   "version": "3.7.3-final"
  },
  "orig_nbformat": 2,
  "file_extension": ".py",
  "mimetype": "text/x-python",
  "name": "python",
  "npconvert_exporter": "python",
  "pygments_lexer": "ipython3",
  "version": 3,
  "kernelspec": {
   "name": "python37364bit60ed8c67a1544ccb805cd546476012d2",
   "display_name": "Python 3.7.3 64-bit"
  }
 },
 "cells": [
  {
   "cell_type": "code",
   "execution_count": 9,
   "metadata": {},
   "outputs": [
    {
     "data": {
      "text/plain": "120"
     },
     "execution_count": 9,
     "metadata": {},
     "output_type": "execute_result"
    }
   ],
   "source": [
    "### factorial\n",
    "\n",
    "def recursive_factorial(number):\n",
    "    \"\"\"\n",
    "    \"\"\"\n",
    "    if number == 1:\n",
    "        return number\n",
    "    return number * factorial(number - 1)\n",
    "\n",
    "\n",
    "def iterative_factorial(number):\n",
    "    total = 1\n",
    "    for i in range(1, number + 1):\n",
    "        total = total * i\n",
    "    return total\n",
    "\n",
    "factorial(5)\n",
    "iterative_factorial(5)"
   ]
  },
  {
   "cell_type": "code",
   "execution_count": 13,
   "metadata": {},
   "outputs": [
    {
     "name": "stdout",
     "output_type": "stream",
     "text": "urethropenile\n"
    }
   ],
   "source": [
    "# import random\n",
    "\n",
    "# with open(\"words_1_hangman.txt\") as text_file:\n",
    "#     return random.choice(text_file.read().splitlines())\n"
   ]
  },
  {
   "cell_type": "code",
   "execution_count": 46,
   "metadata": {},
   "outputs": [
    {
     "name": "stdout",
     "output_type": "stream",
     "text": "['_', '_', '_', '_']\n"
    }
   ],
   "source": [
    "# import string\n",
    "# word = \"word\"\n",
    "\n",
    "# replace_ascii_with_underscore = dict.fromkeys(string.ascii_lowercase, \"_\")\n",
    "# secret = list(word.translate(str.maketrans(replace_ascii_with_underscore)))\n",
    "\n",
    "# print(secret)\n"
   ]
  },
  {
   "cell_type": "code",
   "execution_count": 51,
   "metadata": {},
   "outputs": [
    {
     "name": "stdout",
     "output_type": "stream",
     "text": "\n\nAttempted_tries: ['o']\nUser lives: 2\nWord status: ['_', '_', '_', '_', '_', '_', '_', '_', '_', '_']\n\n\nAttempted_tries: ['o', 'w']\nUser lives: 1\nWord status: ['_', '_', '_', '_', '_', '_', '_', '_', '_', '_']\n\n\nAttempted_tries: ['o', 'w', 'l']\nWord status: ['_', '_', '_', '_', 'l', 'l', '_', '_', '_', '_']\n\n\nAttempted_tries: ['o', 'w', 'l', 'a']\nWord status: ['_', 'a', '_', '_', 'l', 'l', '_', '_', '_', '_']\n\n\nAttempted_tries: ['o', 'w', 'l', 'a', 'e']\nUser lives: 0\nWord status: ['_', 'a', '_', '_', 'l', 'l', '_', '_', '_', '_']\nGame Over! The word was: papillitis\n"
    }
   ],
   "source": [
    "### hangman\n",
    "\n",
    "class Game():\n",
    "    def __init__(self):\n",
    "        self.word = self.random_word()\n",
    "        self.word_status = self.generate_word_status() \n",
    "\n",
    "        self.user_lives = 3\n",
    "        self.user_tries = 0\n",
    "        self.score = 0\n",
    "        self.attempted_tries = []\n",
    "\n",
    "    def random_word(self):\n",
    "        import random\n",
    "        with open(\"words_1_hangman.txt\") as text_file:\n",
    "            return random.choice(text_file.read().splitlines())\n",
    "\n",
    "    def generate_word_status(self):\n",
    "        import string\n",
    "        replace_ascii_with_underscore = dict.fromkeys(string.ascii_lowercase, \"_\")\n",
    "        word_status = list(self.word.translate(str.maketrans(replace_ascii_with_underscore)))\n",
    "        return word_status\n",
    "\n",
    "    def check_answer(self, user_guess):\n",
    "        return [i for i, letter in enumerate(self.word) if letter == user_guess]\n",
    "\n",
    "    def print_attempted_tries(self):\n",
    "        return print(\"Attempted_tries:\", self.attempted_tries)\n",
    "\n",
    "    def print_status_of_word(self):\n",
    "        return print(\"Word status:\", self.word_status)\n",
    "    \n",
    "    def print_status_of_lives(self):\n",
    "        return print(\"User lives:\", self.user_lives)\n",
    "        \n",
    "    def print_game_state(self, text):\n",
    "        return print(text)\n",
    "\n",
    "    def guess(self):\n",
    "        user_guess = input().lower()\n",
    "        print(\"\\n\")\n",
    "        # user tries previous attempt\n",
    "        if (\"\".join(self.attempted_tries).find(user_guess) > 0):\n",
    "            return self.guess()\n",
    "        \n",
    "        else:\n",
    "            \"\"\"adjust attempts\"\"\"\n",
    "            self.user_tries += 1\n",
    "            self.attempted_tries.append(user_guess)\n",
    "            \n",
    "            self.print_attempted_tries()\n",
    "            \n",
    "            # guess is not in word\n",
    "            if (len(self.check_answer(user_guess)) == 0):\n",
    "                self.user_lives -= 1\n",
    "                self.print_status_of_lives()\n",
    "            # guess is in word\n",
    "            # adjust word_status\n",
    "            else:\n",
    "                for index in self.check_answer(user_guess):\n",
    "                    self.score += 1\n",
    "                    self.word_status[index] = user_guess\n",
    "            \n",
    "            self.print_status_of_word()\n",
    "\n",
    "    def run(self):\n",
    "        \"\"\"run game\"\"\"\n",
    "        \n",
    "        while self.word != \"\".join(self.word_status):\n",
    "            self.guess()\n",
    "\n",
    "            if self.user_lives == 0:\n",
    "                # end game - lose\n",
    "                self.print_game_state(\"Game Over! The word was: %s\" % self.word)\n",
    "                break\n",
    "        \n",
    "        # end game - win\n",
    "        if (self.word == \"\".join(self.word_status)):\n",
    "            self.print_game_state(\"You won! User Score: %s\" % self.score)\n",
    "\n",
    "hangman = Game()\n",
    "hangman.run()"
   ]
  },
  {
   "cell_type": "code",
   "execution_count": null,
   "metadata": {},
   "outputs": [],
   "source": []
  }
 ]
}