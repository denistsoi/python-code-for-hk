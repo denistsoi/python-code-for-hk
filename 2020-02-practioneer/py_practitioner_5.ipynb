{
  "nbformat": 4,
  "nbformat_minor": 0,
  "metadata": {
    "colab": {
      "name": "py_practitioner_5.ipynb",
      "provenance": [],
      "toc_visible": true,
      "include_colab_link": true
    },
    "kernelspec": {
      "name": "python3",
      "display_name": "Python 3"
    }
  },
  "cells": [
    {
      "cell_type": "markdown",
      "metadata": {
        "id": "view-in-github",
        "colab_type": "text"
      },
      "source": [
        "<a href=\"https://colab.research.google.com/github/codeforhk/python_practitioner/blob/master/py_practitioner_5.ipynb\" target=\"_parent\"><img src=\"https://colab.research.google.com/assets/colab-badge.svg\" alt=\"Open In Colab\"/></a>"
      ]
    },
    {
      "cell_type": "markdown",
      "metadata": {
        "id": "ejMS_tRueq8A",
        "colab_type": "text"
      },
      "source": [
        "\n",
        "    \n",
        "<img src=\"https://www.codefor.hk/wp-content/themes/DC_CUSTOM_THEME/img/logo-code-for-hk-logo.svg\" height=\"150\" width=\"150\"  align=\"center\"/>\n",
        "<h1><center>Code For Hong Kong - Python Practitioner class 5</center></h1>\n",
        "<h6><center>Written by Patrick Leung</center></h6>\n"
      ]
    },
    {
      "cell_type": "markdown",
      "metadata": {
        "id": "EEMPIn4lRgQx",
        "colab_type": "text"
      },
      "source": [
        "<img src=\"https://i0.wp.com/hrreview.co.uk/wp-content/uploads/Assessment.jpg\" align=\"center\"/>\n",
        "\n",
        "## Assessment\n",
        "To receive the certificate for this course, you will have to complete the coding project & the exam.\n",
        "\n",
        "The project will be \n",
        "\n",
        "\n",
        "### **Project (50%)**\n",
        "\n",
        "**Deadline: January 15th, 2020**\n",
        "\n",
        "- 10%\tCreate a project on Github https://github.com/codeforhk/project\n",
        "- 5%\tCreate a clear structure, including file system & architectural d *italicized text*iagram\n",
        "- 5%\tAbility to write clean python code and respect Python coding convention\n",
        "- 5%\tAbility to write production code on notebook / script\n",
        "- 10%\tAbility to use libraries including requests / beautifulsoup / selenium / pandas\n",
        "- 5%\tAbilitiy to wrap functions into class\n",
        "- 10%\tDemonstrate a working python prototype\n",
        "\n",
        "\n",
        "\n",
        "### **Multiple Choice Exam (50%)**\n",
        "\n",
        "**Deadline: Dec 31st, 2019**\n",
        "\n",
        "(Link to be provided)\n",
        "\n",
        "- Do not search on the internet for answers\n",
        "- You have 60 mins to complete it\n",
        "- There will be 25 questions of MC \n",
        "- You will need to complete all of the questions\n",
        "- 2 points given for each multiple choice question\n",
        "\n",
        "\n",
        "### **Exam Grades**\n",
        "-  75/100 Distinction\n",
        "-  60/100 Merit\n",
        "-  40/100 Pass\n",
        "-  10/100 Attended\n"
      ]
    },
    {
      "cell_type": "markdown",
      "metadata": {
        "id": "MqxTtVoDeotP",
        "colab_type": "text"
      },
      "source": [
        "# 8.0.0 What is cloud computing?"
      ]
    },
    {
      "cell_type": "markdown",
      "metadata": {
        "id": "doLHTV4Uh9Ui",
        "colab_type": "text"
      },
      "source": [
        "![alt text](https://upload.wikimedia.org/wikipedia/commons/thumb/b/b5/Cloud_computing.svg/2560px-Cloud_computing.svg.png)"
      ]
    },
    {
      "cell_type": "markdown",
      "metadata": {
        "id": "RY5GCMe5h4WU",
        "colab_type": "text"
      },
      "source": [
        "Cloud computing is the on-demand availability of computer system resources, especially data storage and computing power, without direct active management by the user. The term is generally used to describe data centers available to many users over the Internet. Large clouds, predominant today, often have functions distributed over multiple locations from central servers. If the connection to the user is relatively close, it may be designated an edge server."
      ]
    },
    {
      "cell_type": "markdown",
      "metadata": {
        "id": "Qzcd7GkviJPp",
        "colab_type": "text"
      },
      "source": [
        "## 8.1.0 Why do we use cloud computing?"
      ]
    },
    {
      "cell_type": "markdown",
      "metadata": {
        "id": "KJAySFi6iZJq",
        "colab_type": "text"
      },
      "source": [
        "![alt text](https://netpillar.com/app/wp-content/uploads/2019/02/image001.png)"
      ]
    },
    {
      "cell_type": "markdown",
      "metadata": {
        "id": "piPZ2fzaiOLm",
        "colab_type": "text"
      },
      "source": [
        "## 8.2.0 Who are the major player in cloud computing?\n",
        "\n",
        "![alt text](https://i.ytimg.com/vi/n24OBVGHufQ/maxresdefault.jpg)"
      ]
    },
    {
      "cell_type": "markdown",
      "metadata": {
        "id": "EUbwaifCliQ7",
        "colab_type": "text"
      },
      "source": [
        "### 8.2.1 Google Cloud\n",
        "\n",
        "\n",
        "\n",
        "*   Best for machine learning \n",
        "*   Easiest to start\n",
        "*   A bit more pricy\n",
        "\n",
        "\n",
        "\n",
        "\n",
        "\n",
        "https://cloud.google.com/"
      ]
    },
    {
      "cell_type": "markdown",
      "metadata": {
        "id": "yDC_AxgQlp04",
        "colab_type": "text"
      },
      "source": [
        "### 8.2.2 AWS\n",
        "\n",
        "*   Largest community\n",
        "*   Most product available\n",
        "*   User interface sucks\n",
        "\n",
        "https://aws.amazon.com/"
      ]
    },
    {
      "cell_type": "markdown",
      "metadata": {
        "id": "FxGL_qOdlvQA",
        "colab_type": "text"
      },
      "source": [
        "### 8.2.3 Azure\n",
        "\n",
        "*   Microsoft :)\n",
        "*   Expanding quickly\n",
        "\n",
        "https://azure.microsoft.com/en-us/"
      ]
    },
    {
      "cell_type": "markdown",
      "metadata": {
        "id": "EdNYHlddie27",
        "colab_type": "text"
      },
      "source": [
        "## 8.3.0 How do you use cloud computng?"
      ]
    },
    {
      "cell_type": "markdown",
      "metadata": {
        "id": "QUG3iIBliiNu",
        "colab_type": "text"
      },
      "source": [
        "By enabling payment, you can set up your own cloud computing project. I would suggest to start off with google cloud!"
      ]
    },
    {
      "cell_type": "markdown",
      "metadata": {
        "id": "Z-NMJoAkmx3S",
        "colab_type": "text"
      },
      "source": [
        "### 8.3.0 Cloud notebook: Having a notebook that you can read anywhere"
      ]
    },
    {
      "cell_type": "markdown",
      "metadata": {
        "id": "7AYNVe5Mm4Ki",
        "colab_type": "text"
      },
      "source": [
        "**Azure Notebook**\n",
        "https://notebooks.azure.com/\n",
        "\n",
        "**Colab notebook**\n",
        "https://colab.research.google.com/notebooks\n",
        "\n",
        "Sage maker\n",
        "https://aws.amazon.com/sagemaker/\n"
      ]
    },
    {
      "cell_type": "markdown",
      "metadata": {
        "id": "qCn8d408mTW5",
        "colab_type": "text"
      },
      "source": [
        "### 8.3.1 Cloud instance: Having a computer that never turns off"
      ]
    },
    {
      "cell_type": "markdown",
      "metadata": {
        "id": "y9RWCOB8ntu9",
        "colab_type": "text"
      },
      "source": [
        "![alt text](data:image/png;base64,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)"
      ]
    },
    {
      "cell_type": "markdown",
      "metadata": {
        "id": "qOBVIfkNnLTU",
        "colab_type": "text"
      },
      "source": [
        "**Ec2:** https://aws.amazon.com/ec2/\n",
        "\n",
        "**Azure VM:** https://azure.microsoft.com/en-us/pricing/details/virtual-machines/series/\n",
        "\n",
        "**Google compute instance**: https://cloud.google.com/compute/"
      ]
    },
    {
      "cell_type": "markdown",
      "metadata": {
        "id": "nLtA_Kbvnxej",
        "colab_type": "text"
      },
      "source": [
        "### How do I use a compute instance?"
      ]
    },
    {
      "cell_type": "markdown",
      "metadata": {
        "id": "o6WG8Wkynkpx",
        "colab_type": "text"
      },
      "source": [
        "You can visit this link to try out code for hong kong's environment.\n",
        "\n",
        "Usually, most compute instance will be using a linux command"
      ]
    },
    {
      "cell_type": "markdown",
      "metadata": {
        "id": "gkA8WDnDlgPL",
        "colab_type": "text"
      },
      "source": [
        "https://console.cloud.google.com/compute/instances?project=pythonpractitioner1119&organizationId=979571808301&instancessize=50"
      ]
    },
    {
      "cell_type": "markdown",
      "metadata": {
        "id": "P_JwXhfmlKuP",
        "colab_type": "text"
      },
      "source": [
        "![alt text](https://i.redd.it/rl0fe7r6zku11.jpg)"
      ]
    },
    {
      "cell_type": "markdown",
      "metadata": {
        "id": "SsX3OMFhn3xB",
        "colab_type": "text"
      },
      "source": [
        "### What can you do?"
      ]
    },
    {
      "cell_type": "markdown",
      "metadata": {
        "id": "w06fuhPln5nM",
        "colab_type": "text"
      },
      "source": [
        "- You can scrap data 24 hours\n",
        "- You can by pass IP block\n",
        "- You will have a powerful computer everywhere you go"
      ]
    },
    {
      "cell_type": "markdown",
      "metadata": {
        "id": "jLrpE8nAmSAi",
        "colab_type": "text"
      },
      "source": [
        "## 8.3.2 Cloud Storage: Having a huge google drive that almost never runs out of space"
      ]
    },
    {
      "cell_type": "markdown",
      "metadata": {
        "id": "GD_bZKPBorJq",
        "colab_type": "text"
      },
      "source": [
        "![alt text](https://d1.awsstatic.com/Data%20Lake/320x320-what-is-a-data-lake.b32634fa96e91bb5670b885be9428a2c0c40c76d.png)"
      ]
    },
    {
      "cell_type": "markdown",
      "metadata": {
        "id": "AA_nohvIoL12",
        "colab_type": "text"
      },
      "source": [
        "Have you heard of data lake? Do you notice your hard-drive seldom run out of spaces now?\n",
        "\n",
        "In large enterprise, files started to go into the clouds, and they provides \"buckets\" of data-lake that provide PB level of storage"
      ]
    },
    {
      "cell_type": "markdown",
      "metadata": {
        "id": "RnZQs-wAoA1_",
        "colab_type": "text"
      },
      "source": [
        " \n",
        "\n",
        "*   **S3** https://aws.amazon.com/s3/\n",
        "*   **Cloud Storage** https://cloud.google.com/storage/\n",
        "\n"
      ]
    },
    {
      "cell_type": "markdown",
      "metadata": {
        "id": "1SxhOBQSoZ0W",
        "colab_type": "text"
      },
      "source": [
        "### What can you do with it?\n",
        "\n",
        "\n",
        "\n",
        "*   Write all your scrapped data on it\n",
        "*   Never worries it will run out of spaces\n",
        "*   Ideal for machine learning\n",
        "\n",
        "\n"
      ]
    },
    {
      "cell_type": "markdown",
      "metadata": {
        "id": "hjNYTCEsmhlh",
        "colab_type": "text"
      },
      "source": [
        "## 8.3.3 Cloud DataBase: A only database that is hassle free"
      ]
    },
    {
      "cell_type": "markdown",
      "metadata": {
        "id": "hi_rX97epFoR",
        "colab_type": "text"
      },
      "source": [
        "![alt text](https://hackernoon.com/hn-images/1*F9VbjU1AC5thEOy-xO2A-Q.png)"
      ]
    },
    {
      "cell_type": "markdown",
      "metadata": {
        "id": "ji4UhRr8otMr",
        "colab_type": "text"
      },
      "source": [
        "\n",
        "\n",
        "*   **Bigquery**: https://cloud.google.com/bigquery/\n",
        "*   **Redshift** : https://aws.amazon.com/redshift/\n",
        "\n"
      ]
    },
    {
      "cell_type": "markdown",
      "metadata": {
        "id": "zN4sYkA4pWTX",
        "colab_type": "text"
      },
      "source": [
        "## What can you do with it?\n",
        "\n",
        "\n",
        "\n",
        "*   A fully managed database\n",
        "*   Fully scalable\n",
        "\n"
      ]
    },
    {
      "cell_type": "markdown",
      "metadata": {
        "id": "ISi62FeRmn7-",
        "colab_type": "text"
      },
      "source": [
        "## 8.3.4 Cloud functions: Serverless computing"
      ]
    },
    {
      "cell_type": "markdown",
      "metadata": {
        "id": "4JpuF0FPpMCE",
        "colab_type": "text"
      },
      "source": [
        "![alt text](https://virtuetechinc.com/wp-content/uploads/2019/06/Picture1-1.png)"
      ]
    },
    {
      "cell_type": "markdown",
      "metadata": {
        "id": "2iGOPoLGmq8e",
        "colab_type": "text"
      },
      "source": [
        "\n",
        "\n",
        "*   **Cloud functions**: https://cloud.google.com/functions/\n",
        "*   **Lambda**: https://aws.amazon.com/lambda/\n",
        "\n"
      ]
    },
    {
      "cell_type": "markdown",
      "metadata": {
        "id": "TSaGO1GupcDg",
        "colab_type": "text"
      },
      "source": [
        "## What can you do with it?\n",
        "\n",
        "\n",
        "\n",
        "*   Very scalable and fast computing\n",
        "*   You can scale up millions of computer to work with you on parallel\n",
        "\n"
      ]
    },
    {
      "cell_type": "markdown",
      "metadata": {
        "id": "eswQS1hipmIn",
        "colab_type": "text"
      },
      "source": [
        "## 8.4.0 How do you work on a cloud?\n",
        "\n",
        "Use Github!"
      ]
    },
    {
      "cell_type": "markdown",
      "metadata": {
        "id": "TrEtFSqAhv-w",
        "colab_type": "text"
      },
      "source": [
        "# 9.0.0 Recap"
      ]
    },
    {
      "cell_type": "markdown",
      "metadata": {
        "id": "czhoOpGcprAx",
        "colab_type": "text"
      },
      "source": [
        "Let's do a quick recap on topics that we went through, and which you are not clear about :)"
      ]
    },
    {
      "cell_type": "markdown",
      "metadata": {
        "id": "u_-7Hi7hpweD",
        "colab_type": "text"
      },
      "source": [
        "# 10.0.0 Workshop!"
      ]
    },
    {
      "cell_type": "markdown",
      "metadata": {
        "id": "OjMDlf7kpy2-",
        "colab_type": "text"
      },
      "source": [
        "Between now and the project deadline, I will be trying to help you via the slack channel!"
      ]
    }
  ]
}